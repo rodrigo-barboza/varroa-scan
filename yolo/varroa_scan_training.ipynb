{
  "cells": [
    {
      "cell_type": "code",
      "execution_count": null,
      "metadata": {
        "colab": {
          "base_uri": "https://localhost:8080/"
        },
        "collapsed": true,
        "id": "lx_IuTCrabSB",
        "outputId": "6ada4450-4e25-455c-f522-cf9039578d91"
      },
      "outputs": [
        {
          "output_type": "stream",
          "name": "stdout",
          "text": [
            "Collecting ultralytics\n",
            "  Downloading ultralytics-8.3.155-py3-none-any.whl.metadata (37 kB)\n",
            "Requirement already satisfied: numpy>=1.23.0 in /usr/local/lib/python3.11/dist-packages (from ultralytics) (2.0.2)\n",
            "Requirement already satisfied: matplotlib>=3.3.0 in /usr/local/lib/python3.11/dist-packages (from ultralytics) (3.10.0)\n",
            "Requirement already satisfied: opencv-python>=4.6.0 in /usr/local/lib/python3.11/dist-packages (from ultralytics) (4.11.0.86)\n",
            "Requirement already satisfied: pillow>=7.1.2 in /usr/local/lib/python3.11/dist-packages (from ultralytics) (11.2.1)\n",
            "Requirement already satisfied: pyyaml>=5.3.1 in /usr/local/lib/python3.11/dist-packages (from ultralytics) (6.0.2)\n",
            "Requirement already satisfied: requests>=2.23.0 in /usr/local/lib/python3.11/dist-packages (from ultralytics) (2.32.3)\n",
            "Requirement already satisfied: scipy>=1.4.1 in /usr/local/lib/python3.11/dist-packages (from ultralytics) (1.15.3)\n",
            "Requirement already satisfied: torch>=1.8.0 in /usr/local/lib/python3.11/dist-packages (from ultralytics) (2.6.0+cu124)\n",
            "Requirement already satisfied: torchvision>=0.9.0 in /usr/local/lib/python3.11/dist-packages (from ultralytics) (0.21.0+cu124)\n",
            "Requirement already satisfied: tqdm>=4.64.0 in /usr/local/lib/python3.11/dist-packages (from ultralytics) (4.67.1)\n",
            "Requirement already satisfied: psutil in /usr/local/lib/python3.11/dist-packages (from ultralytics) (5.9.5)\n",
            "Requirement already satisfied: py-cpuinfo in /usr/local/lib/python3.11/dist-packages (from ultralytics) (9.0.0)\n",
            "Requirement already satisfied: pandas>=1.1.4 in /usr/local/lib/python3.11/dist-packages (from ultralytics) (2.2.2)\n",
            "Collecting ultralytics-thop>=2.0.0 (from ultralytics)\n",
            "  Downloading ultralytics_thop-2.0.14-py3-none-any.whl.metadata (9.4 kB)\n",
            "Requirement already satisfied: contourpy>=1.0.1 in /usr/local/lib/python3.11/dist-packages (from matplotlib>=3.3.0->ultralytics) (1.3.2)\n",
            "Requirement already satisfied: cycler>=0.10 in /usr/local/lib/python3.11/dist-packages (from matplotlib>=3.3.0->ultralytics) (0.12.1)\n",
            "Requirement already satisfied: fonttools>=4.22.0 in /usr/local/lib/python3.11/dist-packages (from matplotlib>=3.3.0->ultralytics) (4.58.2)\n",
            "Requirement already satisfied: kiwisolver>=1.3.1 in /usr/local/lib/python3.11/dist-packages (from matplotlib>=3.3.0->ultralytics) (1.4.8)\n",
            "Requirement already satisfied: packaging>=20.0 in /usr/local/lib/python3.11/dist-packages (from matplotlib>=3.3.0->ultralytics) (24.2)\n",
            "Requirement already satisfied: pyparsing>=2.3.1 in /usr/local/lib/python3.11/dist-packages (from matplotlib>=3.3.0->ultralytics) (3.2.3)\n",
            "Requirement already satisfied: python-dateutil>=2.7 in /usr/local/lib/python3.11/dist-packages (from matplotlib>=3.3.0->ultralytics) (2.9.0.post0)\n",
            "Requirement already satisfied: pytz>=2020.1 in /usr/local/lib/python3.11/dist-packages (from pandas>=1.1.4->ultralytics) (2025.2)\n",
            "Requirement already satisfied: tzdata>=2022.7 in /usr/local/lib/python3.11/dist-packages (from pandas>=1.1.4->ultralytics) (2025.2)\n",
            "Requirement already satisfied: charset-normalizer<4,>=2 in /usr/local/lib/python3.11/dist-packages (from requests>=2.23.0->ultralytics) (3.4.2)\n",
            "Requirement already satisfied: idna<4,>=2.5 in /usr/local/lib/python3.11/dist-packages (from requests>=2.23.0->ultralytics) (3.10)\n",
            "Requirement already satisfied: urllib3<3,>=1.21.1 in /usr/local/lib/python3.11/dist-packages (from requests>=2.23.0->ultralytics) (2.4.0)\n",
            "Requirement already satisfied: certifi>=2017.4.17 in /usr/local/lib/python3.11/dist-packages (from requests>=2.23.0->ultralytics) (2025.4.26)\n",
            "Requirement already satisfied: filelock in /usr/local/lib/python3.11/dist-packages (from torch>=1.8.0->ultralytics) (3.18.0)\n",
            "Requirement already satisfied: typing-extensions>=4.10.0 in /usr/local/lib/python3.11/dist-packages (from torch>=1.8.0->ultralytics) (4.14.0)\n",
            "Requirement already satisfied: networkx in /usr/local/lib/python3.11/dist-packages (from torch>=1.8.0->ultralytics) (3.5)\n",
            "Requirement already satisfied: jinja2 in /usr/local/lib/python3.11/dist-packages (from torch>=1.8.0->ultralytics) (3.1.6)\n",
            "Requirement already satisfied: fsspec in /usr/local/lib/python3.11/dist-packages (from torch>=1.8.0->ultralytics) (2025.3.2)\n",
            "Collecting nvidia-cuda-nvrtc-cu12==12.4.127 (from torch>=1.8.0->ultralytics)\n",
            "  Downloading nvidia_cuda_nvrtc_cu12-12.4.127-py3-none-manylinux2014_x86_64.whl.metadata (1.5 kB)\n",
            "Collecting nvidia-cuda-runtime-cu12==12.4.127 (from torch>=1.8.0->ultralytics)\n",
            "  Downloading nvidia_cuda_runtime_cu12-12.4.127-py3-none-manylinux2014_x86_64.whl.metadata (1.5 kB)\n",
            "Collecting nvidia-cuda-cupti-cu12==12.4.127 (from torch>=1.8.0->ultralytics)\n",
            "  Downloading nvidia_cuda_cupti_cu12-12.4.127-py3-none-manylinux2014_x86_64.whl.metadata (1.6 kB)\n",
            "Collecting nvidia-cudnn-cu12==9.1.0.70 (from torch>=1.8.0->ultralytics)\n",
            "  Downloading nvidia_cudnn_cu12-9.1.0.70-py3-none-manylinux2014_x86_64.whl.metadata (1.6 kB)\n",
            "Collecting nvidia-cublas-cu12==12.4.5.8 (from torch>=1.8.0->ultralytics)\n",
            "  Downloading nvidia_cublas_cu12-12.4.5.8-py3-none-manylinux2014_x86_64.whl.metadata (1.5 kB)\n",
            "Collecting nvidia-cufft-cu12==11.2.1.3 (from torch>=1.8.0->ultralytics)\n",
            "  Downloading nvidia_cufft_cu12-11.2.1.3-py3-none-manylinux2014_x86_64.whl.metadata (1.5 kB)\n",
            "Collecting nvidia-curand-cu12==10.3.5.147 (from torch>=1.8.0->ultralytics)\n",
            "  Downloading nvidia_curand_cu12-10.3.5.147-py3-none-manylinux2014_x86_64.whl.metadata (1.5 kB)\n",
            "Collecting nvidia-cusolver-cu12==11.6.1.9 (from torch>=1.8.0->ultralytics)\n",
            "  Downloading nvidia_cusolver_cu12-11.6.1.9-py3-none-manylinux2014_x86_64.whl.metadata (1.6 kB)\n",
            "Collecting nvidia-cusparse-cu12==12.3.1.170 (from torch>=1.8.0->ultralytics)\n",
            "  Downloading nvidia_cusparse_cu12-12.3.1.170-py3-none-manylinux2014_x86_64.whl.metadata (1.6 kB)\n",
            "Requirement already satisfied: nvidia-cusparselt-cu12==0.6.2 in /usr/local/lib/python3.11/dist-packages (from torch>=1.8.0->ultralytics) (0.6.2)\n",
            "Requirement already satisfied: nvidia-nccl-cu12==2.21.5 in /usr/local/lib/python3.11/dist-packages (from torch>=1.8.0->ultralytics) (2.21.5)\n",
            "Requirement already satisfied: nvidia-nvtx-cu12==12.4.127 in /usr/local/lib/python3.11/dist-packages (from torch>=1.8.0->ultralytics) (12.4.127)\n",
            "Collecting nvidia-nvjitlink-cu12==12.4.127 (from torch>=1.8.0->ultralytics)\n",
            "  Downloading nvidia_nvjitlink_cu12-12.4.127-py3-none-manylinux2014_x86_64.whl.metadata (1.5 kB)\n",
            "Requirement already satisfied: triton==3.2.0 in /usr/local/lib/python3.11/dist-packages (from torch>=1.8.0->ultralytics) (3.2.0)\n",
            "Requirement already satisfied: sympy==1.13.1 in /usr/local/lib/python3.11/dist-packages (from torch>=1.8.0->ultralytics) (1.13.1)\n",
            "Requirement already satisfied: mpmath<1.4,>=1.1.0 in /usr/local/lib/python3.11/dist-packages (from sympy==1.13.1->torch>=1.8.0->ultralytics) (1.3.0)\n",
            "Requirement already satisfied: six>=1.5 in /usr/local/lib/python3.11/dist-packages (from python-dateutil>=2.7->matplotlib>=3.3.0->ultralytics) (1.17.0)\n",
            "Requirement already satisfied: MarkupSafe>=2.0 in /usr/local/lib/python3.11/dist-packages (from jinja2->torch>=1.8.0->ultralytics) (3.0.2)\n",
            "Downloading ultralytics-8.3.155-py3-none-any.whl (1.0 MB)\n",
            "\u001b[2K   \u001b[90m━━━━━━━━━━━━━━━━━━━━━━━━━━━━━━━━━━━━━━━━\u001b[0m \u001b[32m1.0/1.0 MB\u001b[0m \u001b[31m33.6 MB/s\u001b[0m eta \u001b[36m0:00:00\u001b[0m\n",
            "\u001b[?25hDownloading nvidia_cublas_cu12-12.4.5.8-py3-none-manylinux2014_x86_64.whl (363.4 MB)\n",
            "\u001b[2K   \u001b[90m━━━━━━━━━━━━━━━━━━━━━━━━━━━━━━━━━━━━━━━━\u001b[0m \u001b[32m363.4/363.4 MB\u001b[0m \u001b[31m3.9 MB/s\u001b[0m eta \u001b[36m0:00:00\u001b[0m\n",
            "\u001b[?25hDownloading nvidia_cuda_cupti_cu12-12.4.127-py3-none-manylinux2014_x86_64.whl (13.8 MB)\n",
            "\u001b[2K   \u001b[90m━━━━━━━━━━━━━━━━━━━━━━━━━━━━━━━━━━━━━━━━\u001b[0m \u001b[32m13.8/13.8 MB\u001b[0m \u001b[31m121.8 MB/s\u001b[0m eta \u001b[36m0:00:00\u001b[0m\n",
            "\u001b[?25hDownloading nvidia_cuda_nvrtc_cu12-12.4.127-py3-none-manylinux2014_x86_64.whl (24.6 MB)\n",
            "\u001b[2K   \u001b[90m━━━━━━━━━━━━━━━━━━━━━━━━━━━━━━━━━━━━━━━━\u001b[0m \u001b[32m24.6/24.6 MB\u001b[0m \u001b[31m96.6 MB/s\u001b[0m eta \u001b[36m0:00:00\u001b[0m\n",
            "\u001b[?25hDownloading nvidia_cuda_runtime_cu12-12.4.127-py3-none-manylinux2014_x86_64.whl (883 kB)\n",
            "\u001b[2K   \u001b[90m━━━━━━━━━━━━━━━━━━━━━━━━━━━━━━━━━━━━━━━━\u001b[0m \u001b[32m883.7/883.7 kB\u001b[0m \u001b[31m59.1 MB/s\u001b[0m eta \u001b[36m0:00:00\u001b[0m\n",
            "\u001b[?25hDownloading nvidia_cudnn_cu12-9.1.0.70-py3-none-manylinux2014_x86_64.whl (664.8 MB)\n",
            "\u001b[2K   \u001b[90m━━━━━━━━━━━━━━━━━━━━━━━━━━━━━━━━━━━━━━━━\u001b[0m \u001b[32m664.8/664.8 MB\u001b[0m \u001b[31m2.9 MB/s\u001b[0m eta \u001b[36m0:00:00\u001b[0m\n",
            "\u001b[?25hDownloading nvidia_cufft_cu12-11.2.1.3-py3-none-manylinux2014_x86_64.whl (211.5 MB)\n",
            "\u001b[2K   \u001b[90m━━━━━━━━━━━━━━━━━━━━━━━━━━━━━━━━━━━━━━━━\u001b[0m \u001b[32m211.5/211.5 MB\u001b[0m \u001b[31m5.5 MB/s\u001b[0m eta \u001b[36m0:00:00\u001b[0m\n",
            "\u001b[?25hDownloading nvidia_curand_cu12-10.3.5.147-py3-none-manylinux2014_x86_64.whl (56.3 MB)\n",
            "\u001b[2K   \u001b[90m━━━━━━━━━━━━━━━━━━━━━━━━━━━━━━━━━━━━━━━━\u001b[0m \u001b[32m56.3/56.3 MB\u001b[0m \u001b[31m23.1 MB/s\u001b[0m eta \u001b[36m0:00:00\u001b[0m\n",
            "\u001b[?25hDownloading nvidia_cusolver_cu12-11.6.1.9-py3-none-manylinux2014_x86_64.whl (127.9 MB)\n",
            "\u001b[2K   \u001b[90m━━━━━━━━━━━━━━━━━━━━━━━━━━━━━━━━━━━━━━━━\u001b[0m \u001b[32m127.9/127.9 MB\u001b[0m \u001b[31m7.3 MB/s\u001b[0m eta \u001b[36m0:00:00\u001b[0m\n",
            "\u001b[?25hDownloading nvidia_cusparse_cu12-12.3.1.170-py3-none-manylinux2014_x86_64.whl (207.5 MB)\n",
            "\u001b[2K   \u001b[90m━━━━━━━━━━━━━━━━━━━━━━━━━━━━━━━━━━━━━━━━\u001b[0m \u001b[32m207.5/207.5 MB\u001b[0m \u001b[31m5.2 MB/s\u001b[0m eta \u001b[36m0:00:00\u001b[0m\n",
            "\u001b[?25hDownloading nvidia_nvjitlink_cu12-12.4.127-py3-none-manylinux2014_x86_64.whl (21.1 MB)\n",
            "\u001b[2K   \u001b[90m━━━━━━━━━━━━━━━━━━━━━━━━━━━━━━━━━━━━━━━━\u001b[0m \u001b[32m21.1/21.1 MB\u001b[0m \u001b[31m85.0 MB/s\u001b[0m eta \u001b[36m0:00:00\u001b[0m\n",
            "\u001b[?25hDownloading ultralytics_thop-2.0.14-py3-none-any.whl (26 kB)\n",
            "Installing collected packages: nvidia-nvjitlink-cu12, nvidia-curand-cu12, nvidia-cufft-cu12, nvidia-cuda-runtime-cu12, nvidia-cuda-nvrtc-cu12, nvidia-cuda-cupti-cu12, nvidia-cublas-cu12, nvidia-cusparse-cu12, nvidia-cudnn-cu12, nvidia-cusolver-cu12, ultralytics-thop, ultralytics\n",
            "  Attempting uninstall: nvidia-nvjitlink-cu12\n",
            "    Found existing installation: nvidia-nvjitlink-cu12 12.5.82\n",
            "    Uninstalling nvidia-nvjitlink-cu12-12.5.82:\n",
            "      Successfully uninstalled nvidia-nvjitlink-cu12-12.5.82\n",
            "  Attempting uninstall: nvidia-curand-cu12\n",
            "    Found existing installation: nvidia-curand-cu12 10.3.6.82\n",
            "    Uninstalling nvidia-curand-cu12-10.3.6.82:\n",
            "      Successfully uninstalled nvidia-curand-cu12-10.3.6.82\n",
            "  Attempting uninstall: nvidia-cufft-cu12\n",
            "    Found existing installation: nvidia-cufft-cu12 11.2.3.61\n",
            "    Uninstalling nvidia-cufft-cu12-11.2.3.61:\n",
            "      Successfully uninstalled nvidia-cufft-cu12-11.2.3.61\n",
            "  Attempting uninstall: nvidia-cuda-runtime-cu12\n",
            "    Found existing installation: nvidia-cuda-runtime-cu12 12.5.82\n",
            "    Uninstalling nvidia-cuda-runtime-cu12-12.5.82:\n",
            "      Successfully uninstalled nvidia-cuda-runtime-cu12-12.5.82\n",
            "  Attempting uninstall: nvidia-cuda-nvrtc-cu12\n",
            "    Found existing installation: nvidia-cuda-nvrtc-cu12 12.5.82\n",
            "    Uninstalling nvidia-cuda-nvrtc-cu12-12.5.82:\n",
            "      Successfully uninstalled nvidia-cuda-nvrtc-cu12-12.5.82\n",
            "  Attempting uninstall: nvidia-cuda-cupti-cu12\n",
            "    Found existing installation: nvidia-cuda-cupti-cu12 12.5.82\n",
            "    Uninstalling nvidia-cuda-cupti-cu12-12.5.82:\n",
            "      Successfully uninstalled nvidia-cuda-cupti-cu12-12.5.82\n",
            "  Attempting uninstall: nvidia-cublas-cu12\n",
            "    Found existing installation: nvidia-cublas-cu12 12.5.3.2\n",
            "    Uninstalling nvidia-cublas-cu12-12.5.3.2:\n",
            "      Successfully uninstalled nvidia-cublas-cu12-12.5.3.2\n",
            "  Attempting uninstall: nvidia-cusparse-cu12\n",
            "    Found existing installation: nvidia-cusparse-cu12 12.5.1.3\n",
            "    Uninstalling nvidia-cusparse-cu12-12.5.1.3:\n",
            "      Successfully uninstalled nvidia-cusparse-cu12-12.5.1.3\n",
            "  Attempting uninstall: nvidia-cudnn-cu12\n",
            "    Found existing installation: nvidia-cudnn-cu12 9.3.0.75\n",
            "    Uninstalling nvidia-cudnn-cu12-9.3.0.75:\n",
            "      Successfully uninstalled nvidia-cudnn-cu12-9.3.0.75\n",
            "  Attempting uninstall: nvidia-cusolver-cu12\n",
            "    Found existing installation: nvidia-cusolver-cu12 11.6.3.83\n",
            "    Uninstalling nvidia-cusolver-cu12-11.6.3.83:\n",
            "      Successfully uninstalled nvidia-cusolver-cu12-11.6.3.83\n",
            "Successfully installed nvidia-cublas-cu12-12.4.5.8 nvidia-cuda-cupti-cu12-12.4.127 nvidia-cuda-nvrtc-cu12-12.4.127 nvidia-cuda-runtime-cu12-12.4.127 nvidia-cudnn-cu12-9.1.0.70 nvidia-cufft-cu12-11.2.1.3 nvidia-curand-cu12-10.3.5.147 nvidia-cusolver-cu12-11.6.1.9 nvidia-cusparse-cu12-12.3.1.170 nvidia-nvjitlink-cu12-12.4.127 ultralytics-8.3.155 ultralytics-thop-2.0.14\n"
          ]
        }
      ],
      "source": [
        "!pip install ultralytics"
      ]
    },
    {
      "cell_type": "code",
      "execution_count": null,
      "metadata": {
        "colab": {
          "base_uri": "https://localhost:8080/"
        },
        "collapsed": true,
        "id": "SIp2MtyGaFTI",
        "outputId": "de8a3544-67c8-43b4-831a-edb7de6441cf"
      },
      "outputs": [
        {
          "output_type": "stream",
          "name": "stdout",
          "text": [
            "Creating new Ultralytics Settings v0.0.6 file ✅ \n",
            "View Ultralytics Settings with 'yolo settings' or at '/root/.config/Ultralytics/settings.json'\n",
            "Update Settings with 'yolo settings key=value', i.e. 'yolo settings runs_dir=path/to/dir'. For help see https://docs.ultralytics.com/quickstart/#ultralytics-settings.\n"
          ]
        }
      ],
      "source": [
        "import os\n",
        "from ultralytics import YOLO"
      ]
    },
    {
      "cell_type": "code",
      "execution_count": null,
      "metadata": {
        "colab": {
          "base_uri": "https://localhost:8080/"
        },
        "id": "-FeGwW3IGGva",
        "outputId": "de19f50a-f87c-46c4-d0db-3ff9602ec60d"
      },
      "outputs": [
        {
          "output_type": "stream",
          "name": "stdout",
          "text": [
            "Drive already mounted at /content/drive; to attempt to forcibly remount, call drive.mount(\"/content/drive\", force_remount=True).\n"
          ]
        }
      ],
      "source": [
        "from google.colab import drive\n",
        "drive.mount('/content/drive')"
      ]
    },
    {
      "cell_type": "code",
      "source": [
        "import locale\n",
        "locale.getpreferredencoding = lambda: \"UTF-8\""
      ],
      "metadata": {
        "id": "3ctzYydbvqGF"
      },
      "execution_count": null,
      "outputs": []
    },
    {
      "cell_type": "code",
      "execution_count": null,
      "metadata": {
        "colab": {
          "base_uri": "https://localhost:8080/"
        },
        "collapsed": true,
        "id": "dI9xefuGHVbX",
        "outputId": "0557fc73-7fab-45cc-be8a-845e6f3ec136"
      },
      "outputs": [
        {
          "output_type": "stream",
          "name": "stdout",
          "text": [
            "Archive:  /content/drive/MyDrive/Dataset/yolo-v2.zip\n",
            "   creating: ./data-v2/yolo/\n",
            "   creating: ./data-v2/yolo/test/\n",
            "   creating: ./data-v2/yolo/test/images/\n",
            "  inflating: ./data-v2/yolo/test/images/2017-09-01_10-54-26.mp4-bee_id_7741-15-1.png  \n",
            "  inflating: ./data-v2/yolo/test/images/2017-09-01_10-54-26.mp4-bee_id_7742-15-1.png  \n",
            "  inflating: ./data-v2/yolo/test/images/2017-09-01_10-54-26.mp4-bee_id_7743-390-1.png  \n",
            "  inflating: ./data-v2/yolo/test/images/2017-09-01_10-54-26.mp4-bee_id_7744-390-1.png  \n",
            "  inflating: ./data-v2/yolo/test/images/2017-09-01_10-54-26.mp4-bee_id_7745-810-1.png  \n",
            "  inflating: ./data-v2/yolo/test/images/2017-09-01_10-54-26.mp4-bee_id_7746-810-1.png  \n",
            "  inflating: ./data-v2/yolo/test/images/2017-09-01_10-54-26.mp4-bee_id_7750-1470-1.png  \n",
            "  inflating: ./data-v2/yolo/test/images/2017-09-01_10-54-26.mp4-bee_id_7751-1500-1.png  \n",
            "  inflating: ./data-v2/yolo/test/images/2017-09-01_10-54-26.mp4-bee_id_7752-1560-1.png  \n",
            "  inflating: ./data-v2/yolo/test/images/2017-09-01_10-54-26.mp4-bee_id_7753-1875-1.png  \n",
            "  inflating: ./data-v2/yolo/test/images/2017-09-01_10-54-26.mp4-bee_id_7754-2355-1.png  \n",
            "  inflating: ./data-v2/yolo/test/images/2017-09-01_10-54-26.mp4-bee_id_7755-2385-1.png  \n",
            "  inflating: ./data-v2/yolo/test/images/2017-09-01_10-54-26.mp4-bee_id_7756-2535-1.png  \n",
            "  inflating: ./data-v2/yolo/test/images/2017-09-01_10-54-26.mp4-bee_id_7757-2625-1.png  \n",
            "  inflating: ./data-v2/yolo/test/images/2017-09-01_10-54-26.mp4-bee_id_7758-3120-1.png  \n",
            "  inflating: ./data-v2/yolo/test/images/2017-09-01_10-54-26.mp4-bee_id_7759-3135-1.png  \n",
            "  inflating: ./data-v2/yolo/test/images/2017-09-01_10-54-26.mp4-bee_id_7760-3330-1.png  \n",
            "  inflating: ./data-v2/yolo/test/images/2017-09-01_10-54-26.mp4-bee_id_7761-3345-1.png  \n",
            "  inflating: ./data-v2/yolo/test/images/2017-09-01_10-54-26.mp4-bee_id_7763-3810-1.png  \n",
            "  inflating: ./data-v2/yolo/test/images/2017-09-01_10-54-26.mp4-bee_id_7764-4320-1.png  \n",
            "  inflating: ./data-v2/yolo/test/images/2017-09-01_10-54-26.mp4-bee_id_7765-4575-1.png  \n",
            "  inflating: ./data-v2/yolo/test/images/2017-09-01_10-54-26.mp4-bee_id_7766-4590-1.png  \n",
            "  inflating: ./data-v2/yolo/test/images/2017-09-01_10-54-26.mp4-bee_id_7767-4845-1.png  \n",
            "  inflating: ./data-v2/yolo/test/images/2017-09-01_10-54-26.mp4-bee_id_7768-4950-1.png  \n",
            "  inflating: ./data-v2/yolo/test/images/2017-09-01_10-54-26.mp4-bee_id_7769-5025-1.png  \n",
            "  inflating: ./data-v2/yolo/test/images/2017-09-01_10-54-26.mp4-bee_id_7770-5190-1.png  \n",
            "  inflating: ./data-v2/yolo/test/images/2017-09-01_10-54-26.mp4-bee_id_7772-5265-1.png  \n",
            "  inflating: ./data-v2/yolo/test/images/2017-09-01_10-54-26.mp4-bee_id_7773-5280-1.png  \n",
            "  inflating: ./data-v2/yolo/test/images/2017-09-01_10-54-26.mp4-bee_id_7774-5295-1.png  \n",
            "  inflating: ./data-v2/yolo/test/images/2017-09-01_10-54-26.mp4-bee_id_7775-5310-1.png  \n",
            "  inflating: ./data-v2/yolo/test/images/2017-09-01_10-54-26.mp4-bee_id_7776-5445-1.png  \n",
            "  inflating: ./data-v2/yolo/test/images/2017-09-01_10-54-26.mp4-bee_id_7777-5520-1.png  \n",
            "  inflating: ./data-v2/yolo/test/images/2017-09-01_10-54-26.mp4-bee_id_7778-5700-1.png  \n",
            "  inflating: ./data-v2/yolo/test/images/2017-09-01_10-54-26.mp4-bee_id_7779-6225-1.png  \n",
            "  inflating: ./data-v2/yolo/test/images/2017-09-01_10-54-26.mp4-bee_id_7780-6270-1.png  \n",
            "  inflating: ./data-v2/yolo/test/images/2017-09-01_10-54-26.mp4-bee_id_7781-6285-1.png  \n",
            "  inflating: ./data-v2/yolo/test/images/2017-09-01_10-54-26.mp4-bee_id_7782-6345-1.png  \n",
            "  inflating: ./data-v2/yolo/test/images/2017-09-01_10-54-26.mp4-bee_id_7783-6360-1.png  \n",
            "  inflating: ./data-v2/yolo/test/images/2017-09-01_10-54-26.mp4-bee_id_7784-6420-1.png  \n",
            "  inflating: ./data-v2/yolo/test/images/2017-09-01_10-54-26.mp4-bee_id_7785-7005-1.png  \n",
            "  inflating: ./data-v2/yolo/test/images/2017-09-01_10-54-26.mp4-bee_id_7786-7020-1.png  \n",
            "  inflating: ./data-v2/yolo/test/images/2017-09-01_10-54-26.mp4-bee_id_7787-7140-1.png  \n",
            "  inflating: ./data-v2/yolo/test/images/2017-09-01_10-54-26.mp4-bee_id_7788-7155-1.png  \n",
            "  inflating: ./data-v2/yolo/test/images/2017-09-01_10-54-26.mp4-bee_id_7789-7620-1.png  \n",
            "  inflating: ./data-v2/yolo/test/images/2017-09-01_10-54-26.mp4-bee_id_7790-7635-1.png  \n",
            "  inflating: ./data-v2/yolo/test/images/2017-09-01_10-54-26.mp4-bee_id_7791-7710-1.png  \n",
            "  inflating: ./data-v2/yolo/test/images/2017-09-01_10-54-26.mp4-bee_id_7792-7725-1.png  \n",
            "  inflating: ./data-v2/yolo/test/images/2017-09-01_10-54-26.mp4-bee_id_7793-7965-1.png  \n",
            "  inflating: ./data-v2/yolo/test/images/2017-09-01_10-54-26.mp4-bee_id_7794-7980-1.png  \n",
            "  inflating: ./data-v2/yolo/test/images/2017-09-01_10-54-26.mp4-bee_id_7795-7995-1.png  \n",
            "  inflating: ./data-v2/yolo/test/images/2017-09-01_10-54-26.mp4-bee_id_7796-8040-1.png  \n",
            "  inflating: ./data-v2/yolo/test/images/2017-09-01_10-54-26.mp4-bee_id_7797-8130-1.png  \n",
            "  inflating: ./data-v2/yolo/test/images/2017-09-01_10-54-26.mp4-bee_id_7798-8145-1.png  \n",
            "  inflating: ./data-v2/yolo/test/images/2017-09-01_10-54-26.mp4-bee_id_7799-8160-1.png  \n",
            "  inflating: ./data-v2/yolo/test/images/2017-09-01_10-54-26.mp4-bee_id_7800-8205-1.png  \n",
            "  inflating: ./data-v2/yolo/test/images/2017-09-01_10-54-26.mp4-bee_id_7801-8355-1.png  \n",
            "  inflating: ./data-v2/yolo/test/images/2017-09-01_10-54-26.mp4-bee_id_7802-8430-1.png  \n",
            "  inflating: ./data-v2/yolo/test/images/2017-09-01_10-54-26.mp4-bee_id_7803-8445-1.png  \n",
            "  inflating: ./data-v2/yolo/test/images/2017-09-01_10-54-26.mp4-bee_id_7804-8475-1.png  \n",
            "  inflating: ./data-v2/yolo/test/images/2017-09-01_10-54-26.mp4-bee_id_7805-8535-1.png  \n",
            "  inflating: ./data-v2/yolo/test/images/2017-09-01_10-54-26.mp4-bee_id_7806-8640-1.png  \n",
            "  inflating: ./data-v2/yolo/test/images/2017-09-01_10-54-26.mp4-bee_id_7808-8850-1.png  \n",
            "  inflating: ./data-v2/yolo/test/images/2017-09-01_10-54-26.mp4-bee_id_7809-8865-1.png  \n",
            "  inflating: ./data-v2/yolo/test/images/2017-09-01_10-54-26.mp4-bee_id_7810-8955-1.png  \n",
            "  inflating: ./data-v2/yolo/test/images/2017-09-01_10-54-26.mp4-bee_id_7811-9165-1.png  \n",
            "  inflating: ./data-v2/yolo/test/images/2017-09-01_10-54-26.mp4-bee_id_7812-9480-1.png  \n",
            "  inflating: ./data-v2/yolo/test/images/2017-09-01_10-54-26.mp4-bee_id_7813-9495-1.png  \n",
            "  inflating: ./data-v2/yolo/test/images/2017-09-01_10-54-26.mp4-bee_id_7814-9540-1.png  \n",
            "  inflating: ./data-v2/yolo/test/images/2017-09-01_10-54-26.mp4-bee_id_7815-9555-1.png  \n",
            "  inflating: ./data-v2/yolo/test/images/2017-09-01_10-54-26.mp4-bee_id_7816-9570-1.png  \n",
            "  inflating: ./data-v2/yolo/test/images/2017-09-01_10-54-26.mp4-bee_id_7817-9585-1.png  \n",
            "  inflating: ./data-v2/yolo/test/images/2017-09-01_10-54-26.mp4-bee_id_7818-9660-1.png  \n",
            "  inflating: ./data-v2/yolo/test/images/2017-09-01_10-54-26.mp4-bee_id_7819-9675-1.png  \n",
            "  inflating: ./data-v2/yolo/test/images/2017-09-01_10-54-26.mp4-bee_id_7820-9945-1.png  \n",
            "  inflating: ./data-v2/yolo/test/images/2017-09-01_10-54-26.mp4-bee_id_7821-10230-1.png  \n",
            "  inflating: ./data-v2/yolo/test/images/2017-09-01_10-54-26.mp4-bee_id_7822-10530-1.png  \n",
            "  inflating: ./data-v2/yolo/test/images/2017-09-01_10-54-26.mp4-bee_id_7823-10545-1.png  \n",
            "  inflating: ./data-v2/yolo/test/images/2017-09-01_10-54-26.mp4-bee_id_7824-10605-1.png  \n",
            "  inflating: ./data-v2/yolo/test/images/2017-09-01_10-54-26.mp4-bee_id_7825-10620-1.png  \n",
            "  inflating: ./data-v2/yolo/test/images/2017-09-01_10-54-26.mp4-bee_id_7826-10770-1.png  \n",
            "  inflating: ./data-v2/yolo/test/images/2017-09-01_10-54-26.mp4-bee_id_7827-10785-1.png  \n",
            "  inflating: ./data-v2/yolo/test/images/2017-09-01_10-54-26.mp4-bee_id_7828-11070-1.png  \n",
            "  inflating: ./data-v2/yolo/test/images/2017-09-01_10-54-26.mp4-bee_id_7829-11130-1.png  \n",
            "  inflating: ./data-v2/yolo/test/images/2017-09-01_10-54-26.mp4-bee_id_7830-11130-1.png  \n",
            "  inflating: ./data-v2/yolo/test/images/2017-09-01_10-54-26.mp4-bee_id_7831-11145-1.png  \n",
            "  inflating: ./data-v2/yolo/test/images/2017-09-01_10-54-26.mp4-bee_id_7832-11175-1.png  \n",
            "  inflating: ./data-v2/yolo/test/images/2017-09-01_10-54-26.mp4-bee_id_7833-11205-1.png  \n",
            "  inflating: ./data-v2/yolo/test/images/2017-09-01_10-54-26.mp4-bee_id_7834-11340-1.png  \n",
            "  inflating: ./data-v2/yolo/test/images/2017-09-01_10-54-26.mp4-bee_id_7840-11745-1.png  \n",
            "  inflating: ./data-v2/yolo/test/images/2017-09-01_10-54-26.mp4-bee_id_7841-11850-1.png  \n",
            "  inflating: ./data-v2/yolo/test/images/2017-09-01_10-54-26.mp4-bee_id_7842-11865-1.png  \n",
            "  inflating: ./data-v2/yolo/test/images/2017-09-01_10-54-26.mp4-bee_id_7843-11880-1.png  \n",
            "  inflating: ./data-v2/yolo/test/images/2017-09-01_10-54-26.mp4-bee_id_7844-11910-1.png  \n",
            "  inflating: ./data-v2/yolo/test/images/2017-09-01_10-54-26.mp4-bee_id_7845-11925-1.png  \n",
            "  inflating: ./data-v2/yolo/test/images/2017-09-01_10-54-26.mp4-bee_id_7846-11940-1.png  \n",
            "  inflating: ./data-v2/yolo/test/images/2017-09-01_10-54-26.mp4-bee_id_7847-11955-1.png  \n",
            "  inflating: ./data-v2/yolo/test/images/2017-09-01_10-54-26.mp4-bee_id_7848-12135-1.png  \n",
            "  inflating: ./data-v2/yolo/test/images/2017-09-01_10-54-26.mp4-bee_id_7849-12150-1.png  \n",
            "  inflating: ./data-v2/yolo/test/images/2017-09-01_10-54-26.mp4-bee_id_7850-12315-1.png  \n",
            "  inflating: ./data-v2/yolo/test/images/2017-09-01_10-54-26.mp4-bee_id_7851-12375-1.png  \n",
            "  inflating: ./data-v2/yolo/test/images/2017-09-01_10-54-26.mp4-bee_id_7852-12435-1.png  \n",
            "  inflating: ./data-v2/yolo/test/images/2017-09-01_10-54-26.mp4-bee_id_7853-13095-1.png  \n",
            "  inflating: ./data-v2/yolo/test/images/2017-09-01_10-54-26.mp4-bee_id_7854-13365-1.png  \n",
            "  inflating: ./data-v2/yolo/test/images/2017-09-01_10-54-26.mp4-bee_id_7855-13425-1.png  \n",
            "  inflating: ./data-v2/yolo/test/images/2017-09-01_10-54-26.mp4-bee_id_7856-13635-1.png  \n",
            "  inflating: ./data-v2/yolo/test/images/2017-09-01_10-54-26.mp4-bee_id_7857-13635-1.png  \n",
            "  inflating: ./data-v2/yolo/test/images/2017-09-01_10-54-26.mp4-bee_id_7858-13665-1.png  \n",
            "  inflating: ./data-v2/yolo/test/images/2017-09-01_10-54-26.mp4-bee_id_7859-13680-1.png  \n",
            "  inflating: ./data-v2/yolo/test/images/2017-09-01_10-54-26.mp4-bee_id_7860-13695-1.png  \n",
            "  inflating: ./data-v2/yolo/test/images/2017-09-01_10-54-26.mp4-bee_id_7861-13860-1.png  \n",
            "  inflating: ./data-v2/yolo/test/images/2017-09-01_10-54-26.mp4-bee_id_7862-13875-1.png  \n",
            "  inflating: ./data-v2/yolo/test/images/2017-09-01_10-54-26.mp4-bee_id_7863-14700-1.png  \n",
            "  inflating: ./data-v2/yolo/test/images/2017-09-01_10-54-26.mp4-bee_id_7864-14715-1.png  \n",
            "  inflating: ./data-v2/yolo/test/images/2017-09-01_10-54-26.mp4-bee_id_7865-15000-1.png  \n",
            "  inflating: ./data-v2/yolo/test/images/2017-09-01_10-54-26.mp4-bee_id_7866-15015-1.png  \n",
            "  inflating: ./data-v2/yolo/test/images/2017-09-01_10-54-26.mp4-bee_id_7867-15030-1.png  \n",
            "  inflating: ./data-v2/yolo/test/images/2017-09-01_10-54-26.mp4-bee_id_7868-15045-1.png  \n",
            "  inflating: ./data-v2/yolo/test/images/2017-09-01_10-54-26.mp4-bee_id_7869-15060-1.png  \n",
            "  inflating: ./data-v2/yolo/test/images/2017-09-01_10-54-26.mp4-bee_id_7870-15075-1.png  \n",
            "  inflating: ./data-v2/yolo/test/images/2017-09-01_10-54-26.mp4-bee_id_7871-15090-1.png  \n",
            "  inflating: ./data-v2/yolo/test/images/2017-09-01_10-54-26.mp4-bee_id_7872-15180-1.png  \n",
            "  inflating: ./data-v2/yolo/test/images/2017-09-01_10-54-26.mp4-bee_id_7873-15390-1.png  \n",
            "  inflating: ./data-v2/yolo/test/images/2017-09-01_10-54-26.mp4-bee_id_7874-15435-1.png  \n",
            "  inflating: ./data-v2/yolo/test/images/2017-09-01_10-54-26.mp4-bee_id_7875-15570-1.png  \n",
            "  inflating: ./data-v2/yolo/test/images/2017-09-01_10-54-26.mp4-bee_id_7876-15585-1.png  \n",
            "  inflating: ./data-v2/yolo/test/images/2017-09-01_10-54-26.mp4-bee_id_7877-15975-1.png  \n",
            "  inflating: ./data-v2/yolo/test/images/2017-09-01_10-54-26.mp4-bee_id_7879-18390-1.png  \n",
            "  inflating: ./data-v2/yolo/test/images/2017-09-01_10-54-26.mp4-bee_id_7880-18390-1.png  \n",
            "  inflating: ./data-v2/yolo/test/images/2017-09-01_10-54-26.mp4-bee_id_7881-18540-1.png  \n",
            "  inflating: ./data-v2/yolo/test/images/2017-09-01_10-54-26.mp4-bee_id_7882-19035-1.png  \n",
            "  inflating: ./data-v2/yolo/test/images/2017-09-01_10-54-26.mp4-bee_id_7883-21345-1.png  \n",
            "  inflating: ./data-v2/yolo/test/images/2017-09-01_10-54-26.mp4-bee_id_7884-22335-1.png  \n",
            "  inflating: ./data-v2/yolo/test/images/2017-09-01_10-54-26.mp4-bee_id_7885-22425-1.png  \n",
            "  inflating: ./data-v2/yolo/test/images/2017-09-01_10-54-26.mp4-bee_id_7886-22785-1.png  \n",
            "  inflating: ./data-v2/yolo/test/images/2017-09-01_10-54-26.mp4-bee_id_7888-22965-1.png  \n",
            "  inflating: ./data-v2/yolo/test/images/2017-09-01_10-54-26.mp4-bee_id_7889-23010-1.png  \n",
            "  inflating: ./data-v2/yolo/test/images/2017-09-01_10-54-26.mp4-bee_id_7890-23025-1.png  \n",
            "  inflating: ./data-v2/yolo/test/images/2017-09-01_10-54-26.mp4-bee_id_7891-23115-1.png  \n",
            "  inflating: ./data-v2/yolo/test/images/2017-09-01_10-54-26.mp4-bee_id_7892-23265-1.png  \n",
            "  inflating: ./data-v2/yolo/test/images/2017-09-01_10-54-26.mp4-bee_id_7893-23385-1.png  \n",
            "  inflating: ./data-v2/yolo/test/images/2017-09-01_10-54-26.mp4-bee_id_7894-23490-1.png  \n",
            "  inflating: ./data-v2/yolo/test/images/2017-09-01_10-54-26.mp4-bee_id_7895-23715-1.png  \n",
            "  inflating: ./data-v2/yolo/test/images/2017-09-01_10-54-26.mp4-bee_id_7896-24090-1.png  \n",
            "  inflating: ./data-v2/yolo/test/images/2017-09-01_10-54-26.mp4-bee_id_7897-24135-1.png  \n",
            "  inflating: ./data-v2/yolo/test/images/2017-09-01_10-54-26.mp4-bee_id_7898-24135-1.png  \n",
            "  inflating: ./data-v2/yolo/test/images/2017-09-01_10-54-26.mp4-bee_id_7899-24255-1.png  \n",
            "  inflating: ./data-v2/yolo/test/images/2017-09-01_10-54-26.mp4-bee_id_7900-24300-1.png  \n",
            "  inflating: ./data-v2/yolo/test/images/2017-09-01_10-54-26.mp4-bee_id_7902-24375-1.png  \n",
            "  inflating: ./data-v2/yolo/test/images/2017-09-01_10-54-26.mp4-bee_id_7903-24375-1.png  \n",
            "  inflating: ./data-v2/yolo/test/images/2017-09-01_10-54-26.mp4-bee_id_7904-24525-1.png  \n",
            "  inflating: ./data-v2/yolo/test/images/2017-09-01_10-54-26.mp4-bee_id_7905-24600-1.png  \n",
            "  inflating: ./data-v2/yolo/test/images/2017-09-01_10-54-26.mp4-bee_id_7907-24645-1.png  \n",
            "  inflating: ./data-v2/yolo/test/images/2017-09-01_10-54-26.mp4-bee_id_7908-24795-1.png  \n",
            "  inflating: ./data-v2/yolo/test/images/2017-09-01_10-54-26.mp4-bee_id_7909-24795-1.png  \n",
            "  inflating: ./data-v2/yolo/test/images/2017-09-01_10-54-26.mp4-bee_id_7910-24855-1.png  \n",
            "  inflating: ./data-v2/yolo/test/images/2017-09-01_10-54-26.mp4-bee_id_7911-25035-1.png  \n",
            "  inflating: ./data-v2/yolo/test/images/2017-09-01_10-54-26.mp4-bee_id_7912-25140-1.png  \n",
            "  inflating: ./data-v2/yolo/test/images/2017-09-01_10-54-26.mp4-bee_id_7913-25245-1.png  \n",
            "  inflating: ./data-v2/yolo/test/images/2017-09-01_10-54-26.mp4-bee_id_7914-25305-1.png  \n",
            "  inflating: ./data-v2/yolo/test/images/2017-09-01_10-54-26.mp4-bee_id_7916-25500-1.png  \n",
            "  inflating: ./data-v2/yolo/test/images/2017-09-01_10-54-26.mp4-bee_id_7918-25515-1.png  \n",
            "  inflating: ./data-v2/yolo/test/images/2017-09-01_10-54-26.mp4-bee_id_7919-25530-1.png  \n",
            "  inflating: ./data-v2/yolo/test/images/2017-09-01_10-54-26.mp4-bee_id_7920-25710-1.png  \n",
            "  inflating: ./data-v2/yolo/test/images/2017-09-01_10-54-26.mp4-bee_id_7922-25950-1.png  \n",
            "  inflating: ./data-v2/yolo/test/images/2017-09-01_10-54-26.mp4-bee_id_7923-25965-1.png  \n",
            "  inflating: ./data-v2/yolo/test/images/2017-09-01_10-54-26.mp4-bee_id_7924-25980-1.png  \n",
            "  inflating: ./data-v2/yolo/test/images/2017-09-01_10-54-26.mp4-bee_id_7925-25980-1.png  \n",
            "  inflating: ./data-v2/yolo/test/images/2017-09-01_10-54-26.mp4-bee_id_7926-26010-1.png  \n",
            "  inflating: ./data-v2/yolo/test/images/2017-09-01_10-54-26.mp4-bee_id_7927-26025-1.png  \n",
            "  inflating: ./data-v2/yolo/test/images/2017-09-01_10-54-26.mp4-bee_id_7928-26040-1.png  \n",
            "  inflating: ./data-v2/yolo/test/images/2017-09-01_10-54-26.mp4-bee_id_7929-26055-1.png  \n",
            "  inflating: ./data-v2/yolo/test/images/2017-09-01_10-54-26.mp4-bee_id_7930-26100-1.png  \n",
            "  inflating: ./data-v2/yolo/test/images/2017-09-01_10-54-26.mp4-bee_id_7931-26115-1.png  \n",
            "  inflating: ./data-v2/yolo/test/images/2017-09-01_10-54-26.mp4-bee_id_7932-26145-1.png  \n",
            "  inflating: ./data-v2/yolo/test/images/2017-09-01_10-54-26.mp4-bee_id_7933-26265-1.png  \n",
            "  inflating: ./data-v2/yolo/test/images/2017-09-01_10-54-26.mp4-bee_id_7934-26265-1.png  \n",
            "  inflating: ./data-v2/yolo/test/images/2017-09-01_10-54-26.mp4-bee_id_7935-26280-1.png  \n",
            "  inflating: ./data-v2/yolo/test/images/2017-09-01_10-54-26.mp4-bee_id_7936-26325-1.png  \n",
            "  inflating: ./data-v2/yolo/test/images/2017-09-01_10-54-26.mp4-bee_id_7937-26340-1.png  \n",
            "  inflating: ./data-v2/yolo/test/images/2017-09-01_10-54-26.mp4-bee_id_7938-26415-1.png  \n",
            "  inflating: ./data-v2/yolo/test/images/2017-09-01_10-54-26.mp4-bee_id_7939-26415-1.png  \n",
            "  inflating: ./data-v2/yolo/test/images/2017-09-01_10-54-26.mp4-bee_id_7940-26775-1.png  \n",
            "  inflating: ./data-v2/yolo/test/images/2017-09-01_10-54-26.mp4-bee_id_7941-26970-1.png  \n",
            "  inflating: ./data-v2/yolo/test/images/2017-09-01_10-54-26.mp4-bee_id_7942-27255-1.png  \n",
            "  inflating: ./data-v2/yolo/test/images/2017-09-01_10-54-26.mp4-bee_id_7943-27300-1.png  \n",
            "  inflating: ./data-v2/yolo/test/images/2017-09-01_10-54-26.mp4-bee_id_7944-27345-1.png  \n",
            "  inflating: ./data-v2/yolo/test/images/2017-09-01_10-54-26.mp4-bee_id_7945-27390-1.png  \n",
            "  inflating: ./data-v2/yolo/test/images/2017-09-01_10-54-26.mp4-bee_id_7946-27420-1.png  \n",
            "  inflating: ./data-v2/yolo/test/images/2017-09-01_10-54-26.mp4-bee_id_7947-27540-1.png  \n",
            "  inflating: ./data-v2/yolo/test/images/2017-09-01_10-54-26.mp4-bee_id_7948-27630-1.png  \n",
            "  inflating: ./data-v2/yolo/test/images/2017-09-01_10-54-26.mp4-bee_id_7949-27645-1.png  \n",
            "  inflating: ./data-v2/yolo/test/images/2017-09-01_10-54-26.mp4-bee_id_7950-27660-1.png  \n",
            "  inflating: ./data-v2/yolo/test/images/2017-09-01_10-54-26.mp4-bee_id_7951-27705-1.png  \n",
            "  inflating: ./data-v2/yolo/test/images/2017-09-01_10-54-26.mp4-bee_id_7952-27720-1.png  \n",
            "  inflating: ./data-v2/yolo/test/images/2017-09-01_10-54-26.mp4-bee_id_7953-27735-1.png  \n",
            "  inflating: ./data-v2/yolo/test/images/2017-09-01_10-54-26.mp4-bee_id_7954-27765-1.png  \n",
            "  inflating: ./data-v2/yolo/test/images/2017-09-01_10-54-26.mp4-bee_id_7955-27870-1.png  \n",
            "  inflating: ./data-v2/yolo/test/images/2017-09-01_10-54-26.mp4-bee_id_7956-27885-1.png  \n",
            "  inflating: ./data-v2/yolo/test/images/2017-09-01_10-54-26.mp4-bee_id_7957-27900-1.png  \n",
            "  inflating: ./data-v2/yolo/test/images/2017-09-01_10-54-26.mp4-bee_id_7958-27915-1.png  \n",
            "   creating: ./data-v2/yolo/test/labels/\n",
            "  inflating: ./data-v2/yolo/test/labels/2017-09-01_10-54-26.mp4-bee_id_7741-15-1.txt  \n",
            "  inflating: ./data-v2/yolo/test/labels/2017-09-01_10-54-26.mp4-bee_id_7743-390-1.txt  \n",
            "  inflating: ./data-v2/yolo/test/labels/2017-09-01_10-54-26.mp4-bee_id_7745-810-1.txt  \n",
            "  inflating: ./data-v2/yolo/test/labels/2017-09-01_10-54-26.mp4-bee_id_7755-2385-1.txt  \n",
            "  inflating: ./data-v2/yolo/test/labels/2017-09-01_10-54-26.mp4-bee_id_7756-2535-1.txt  \n",
            "  inflating: ./data-v2/yolo/test/labels/2017-09-01_10-54-26.mp4-bee_id_7757-2625-1.txt  \n",
            "  inflating: ./data-v2/yolo/test/labels/2017-09-01_10-54-26.mp4-bee_id_7761-3345-1.txt  \n",
            "  inflating: ./data-v2/yolo/test/labels/2017-09-01_10-54-26.mp4-bee_id_7764-4320-1.txt  \n",
            "  inflating: ./data-v2/yolo/test/labels/2017-09-01_10-54-26.mp4-bee_id_7767-4845-1.txt  \n",
            "  inflating: ./data-v2/yolo/test/labels/2017-09-01_10-54-26.mp4-bee_id_7769-5025-1.txt  \n",
            "  inflating: ./data-v2/yolo/test/labels/2017-09-01_10-54-26.mp4-bee_id_7770-5190-1.txt  \n",
            "  inflating: ./data-v2/yolo/test/labels/2017-09-01_10-54-26.mp4-bee_id_7780-6270-1.txt  \n",
            "  inflating: ./data-v2/yolo/test/labels/2017-09-01_10-54-26.mp4-bee_id_7782-6345-1.txt  \n",
            "  inflating: ./data-v2/yolo/test/labels/2017-09-01_10-54-26.mp4-bee_id_7785-7005-1.txt  \n",
            "  inflating: ./data-v2/yolo/test/labels/2017-09-01_10-54-26.mp4-bee_id_7786-7020-1.txt  \n",
            "  inflating: ./data-v2/yolo/test/labels/2017-09-01_10-54-26.mp4-bee_id_7787-7140-1.txt  \n",
            "  inflating: ./data-v2/yolo/test/labels/2017-09-01_10-54-26.mp4-bee_id_7788-7155-1.txt  \n",
            "  inflating: ./data-v2/yolo/test/labels/2017-09-01_10-54-26.mp4-bee_id_7789-7620-1.txt  \n",
            "  inflating: ./data-v2/yolo/test/labels/2017-09-01_10-54-26.mp4-bee_id_7790-7635-1.txt  \n",
            "  inflating: ./data-v2/yolo/test/labels/2017-09-01_10-54-26.mp4-bee_id_7791-7710-1.txt  \n",
            "  inflating: ./data-v2/yolo/test/labels/2017-09-01_10-54-26.mp4-bee_id_7802-8430-1.txt  \n",
            "  inflating: ./data-v2/yolo/test/labels/2017-09-01_10-54-26.mp4-bee_id_7806-8640-1.txt  \n",
            "  inflating: ./data-v2/yolo/test/labels/2017-09-01_10-54-26.mp4-bee_id_7810-8955-1.txt  \n",
            "  inflating: ./data-v2/yolo/test/labels/2017-09-01_10-54-26.mp4-bee_id_7813-9495-1.txt  \n",
            "  inflating: ./data-v2/yolo/test/labels/2017-09-01_10-54-26.mp4-bee_id_7814-9540-1.txt  \n",
            "  inflating: ./data-v2/yolo/test/labels/2017-09-01_10-54-26.mp4-bee_id_7817-9585-1.txt  \n",
            "  inflating: ./data-v2/yolo/test/labels/2017-09-01_10-54-26.mp4-bee_id_7819-9675-1.txt  \n",
            "  inflating: ./data-v2/yolo/test/labels/2017-09-01_10-54-26.mp4-bee_id_7828-11070-1.txt  \n",
            "  inflating: ./data-v2/yolo/test/labels/2017-09-01_10-54-26.mp4-bee_id_7829-11130-1.txt  \n",
            "  inflating: ./data-v2/yolo/test/labels/2017-09-01_10-54-26.mp4-bee_id_7832-11175-1.txt  \n",
            "  inflating: ./data-v2/yolo/test/labels/2017-09-01_10-54-26.mp4-bee_id_7833-11205-1.txt  \n",
            "  inflating: ./data-v2/yolo/test/labels/2017-09-01_10-54-26.mp4-bee_id_7853-13095-1.txt  \n",
            "  inflating: ./data-v2/yolo/test/labels/2017-09-01_10-54-26.mp4-bee_id_7855-13425-1.txt  \n",
            "  inflating: ./data-v2/yolo/test/labels/2017-09-01_10-54-26.mp4-bee_id_7859-13680-1.txt  \n",
            "  inflating: ./data-v2/yolo/test/labels/2017-09-01_10-54-26.mp4-bee_id_7860-13695-1.txt  \n",
            "  inflating: ./data-v2/yolo/test/labels/2017-09-01_10-54-26.mp4-bee_id_7869-15060-1.txt  \n",
            "  inflating: ./data-v2/yolo/test/labels/2017-09-01_10-54-26.mp4-bee_id_7872-15180-1.txt  \n",
            "  inflating: ./data-v2/yolo/test/labels/2017-09-01_10-54-26.mp4-bee_id_7873-15390-1.txt  \n",
            "  inflating: ./data-v2/yolo/test/labels/2017-09-01_10-54-26.mp4-bee_id_7875-15570-1.txt  \n",
            "  inflating: ./data-v2/yolo/test/labels/2017-09-01_10-54-26.mp4-bee_id_7879-18390-1.txt  \n",
            "  inflating: ./data-v2/yolo/test/labels/2017-09-01_10-54-26.mp4-bee_id_7880-18390-1.txt  \n",
            "  inflating: ./data-v2/yolo/test/labels/2017-09-01_10-54-26.mp4-bee_id_7881-18540-1.txt  \n",
            "  inflating: ./data-v2/yolo/test/labels/2017-09-01_10-54-26.mp4-bee_id_7883-21345-1.txt  \n",
            "  inflating: ./data-v2/yolo/test/labels/2017-09-01_10-54-26.mp4-bee_id_7888-22965-1.txt  \n",
            "  inflating: ./data-v2/yolo/test/labels/2017-09-01_10-54-26.mp4-bee_id_7889-23010-1.txt  \n",
            "  inflating: ./data-v2/yolo/test/labels/2017-09-01_10-54-26.mp4-bee_id_7890-23025-1.txt  \n",
            "  inflating: ./data-v2/yolo/test/labels/2017-09-01_10-54-26.mp4-bee_id_7891-23115-1.txt  \n",
            "  inflating: ./data-v2/yolo/test/labels/2017-09-01_10-54-26.mp4-bee_id_7893-23385-1.txt  \n",
            "  inflating: ./data-v2/yolo/test/labels/2017-09-01_10-54-26.mp4-bee_id_7894-23490-1.txt  \n",
            "  inflating: ./data-v2/yolo/test/labels/2017-09-01_10-54-26.mp4-bee_id_7895-23715-1.txt  \n",
            "  inflating: ./data-v2/yolo/test/labels/2017-09-01_10-54-26.mp4-bee_id_7896-24090-1.txt  \n",
            "  inflating: ./data-v2/yolo/test/labels/2017-09-01_10-54-26.mp4-bee_id_7897-24135-1.txt  \n",
            "  inflating: ./data-v2/yolo/test/labels/2017-09-01_10-54-26.mp4-bee_id_7898-24135-1.txt  \n",
            "  inflating: ./data-v2/yolo/test/labels/2017-09-01_10-54-26.mp4-bee_id_7902-24375-1.txt  \n",
            "  inflating: ./data-v2/yolo/test/labels/2017-09-01_10-54-26.mp4-bee_id_7904-24525-1.txt  \n",
            "  inflating: ./data-v2/yolo/test/labels/2017-09-01_10-54-26.mp4-bee_id_7907-24645-1.txt  \n",
            "  inflating: ./data-v2/yolo/test/labels/2017-09-01_10-54-26.mp4-bee_id_7910-24855-1.txt  \n",
            "  inflating: ./data-v2/yolo/test/labels/2017-09-01_10-54-26.mp4-bee_id_7911-25035-1.txt  \n",
            "  inflating: ./data-v2/yolo/test/labels/2017-09-01_10-54-26.mp4-bee_id_7912-25140-1.txt  \n",
            "  inflating: ./data-v2/yolo/test/labels/2017-09-01_10-54-26.mp4-bee_id_7913-25245-1.txt  \n",
            "  inflating: ./data-v2/yolo/test/labels/2017-09-01_10-54-26.mp4-bee_id_7914-25305-1.txt  \n",
            "  inflating: ./data-v2/yolo/test/labels/2017-09-01_10-54-26.mp4-bee_id_7918-25515-1.txt  \n",
            "  inflating: ./data-v2/yolo/test/labels/2017-09-01_10-54-26.mp4-bee_id_7919-25530-1.txt  \n",
            "  inflating: ./data-v2/yolo/test/labels/2017-09-01_10-54-26.mp4-bee_id_7920-25710-1.txt  \n",
            "  inflating: ./data-v2/yolo/test/labels/2017-09-01_10-54-26.mp4-bee_id_7922-25950-1.txt  \n",
            "  inflating: ./data-v2/yolo/test/labels/2017-09-01_10-54-26.mp4-bee_id_7923-25965-1.txt  \n",
            "  inflating: ./data-v2/yolo/test/labels/2017-09-01_10-54-26.mp4-bee_id_7925-25980-1.txt  \n",
            "  inflating: ./data-v2/yolo/test/labels/2017-09-01_10-54-26.mp4-bee_id_7926-26010-1.txt  \n",
            "  inflating: ./data-v2/yolo/test/labels/2017-09-01_10-54-26.mp4-bee_id_7927-26025-1.txt  \n",
            "  inflating: ./data-v2/yolo/test/labels/2017-09-01_10-54-26.mp4-bee_id_7928-26040-1.txt  \n",
            "  inflating: ./data-v2/yolo/test/labels/2017-09-01_10-54-26.mp4-bee_id_7929-26055-1.txt  \n",
            "  inflating: ./data-v2/yolo/test/labels/2017-09-01_10-54-26.mp4-bee_id_7930-26100-1.txt  \n",
            "  inflating: ./data-v2/yolo/test/labels/2017-09-01_10-54-26.mp4-bee_id_7933-26265-1.txt  \n",
            "  inflating: ./data-v2/yolo/test/labels/2017-09-01_10-54-26.mp4-bee_id_7935-26280-1.txt  \n",
            "  inflating: ./data-v2/yolo/test/labels/2017-09-01_10-54-26.mp4-bee_id_7936-26325-1.txt  \n",
            "  inflating: ./data-v2/yolo/test/labels/2017-09-01_10-54-26.mp4-bee_id_7938-26415-1.txt  \n",
            "  inflating: ./data-v2/yolo/test/labels/2017-09-01_10-54-26.mp4-bee_id_7940-26775-1.txt  \n",
            "  inflating: ./data-v2/yolo/test/labels/2017-09-01_10-54-26.mp4-bee_id_7951-27705-1.txt  \n",
            "   creating: ./data-v2/yolo/train/\n",
            "   creating: ./data-v2/yolo/train/images/\n",
            "  inflating: ./data-v2/yolo/train/images/2017-08-28_09-30-00-1_500_dirty_glass.mp4-bee_id_6695-15-1.png  \n",
            "  inflating: ./data-v2/yolo/train/images/2017-08-28_09-30-00-1_500_dirty_glass.mp4-bee_id_6696-15-1.png  \n",
            "  inflating: ./data-v2/yolo/train/images/2017-08-28_09-30-00-1_500_dirty_glass.mp4-bee_id_6697-30-1.png  \n",
            "  inflating: ./data-v2/yolo/train/images/2017-08-28_09-30-00-1_500_dirty_glass.mp4-bee_id_6698-165-1.png  \n",
            "  inflating: ./data-v2/yolo/train/images/2017-08-28_09-30-00-1_500_dirty_glass.mp4-bee_id_6699-180-1.png  \n",
            "  inflating: ./data-v2/yolo/train/images/2017-08-28_09-30-00-1_500_dirty_glass.mp4-bee_id_6700-180-1.png  \n",
            "  inflating: ./data-v2/yolo/train/images/2017-08-28_09-30-00-1_500_dirty_glass.mp4-bee_id_6701-420-1.png  \n",
            "  inflating: ./data-v2/yolo/train/images/2017-08-28_09-30-00-1_500_dirty_glass.mp4-bee_id_6702-450-1.png  \n",
            "  inflating: ./data-v2/yolo/train/images/2017-08-28_09-30-00-1_500_dirty_glass.mp4-bee_id_6703-525-1.png  \n",
            "  inflating: ./data-v2/yolo/train/images/2017-08-28_09-30-00-1_500_dirty_glass.mp4-bee_id_6704-735-1.png  \n",
            "  inflating: ./data-v2/yolo/train/images/2017-08-28_09-30-00-1_500_dirty_glass.mp4-bee_id_6705-915-1.png  \n",
            "  inflating: ./data-v2/yolo/train/images/2017-08-28_09-30-00-1_500_dirty_glass.mp4-bee_id_6706-1110-1.png  \n",
            "  inflating: ./data-v2/yolo/train/images/2017-08-28_09-30-00-1_500_dirty_glass.mp4-bee_id_6707-1155-1.png  \n",
            "  inflating: ./data-v2/yolo/train/images/2017-08-28_09-30-00-1_500_dirty_glass.mp4-bee_id_6708-1170-1.png  \n",
            "  inflating: ./data-v2/yolo/train/images/2017-08-28_09-30-00-1_500_dirty_glass.mp4-bee_id_6709-1350-1.png  \n",
            "  inflating: ./data-v2/yolo/train/images/2017-08-28_09-30-00-1_500_dirty_glass.mp4-bee_id_6710-1365-1.png  \n",
            "  inflating: ./data-v2/yolo/train/images/2017-08-28_09-30-00-1_500_dirty_glass.mp4-bee_id_6711-1380-1.png  \n",
            "  inflating: ./data-v2/yolo/train/images/2017-08-28_09-30-00-1_500_dirty_glass.mp4-bee_id_6712-1410-1.png  \n",
            "  inflating: ./data-v2/yolo/train/images/2017-08-28_09-30-00-1_500_dirty_glass.mp4-bee_id_6713-1425-1.png  \n",
            "  inflating: ./data-v2/yolo/train/images/2017-08-28_09-30-00-1_500_dirty_glass.mp4-bee_id_6714-1620-1.png  \n",
            "  inflating: ./data-v2/yolo/train/images/2017-08-28_09-30-00-1_500_dirty_glass.mp4-bee_id_6715-1725-1.png  \n",
            "  inflating: ./data-v2/yolo/train/images/2017-08-28_09-30-00-1_500_dirty_glass.mp4-bee_id_6716-1740-1.png  \n",
            "  inflating: ./data-v2/yolo/train/images/2017-08-28_09-30-00-1_500_dirty_glass.mp4-bee_id_6717-2130-1.png  \n",
            "  inflating: ./data-v2/yolo/train/images/2017-08-28_09-30-00-1_500_dirty_glass.mp4-bee_id_6718-2130-1.png  \n",
            "  inflating: ./data-v2/yolo/train/images/2017-08-28_09-30-00-1_500_dirty_glass.mp4-bee_id_6719-3780-1.png  \n",
            "  inflating: ./data-v2/yolo/train/images/2017-08-28_09-30-00-1_500_dirty_glass.mp4-bee_id_6720-3885-1.png  \n",
            "  inflating: ./data-v2/yolo/train/images/2017-08-28_09-30-00-1_500_dirty_glass.mp4-bee_id_6721-3945-1.png  \n",
            "  inflating: ./data-v2/yolo/train/images/2017-08-28_09-30-00-1_500_dirty_glass.mp4-bee_id_6722-4035-1.png  \n",
            "  inflating: ./data-v2/yolo/train/images/2017-08-28_09-30-00-1_500_dirty_glass.mp4-bee_id_6723-4065-1.png  \n",
            "  inflating: ./data-v2/yolo/train/images/2017-08-28_09-30-00-1_500_dirty_glass.mp4-bee_id_6724-4275-1.png  \n",
            "  inflating: ./data-v2/yolo/train/images/2017-08-28_09-30-00-1_500_dirty_glass.mp4-bee_id_6725-4290-1.png  \n",
            "  inflating: ./data-v2/yolo/train/images/2017-08-28_09-30-00-1_500_dirty_glass.mp4-bee_id_6726-4305-1.png  \n",
            "  inflating: ./data-v2/yolo/train/images/2017-08-28_09-30-00-1_500_dirty_glass.mp4-bee_id_6727-5700-1.png  \n",
            "  inflating: ./data-v2/yolo/train/images/2017-08-28_09-30-00-1_500_dirty_glass.mp4-bee_id_6728-5835-1.png  \n",
            "  inflating: ./data-v2/yolo/train/images/2017-08-28_09-30-00-1_500_dirty_glass.mp4-bee_id_6729-5880-1.png  \n",
            "  inflating: ./data-v2/yolo/train/images/2017-08-28_09-30-00-1_500_dirty_glass.mp4-bee_id_6730-7005-1.png  \n",
            "  inflating: ./data-v2/yolo/train/images/2017-08-28_09-30-00-1_500_dirty_glass.mp4-bee_id_6731-7050-1.png  \n",
            "  inflating: ./data-v2/yolo/train/images/2017-08-28_09-30-00-1_500_dirty_glass.mp4-bee_id_6732-9270-1.png  \n",
            "  inflating: ./data-v2/yolo/train/images/2017-08-28_09-30-00-1_500_dirty_glass.mp4-bee_id_6733-10020-1.png  \n",
            "  inflating: ./data-v2/yolo/train/images/2017-08-28_09-30-00-1_500_dirty_glass.mp4-bee_id_6735-10365-1.png  \n",
            "  inflating: ./data-v2/yolo/train/images/2017-08-28_09-30-00-1_500_dirty_glass.mp4-bee_id_6736-10635-1.png  \n",
            "  inflating: ./data-v2/yolo/train/images/2017-08-28_09-30-00-1_500_dirty_glass.mp4-bee_id_6737-10650-1.png  \n",
            "  inflating: ./data-v2/yolo/train/images/2017-08-28_09-30-00-1_500_dirty_glass.mp4-bee_id_6738-10785-1.png  \n",
            "  inflating: ./data-v2/yolo/train/images/2017-08-28_09-30-00-1_500_dirty_glass.mp4-bee_id_6739-10800-1.png  \n",
            "  inflating: ./data-v2/yolo/train/images/2017-08-28_09-30-00-1_500_dirty_glass.mp4-bee_id_6740-10815-1.png  \n",
            "  inflating: ./data-v2/yolo/train/images/2017-08-28_09-30-00-1_500_dirty_glass.mp4-bee_id_6741-10890-1.png  \n",
            "  inflating: ./data-v2/yolo/train/images/2017-08-28_09-30-00-1_500_dirty_glass.mp4-bee_id_6742-10980-1.png  \n",
            "  inflating: ./data-v2/yolo/train/images/2017-08-28_09-30-00-1_500_dirty_glass.mp4-bee_id_6743-11040-1.png  \n",
            "  inflating: ./data-v2/yolo/train/images/2017-08-28_09-30-00-1_500_dirty_glass.mp4-bee_id_6744-11055-1.png  \n",
            "  inflating: ./data-v2/yolo/train/images/2017-08-28_09-30-00-1_500_dirty_glass.mp4-bee_id_6745-11070-1.png  \n",
            "  inflating: ./data-v2/yolo/train/images/2017-08-28_09-30-00-1_500_dirty_glass.mp4-bee_id_6746-11085-1.png  \n",
            "  inflating: ./data-v2/yolo/train/images/2017-08-28_09-30-00-1_500_dirty_glass.mp4-bee_id_6747-11145-1.png  \n",
            "  inflating: ./data-v2/yolo/train/images/2017-08-28_09-30-00-1_500_dirty_glass.mp4-bee_id_6748-11205-1.png  \n",
            "  inflating: ./data-v2/yolo/train/images/2017-08-28_09-30-00-1_500_dirty_glass.mp4-bee_id_6749-11235-1.png  \n",
            "  inflating: ./data-v2/yolo/train/images/2017-08-28_09-30-00-1_500_dirty_glass.mp4-bee_id_6750-11250-1.png  \n",
            "  inflating: ./data-v2/yolo/train/images/2017-08-28_09-30-00-1_500_dirty_glass.mp4-bee_id_6751-11265-1.png  \n",
            "  inflating: ./data-v2/yolo/train/images/2017-08-28_09-30-00-1_500_dirty_glass.mp4-bee_id_6752-11400-1.png  \n",
            "  inflating: ./data-v2/yolo/train/images/2017-08-28_09-30-00-1_500_dirty_glass.mp4-bee_id_6753-11415-1.png  \n",
            "  inflating: ./data-v2/yolo/train/images/2017-08-28_09-30-00-1_500_dirty_glass.mp4-bee_id_6754-11655-1.png  \n",
            "  inflating: ./data-v2/yolo/train/images/2017-08-28_09-30-00-1_500_dirty_glass.mp4-bee_id_6755-11685-1.png  \n",
            "  inflating: ./data-v2/yolo/train/images/2017-08-28_09-30-00-1_500_dirty_glass.mp4-bee_id_6756-11700-1.png  \n",
            "  inflating: ./data-v2/yolo/train/images/2017-08-28_09-30-00-1_500_dirty_glass.mp4-bee_id_6757-11715-1.png  \n",
            "  inflating: ./data-v2/yolo/train/images/2017-08-28_09-30-00-1_500_dirty_glass.mp4-bee_id_6758-11730-1.png  \n",
            "  inflating: ./data-v2/yolo/train/images/2017-08-28_09-30-00-1_500_dirty_glass.mp4-bee_id_6759-11745-1.png  \n",
            "  inflating: ./data-v2/yolo/train/images/2017-08-28_09-30-00-1_500_dirty_glass.mp4-bee_id_6760-11790-1.png  \n",
            "  inflating: ./data-v2/yolo/train/images/2017-08-28_09-30-00-1_500_dirty_glass.mp4-bee_id_6761-11820-1.png  \n",
            "  inflating: ./data-v2/yolo/train/images/2017-08-28_09-30-00-1_500_dirty_glass.mp4-bee_id_6762-12000-1.png  \n",
            "  inflating: ./data-v2/yolo/train/images/2017-08-28_09-30-00-1_500_dirty_glass.mp4-bee_id_6763-12405-1.png  \n",
            "  inflating: ./data-v2/yolo/train/images/2017-08-28_09-30-00-1_500_dirty_glass.mp4-bee_id_6764-12450-1.png  \n",
            "  inflating: ./data-v2/yolo/train/images/2017-08-28_09-30-00-1_500_dirty_glass.mp4-bee_id_6765-12450-1.png  \n",
            "  inflating: ./data-v2/yolo/train/images/2017-08-28_09-30-00-1_500_dirty_glass.mp4-bee_id_6766-12480-1.png  \n",
            "  inflating: ./data-v2/yolo/train/images/2017-08-28_09-30-00-1_500_dirty_glass.mp4-bee_id_6767-12480-1.png  \n",
            "  inflating: ./data-v2/yolo/train/images/2017-08-28_09-30-00-1_500_dirty_glass.mp4-bee_id_6768-12495-1.png  \n",
            "  inflating: ./data-v2/yolo/train/images/2017-08-28_09-30-00-1_500_dirty_glass.mp4-bee_id_6769-12510-1.png  \n",
            "  inflating: ./data-v2/yolo/train/images/2017-08-28_09-30-00-1_500_dirty_glass.mp4-bee_id_6770-12525-1.png  \n",
            "  inflating: ./data-v2/yolo/train/images/2017-08-28_09-30-00-1_500_dirty_glass.mp4-bee_id_6771-12555-1.png  \n",
            "  inflating: ./data-v2/yolo/train/images/2017-08-28_09-30-00-1_500_dirty_glass.mp4-bee_id_6772-12570-1.png  \n",
            "  inflating: ./data-v2/yolo/train/images/2017-08-28_09-30-00-1_500_dirty_glass.mp4-bee_id_6773-12585-1.png  \n",
            "  inflating: ./data-v2/yolo/train/images/2017-08-28_09-30-00-1_500_dirty_glass.mp4-bee_id_6774-12600-1.png  \n",
            "  inflating: ./data-v2/yolo/train/images/2017-08-28_09-30-00-1_500_dirty_glass.mp4-bee_id_6775-12645-1.png  \n",
            "  inflating: ./data-v2/yolo/train/images/2017-08-28_09-30-00-1_500_dirty_glass.mp4-bee_id_6776-12900-1.png  \n",
            "  inflating: ./data-v2/yolo/train/images/2017-08-28_09-30-00-1_500_dirty_glass.mp4-bee_id_6777-12915-1.png  \n",
            "  inflating: ./data-v2/yolo/train/images/2017-08-28_09-30-00-1_500_dirty_glass.mp4-bee_id_6778-13290-1.png  \n",
            "  inflating: ./data-v2/yolo/train/images/2017-08-28_09-30-00-1_500_dirty_glass.mp4-bee_id_6779-13305-1.png  \n",
            "  inflating: ./data-v2/yolo/train/images/2017-08-28_09-30-00-1_500_dirty_glass.mp4-bee_id_6780-13320-1.png  \n",
            "  inflating: ./data-v2/yolo/train/images/2017-08-28_09-30-00-1_500_dirty_glass.mp4-bee_id_6781-13335-1.png  \n",
            "  inflating: ./data-v2/yolo/train/images/2017-08-28_09-30-00-1_500_dirty_glass.mp4-bee_id_6782-13440-1.png  \n",
            "  inflating: ./data-v2/yolo/train/images/2017-08-28_09-30-00-1_500_dirty_glass.mp4-bee_id_6783-13635-1.png  \n",
            "  inflating: ./data-v2/yolo/train/images/2017-08-28_09-30-00-1_500_dirty_glass.mp4-bee_id_6784-13650-1.png  \n",
            "  inflating: ./data-v2/yolo/train/images/2017-08-28_09-30-00-1_500_dirty_glass.mp4-bee_id_6785-13665-1.png  \n",
            "  inflating: ./data-v2/yolo/train/images/2017-08-28_09-30-00-1_500_dirty_glass.mp4-bee_id_6786-13680-1.png  \n",
            "  inflating: ./data-v2/yolo/train/images/2017-08-28_09-30-00-1_500_dirty_glass.mp4-bee_id_6787-13740-1.png  \n",
            "  inflating: ./data-v2/yolo/train/images/2017-08-28_09-30-00-1_500_dirty_glass.mp4-bee_id_6788-13755-1.png  \n",
            "  inflating: ./data-v2/yolo/train/images/2017-08-28_09-30-00-1_500_dirty_glass.mp4-bee_id_6789-13770-1.png  \n",
            "  inflating: ./data-v2/yolo/train/images/2017-08-28_09-30-00-1_500_dirty_glass.mp4-bee_id_6790-13785-1.png  \n",
            "  inflating: ./data-v2/yolo/train/images/2017-08-28_09-30-00-1_500_dirty_glass.mp4-bee_id_6791-13845-1.png  \n",
            "  inflating: ./data-v2/yolo/train/images/2017-08-28_09-30-00-1_500_dirty_glass.mp4-bee_id_6792-13875-1.png  \n",
            "  inflating: ./data-v2/yolo/train/images/2017-08-28_09-30-00-1_500_dirty_glass.mp4-bee_id_6793-13890-1.png  \n",
            "  inflating: ./data-v2/yolo/train/images/2017-08-28_09-30-00-1_500_dirty_glass.mp4-bee_id_6794-13905-1.png  \n",
            "  inflating: ./data-v2/yolo/train/images/2017-08-28_09-30-00-1_500_dirty_glass.mp4-bee_id_6795-13905-1.png  \n",
            "  inflating: ./data-v2/yolo/train/images/2017-08-28_09-30-00-1_500_dirty_glass.mp4-bee_id_6796-13920-1.png  \n",
            "  inflating: ./data-v2/yolo/train/images/2017-08-28_09-30-00-1_500_dirty_glass.mp4-bee_id_6797-13935-1.png  \n",
            "  inflating: ./data-v2/yolo/train/images/2017-08-28_09-30-00-1_500_dirty_glass.mp4-bee_id_6798-13950-1.png  \n",
            "  inflating: ./data-v2/yolo/train/images/2017-08-28_09-30-00-1_500_dirty_glass.mp4-bee_id_6799-14010-1.png  \n",
            "  inflating: ./data-v2/yolo/train/images/2017-08-28_09-30-00-1_500_dirty_glass.mp4-bee_id_6800-14205-1.png  \n",
            "  inflating: ./data-v2/yolo/train/images/2017-08-28_09-30-00-1_500_dirty_glass.mp4-bee_id_6801-14265-1.png  \n",
            "  inflating: ./data-v2/yolo/train/images/2017-08-28_09-30-00-1_500_dirty_glass.mp4-bee_id_6802-14280-1.png  \n",
            "  inflating: ./data-v2/yolo/train/images/2017-08-28_09-30-00-1_500_dirty_glass.mp4-bee_id_6803-14295-1.png  \n",
            "  inflating: ./data-v2/yolo/train/images/2017-08-28_09-30-00-1_500_dirty_glass.mp4-bee_id_6804-14310-1.png  \n",
            "  inflating: ./data-v2/yolo/train/images/2017-08-28_09-30-00-1_500_dirty_glass.mp4-bee_id_6805-14325-1.png  \n",
            "  inflating: ./data-v2/yolo/train/images/2017-08-28_09-30-00-1_500_dirty_glass.mp4-bee_id_6806-14445-1.png  \n",
            "  inflating: ./data-v2/yolo/train/images/2017-08-28_09-30-00-1_500_dirty_glass.mp4-bee_id_6807-14460-1.png  \n",
            "  inflating: ./data-v2/yolo/train/images/2017-08-28_09-30-00-1_500_dirty_glass.mp4-bee_id_6808-14475-1.png  \n",
            "  inflating: ./data-v2/yolo/train/images/2017-08-28_09-30-00-1_500_dirty_glass.mp4-bee_id_6809-14640-1.png  \n",
            "  inflating: ./data-v2/yolo/train/images/2017-08-28_09-30-00-1_500_dirty_glass.mp4-bee_id_6810-14685-1.png  \n",
            "  inflating: ./data-v2/yolo/train/images/2017-08-28_09-30-00-1_500_dirty_glass.mp4-bee_id_6811-14700-1.png  \n",
            "  inflating: ./data-v2/yolo/train/images/2017-08-28_09-30-00-1_500_dirty_glass.mp4-bee_id_6812-14700-1.png  \n",
            "  inflating: ./data-v2/yolo/train/images/2017-08-28_09-30-00-1_500_dirty_glass.mp4-bee_id_6813-14715-1.png  \n",
            "  inflating: ./data-v2/yolo/train/images/2017-08-28_09-30-00-1_500_dirty_glass.mp4-bee_id_6814-14745-1.png  \n",
            "  inflating: ./data-v2/yolo/train/images/2017-08-28_09-30-00-1_500_dirty_glass.mp4-bee_id_6815-14745-1.png  \n",
            "  inflating: ./data-v2/yolo/train/images/2017-08-28_09-30-00-1_500_dirty_glass.mp4-bee_id_6816-14790-1.png  \n",
            "  inflating: ./data-v2/yolo/train/images/2017-08-28_09-30-00-1_500_dirty_glass.mp4-bee_id_6817-14805-1.png  \n",
            "  inflating: ./data-v2/yolo/train/images/2017-08-28_09-30-00-1_500_dirty_glass.mp4-bee_id_6818-14805-1.png  \n",
            "  inflating: ./data-v2/yolo/train/images/2017-08-28_09-30-00-1_500_dirty_glass.mp4-bee_id_6819-14820-1.png  \n",
            "  inflating: ./data-v2/yolo/train/images/2017-08-28_09-30-00-1_500_dirty_glass.mp4-bee_id_6820-14835-1.png  \n",
            "  inflating: ./data-v2/yolo/train/images/2017-08-28_09-30-00-1_500_dirty_glass.mp4-bee_id_6821-14850-1.png  \n",
            "  inflating: ./data-v2/yolo/train/images/2017-08-28_09-30-00-1_500_dirty_glass.mp4-bee_id_6822-14910-1.png  \n",
            "  inflating: ./data-v2/yolo/train/images/2017-08-28_09-30-00-1_500_dirty_glass.mp4-bee_id_6823-14940-1.png  \n",
            "  inflating: ./data-v2/yolo/train/images/2017-08-28_09-30-00-1_500_dirty_glass.mp4-bee_id_6824-14940-1.png  \n",
            "  inflating: ./data-v2/yolo/train/images/2017-08-28_09-30-00-1_500_dirty_glass.mp4-bee_id_6825-15000-1.png  \n",
            "  inflating: ./data-v2/yolo/train/images/2017-08-28_09-30-00-1_500_dirty_glass.mp4-bee_id_6826-15030-1.png  \n",
            "  inflating: ./data-v2/yolo/train/images/2017-08-28_09-30-00-1_500_dirty_glass.mp4-bee_id_6827-15060-1.png  \n",
            "  inflating: ./data-v2/yolo/train/images/2017-08-28_09-30-00-1_500_dirty_glass.mp4-bee_id_6828-15075-1.png  \n",
            "  inflating: ./data-v2/yolo/train/images/2017-08-28_09-30-00-1_500_dirty_glass.mp4-bee_id_6829-15090-1.png  \n",
            "  inflating: ./data-v2/yolo/train/images/2017-08-28_09-30-00-1_500_dirty_glass.mp4-bee_id_6830-15120-1.png  \n",
            "  inflating: ./data-v2/yolo/train/images/2017-08-28_09-30-00-1_500_dirty_glass.mp4-bee_id_6831-15270-1.png  \n",
            "  inflating: ./data-v2/yolo/train/images/2017-08-28_09-30-00-1_500_dirty_glass.mp4-bee_id_6832-15300-1.png  \n",
            "  inflating: ./data-v2/yolo/train/images/2017-08-28_09-30-00-1_500_dirty_glass.mp4-bee_id_6833-15315-1.png  \n",
            "  inflating: ./data-v2/yolo/train/images/2017-08-28_09-30-00-1_500_dirty_glass.mp4-bee_id_6834-15345-1.png  \n",
            "  inflating: ./data-v2/yolo/train/images/2017-08-28_09-30-00-1_500_dirty_glass.mp4-bee_id_6835-15345-1.png  \n",
            "  inflating: ./data-v2/yolo/train/images/2017-08-28_09-30-00-1_500_dirty_glass.mp4-bee_id_6836-15360-1.png  \n",
            "  inflating: ./data-v2/yolo/train/images/2017-08-28_09-30-00-1_500_dirty_glass.mp4-bee_id_6837-15420-1.png  \n",
            "  inflating: ./data-v2/yolo/train/images/2017-08-28_09-30-00-1_500_dirty_glass.mp4-bee_id_6838-15420-1.png  \n",
            "  inflating: ./data-v2/yolo/train/images/2017-08-28_09-30-00-1_500_dirty_glass.mp4-bee_id_6839-15450-1.png  \n",
            "  inflating: ./data-v2/yolo/train/images/2017-08-28_09-30-00-1_500_dirty_glass.mp4-bee_id_6840-15450-1.png  \n",
            "  inflating: ./data-v2/yolo/train/images/2017-08-28_09-30-00-1_500_dirty_glass.mp4-bee_id_6841-15450-1.png  \n",
            "  inflating: ./data-v2/yolo/train/images/2017-08-28_09-30-00-1_500_dirty_glass.mp4-bee_id_6842-15675-1.png  \n",
            "  inflating: ./data-v2/yolo/train/images/2017-08-28_09-30-00-1_500_dirty_glass.mp4-bee_id_6843-15735-1.png  \n",
            "  inflating: ./data-v2/yolo/train/images/2017-08-28_09-30-00-1_500_dirty_glass.mp4-bee_id_6844-15750-1.png  \n",
            "  inflating: ./data-v2/yolo/train/images/2017-08-28_09-30-00-1_500_dirty_glass.mp4-bee_id_6845-15750-1.png  \n",
            "  inflating: ./data-v2/yolo/train/images/2017-08-28_09-30-00-1_500_dirty_glass.mp4-bee_id_6846-15765-1.png  \n",
            "  inflating: ./data-v2/yolo/train/images/2017-08-28_09-30-00-1_500_dirty_glass.mp4-bee_id_6847-15765-1.png  \n",
            "  inflating: ./data-v2/yolo/train/images/2017-08-28_09-30-00-1_500_dirty_glass.mp4-bee_id_6848-15780-1.png  \n",
            "  inflating: ./data-v2/yolo/train/images/2017-08-28_09-30-00-1_500_dirty_glass.mp4-bee_id_6849-15780-1.png  \n",
            "  inflating: ./data-v2/yolo/train/images/2017-08-28_09-30-00-1_500_dirty_glass.mp4-bee_id_6850-15810-1.png  \n",
            "  inflating: ./data-v2/yolo/train/images/2017-08-28_09-30-00-1_500_dirty_glass.mp4-bee_id_6851-15930-1.png  \n",
            "  inflating: ./data-v2/yolo/train/images/2017-08-28_09-30-00-1_500_dirty_glass.mp4-bee_id_6852-15945-1.png  \n",
            "  inflating: ./data-v2/yolo/train/images/2017-08-28_09-30-00-1_500_dirty_glass.mp4-bee_id_6853-15945-1.png  \n",
            "  inflating: ./data-v2/yolo/train/images/2017-08-28_09-30-00-1_500_dirty_glass.mp4-bee_id_6854-15975-1.png  \n",
            "  inflating: ./data-v2/yolo/train/images/2017-08-28_09-30-00-1_500_dirty_glass.mp4-bee_id_6855-16080-1.png  \n",
            "  inflating: ./data-v2/yolo/train/images/2017-08-28_09-30-00-1_500_dirty_glass.mp4-bee_id_6856-16080-1.png  \n",
            "  inflating: ./data-v2/yolo/train/images/2017-08-28_09-30-00-1_500_dirty_glass.mp4-bee_id_6857-16125-1.png  \n",
            "  inflating: ./data-v2/yolo/train/images/2017-08-28_09-30-00-1_500_dirty_glass.mp4-bee_id_6858-16140-1.png  \n",
            "  inflating: ./data-v2/yolo/train/images/2017-08-28_09-30-00-1_500_dirty_glass.mp4-bee_id_6859-16170-1.png  \n",
            "  inflating: ./data-v2/yolo/train/images/2017-08-28_09-30-00-1_500_dirty_glass.mp4-bee_id_6860-16200-1.png  \n",
            "  inflating: ./data-v2/yolo/train/images/2017-08-28_09-30-00-1_500_dirty_glass.mp4-bee_id_6861-16260-1.png  \n",
            "  inflating: ./data-v2/yolo/train/images/2017-08-28_09-30-00-1_500_dirty_glass.mp4-bee_id_6862-16290-1.png  \n",
            "  inflating: ./data-v2/yolo/train/images/2017-08-28_09-30-00-1_500_dirty_glass.mp4-bee_id_6863-16410-1.png  \n",
            "  inflating: ./data-v2/yolo/train/images/2017-08-28_09-30-00-1_500_dirty_glass.mp4-bee_id_6864-16425-1.png  \n",
            "  inflating: ./data-v2/yolo/train/images/2017-08-28_09-30-00-1_500_dirty_glass.mp4-bee_id_6865-16440-1.png  \n",
            "  inflating: ./data-v2/yolo/train/images/2017-08-28_09-30-00-1_500_dirty_glass.mp4-bee_id_6866-16470-1.png  \n",
            "  inflating: ./data-v2/yolo/train/images/2017-08-28_09-30-00-1_500_dirty_glass.mp4-bee_id_6867-16485-1.png  \n",
            "  inflating: ./data-v2/yolo/train/images/2017-08-28_09-30-00-1_500_dirty_glass.mp4-bee_id_6868-16500-1.png  \n",
            "  inflating: ./data-v2/yolo/train/images/2017-08-28_09-30-00-1_500_dirty_glass.mp4-bee_id_6869-16605-1.png  \n",
            "  inflating: ./data-v2/yolo/train/images/2017-08-28_09-30-00-1_500_dirty_glass.mp4-bee_id_6870-16635-1.png  \n",
            "  inflating: ./data-v2/yolo/train/images/2017-08-28_09-30-00-1_500_dirty_glass.mp4-bee_id_6871-16710-1.png  \n",
            "  inflating: ./data-v2/yolo/train/images/2017-08-28_09-30-00-1_500_dirty_glass.mp4-bee_id_6872-17055-1.png  \n",
            "  inflating: ./data-v2/yolo/train/images/2017-08-28_09-30-00-1_500_dirty_glass.mp4-bee_id_6873-17175-1.png  \n",
            "  inflating: ./data-v2/yolo/train/images/2017-08-28_09-30-00-1_500_dirty_glass.mp4-bee_id_6874-17205-1.png  \n",
            "  inflating: ./data-v2/yolo/train/images/2017-08-28_09-30-00-1_500_dirty_glass.mp4-bee_id_6875-17535-1.png  \n",
            "  inflating: ./data-v2/yolo/train/images/2017-08-28_09-30-00-1_500_dirty_glass.mp4-bee_id_6876-17550-1.png  \n",
            "  inflating: ./data-v2/yolo/train/images/2017-08-28_09-30-00-1_500_dirty_glass.mp4-bee_id_6877-17580-1.png  \n",
            "  inflating: ./data-v2/yolo/train/images/2017-08-28_09-30-00-1_500_dirty_glass.mp4-bee_id_6878-17595-1.png  \n",
            "  inflating: ./data-v2/yolo/train/images/2017-08-28_09-30-00-1_500_dirty_glass.mp4-bee_id_6879-17610-1.png  \n",
            "  inflating: ./data-v2/yolo/train/images/2017-08-28_09-30-00-1_500_dirty_glass.mp4-bee_id_6880-17700-1.png  \n",
            "  inflating: ./data-v2/yolo/train/images/2017-08-28_09-30-00-1_500_dirty_glass.mp4-bee_id_6881-17730-1.png  \n",
            "  inflating: ./data-v2/yolo/train/images/2017-08-28_09-30-00-1_500_dirty_glass.mp4-bee_id_6882-17910-1.png  \n",
            "  inflating: ./data-v2/yolo/train/images/2017-08-28_09-30-00-1_500_dirty_glass.mp4-bee_id_6883-18375-1.png  \n",
            "  inflating: ./data-v2/yolo/train/images/2017-08-28_09-30-00-1_500_dirty_glass.mp4-bee_id_6884-18420-1.png  \n",
            "  inflating: ./data-v2/yolo/train/images/2017-08-28_09-30-00-1_500_dirty_glass.mp4-bee_id_6885-18645-1.png  \n",
            "  inflating: ./data-v2/yolo/train/images/2017-08-28_09-30-00-1_500_dirty_glass.mp4-bee_id_6886-18660-1.png  \n",
            "  inflating: ./data-v2/yolo/train/images/2017-08-28_09-30-00-1_500_dirty_glass.mp4-bee_id_6887-18720-1.png  \n",
            "  inflating: ./data-v2/yolo/train/images/2017-08-28_09-30-00-1_500_dirty_glass.mp4-bee_id_6888-18765-1.png  \n",
            "  inflating: ./data-v2/yolo/train/images/2017-08-28_09-30-00-1_500_dirty_glass.mp4-bee_id_6889-18780-1.png  \n",
            "  inflating: ./data-v2/yolo/train/images/2017-08-28_09-30-00-1_500_dirty_glass.mp4-bee_id_6890-18795-1.png  \n",
            "  inflating: ./data-v2/yolo/train/images/2017-08-28_09-30-00-1_500_dirty_glass.mp4-bee_id_6891-18810-1.png  \n",
            "  inflating: ./data-v2/yolo/train/images/2017-08-28_09-30-00-1_500_dirty_glass.mp4-bee_id_6892-18870-1.png  \n",
            "  inflating: ./data-v2/yolo/train/images/2017-08-28_09-30-00-1_500_dirty_glass.mp4-bee_id_6893-18915-1.png  \n",
            "  inflating: ./data-v2/yolo/train/images/2017-08-28_09-30-00-1_500_dirty_glass.mp4-bee_id_6894-18930-1.png  \n",
            "  inflating: ./data-v2/yolo/train/images/2017-08-28_09-30-00-1_500_dirty_glass.mp4-bee_id_6895-18945-1.png  \n",
            "  inflating: ./data-v2/yolo/train/images/2017-08-28_09-30-00-1_500_dirty_glass.mp4-bee_id_6896-18945-1.png  \n",
            "  inflating: ./data-v2/yolo/train/images/2017-08-28_09-30-00-1_500_dirty_glass.mp4-bee_id_6897-18960-1.png  \n",
            "  inflating: ./data-v2/yolo/train/images/2017-08-28_09-30-00-1_500_dirty_glass.mp4-bee_id_6898-19005-1.png  \n",
            "  inflating: ./data-v2/yolo/train/images/2017-08-28_09-30-00-1_500_dirty_glass.mp4-bee_id_6899-19035-1.png  \n",
            "  inflating: ./data-v2/yolo/train/images/2017-08-28_09-30-00-1_500_dirty_glass.mp4-bee_id_6900-19050-1.png  \n",
            "  inflating: ./data-v2/yolo/train/images/2017-08-28_09-30-00-1_500_dirty_glass.mp4-bee_id_6901-19095-1.png  \n",
            "  inflating: ./data-v2/yolo/train/images/2017-08-28_09-30-00-1_500_dirty_glass.mp4-bee_id_6902-19185-1.png  \n",
            "  inflating: ./data-v2/yolo/train/images/2017-08-28_09-30-00-1_500_dirty_glass.mp4-bee_id_6903-19200-1.png  \n",
            "  inflating: ./data-v2/yolo/train/images/2017-08-28_09-30-00-1_500_dirty_glass.mp4-bee_id_6904-19215-1.png  \n",
            "  inflating: ./data-v2/yolo/train/images/2017-08-28_09-30-00-1_500_dirty_glass.mp4-bee_id_6905-19230-1.png  \n",
            "  inflating: ./data-v2/yolo/train/images/2017-08-28_09-30-00-1_500_dirty_glass.mp4-bee_id_6906-19305-1.png  \n",
            "  inflating: ./data-v2/yolo/train/images/2017-08-28_09-30-00-1_500_dirty_glass.mp4-bee_id_6907-19305-1.png  \n",
            "  inflating: ./data-v2/yolo/train/images/2017-08-28_09-30-00-1_500_dirty_glass.mp4-bee_id_6908-19320-1.png  \n",
            "  inflating: ./data-v2/yolo/train/images/2017-08-28_09-30-00-1_500_dirty_glass.mp4-bee_id_6909-19395-1.png  \n",
            "  inflating: ./data-v2/yolo/train/images/2017-08-28_09-30-00-1_500_dirty_glass.mp4-bee_id_6910-19575-1.png  \n",
            "  inflating: ./data-v2/yolo/train/images/2017-08-28_09-30-00-1_500_dirty_glass.mp4-bee_id_6911-19590-1.png  \n",
            "  inflating: ./data-v2/yolo/train/images/2017-08-28_09-30-00-1_500_dirty_glass.mp4-bee_id_6912-19800-1.png  \n",
            "  inflating: ./data-v2/yolo/train/images/2017-08-28_09-30-00-1_500_dirty_glass.mp4-bee_id_6913-19890-1.png  \n",
            "  inflating: ./data-v2/yolo/train/images/2017-08-28_09-30-00-1_500_dirty_glass.mp4-bee_id_6914-20010-1.png  \n",
            "  inflating: ./data-v2/yolo/train/images/2017-08-28_09-30-00-1_500_dirty_glass.mp4-bee_id_6915-20010-1.png  \n",
            "  inflating: ./data-v2/yolo/train/images/2017-08-28_09-30-00-1_500_dirty_glass.mp4-bee_id_6916-20025-1.png  \n",
            "  inflating: ./data-v2/yolo/train/images/2017-08-28_09-30-00-1_500_dirty_glass.mp4-bee_id_6917-20025-1.png  \n",
            "  inflating: ./data-v2/yolo/train/images/2017-08-28_09-30-00-1_500_dirty_glass.mp4-bee_id_6918-20205-1.png  \n",
            "  inflating: ./data-v2/yolo/train/images/2017-08-28_09-30-00-1_500_dirty_glass.mp4-bee_id_6919-20220-1.png  \n",
            "  inflating: ./data-v2/yolo/train/images/2017-08-28_09-30-00-1_500_dirty_glass.mp4-bee_id_6920-20250-1.png  \n",
            "  inflating: ./data-v2/yolo/train/images/2017-08-28_09-30-00-1_500_dirty_glass.mp4-bee_id_6921-20265-1.png  \n",
            "  inflating: ./data-v2/yolo/train/images/2017-08-28_09-30-00-1_500_dirty_glass.mp4-bee_id_6922-20325-1.png  \n",
            "  inflating: ./data-v2/yolo/train/images/2017-08-28_09-30-00-1_500_dirty_glass.mp4-bee_id_6923-20490-1.png  \n",
            "  inflating: ./data-v2/yolo/train/images/2017-08-28_09-30-00-1_500_dirty_glass.mp4-bee_id_6924-20505-1.png  \n",
            "  inflating: ./data-v2/yolo/train/images/2017-08-28_09-30-00-1_500_dirty_glass.mp4-bee_id_6925-20595-1.png  \n",
            "  inflating: ./data-v2/yolo/train/images/2017-08-28_09-30-00-1_500_dirty_glass.mp4-bee_id_6926-20610-1.png  \n",
            "  inflating: ./data-v2/yolo/train/images/2017-08-28_09-30-00-1_500_dirty_glass.mp4-bee_id_6927-20640-1.png  \n",
            "  inflating: ./data-v2/yolo/train/images/2017-08-28_09-30-00-1_500_dirty_glass.mp4-bee_id_6928-20655-1.png  \n",
            "  inflating: ./data-v2/yolo/train/images/2017-08-28_09-30-00-1_500_dirty_glass.mp4-bee_id_6929-20670-1.png  \n",
            "  inflating: ./data-v2/yolo/train/images/2017-08-28_09-30-00-1_500_dirty_glass.mp4-bee_id_6930-20760-1.png  \n",
            "  inflating: ./data-v2/yolo/train/images/2017-08-28_09-30-00-1_500_dirty_glass.mp4-bee_id_6931-20775-1.png  \n",
            "  inflating: ./data-v2/yolo/train/images/2017-08-28_09-30-00-1_500_dirty_glass.mp4-bee_id_6932-20820-1.png  \n",
            "  inflating: ./data-v2/yolo/train/images/2017-08-28_09-30-00-1_500_dirty_glass.mp4-bee_id_6933-20865-1.png  \n",
            "  inflating: ./data-v2/yolo/train/images/2017-08-28_09-30-00-1_500_dirty_glass.mp4-bee_id_6934-20880-1.png  \n",
            "  inflating: ./data-v2/yolo/train/images/2017-08-28_09-30-00-1_500_dirty_glass.mp4-bee_id_6935-20895-1.png  \n",
            "  inflating: ./data-v2/yolo/train/images/2017-08-28_09-30-00-1_500_dirty_glass.mp4-bee_id_6936-20910-1.png  \n",
            "  inflating: ./data-v2/yolo/train/images/2017-08-28_09-30-00-1_500_dirty_glass.mp4-bee_id_6937-20910-1.png  \n",
            "  inflating: ./data-v2/yolo/train/images/2017-08-28_09-30-00-1_500_dirty_glass.mp4-bee_id_6938-20940-1.png  \n",
            "  inflating: ./data-v2/yolo/train/images/2017-08-28_09-30-00-1_500_dirty_glass.mp4-bee_id_6939-20985-1.png  \n",
            "  inflating: ./data-v2/yolo/train/images/2017-08-28_09-30-00-1_500_dirty_glass.mp4-bee_id_6940-21030-1.png  \n",
            "  inflating: ./data-v2/yolo/train/images/2017-08-28_09-30-00-1_500_dirty_glass.mp4-bee_id_6941-21045-1.png  \n",
            "  inflating: ./data-v2/yolo/train/images/2017-08-28_09-30-00-1_500_dirty_glass.mp4-bee_id_6942-21060-1.png  \n",
            "  inflating: ./data-v2/yolo/train/images/2017-08-28_09-30-00-1_500_dirty_glass.mp4-bee_id_6943-21075-1.png  \n",
            "  inflating: ./data-v2/yolo/train/images/2017-08-28_09-30-00-1_500_dirty_glass.mp4-bee_id_6944-21090-1.png  \n",
            "  inflating: ./data-v2/yolo/train/images/2017-08-28_09-30-00-1_500_dirty_glass.mp4-bee_id_6945-21105-1.png  \n",
            "  inflating: ./data-v2/yolo/train/images/2017-08-28_09-30-00-1_500_dirty_glass.mp4-bee_id_6946-21135-1.png  \n",
            "  inflating: ./data-v2/yolo/train/images/2017-08-28_09-30-00-1_500_dirty_glass.mp4-bee_id_6947-21150-1.png  \n",
            "  inflating: ./data-v2/yolo/train/images/2017-08-28_09-30-00-1_500_dirty_glass.mp4-bee_id_6948-21240-1.png  \n",
            "  inflating: ./data-v2/yolo/train/images/2017-08-28_09-30-00-1_500_dirty_glass.mp4-bee_id_6949-21240-1.png  \n",
            "  inflating: ./data-v2/yolo/train/images/2017-08-28_09-30-00-1_500_dirty_glass.mp4-bee_id_6950-21255-1.png  \n",
            "  inflating: ./data-v2/yolo/train/images/2017-08-28_09-30-00-1_500_dirty_glass.mp4-bee_id_6951-21300-1.png  \n",
            "  inflating: ./data-v2/yolo/train/images/2017-08-28_09-30-00-1_500_dirty_glass.mp4-bee_id_6952-21315-1.png  \n",
            "  inflating: ./data-v2/yolo/train/images/2017-08-28_09-30-00-1_500_dirty_glass.mp4-bee_id_6953-21330-1.png  \n",
            "  inflating: ./data-v2/yolo/train/images/2017-08-28_09-30-00-1_500_dirty_glass.mp4-bee_id_6954-21345-1.png  \n",
            "  inflating: ./data-v2/yolo/train/images/2017-08-28_09-30-00-1_500_dirty_glass.mp4-bee_id_6955-21360-1.png  \n",
            "  inflating: ./data-v2/yolo/train/images/2017-08-28_09-30-00-1_500_dirty_glass.mp4-bee_id_6956-21420-1.png  \n",
            "  inflating: ./data-v2/yolo/train/images/2017-08-28_09-30-00-1_500_dirty_glass.mp4-bee_id_6957-21540-1.png  \n",
            "  inflating: ./data-v2/yolo/train/images/2017-08-28_09-30-00-1_500_dirty_glass.mp4-bee_id_6958-21555-1.png  \n",
            "  inflating: ./data-v2/yolo/train/images/2017-08-28_09-30-00-1_500_dirty_glass.mp4-bee_id_6959-21570-1.png  \n",
            "  inflating: ./data-v2/yolo/train/images/2017-08-28_09-30-00-1_500_dirty_glass.mp4-bee_id_6960-21600-1.png  \n",
            "  inflating: ./data-v2/yolo/train/images/2017-08-28_09-30-00-1_500_dirty_glass.mp4-bee_id_6961-21615-1.png  \n",
            "  inflating: ./data-v2/yolo/train/images/2017-08-28_09-30-00-1_500_dirty_glass.mp4-bee_id_6962-21660-1.png  \n",
            "  inflating: ./data-v2/yolo/train/images/2017-08-28_09-30-00-1_500_dirty_glass.mp4-bee_id_6963-21690-1.png  \n",
            "  inflating: ./data-v2/yolo/train/images/2017-08-28_09-30-00-1_500_dirty_glass.mp4-bee_id_6964-21705-1.png  \n",
            "  inflating: ./data-v2/yolo/train/images/2017-08-28_09-30-00-1_500_dirty_glass.mp4-bee_id_6965-21705-1.png  \n",
            "  inflating: ./data-v2/yolo/train/images/2017-08-28_09-30-00-1_500_dirty_glass.mp4-bee_id_6966-21720-1.png  \n",
            "  inflating: ./data-v2/yolo/train/images/2017-08-28_09-30-00-1_500_dirty_glass.mp4-bee_id_6967-21735-1.png  \n",
            "  inflating: ./data-v2/yolo/train/images/2017-08-28_09-30-00-1_500_dirty_glass.mp4-bee_id_6968-21750-1.png  \n",
            "  inflating: ./data-v2/yolo/train/images/2017-08-28_09-30-00-1_500_dirty_glass.mp4-bee_id_6969-21825-1.png  \n",
            "  inflating: ./data-v2/yolo/train/images/2017-08-28_09-30-00-1_500_dirty_glass.mp4-bee_id_6970-21855-1.png  \n",
            "  inflating: ./data-v2/yolo/train/images/2017-08-28_09-30-00-1_500_dirty_glass.mp4-bee_id_6971-21900-1.png  \n",
            "  inflating: ./data-v2/yolo/train/images/2017-08-28_09-30-00-1_500_dirty_glass.mp4-bee_id_6972-21975-1.png  \n",
            "  inflating: ./data-v2/yolo/train/images/2017-08-28_09-30-00-1_500_dirty_glass.mp4-bee_id_6973-21990-1.png  \n",
            "  inflating: ./data-v2/yolo/train/images/2017-08-28_09-30-00-1_500_dirty_glass.mp4-bee_id_6974-21990-1.png  \n",
            "  inflating: ./data-v2/yolo/train/images/2017-08-28_09-30-00-1_500_dirty_glass.mp4-bee_id_6975-22005-1.png  \n",
            "  inflating: ./data-v2/yolo/train/images/2017-08-28_09-30-00-1_500_dirty_glass.mp4-bee_id_6976-22140-1.png  \n",
            "  inflating: ./data-v2/yolo/train/images/2017-08-28_09-30-00-1_500_dirty_glass.mp4-bee_id_6977-22140-1.png  \n",
            "  inflating: ./data-v2/yolo/train/images/2017-08-28_09-30-00-1_500_dirty_glass.mp4-bee_id_6978-22155-1.png  \n",
            "  inflating: ./data-v2/yolo/train/images/2017-08-28_09-30-00-1_500_dirty_glass.mp4-bee_id_6979-22155-1.png  \n",
            "  inflating: ./data-v2/yolo/train/images/2017-08-28_09-30-00-1_500_dirty_glass.mp4-bee_id_6980-22185-1.png  \n",
            "  inflating: ./data-v2/yolo/train/images/2017-08-28_09-30-00-1_500_dirty_glass.mp4-bee_id_6981-22200-1.png  \n",
            "  inflating: ./data-v2/yolo/train/images/2017-08-28_09-30-00-1_500_dirty_glass.mp4-bee_id_6982-22245-1.png  \n",
            "  inflating: ./data-v2/yolo/train/images/2017-08-28_09-30-00-1_500_dirty_glass.mp4-bee_id_6983-22260-1.png  \n",
            "  inflating: ./data-v2/yolo/train/images/2017-08-28_09-30-00-1_500_dirty_glass.mp4-bee_id_6984-22290-1.png  \n",
            "  inflating: ./data-v2/yolo/train/images/2017-08-28_09-30-00-1_500_dirty_glass.mp4-bee_id_6985-22440-1.png  \n",
            "  inflating: ./data-v2/yolo/train/images/2017-08-28_09-30-00-1_500_dirty_glass.mp4-bee_id_6986-22440-1.png  \n",
            "  inflating: ./data-v2/yolo/train/images/2017-08-28_09-30-00-1_500_dirty_glass.mp4-bee_id_6987-22485-1.png  \n",
            "  inflating: ./data-v2/yolo/train/images/2017-08-28_09-30-00-1_500_dirty_glass.mp4-bee_id_6988-22500-1.png  \n",
            "  inflating: ./data-v2/yolo/train/images/2017-08-28_09-30-00-1_500_dirty_glass.mp4-bee_id_6989-22515-1.png  \n",
            "  inflating: ./data-v2/yolo/train/images/2017-08-28_09-30-00-1_500_dirty_glass.mp4-bee_id_6990-22530-1.png  \n",
            "  inflating: ./data-v2/yolo/train/images/2017-08-28_09-30-00-1_500_dirty_glass.mp4-bee_id_6991-22530-1.png  \n",
            "  inflating: ./data-v2/yolo/train/images/2017-08-28_09-30-00-1_500_dirty_glass.mp4-bee_id_6992-22545-1.png  \n",
            "  inflating: ./data-v2/yolo/train/images/2017-08-28_09-30-00-1_500_dirty_glass.mp4-bee_id_6993-22560-1.png  \n",
            "  inflating: ./data-v2/yolo/train/images/2017-08-28_09-30-00-1_500_dirty_glass.mp4-bee_id_6994-22560-1.png  \n",
            "  inflating: ./data-v2/yolo/train/images/2017-08-28_09-30-00-1_500_dirty_glass.mp4-bee_id_6995-22590-1.png  \n",
            "  inflating: ./data-v2/yolo/train/images/2017-08-28_09-30-00-1_500_dirty_glass.mp4-bee_id_6996-22605-1.png  \n",
            "  inflating: ./data-v2/yolo/train/images/2017-08-28_09-30-00-1_500_dirty_glass.mp4-bee_id_6997-22650-1.png  \n",
            "  inflating: ./data-v2/yolo/train/images/2017-08-28_09-30-00-1_500_dirty_glass.mp4-bee_id_6998-22665-1.png  \n",
            "  inflating: ./data-v2/yolo/train/images/2017-08-28_09-30-00-1_500_dirty_glass.mp4-bee_id_6999-22680-1.png  \n",
            "  inflating: ./data-v2/yolo/train/images/2017-08-28_09-30-00-1_500_dirty_glass.mp4-bee_id_7000-22740-1.png  \n",
            "  inflating: ./data-v2/yolo/train/images/2017-08-28_09-30-00-1_500_dirty_glass.mp4-bee_id_7001-22770-1.png  \n",
            "  inflating: ./data-v2/yolo/train/images/2017-08-28_09-30-00-1_500_dirty_glass.mp4-bee_id_7002-22800-1.png  \n",
            "  inflating: ./data-v2/yolo/train/images/2017-08-28_09-30-00-1_500_dirty_glass.mp4-bee_id_7003-22815-1.png  \n",
            "  inflating: ./data-v2/yolo/train/images/2017-08-28_09-30-00-1_500_dirty_glass.mp4-bee_id_7004-22860-1.png  \n",
            "  inflating: ./data-v2/yolo/train/images/2017-08-28_09-30-00-1_500_dirty_glass.mp4-bee_id_7005-22875-1.png  \n",
            "  inflating: ./data-v2/yolo/train/images/2017-08-28_09-30-00-1_500_dirty_glass.mp4-bee_id_7006-22875-1.png  \n",
            "  inflating: ./data-v2/yolo/train/images/2017-08-28_09-30-00-1_500_dirty_glass.mp4-bee_id_7007-22890-1.png  \n",
            "  inflating: ./data-v2/yolo/train/images/2017-08-28_09-30-00-1_500_dirty_glass.mp4-bee_id_7008-22935-1.png  \n",
            "  inflating: ./data-v2/yolo/train/images/2017-08-28_09-30-00-1_500_dirty_glass.mp4-bee_id_7009-22965-1.png  \n",
            "  inflating: ./data-v2/yolo/train/images/2017-08-28_09-30-00-1_500_dirty_glass.mp4-bee_id_7010-22980-1.png  \n",
            "  inflating: ./data-v2/yolo/train/images/2017-08-28_09-30-00-1_500_dirty_glass.mp4-bee_id_7011-22980-1.png  \n",
            "  inflating: ./data-v2/yolo/train/images/2017-08-28_09-30-00-1_500_dirty_glass.mp4-bee_id_7012-23085-1.png  \n",
            "  inflating: ./data-v2/yolo/train/images/2017-08-28_09-30-00-1_500_dirty_glass.mp4-bee_id_7013-23100-1.png  \n",
            "  inflating: ./data-v2/yolo/train/images/2017-08-28_09-30-00-1_500_dirty_glass.mp4-bee_id_7014-23115-1.png  \n",
            "  inflating: ./data-v2/yolo/train/images/2017-08-28_09-30-00-1_500_dirty_glass.mp4-bee_id_7015-23130-1.png  \n",
            "  inflating: ./data-v2/yolo/train/images/2017-08-28_09-30-00-1_500_dirty_glass.mp4-bee_id_7016-23145-1.png  \n",
            "  inflating: ./data-v2/yolo/train/images/2017-08-28_09-30-00-1_500_dirty_glass.mp4-bee_id_7017-23250-1.png  \n",
            "  inflating: ./data-v2/yolo/train/images/2017-08-28_09-30-00-1_500_dirty_glass.mp4-bee_id_7018-23310-1.png  \n",
            "  inflating: ./data-v2/yolo/train/images/2017-08-28_09-30-00-1_500_dirty_glass.mp4-bee_id_7019-23520-1.png  \n",
            "  inflating: ./data-v2/yolo/train/images/2017-08-28_09-30-00-1_500_dirty_glass.mp4-bee_id_7020-23565-1.png  \n",
            "  inflating: ./data-v2/yolo/train/images/2017-08-28_09-30-00-1_500_dirty_glass.mp4-bee_id_7021-23580-1.png  \n",
            "  inflating: ./data-v2/yolo/train/images/2017-08-28_09-30-00-1_500_dirty_glass.mp4-bee_id_7022-23610-1.png  \n",
            "  inflating: ./data-v2/yolo/train/images/2017-08-28_09-30-00-1_500_dirty_glass.mp4-bee_id_7023-23625-1.png  \n",
            "  inflating: ./data-v2/yolo/train/images/2017-08-28_09-30-00-1_500_dirty_glass.mp4-bee_id_7024-23730-1.png  \n",
            "  inflating: ./data-v2/yolo/train/images/2017-08-28_09-30-00-1_500_dirty_glass.mp4-bee_id_7025-23745-1.png  \n",
            "  inflating: ./data-v2/yolo/train/images/2017-08-28_09-30-00-1_500_dirty_glass.mp4-bee_id_7026-23760-1.png  \n",
            "  inflating: ./data-v2/yolo/train/images/2017-08-28_09-30-00-1_500_dirty_glass.mp4-bee_id_7027-23775-1.png  \n",
            "  inflating: ./data-v2/yolo/train/images/2017-08-28_09-30-00-1_500_dirty_glass.mp4-bee_id_7028-23835-1.png  \n",
            "  inflating: ./data-v2/yolo/train/images/2017-08-28_09-30-00-1_500_dirty_glass.mp4-bee_id_7029-23850-1.png  \n",
            "  inflating: ./data-v2/yolo/train/images/2017-08-28_09-30-00-1_500_dirty_glass.mp4-bee_id_7030-23865-1.png  \n",
            "  inflating: ./data-v2/yolo/train/images/2017-08-28_09-30-00-1_500_dirty_glass.mp4-bee_id_7031-23880-1.png  \n",
            "  inflating: ./data-v2/yolo/train/images/2017-08-28_09-30-00-1_500_dirty_glass.mp4-bee_id_7032-23895-1.png  \n",
            "  inflating: ./data-v2/yolo/train/images/2017-08-28_09-30-00-1_500_dirty_glass.mp4-bee_id_7033-23970-1.png  \n",
            "  inflating: ./data-v2/yolo/train/images/2017-08-28_09-30-00-1_500_dirty_glass.mp4-bee_id_7034-23985-1.png  \n",
            "  inflating: ./data-v2/yolo/train/images/2017-08-28_09-30-00-1_500_dirty_glass.mp4-bee_id_7035-24000-1.png  \n",
            "  inflating: ./data-v2/yolo/train/images/2017-08-28_09-30-00-1_500_dirty_glass.mp4-bee_id_7036-24015-1.png  \n",
            "  inflating: ./data-v2/yolo/train/images/2017-08-28_09-30-00-1_500_dirty_glass.mp4-bee_id_7037-24060-1.png  \n",
            "  inflating: ./data-v2/yolo/train/images/2017-08-28_09-30-00-1_500_dirty_glass.mp4-bee_id_7038-24075-1.png  \n",
            "  inflating: ./data-v2/yolo/train/images/2017-08-28_09-30-00-1_500_dirty_glass.mp4-bee_id_7039-24105-1.png  \n",
            "  inflating: ./data-v2/yolo/train/images/2017-08-28_09-30-00-1_500_dirty_glass.mp4-bee_id_7040-27015-1.png  \n",
            "  inflating: ./data-v2/yolo/train/images/2017-08-28_09-30-00-1_500_dirty_glass.mp4-bee_id_7041-27675-1.png  \n",
            "  inflating: ./data-v2/yolo/train/images/2017-08-28_09-30-00-1_500_dirty_glass.mp4-bee_id_7042-28305-1.png  \n",
            "  inflating: ./data-v2/yolo/train/images/2017-08-28_09-30-00-1_500_dirty_glass.mp4-bee_id_7043-28350-1.png  \n",
            "  inflating: ./data-v2/yolo/train/images/2017-08-28_09-30-00-1_500_dirty_glass.mp4-bee_id_7044-28365-1.png  \n",
            "  inflating: ./data-v2/yolo/train/images/2017-08-28_09-30-00-1_500_dirty_glass.mp4-bee_id_7045-28380-1.png  \n",
            "  inflating: ./data-v2/yolo/train/images/2017-08-28_09-30-00-1_500_dirty_glass.mp4-bee_id_7046-28515-1.png  \n",
            "  inflating: ./data-v2/yolo/train/images/2017-08-28_09-30-00-1_500_dirty_glass.mp4-bee_id_7048-28560-1.png  \n",
            "  inflating: ./data-v2/yolo/train/images/2017-08-28_09-30-00-1_500_dirty_glass.mp4-bee_id_7049-28650-1.png  \n",
            "  inflating: ./data-v2/yolo/train/images/2017-08-28_09-30-00-1_500_dirty_glass.mp4-bee_id_7050-28665-1.png  \n",
            "  inflating: ./data-v2/yolo/train/images/2017-08-28_09-30-00-1_500_dirty_glass.mp4-bee_id_7051-28695-1.png  \n",
            "  inflating: ./data-v2/yolo/train/images/2017-08-28_09-30-00-1_500_dirty_glass.mp4-bee_id_7052-28710-1.png  \n",
            "  inflating: ./data-v2/yolo/train/images/2017-08-28_09-30-00-1_500_dirty_glass.mp4-bee_id_7053-28755-1.png  \n",
            "  inflating: ./data-v2/yolo/train/images/2017-08-28_09-30-00-1_500_dirty_glass.mp4-bee_id_7054-28770-1.png  \n",
            "  inflating: ./data-v2/yolo/train/images/2017-08-28_09-30-00-1_500_dirty_glass.mp4-bee_id_7055-28770-1.png  \n",
            "  inflating: ./data-v2/yolo/train/images/2017-08-28_09-30-00-1_500_dirty_glass.mp4-bee_id_7056-28785-1.png  \n",
            "  inflating: ./data-v2/yolo/train/images/2017-08-28_09-30-00-1_500_dirty_glass.mp4-bee_id_7057-29010-1.png  \n",
            "  inflating: ./data-v2/yolo/train/images/2017-08-28_09-30-00-1_500_dirty_glass.mp4-bee_id_7058-29025-1.png  \n",
            "  inflating: ./data-v2/yolo/train/images/2017-08-28_09-30-00-1_500_dirty_glass.mp4-bee_id_7059-29310-1.png  \n",
            "  inflating: ./data-v2/yolo/train/images/2017-08-28_09-30-00-1_500_dirty_glass.mp4-bee_id_7060-29310-1.png  \n",
            "  inflating: ./data-v2/yolo/train/images/2017-08-28_09-30-00-1_500_dirty_glass.mp4-bee_id_7061-29325-1.png  \n",
            "  inflating: ./data-v2/yolo/train/images/2017-08-28_09-30-00-1_500_dirty_glass.mp4-bee_id_7062-29355-1.png  \n",
            "  inflating: ./data-v2/yolo/train/images/2017-08-28_09-30-00-1_500_dirty_glass.mp4-bee_id_7063-29505-1.png  \n",
            "  inflating: ./data-v2/yolo/train/images/2017-08-28_09-30-00-1_500_dirty_glass.mp4-bee_id_7064-29595-1.png  \n",
            "  inflating: ./data-v2/yolo/train/images/2017-08-28_09-30-00-1_500_dirty_glass.mp4-bee_id_7065-29625-1.png  \n",
            "  inflating: ./data-v2/yolo/train/images/2017-08-28_09-30-00-1_500_dirty_glass.mp4-bee_id_7066-29640-1.png  \n",
            "  inflating: ./data-v2/yolo/train/images/2017-08-28_09-30-00-1_500_dirty_glass.mp4-bee_id_7067-29730-1.png  \n",
            "  inflating: ./data-v2/yolo/train/images/2017-08-28_09-30-00-1_500_dirty_glass.mp4-bee_id_7068-29775-1.png  \n",
            "  inflating: ./data-v2/yolo/train/images/2017-08-28_09-30-00-1_500_dirty_glass.mp4-bee_id_7069-29790-1.png  \n",
            "  inflating: ./data-v2/yolo/train/images/2017-08-28_09-30-00-1_500_dirty_glass.mp4-bee_id_7070-29805-1.png  \n",
            "  inflating: ./data-v2/yolo/train/images/2017-08-28_09-30-00-1_500_dirty_glass.mp4-bee_id_7071-29820-1.png  \n",
            "  inflating: ./data-v2/yolo/train/images/2017-08-28_09-30-00-1_500_dirty_glass.mp4-bee_id_7072-29835-1.png  \n",
            "  inflating: ./data-v2/yolo/train/images/2017-08-28_09-30-00-1_500_dirty_glass.mp4-bee_id_7073-29985-1.png  \n",
            "  inflating: ./data-v2/yolo/train/images/2017-08-28_09-30-00-1_500_dirty_glass.mp4-bee_id_7074-29985-1.png  \n",
            "  inflating: ./data-v2/yolo/train/images/2017-08-28_09-30-00-1_500_dirty_glass.mp4-bee_id_7075-30015-1.png  \n",
            "  inflating: ./data-v2/yolo/train/images/2017-08-28_09-30-00-1_500_dirty_glass.mp4-bee_id_7076-30120-1.png  \n",
            "  inflating: ./data-v2/yolo/train/images/2017-08-28_09-30-00-1_500_dirty_glass.mp4-bee_id_7077-30135-1.png  \n",
            "  inflating: ./data-v2/yolo/train/images/2017-08-28_09-30-00-1_500_dirty_glass.mp4-bee_id_7078-30150-1.png  \n",
            "  inflating: ./data-v2/yolo/train/images/2017-08-28_09-30-00-1_500_dirty_glass.mp4-bee_id_7079-30165-1.png  \n",
            "  inflating: ./data-v2/yolo/train/images/2017-08-28_09-30-00-1_500_dirty_glass.mp4-bee_id_7080-30225-1.png  \n",
            "  inflating: ./data-v2/yolo/train/images/2017-08-28_09-30-00-1_500_dirty_glass.mp4-bee_id_7081-30240-1.png  \n",
            "  inflating: ./data-v2/yolo/train/images/2017-08-28_09-30-00-1_500_dirty_glass.mp4-bee_id_7082-30240-1.png  \n",
            "  inflating: ./data-v2/yolo/train/images/2017-08-28_09-30-00-1_500_dirty_glass.mp4-bee_id_7083-30345-1.png  \n",
            "  inflating: ./data-v2/yolo/train/images/2017-08-28_09-30-00-1_500_dirty_glass.mp4-bee_id_7084-30495-1.png  \n",
            "  inflating: ./data-v2/yolo/train/images/2017-08-28_09-30-00-1_500_dirty_glass.mp4-bee_id_7085-30525-1.png  \n",
            "  inflating: ./data-v2/yolo/train/images/2017-08-28_09-30-00-1_500_dirty_glass.mp4-bee_id_7086-30690-1.png  \n",
            "  inflating: ./data-v2/yolo/train/images/2017-08-28_09-30-00-1_500_dirty_glass.mp4-bee_id_7087-30705-1.png  \n",
            "  inflating: ./data-v2/yolo/train/images/2017-08-28_09-30-00-1_500_dirty_glass.mp4-bee_id_7088-30750-1.png  \n",
            "  inflating: ./data-v2/yolo/train/images/2017-08-28_09-30-00-1_500_dirty_glass.mp4-bee_id_7089-30780-1.png  \n",
            "  inflating: ./data-v2/yolo/train/images/2017-08-28_09-30-00-1_500_dirty_glass.mp4-bee_id_7090-30795-1.png  \n",
            "  inflating: ./data-v2/yolo/train/images/2017-08-28_09-30-00-1_500_dirty_glass.mp4-bee_id_7091-30795-1.png  \n",
            "  inflating: ./data-v2/yolo/train/images/2017-08-28_09-30-00-1_500_dirty_glass.mp4-bee_id_7092-30825-1.png  \n",
            "  inflating: ./data-v2/yolo/train/images/2017-08-28_09-30-00-1_500_dirty_glass.mp4-bee_id_7093-30885-1.png  \n",
            "  inflating: ./data-v2/yolo/train/images/2017-08-28_09-30-00-1_500_dirty_glass.mp4-bee_id_7094-30915-1.png  \n",
            "  inflating: ./data-v2/yolo/train/images/2017-08-28_09-30-00-1_500_dirty_glass.mp4-bee_id_7095-30990-1.png  \n",
            "  inflating: ./data-v2/yolo/train/images/2017-08-28_09-30-00-1_500_dirty_glass.mp4-bee_id_7096-31110-1.png  \n",
            "   creating: ./data-v2/yolo/train/labels/\n",
            "  inflating: ./data-v2/yolo/train/labels/2017-08-28_09-30-00-1_500_dirty_glass.mp4-bee_id_6696-15-1.txt  \n",
            "  inflating: ./data-v2/yolo/train/labels/2017-08-28_09-30-00-1_500_dirty_glass.mp4-bee_id_6698-165-1.txt  \n",
            "  inflating: ./data-v2/yolo/train/labels/2017-08-28_09-30-00-1_500_dirty_glass.mp4-bee_id_6700-180-1.txt  \n",
            "  inflating: ./data-v2/yolo/train/labels/2017-08-28_09-30-00-1_500_dirty_glass.mp4-bee_id_6701-420-1.txt  \n",
            "  inflating: ./data-v2/yolo/train/labels/2017-08-28_09-30-00-1_500_dirty_glass.mp4-bee_id_6703-525-1.txt  \n",
            "  inflating: ./data-v2/yolo/train/labels/2017-08-28_09-30-00-1_500_dirty_glass.mp4-bee_id_6710-1365-1.txt  \n",
            "  inflating: ./data-v2/yolo/train/labels/2017-08-28_09-30-00-1_500_dirty_glass.mp4-bee_id_6711-1380-1.txt  \n",
            "  inflating: ./data-v2/yolo/train/labels/2017-08-28_09-30-00-1_500_dirty_glass.mp4-bee_id_6712-1410-1.txt  \n",
            "  inflating: ./data-v2/yolo/train/labels/2017-08-28_09-30-00-1_500_dirty_glass.mp4-bee_id_6717-2130-1.txt  \n",
            "  inflating: ./data-v2/yolo/train/labels/2017-08-28_09-30-00-1_500_dirty_glass.mp4-bee_id_6727-5700-1.txt  \n",
            "  inflating: ./data-v2/yolo/train/labels/2017-08-28_09-30-00-1_500_dirty_glass.mp4-bee_id_6728-5835-1.txt  \n",
            "  inflating: ./data-v2/yolo/train/labels/2017-08-28_09-30-00-1_500_dirty_glass.mp4-bee_id_6729-5880-1.txt  \n",
            "  inflating: ./data-v2/yolo/train/labels/2017-08-28_09-30-00-1_500_dirty_glass.mp4-bee_id_6730-7005-1.txt  \n",
            "  inflating: ./data-v2/yolo/train/labels/2017-08-28_09-30-00-1_500_dirty_glass.mp4-bee_id_6731-7050-1.txt  \n",
            "  inflating: ./data-v2/yolo/train/labels/2017-08-28_09-30-00-1_500_dirty_glass.mp4-bee_id_6733-10020-1.txt  \n",
            "  inflating: ./data-v2/yolo/train/labels/2017-08-28_09-30-00-1_500_dirty_glass.mp4-bee_id_6736-10635-1.txt  \n",
            "  inflating: ./data-v2/yolo/train/labels/2017-08-28_09-30-00-1_500_dirty_glass.mp4-bee_id_6743-11040-1.txt  \n",
            "  inflating: ./data-v2/yolo/train/labels/2017-08-28_09-30-00-1_500_dirty_glass.mp4-bee_id_6747-11145-1.txt  \n",
            "  inflating: ./data-v2/yolo/train/labels/2017-08-28_09-30-00-1_500_dirty_glass.mp4-bee_id_6762-12000-1.txt  \n",
            "  inflating: ./data-v2/yolo/train/labels/2017-08-28_09-30-00-1_500_dirty_glass.mp4-bee_id_6764-12450-1.txt  \n",
            "  inflating: ./data-v2/yolo/train/labels/2017-08-28_09-30-00-1_500_dirty_glass.mp4-bee_id_6768-12495-1.txt  \n",
            "  inflating: ./data-v2/yolo/train/labels/2017-08-28_09-30-00-1_500_dirty_glass.mp4-bee_id_6769-12510-1.txt  \n",
            "  inflating: ./data-v2/yolo/train/labels/2017-08-28_09-30-00-1_500_dirty_glass.mp4-bee_id_6770-12525-1.txt  \n",
            "  inflating: ./data-v2/yolo/train/labels/2017-08-28_09-30-00-1_500_dirty_glass.mp4-bee_id_6771-12555-1.txt  \n",
            "  inflating: ./data-v2/yolo/train/labels/2017-08-28_09-30-00-1_500_dirty_glass.mp4-bee_id_6772-12570-1.txt  \n",
            "  inflating: ./data-v2/yolo/train/labels/2017-08-28_09-30-00-1_500_dirty_glass.mp4-bee_id_6773-12585-1.txt  \n",
            "  inflating: ./data-v2/yolo/train/labels/2017-08-28_09-30-00-1_500_dirty_glass.mp4-bee_id_6774-12600-1.txt  \n",
            "  inflating: ./data-v2/yolo/train/labels/2017-08-28_09-30-00-1_500_dirty_glass.mp4-bee_id_6775-12645-1.txt  \n",
            "  inflating: ./data-v2/yolo/train/labels/2017-08-28_09-30-00-1_500_dirty_glass.mp4-bee_id_6776-12900-1.txt  \n",
            "  inflating: ./data-v2/yolo/train/labels/2017-08-28_09-30-00-1_500_dirty_glass.mp4-bee_id_6777-12915-1.txt  \n",
            "  inflating: ./data-v2/yolo/train/labels/2017-08-28_09-30-00-1_500_dirty_glass.mp4-bee_id_6778-13290-1.txt  \n",
            "  inflating: ./data-v2/yolo/train/labels/2017-08-28_09-30-00-1_500_dirty_glass.mp4-bee_id_6779-13305-1.txt  \n",
            "  inflating: ./data-v2/yolo/train/labels/2017-08-28_09-30-00-1_500_dirty_glass.mp4-bee_id_6780-13320-1.txt  \n",
            "  inflating: ./data-v2/yolo/train/labels/2017-08-28_09-30-00-1_500_dirty_glass.mp4-bee_id_6781-13335-1.txt  \n",
            "  inflating: ./data-v2/yolo/train/labels/2017-08-28_09-30-00-1_500_dirty_glass.mp4-bee_id_6782-13440-1.txt  \n",
            "  inflating: ./data-v2/yolo/train/labels/2017-08-28_09-30-00-1_500_dirty_glass.mp4-bee_id_6791-13845-1.txt  \n",
            "  inflating: ./data-v2/yolo/train/labels/2017-08-28_09-30-00-1_500_dirty_glass.mp4-bee_id_6792-13875-1.txt  \n",
            "  inflating: ./data-v2/yolo/train/labels/2017-08-28_09-30-00-1_500_dirty_glass.mp4-bee_id_6794-13905-1.txt  \n",
            "  inflating: ./data-v2/yolo/train/labels/2017-08-28_09-30-00-1_500_dirty_glass.mp4-bee_id_6800-14205-1.txt  \n",
            "  inflating: ./data-v2/yolo/train/labels/2017-08-28_09-30-00-1_500_dirty_glass.mp4-bee_id_6801-14265-1.txt  \n",
            "  inflating: ./data-v2/yolo/train/labels/2017-08-28_09-30-00-1_500_dirty_glass.mp4-bee_id_6806-14445-1.txt  \n",
            "  inflating: ./data-v2/yolo/train/labels/2017-08-28_09-30-00-1_500_dirty_glass.mp4-bee_id_6807-14460-1.txt  \n",
            "  inflating: ./data-v2/yolo/train/labels/2017-08-28_09-30-00-1_500_dirty_glass.mp4-bee_id_6811-14700-1.txt  \n",
            "  inflating: ./data-v2/yolo/train/labels/2017-08-28_09-30-00-1_500_dirty_glass.mp4-bee_id_6812-14700-1.txt  \n",
            "  inflating: ./data-v2/yolo/train/labels/2017-08-28_09-30-00-1_500_dirty_glass.mp4-bee_id_6813-14715-1.txt  \n",
            "  inflating: ./data-v2/yolo/train/labels/2017-08-28_09-30-00-1_500_dirty_glass.mp4-bee_id_6819-14820-1.txt  \n",
            "  inflating: ./data-v2/yolo/train/labels/2017-08-28_09-30-00-1_500_dirty_glass.mp4-bee_id_6820-14835-1.txt  \n",
            "  inflating: ./data-v2/yolo/train/labels/2017-08-28_09-30-00-1_500_dirty_glass.mp4-bee_id_6821-14850-1.txt  \n",
            "  inflating: ./data-v2/yolo/train/labels/2017-08-28_09-30-00-1_500_dirty_glass.mp4-bee_id_6822-14910-1.txt  \n",
            "  inflating: ./data-v2/yolo/train/labels/2017-08-28_09-30-00-1_500_dirty_glass.mp4-bee_id_6823-14940-1.txt  \n",
            "  inflating: ./data-v2/yolo/train/labels/2017-08-28_09-30-00-1_500_dirty_glass.mp4-bee_id_6824-14940-1.txt  \n",
            "  inflating: ./data-v2/yolo/train/labels/2017-08-28_09-30-00-1_500_dirty_glass.mp4-bee_id_6825-15000-1.txt  \n",
            "  inflating: ./data-v2/yolo/train/labels/2017-08-28_09-30-00-1_500_dirty_glass.mp4-bee_id_6832-15300-1.txt  \n",
            "  inflating: ./data-v2/yolo/train/labels/2017-08-28_09-30-00-1_500_dirty_glass.mp4-bee_id_6833-15315-1.txt  \n",
            "  inflating: ./data-v2/yolo/train/labels/2017-08-28_09-30-00-1_500_dirty_glass.mp4-bee_id_6834-15345-1.txt  \n",
            "  inflating: ./data-v2/yolo/train/labels/2017-08-28_09-30-00-1_500_dirty_glass.mp4-bee_id_6835-15345-1.txt  \n",
            "  inflating: ./data-v2/yolo/train/labels/2017-08-28_09-30-00-1_500_dirty_glass.mp4-bee_id_6838-15420-1.txt  \n",
            "  inflating: ./data-v2/yolo/train/labels/2017-08-28_09-30-00-1_500_dirty_glass.mp4-bee_id_6839-15450-1.txt  \n",
            "  inflating: ./data-v2/yolo/train/labels/2017-08-28_09-30-00-1_500_dirty_glass.mp4-bee_id_6843-15735-1.txt  \n",
            "  inflating: ./data-v2/yolo/train/labels/2017-08-28_09-30-00-1_500_dirty_glass.mp4-bee_id_6845-15750-1.txt  \n",
            "  inflating: ./data-v2/yolo/train/labels/2017-08-28_09-30-00-1_500_dirty_glass.mp4-bee_id_6847-15765-1.txt  \n",
            "  inflating: ./data-v2/yolo/train/labels/2017-08-28_09-30-00-1_500_dirty_glass.mp4-bee_id_6855-16080-1.txt  \n",
            "  inflating: ./data-v2/yolo/train/labels/2017-08-28_09-30-00-1_500_dirty_glass.mp4-bee_id_6857-16125-1.txt  \n",
            "  inflating: ./data-v2/yolo/train/labels/2017-08-28_09-30-00-1_500_dirty_glass.mp4-bee_id_6859-16170-1.txt  \n",
            "  inflating: ./data-v2/yolo/train/labels/2017-08-28_09-30-00-1_500_dirty_glass.mp4-bee_id_6862-16290-1.txt  \n",
            "  inflating: ./data-v2/yolo/train/labels/2017-08-28_09-30-00-1_500_dirty_glass.mp4-bee_id_6866-16470-1.txt  \n",
            "  inflating: ./data-v2/yolo/train/labels/2017-08-28_09-30-00-1_500_dirty_glass.mp4-bee_id_6870-16635-1.txt  \n",
            "  inflating: ./data-v2/yolo/train/labels/2017-08-28_09-30-00-1_500_dirty_glass.mp4-bee_id_6871-16710-1.txt  \n",
            "  inflating: ./data-v2/yolo/train/labels/2017-08-28_09-30-00-1_500_dirty_glass.mp4-bee_id_6874-17205-1.txt  \n",
            "  inflating: ./data-v2/yolo/train/labels/2017-08-28_09-30-00-1_500_dirty_glass.mp4-bee_id_6878-17595-1.txt  \n",
            "  inflating: ./data-v2/yolo/train/labels/2017-08-28_09-30-00-1_500_dirty_glass.mp4-bee_id_6879-17610-1.txt  \n",
            "  inflating: ./data-v2/yolo/train/labels/2017-08-28_09-30-00-1_500_dirty_glass.mp4-bee_id_6883-18375-1.txt  \n",
            "  inflating: ./data-v2/yolo/train/labels/2017-08-28_09-30-00-1_500_dirty_glass.mp4-bee_id_6889-18780-1.txt  \n",
            "  inflating: ./data-v2/yolo/train/labels/2017-08-28_09-30-00-1_500_dirty_glass.mp4-bee_id_6891-18810-1.txt  \n",
            "  inflating: ./data-v2/yolo/train/labels/2017-08-28_09-30-00-1_500_dirty_glass.mp4-bee_id_6892-18870-1.txt  \n",
            "  inflating: ./data-v2/yolo/train/labels/2017-08-28_09-30-00-1_500_dirty_glass.mp4-bee_id_6895-18945-1.txt  \n",
            "  inflating: ./data-v2/yolo/train/labels/2017-08-28_09-30-00-1_500_dirty_glass.mp4-bee_id_6897-18960-1.txt  \n",
            "  inflating: ./data-v2/yolo/train/labels/2017-08-28_09-30-00-1_500_dirty_glass.mp4-bee_id_6911-19590-1.txt  \n",
            "  inflating: ./data-v2/yolo/train/labels/2017-08-28_09-30-00-1_500_dirty_glass.mp4-bee_id_6912-19800-1.txt  \n",
            "  inflating: ./data-v2/yolo/train/labels/2017-08-28_09-30-00-1_500_dirty_glass.mp4-bee_id_6913-19890-1.txt  \n",
            "  inflating: ./data-v2/yolo/train/labels/2017-08-28_09-30-00-1_500_dirty_glass.mp4-bee_id_6915-20010-1.txt  \n",
            "  inflating: ./data-v2/yolo/train/labels/2017-08-28_09-30-00-1_500_dirty_glass.mp4-bee_id_6918-20205-1.txt  \n",
            "  inflating: ./data-v2/yolo/train/labels/2017-08-28_09-30-00-1_500_dirty_glass.mp4-bee_id_6919-20220-1.txt  \n",
            "  inflating: ./data-v2/yolo/train/labels/2017-08-28_09-30-00-1_500_dirty_glass.mp4-bee_id_6920-20250-1.txt  \n",
            "  inflating: ./data-v2/yolo/train/labels/2017-08-28_09-30-00-1_500_dirty_glass.mp4-bee_id_6922-20325-1.txt  \n",
            "  inflating: ./data-v2/yolo/train/labels/2017-08-28_09-30-00-1_500_dirty_glass.mp4-bee_id_6923-20490-1.txt  \n",
            "  inflating: ./data-v2/yolo/train/labels/2017-08-28_09-30-00-1_500_dirty_glass.mp4-bee_id_6924-20505-1.txt  \n",
            "  inflating: ./data-v2/yolo/train/labels/2017-08-28_09-30-00-1_500_dirty_glass.mp4-bee_id_6925-20595-1.txt  \n",
            "  inflating: ./data-v2/yolo/train/labels/2017-08-28_09-30-00-1_500_dirty_glass.mp4-bee_id_6926-20610-1.txt  \n",
            "  inflating: ./data-v2/yolo/train/labels/2017-08-28_09-30-00-1_500_dirty_glass.mp4-bee_id_6928-20655-1.txt  \n",
            "  inflating: ./data-v2/yolo/train/labels/2017-08-28_09-30-00-1_500_dirty_glass.mp4-bee_id_6930-20760-1.txt  \n",
            "  inflating: ./data-v2/yolo/train/labels/2017-08-28_09-30-00-1_500_dirty_glass.mp4-bee_id_6935-20895-1.txt  \n",
            "  inflating: ./data-v2/yolo/train/labels/2017-08-28_09-30-00-1_500_dirty_glass.mp4-bee_id_6937-20910-1.txt  \n",
            "  inflating: ./data-v2/yolo/train/labels/2017-08-28_09-30-00-1_500_dirty_glass.mp4-bee_id_6939-20985-1.txt  \n",
            "  inflating: ./data-v2/yolo/train/labels/2017-08-28_09-30-00-1_500_dirty_glass.mp4-bee_id_6940-21030-1.txt  \n",
            "  inflating: ./data-v2/yolo/train/labels/2017-08-28_09-30-00-1_500_dirty_glass.mp4-bee_id_6941-21045-1.txt  \n",
            "  inflating: ./data-v2/yolo/train/labels/2017-08-28_09-30-00-1_500_dirty_glass.mp4-bee_id_6946-21135-1.txt  \n",
            "  inflating: ./data-v2/yolo/train/labels/2017-08-28_09-30-00-1_500_dirty_glass.mp4-bee_id_6947-21150-1.txt  \n",
            "  inflating: ./data-v2/yolo/train/labels/2017-08-28_09-30-00-1_500_dirty_glass.mp4-bee_id_6949-21240-1.txt  \n",
            "  inflating: ./data-v2/yolo/train/labels/2017-08-28_09-30-00-1_500_dirty_glass.mp4-bee_id_6954-21345-1.txt  \n",
            "  inflating: ./data-v2/yolo/train/labels/2017-08-28_09-30-00-1_500_dirty_glass.mp4-bee_id_6955-21360-1.txt  \n",
            "  inflating: ./data-v2/yolo/train/labels/2017-08-28_09-30-00-1_500_dirty_glass.mp4-bee_id_6959-21570-1.txt  \n",
            "  inflating: ./data-v2/yolo/train/labels/2017-08-28_09-30-00-1_500_dirty_glass.mp4-bee_id_6963-21690-1.txt  \n",
            "  inflating: ./data-v2/yolo/train/labels/2017-08-28_09-30-00-1_500_dirty_glass.mp4-bee_id_6965-21705-1.txt  \n",
            "  inflating: ./data-v2/yolo/train/labels/2017-08-28_09-30-00-1_500_dirty_glass.mp4-bee_id_6970-21855-1.txt  \n",
            "  inflating: ./data-v2/yolo/train/labels/2017-08-28_09-30-00-1_500_dirty_glass.mp4-bee_id_6973-21990-1.txt  \n",
            "  inflating: ./data-v2/yolo/train/labels/2017-08-28_09-30-00-1_500_dirty_glass.mp4-bee_id_6975-22005-1.txt  \n",
            "  inflating: ./data-v2/yolo/train/labels/2017-08-28_09-30-00-1_500_dirty_glass.mp4-bee_id_6976-22140-1.txt  \n",
            "  inflating: ./data-v2/yolo/train/labels/2017-08-28_09-30-00-1_500_dirty_glass.mp4-bee_id_6977-22140-1.txt  \n",
            "  inflating: ./data-v2/yolo/train/labels/2017-08-28_09-30-00-1_500_dirty_glass.mp4-bee_id_6978-22155-1.txt  \n",
            "  inflating: ./data-v2/yolo/train/labels/2017-08-28_09-30-00-1_500_dirty_glass.mp4-bee_id_6979-22155-1.txt  \n",
            "  inflating: ./data-v2/yolo/train/labels/2017-08-28_09-30-00-1_500_dirty_glass.mp4-bee_id_6980-22185-1.txt  \n",
            "  inflating: ./data-v2/yolo/train/labels/2017-08-28_09-30-00-1_500_dirty_glass.mp4-bee_id_6984-22290-1.txt  \n",
            "  inflating: ./data-v2/yolo/train/labels/2017-08-28_09-30-00-1_500_dirty_glass.mp4-bee_id_6985-22440-1.txt  \n",
            "  inflating: ./data-v2/yolo/train/labels/2017-08-28_09-30-00-1_500_dirty_glass.mp4-bee_id_6988-22500-1.txt  \n",
            "  inflating: ./data-v2/yolo/train/labels/2017-08-28_09-30-00-1_500_dirty_glass.mp4-bee_id_6990-22530-1.txt  \n",
            "  inflating: ./data-v2/yolo/train/labels/2017-08-28_09-30-00-1_500_dirty_glass.mp4-bee_id_6991-22530-1.txt  \n",
            "  inflating: ./data-v2/yolo/train/labels/2017-08-28_09-30-00-1_500_dirty_glass.mp4-bee_id_6992-22545-1.txt  \n",
            "  inflating: ./data-v2/yolo/train/labels/2017-08-28_09-30-00-1_500_dirty_glass.mp4-bee_id_6994-22560-1.txt  \n",
            "  inflating: ./data-v2/yolo/train/labels/2017-08-28_09-30-00-1_500_dirty_glass.mp4-bee_id_6998-22665-1.txt  \n",
            "  inflating: ./data-v2/yolo/train/labels/2017-08-28_09-30-00-1_500_dirty_glass.mp4-bee_id_6999-22680-1.txt  \n",
            "  inflating: ./data-v2/yolo/train/labels/2017-08-28_09-30-00-1_500_dirty_glass.mp4-bee_id_7002-22800-1.txt  \n",
            "  inflating: ./data-v2/yolo/train/labels/2017-08-28_09-30-00-1_500_dirty_glass.mp4-bee_id_7010-22980-1.txt  \n",
            "  inflating: ./data-v2/yolo/train/labels/2017-08-28_09-30-00-1_500_dirty_glass.mp4-bee_id_7011-22980-1.txt  \n",
            "  inflating: ./data-v2/yolo/train/labels/2017-08-28_09-30-00-1_500_dirty_glass.mp4-bee_id_7012-23085-1.txt  \n",
            "  inflating: ./data-v2/yolo/train/labels/2017-08-28_09-30-00-1_500_dirty_glass.mp4-bee_id_7014-23115-1.txt  \n",
            "  inflating: ./data-v2/yolo/train/labels/2017-08-28_09-30-00-1_500_dirty_glass.mp4-bee_id_7020-23565-1.txt  \n",
            "  inflating: ./data-v2/yolo/train/labels/2017-08-28_09-30-00-1_500_dirty_glass.mp4-bee_id_7021-23580-1.txt  \n",
            "  inflating: ./data-v2/yolo/train/labels/2017-08-28_09-30-00-1_500_dirty_glass.mp4-bee_id_7025-23745-1.txt  \n",
            "  inflating: ./data-v2/yolo/train/labels/2017-08-28_09-30-00-1_500_dirty_glass.mp4-bee_id_7026-23760-1.txt  \n",
            "  inflating: ./data-v2/yolo/train/labels/2017-08-28_09-30-00-1_500_dirty_glass.mp4-bee_id_7027-23775-1.txt  \n",
            "  inflating: ./data-v2/yolo/train/labels/2017-08-28_09-30-00-1_500_dirty_glass.mp4-bee_id_7028-23835-1.txt  \n",
            "  inflating: ./data-v2/yolo/train/labels/2017-08-28_09-30-00-1_500_dirty_glass.mp4-bee_id_7029-23850-1.txt  \n",
            "  inflating: ./data-v2/yolo/train/labels/2017-08-28_09-30-00-1_500_dirty_glass.mp4-bee_id_7030-23865-1.txt  \n",
            "  inflating: ./data-v2/yolo/train/labels/2017-08-28_09-30-00-1_500_dirty_glass.mp4-bee_id_7031-23880-1.txt  \n",
            "  inflating: ./data-v2/yolo/train/labels/2017-08-28_09-30-00-1_500_dirty_glass.mp4-bee_id_7032-23895-1.txt  \n",
            "  inflating: ./data-v2/yolo/train/labels/2017-08-28_09-30-00-1_500_dirty_glass.mp4-bee_id_7033-23970-1.txt  \n",
            "  inflating: ./data-v2/yolo/train/labels/2017-08-28_09-30-00-1_500_dirty_glass.mp4-bee_id_7038-24075-1.txt  \n",
            "  inflating: ./data-v2/yolo/train/labels/2017-08-28_09-30-00-1_500_dirty_glass.mp4-bee_id_7039-24105-1.txt  \n",
            "  inflating: ./data-v2/yolo/train/labels/2017-08-28_09-30-00-1_500_dirty_glass.mp4-bee_id_7040-27015-1.txt  \n",
            "  inflating: ./data-v2/yolo/train/labels/2017-08-28_09-30-00-1_500_dirty_glass.mp4-bee_id_7041-27675-1.txt  \n",
            "  inflating: ./data-v2/yolo/train/labels/2017-08-28_09-30-00-1_500_dirty_glass.mp4-bee_id_7049-28650-1.txt  \n",
            "  inflating: ./data-v2/yolo/train/labels/2017-08-28_09-30-00-1_500_dirty_glass.mp4-bee_id_7050-28665-1.txt  \n",
            "  inflating: ./data-v2/yolo/train/labels/2017-08-28_09-30-00-1_500_dirty_glass.mp4-bee_id_7054-28770-1.txt  \n",
            "  inflating: ./data-v2/yolo/train/labels/2017-08-28_09-30-00-1_500_dirty_glass.mp4-bee_id_7057-29010-1.txt  \n",
            "  inflating: ./data-v2/yolo/train/labels/2017-08-28_09-30-00-1_500_dirty_glass.mp4-bee_id_7059-29310-1.txt  \n",
            "  inflating: ./data-v2/yolo/train/labels/2017-08-28_09-30-00-1_500_dirty_glass.mp4-bee_id_7073-29985-1.txt  \n",
            "  inflating: ./data-v2/yolo/train/labels/2017-08-28_09-30-00-1_500_dirty_glass.mp4-bee_id_7075-30015-1.txt  \n",
            "  inflating: ./data-v2/yolo/train/labels/2017-08-28_09-30-00-1_500_dirty_glass.mp4-bee_id_7076-30120-1.txt  \n",
            "  inflating: ./data-v2/yolo/train/labels/2017-08-28_09-30-00-1_500_dirty_glass.mp4-bee_id_7080-30225-1.txt  \n",
            "  inflating: ./data-v2/yolo/train/labels/2017-08-28_09-30-00-1_500_dirty_glass.mp4-bee_id_7081-30240-1.txt  \n",
            "  inflating: ./data-v2/yolo/train/labels/2017-08-28_09-30-00-1_500_dirty_glass.mp4-bee_id_7083-30345-1.txt  \n",
            "  inflating: ./data-v2/yolo/train/labels/2017-08-28_09-30-00-1_500_dirty_glass.mp4-bee_id_7088-30750-1.txt  \n",
            "  inflating: ./data-v2/yolo/train/labels/2017-08-28_09-30-00-1_500_dirty_glass.mp4-bee_id_7089-30780-1.txt  \n",
            "  inflating: ./data-v2/yolo/train/labels/2017-08-28_09-30-00-1_500_dirty_glass.mp4-bee_id_7090-30795-1.txt  \n",
            "  inflating: ./data-v2/yolo/train/labels/2017-08-28_09-30-00-1_500_dirty_glass.mp4-bee_id_7092-30825-1.txt  \n",
            "  inflating: ./data-v2/yolo/train/labels/2017-08-28_09-30-00-1_500_dirty_glass.mp4-bee_id_7093-30885-1.txt  \n",
            "  inflating: ./data-v2/yolo/train/labels/2017-08-28_09-30-00-1_500_dirty_glass.mp4-bee_id_7094-30915-1.txt  \n",
            "  inflating: ./data-v2/yolo/train/labels/2017-08-28_09-30-00-1_500_dirty_glass.mp4-bee_id_7096-31110-1.txt  \n",
            "   creating: ./data-v2/yolo/val/\n",
            "   creating: ./data-v2/yolo/val/images/\n",
            "  inflating: ./data-v2/yolo/val/images/2017-08-28_16-32-55_30_sec.mp4-bee_id_6642-60-1.png  \n",
            "  inflating: ./data-v2/yolo/val/images/2017-08-28_16-32-55_30_sec.mp4-bee_id_6643-75-1.png  \n",
            "  inflating: ./data-v2/yolo/val/images/2017-08-28_16-32-55_30_sec.mp4-bee_id_6644-90-1.png  \n",
            "  inflating: ./data-v2/yolo/val/images/2017-08-28_16-32-55_30_sec.mp4-bee_id_6645-105-1.png  \n",
            "  inflating: ./data-v2/yolo/val/images/2017-08-28_16-32-55_30_sec.mp4-bee_id_6646-120-1.png  \n",
            "  inflating: ./data-v2/yolo/val/images/2017-08-28_16-32-55_30_sec.mp4-bee_id_6648-135-1.png  \n",
            "  inflating: ./data-v2/yolo/val/images/2017-08-28_16-32-55_30_sec.mp4-bee_id_6649-135-1.png  \n",
            "  inflating: ./data-v2/yolo/val/images/2017-08-28_16-32-55_30_sec.mp4-bee_id_6650-135-1.png  \n",
            "  inflating: ./data-v2/yolo/val/images/2017-08-28_16-32-55_30_sec.mp4-bee_id_6651-150-1.png  \n",
            "  inflating: ./data-v2/yolo/val/images/2017-08-28_16-32-55_30_sec.mp4-bee_id_6652-150-1.png  \n",
            "  inflating: ./data-v2/yolo/val/images/2017-08-28_16-32-55_30_sec.mp4-bee_id_6653-165-1.png  \n",
            "  inflating: ./data-v2/yolo/val/images/2017-08-28_16-32-55_30_sec.mp4-bee_id_6654-165-1.png  \n",
            "  inflating: ./data-v2/yolo/val/images/2017-08-28_16-32-55_30_sec.mp4-bee_id_6655-270-1.png  \n",
            "  inflating: ./data-v2/yolo/val/images/2017-08-28_16-32-55_30_sec.mp4-bee_id_6656-270-1.png  \n",
            "  inflating: ./data-v2/yolo/val/images/2017-08-28_16-32-55_30_sec.mp4-bee_id_6657-285-1.png  \n",
            "  inflating: ./data-v2/yolo/val/images/2017-08-28_16-32-55_30_sec.mp4-bee_id_6658-315-1.png  \n",
            "  inflating: ./data-v2/yolo/val/images/2017-08-28_16-32-55_30_sec.mp4-bee_id_6659-360-1.png  \n",
            "  inflating: ./data-v2/yolo/val/images/2017-08-28_16-32-55_30_sec.mp4-bee_id_6660-405-1.png  \n",
            "  inflating: ./data-v2/yolo/val/images/2017-08-28_16-32-55_30_sec.mp4-bee_id_6661-420-1.png  \n",
            "  inflating: ./data-v2/yolo/val/images/2017-08-28_16-32-55_30_sec.mp4-bee_id_6662-450-1.png  \n",
            "  inflating: ./data-v2/yolo/val/images/2017-08-28_16-32-55_30_sec.mp4-bee_id_6663-465-1.png  \n",
            "  inflating: ./data-v2/yolo/val/images/2017-08-28_16-32-55_30_sec.mp4-bee_id_6664-480-1.png  \n",
            "  inflating: ./data-v2/yolo/val/images/2017-08-28_16-32-55_30_sec.mp4-bee_id_6665-510-1.png  \n",
            "  inflating: ./data-v2/yolo/val/images/2017-08-28_16-32-55_30_sec.mp4-bee_id_6666-510-1.png  \n",
            "  inflating: ./data-v2/yolo/val/images/2017-08-28_16-32-55_30_sec.mp4-bee_id_6667-540-1.png  \n",
            "  inflating: ./data-v2/yolo/val/images/2017-08-28_16-32-55_30_sec.mp4-bee_id_6668-585-1.png  \n",
            "  inflating: ./data-v2/yolo/val/images/2017-08-28_16-32-55_30_sec.mp4-bee_id_6669-600-1.png  \n",
            "  inflating: ./data-v2/yolo/val/images/2017-08-28_16-32-55_30_sec.mp4-bee_id_6670-600-1.png  \n",
            "  inflating: ./data-v2/yolo/val/images/2017-08-28_16-32-55_30_sec.mp4-bee_id_6671-615-1.png  \n",
            "  inflating: ./data-v2/yolo/val/images/2017-08-28_16-32-55_30_sec.mp4-bee_id_6672-630-1.png  \n",
            "  inflating: ./data-v2/yolo/val/images/2017-08-28_16-32-55_30_sec.mp4-bee_id_6673-645-1.png  \n",
            "  inflating: ./data-v2/yolo/val/images/2017-08-28_16-32-55_30_sec.mp4-bee_id_6674-645-1.png  \n",
            "  inflating: ./data-v2/yolo/val/images/2017-08-28_16-32-55_30_sec.mp4-bee_id_6675-645-1.png  \n",
            "  inflating: ./data-v2/yolo/val/images/2017-08-28_16-32-55_30_sec.mp4-bee_id_6676-660-1.png  \n",
            "  inflating: ./data-v2/yolo/val/images/2017-08-28_16-32-55_30_sec.mp4-bee_id_6677-660-1.png  \n",
            "  inflating: ./data-v2/yolo/val/images/2017-08-28_16-32-55_30_sec.mp4-bee_id_6678-705-1.png  \n",
            "  inflating: ./data-v2/yolo/val/images/2017-08-28_16-32-55_30_sec.mp4-bee_id_6679-705-1.png  \n",
            "  inflating: ./data-v2/yolo/val/images/2017-08-28_16-32-55_30_sec.mp4-bee_id_6680-795-1.png  \n",
            "  inflating: ./data-v2/yolo/val/images/2017-08-28_16-32-55_30_sec.mp4-bee_id_6681-795-1.png  \n",
            "  inflating: ./data-v2/yolo/val/images/2017-08-28_16-32-55_30_sec.mp4-bee_id_6682-825-1.png  \n",
            "  inflating: ./data-v2/yolo/val/images/2017-08-28_16-32-55_30_sec.mp4-bee_id_6683-870-1.png  \n",
            "  inflating: ./data-v2/yolo/val/images/2017-08-28_16-32-55_30_sec.mp4-bee_id_6684-870-1.png  \n",
            "  inflating: ./data-v2/yolo/val/images/2017-08-28_16-32-55_30_sec.mp4-bee_id_6685-885-1.png  \n",
            "  inflating: ./data-v2/yolo/val/images/2017-08-28_16-32-55_30_sec.mp4-bee_id_6686-900-1.png  \n",
            "  inflating: ./data-v2/yolo/val/images/2017-08-28_16-32-55_30_sec.mp4-bee_id_6687-915-1.png  \n",
            "  inflating: ./data-v2/yolo/val/images/2017-08-28_16-32-55_30_sec.mp4-bee_id_6688-915-1.png  \n",
            "  inflating: ./data-v2/yolo/val/images/2017-08-28_16-32-55_30_sec.mp4-bee_id_6689-930-1.png  \n",
            "  inflating: ./data-v2/yolo/val/images/2017-08-28_16-32-55_30_sec.mp4-bee_id_6690-930-1.png  \n",
            "  inflating: ./data-v2/yolo/val/images/2017-08-28_16-32-55_30_sec.mp4-bee_id_6691-930-1.png  \n",
            "  inflating: ./data-v2/yolo/val/images/2017-08-28_16-32-55_30_sec.mp4-bee_id_6692-945-1.png  \n",
            "  inflating: ./data-v2/yolo/val/images/2017-08-28_16-32-55_30_sec.mp4-bee_id_6693-960-1.png  \n",
            "  inflating: ./data-v2/yolo/val/images/2017-08-28_16-32-55_30_sec.mp4-bee_id_6694-975-1.png  \n",
            "  inflating: ./data-v2/yolo/val/images/2017-09-01_3-01-01.mp4-bee_id_2239-15-1.png  \n",
            "  inflating: ./data-v2/yolo/val/images/2017-09-01_3-01-01.mp4-bee_id_2241-8325-1.png  \n",
            "  inflating: ./data-v2/yolo/val/images/2017-09-01_3-01-01.mp4-bee_id_2242-9195-1.png  \n",
            "  inflating: ./data-v2/yolo/val/images/2017-09-01_3-01-01.mp4-bee_id_2243-13860-1.png  \n",
            "  inflating: ./data-v2/yolo/val/images/2017-09-01_3-01-01.mp4-bee_id_2244-18225-1.png  \n",
            "  inflating: ./data-v2/yolo/val/images/2017-09-01_3-01-01.mp4-bee_id_2245-18300-1.png  \n",
            "  inflating: ./data-v2/yolo/val/images/2017-09-01_3-01-01.mp4-bee_id_2246-18495-1.png  \n",
            "  inflating: ./data-v2/yolo/val/images/2017-09-01_3-01-01.mp4-bee_id_2247-18495-1.png  \n",
            "  inflating: ./data-v2/yolo/val/images/2017-09-01_3-01-01.mp4-bee_id_2248-19560-1.png  \n",
            "  inflating: ./data-v2/yolo/val/images/2017-09-01_3-01-01.mp4-bee_id_2249-19830-1.png  \n",
            "  inflating: ./data-v2/yolo/val/images/2017-09-01_3-01-01.mp4-bee_id_2250-20280-1.png  \n",
            "  inflating: ./data-v2/yolo/val/images/2017-09-01_3-01-01.mp4-bee_id_2251-21180-1.png  \n",
            "  inflating: ./data-v2/yolo/val/images/2017-09-01_3-01-01.mp4-bee_id_2252-21495-1.png  \n",
            "  inflating: ./data-v2/yolo/val/images/2017-09-01_3-01-01.mp4-bee_id_2253-22230-1.png  \n",
            "  inflating: ./data-v2/yolo/val/images/2017-09-01_3-01-01.mp4-bee_id_2254-29940-1.png  \n",
            "  inflating: ./data-v2/yolo/val/images/2017-09-01_3-01-01.mp4-bee_id_2255-29940-1.png  \n",
            "  inflating: ./data-v2/yolo/val/images/2017-09-01_3-01-01.mp4-bee_id_2256-30015-1.png  \n",
            "  inflating: ./data-v2/yolo/val/images/2017-09-01_3-01-01.mp4-bee_id_2257-42300-1.png  \n",
            "  inflating: ./data-v2/yolo/val/images/2017-09-01_3-01-01.mp4-bee_id_2259-43095-1.png  \n",
            "  inflating: ./data-v2/yolo/val/images/2017-09-01_3-01-01.mp4-bee_id_2260-43290-1.png  \n",
            "  inflating: ./data-v2/yolo/val/images/2017-09-01_3-01-01.mp4-bee_id_2261-43380-1.png  \n",
            "  inflating: ./data-v2/yolo/val/images/2017-09-01_3-01-01.mp4-bee_id_2262-43545-1.png  \n",
            "  inflating: ./data-v2/yolo/val/images/2017-09-01_3-01-01.mp4-bee_id_2263-44115-1.png  \n",
            "  inflating: ./data-v2/yolo/val/images/2017-09-01_3-01-01.mp4-bee_id_2264-44115-1.png  \n",
            "  inflating: ./data-v2/yolo/val/images/2017-09-01_3-01-01.mp4-bee_id_2266-44235-1.png  \n",
            "  inflating: ./data-v2/yolo/val/images/2017-09-01_3-01-01.mp4-bee_id_2267-44580-1.png  \n",
            "  inflating: ./data-v2/yolo/val/images/2017-09-01_3-01-01.mp4-bee_id_2268-44820-1.png  \n",
            "  inflating: ./data-v2/yolo/val/images/2017-09-01_3-01-01.mp4-bee_id_2269-45045-1.png  \n",
            "  inflating: ./data-v2/yolo/val/images/2017-09-01_3-01-01.mp4-bee_id_2270-45465-1.png  \n",
            "  inflating: ./data-v2/yolo/val/images/2017-09-01_3-01-01.mp4-bee_id_2271-46020-1.png  \n",
            "  inflating: ./data-v2/yolo/val/images/2017-09-01_3-01-01.mp4-bee_id_2272-46020-1.png  \n",
            "  inflating: ./data-v2/yolo/val/images/2017-09-01_3-01-01.mp4-bee_id_2273-46230-1.png  \n",
            "  inflating: ./data-v2/yolo/val/images/2017-09-01_3-01-01.mp4-bee_id_2274-46350-1.png  \n",
            "  inflating: ./data-v2/yolo/val/images/2017-09-01_3-01-01.mp4-bee_id_2275-46440-1.png  \n",
            "  inflating: ./data-v2/yolo/val/images/2017-09-01_3-01-01.mp4-bee_id_2276-46500-1.png  \n",
            "  inflating: ./data-v2/yolo/val/images/2017-09-01_3-01-01.mp4-bee_id_2277-46725-1.png  \n",
            "  inflating: ./data-v2/yolo/val/images/2017-09-01_3-01-01.mp4-bee_id_2278-46890-1.png  \n",
            "  inflating: ./data-v2/yolo/val/images/2017-09-01_3-01-01.mp4-bee_id_2279-47115-1.png  \n",
            "  inflating: ./data-v2/yolo/val/images/2017-09-01_3-01-01.mp4-bee_id_2280-47175-1.png  \n",
            "  inflating: ./data-v2/yolo/val/images/2017-09-01_3-01-01.mp4-bee_id_2281-47220-1.png  \n",
            "  inflating: ./data-v2/yolo/val/images/2017-09-01_3-01-01.mp4-bee_id_2282-47235-1.png  \n",
            "  inflating: ./data-v2/yolo/val/images/2017-09-01_3-01-01.mp4-bee_id_2283-47325-1.png  \n",
            "  inflating: ./data-v2/yolo/val/images/2017-09-01_3-01-01.mp4-bee_id_2284-47385-1.png  \n",
            "  inflating: ./data-v2/yolo/val/images/2017-09-01_3-01-01.mp4-bee_id_2285-47580-1.png  \n",
            "  inflating: ./data-v2/yolo/val/images/2017-09-01_3-01-01.mp4-bee_id_2286-47775-1.png  \n",
            "  inflating: ./data-v2/yolo/val/images/2017-09-01_3-01-01.mp4-bee_id_2287-47805-1.png  \n",
            "  inflating: ./data-v2/yolo/val/images/2017-09-01_3-01-01.mp4-bee_id_2288-47940-1.png  \n",
            "  inflating: ./data-v2/yolo/val/images/2017-09-01_3-01-01.mp4-bee_id_2289-47955-1.png  \n",
            "  inflating: ./data-v2/yolo/val/images/2017-09-01_3-01-01.mp4-bee_id_2290-48060-1.png  \n",
            "  inflating: ./data-v2/yolo/val/images/2017-09-01_3-01-01.mp4-bee_id_2291-48075-1.png  \n",
            "  inflating: ./data-v2/yolo/val/images/2017-09-01_3-01-01.mp4-bee_id_2292-48090-1.png  \n",
            "  inflating: ./data-v2/yolo/val/images/2017-09-01_3-01-01.mp4-bee_id_2293-48105-1.png  \n",
            "  inflating: ./data-v2/yolo/val/images/2017-09-01_3-01-01.mp4-bee_id_2294-48135-1.png  \n",
            "  inflating: ./data-v2/yolo/val/images/2017-09-01_3-01-01.mp4-bee_id_2295-48750-1.png  \n",
            "  inflating: ./data-v2/yolo/val/images/2017-09-01_3-01-01.mp4-bee_id_2296-48810-1.png  \n",
            "  inflating: ./data-v2/yolo/val/images/2017-09-01_3-01-01.mp4-bee_id_2297-48840-1.png  \n",
            "  inflating: ./data-v2/yolo/val/images/2017-09-01_3-01-01.mp4-bee_id_2298-48870-1.png  \n",
            "  inflating: ./data-v2/yolo/val/images/2017-09-01_3-01-01.mp4-bee_id_2299-48915-1.png  \n",
            "  inflating: ./data-v2/yolo/val/images/2017-09-01_3-01-01.mp4-bee_id_2300-48975-1.png  \n",
            "  inflating: ./data-v2/yolo/val/images/2017-09-01_3-01-01.mp4-bee_id_2301-48990-1.png  \n",
            "  inflating: ./data-v2/yolo/val/images/2017-09-01_3-01-01.mp4-bee_id_2302-49020-1.png  \n",
            "  inflating: ./data-v2/yolo/val/images/2017-09-01_3-01-01.mp4-bee_id_2303-49035-1.png  \n",
            "  inflating: ./data-v2/yolo/val/images/2017-09-01_3-01-01.mp4-bee_id_2304-49050-1.png  \n",
            "  inflating: ./data-v2/yolo/val/images/2017-09-01_3-01-01.mp4-bee_id_2305-49080-1.png  \n",
            "  inflating: ./data-v2/yolo/val/images/2017-09-01_3-01-01.mp4-bee_id_2306-49185-1.png  \n",
            "  inflating: ./data-v2/yolo/val/images/2017-09-01_3-01-01.mp4-bee_id_2307-49215-1.png  \n",
            "  inflating: ./data-v2/yolo/val/images/2017-09-01_3-01-01.mp4-bee_id_2308-49230-1.png  \n",
            "  inflating: ./data-v2/yolo/val/images/2017-09-01_3-01-01.mp4-bee_id_2309-49395-1.png  \n",
            "  inflating: ./data-v2/yolo/val/images/2017-09-01_3-01-01.mp4-bee_id_2310-49410-1.png  \n",
            "  inflating: ./data-v2/yolo/val/images/2017-09-01_3-01-01.mp4-bee_id_2311-49470-1.png  \n",
            "  inflating: ./data-v2/yolo/val/images/2017-09-01_3-01-01.mp4-bee_id_2312-49500-1.png  \n",
            "  inflating: ./data-v2/yolo/val/images/2017-09-01_3-01-01.mp4-bee_id_2313-49515-1.png  \n",
            "  inflating: ./data-v2/yolo/val/images/2017-09-01_3-01-01.mp4-bee_id_2314-49530-1.png  \n",
            "  inflating: ./data-v2/yolo/val/images/2017-09-01_3-01-01.mp4-bee_id_2315-49635-1.png  \n",
            "  inflating: ./data-v2/yolo/val/images/2017-09-01_3-01-01.mp4-bee_id_2316-49710-1.png  \n",
            "  inflating: ./data-v2/yolo/val/images/2017-09-01_3-01-01.mp4-bee_id_2317-49725-1.png  \n",
            "  inflating: ./data-v2/yolo/val/images/2017-09-01_3-01-01.mp4-bee_id_2318-49740-1.png  \n",
            "  inflating: ./data-v2/yolo/val/images/2017-09-01_3-01-01.mp4-bee_id_2319-49830-1.png  \n",
            "  inflating: ./data-v2/yolo/val/images/2017-09-01_3-01-01.mp4-bee_id_2320-49890-1.png  \n",
            "  inflating: ./data-v2/yolo/val/images/2017-09-01_3-01-01.mp4-bee_id_2321-49905-1.png  \n",
            "  inflating: ./data-v2/yolo/val/images/2017-09-01_3-01-01.mp4-bee_id_2322-50085-1.png  \n",
            "  inflating: ./data-v2/yolo/val/images/2017-09-01_3-01-01.mp4-bee_id_2323-50100-1.png  \n",
            "  inflating: ./data-v2/yolo/val/images/2017-09-01_3-01-01.mp4-bee_id_2324-50115-1.png  \n",
            "  inflating: ./data-v2/yolo/val/images/2017-09-01_3-01-01.mp4-bee_id_2325-50145-1.png  \n",
            "  inflating: ./data-v2/yolo/val/images/2017-09-01_3-01-01.mp4-bee_id_2326-50160-1.png  \n",
            "  inflating: ./data-v2/yolo/val/images/2017-09-01_3-01-01.mp4-bee_id_2327-50220-1.png  \n",
            "  inflating: ./data-v2/yolo/val/images/2017-09-01_3-01-01.mp4-bee_id_2328-50280-1.png  \n",
            "  inflating: ./data-v2/yolo/val/images/2017-09-01_3-01-01.mp4-bee_id_2329-50400-1.png  \n",
            "   creating: ./data-v2/yolo/val/labels/\n",
            "  inflating: ./data-v2/yolo/val/labels/2017-08-28_16-32-55_30_sec.mp4-bee_id_6642-60-1.txt  \n",
            "  inflating: ./data-v2/yolo/val/labels/2017-08-28_16-32-55_30_sec.mp4-bee_id_6643-75-1.txt  \n",
            "  inflating: ./data-v2/yolo/val/labels/2017-08-28_16-32-55_30_sec.mp4-bee_id_6644-90-1.txt  \n",
            "  inflating: ./data-v2/yolo/val/labels/2017-08-28_16-32-55_30_sec.mp4-bee_id_6650-135-1.txt  \n",
            "  inflating: ./data-v2/yolo/val/labels/2017-08-28_16-32-55_30_sec.mp4-bee_id_6651-150-1.txt  \n",
            "  inflating: ./data-v2/yolo/val/labels/2017-08-28_16-32-55_30_sec.mp4-bee_id_6653-165-1.txt  \n",
            "  inflating: ./data-v2/yolo/val/labels/2017-08-28_16-32-55_30_sec.mp4-bee_id_6654-165-1.txt  \n",
            "  inflating: ./data-v2/yolo/val/labels/2017-08-28_16-32-55_30_sec.mp4-bee_id_6655-270-1.txt  \n",
            "  inflating: ./data-v2/yolo/val/labels/2017-08-28_16-32-55_30_sec.mp4-bee_id_6656-270-1.txt  \n",
            "  inflating: ./data-v2/yolo/val/labels/2017-08-28_16-32-55_30_sec.mp4-bee_id_6658-315-1.txt  \n",
            "  inflating: ./data-v2/yolo/val/labels/2017-08-28_16-32-55_30_sec.mp4-bee_id_6660-405-1.txt  \n",
            "  inflating: ./data-v2/yolo/val/labels/2017-08-28_16-32-55_30_sec.mp4-bee_id_6661-420-1.txt  \n",
            "  inflating: ./data-v2/yolo/val/labels/2017-08-28_16-32-55_30_sec.mp4-bee_id_6662-450-1.txt  \n",
            "  inflating: ./data-v2/yolo/val/labels/2017-08-28_16-32-55_30_sec.mp4-bee_id_6663-465-1.txt  \n",
            "  inflating: ./data-v2/yolo/val/labels/2017-08-28_16-32-55_30_sec.mp4-bee_id_6666-510-1.txt  \n",
            "  inflating: ./data-v2/yolo/val/labels/2017-08-28_16-32-55_30_sec.mp4-bee_id_6667-540-1.txt  \n",
            "  inflating: ./data-v2/yolo/val/labels/2017-08-28_16-32-55_30_sec.mp4-bee_id_6670-600-1.txt  \n",
            "  inflating: ./data-v2/yolo/val/labels/2017-08-28_16-32-55_30_sec.mp4-bee_id_6671-615-1.txt  \n",
            "  inflating: ./data-v2/yolo/val/labels/2017-08-28_16-32-55_30_sec.mp4-bee_id_6672-630-1.txt  \n",
            "  inflating: ./data-v2/yolo/val/labels/2017-08-28_16-32-55_30_sec.mp4-bee_id_6673-645-1.txt  \n",
            "  inflating: ./data-v2/yolo/val/labels/2017-08-28_16-32-55_30_sec.mp4-bee_id_6674-645-1.txt  \n",
            "  inflating: ./data-v2/yolo/val/labels/2017-08-28_16-32-55_30_sec.mp4-bee_id_6675-645-1.txt  \n",
            "  inflating: ./data-v2/yolo/val/labels/2017-08-28_16-32-55_30_sec.mp4-bee_id_6677-660-1.txt  \n",
            "  inflating: ./data-v2/yolo/val/labels/2017-08-28_16-32-55_30_sec.mp4-bee_id_6679-705-1.txt  \n",
            "  inflating: ./data-v2/yolo/val/labels/2017-08-28_16-32-55_30_sec.mp4-bee_id_6681-795-1.txt  \n",
            "  inflating: ./data-v2/yolo/val/labels/2017-08-28_16-32-55_30_sec.mp4-bee_id_6682-825-1.txt  \n",
            "  inflating: ./data-v2/yolo/val/labels/2017-08-28_16-32-55_30_sec.mp4-bee_id_6683-870-1.txt  \n",
            "  inflating: ./data-v2/yolo/val/labels/2017-08-28_16-32-55_30_sec.mp4-bee_id_6686-900-1.txt  \n",
            "  inflating: ./data-v2/yolo/val/labels/2017-08-28_16-32-55_30_sec.mp4-bee_id_6687-915-1.txt  \n",
            "  inflating: ./data-v2/yolo/val/labels/2017-08-28_16-32-55_30_sec.mp4-bee_id_6690-930-1.txt  \n",
            "  inflating: ./data-v2/yolo/val/labels/2017-08-28_16-32-55_30_sec.mp4-bee_id_6694-975-1.txt  \n",
            "  inflating: ./data-v2/yolo/val/labels/2017-09-01_3-01-01.mp4-bee_id_2239-15-1.txt  \n",
            "  inflating: ./data-v2/yolo/val/labels/2017-09-01_3-01-01.mp4-bee_id_2241-8325-1.txt  \n",
            "  inflating: ./data-v2/yolo/val/labels/2017-09-01_3-01-01.mp4-bee_id_2242-9195-1.txt  \n",
            "  inflating: ./data-v2/yolo/val/labels/2017-09-01_3-01-01.mp4-bee_id_2243-13860-1.txt  \n",
            "  inflating: ./data-v2/yolo/val/labels/2017-09-01_3-01-01.mp4-bee_id_2245-18300-1.txt  \n",
            "  inflating: ./data-v2/yolo/val/labels/2017-09-01_3-01-01.mp4-bee_id_2247-18495-1.txt  \n",
            "  inflating: ./data-v2/yolo/val/labels/2017-09-01_3-01-01.mp4-bee_id_2248-19560-1.txt  \n",
            "  inflating: ./data-v2/yolo/val/labels/2017-09-01_3-01-01.mp4-bee_id_2249-19830-1.txt  \n",
            "  inflating: ./data-v2/yolo/val/labels/2017-09-01_3-01-01.mp4-bee_id_2250-20280-1.txt  \n",
            "  inflating: ./data-v2/yolo/val/labels/2017-09-01_3-01-01.mp4-bee_id_2251-21180-1.txt  \n",
            "  inflating: ./data-v2/yolo/val/labels/2017-09-01_3-01-01.mp4-bee_id_2252-21495-1.txt  \n",
            "  inflating: ./data-v2/yolo/val/labels/2017-09-01_3-01-01.mp4-bee_id_2253-22230-1.txt  \n",
            "  inflating: ./data-v2/yolo/val/labels/2017-09-01_3-01-01.mp4-bee_id_2256-30015-1.txt  \n",
            "  inflating: ./data-v2/yolo/val/labels/2017-09-01_3-01-01.mp4-bee_id_2257-42300-1.txt  \n",
            "  inflating: ./data-v2/yolo/val/labels/2017-09-01_3-01-01.mp4-bee_id_2259-43095-1.txt  \n",
            "  inflating: ./data-v2/yolo/val/labels/2017-09-01_3-01-01.mp4-bee_id_2260-43290-1.txt  \n",
            "  inflating: ./data-v2/yolo/val/labels/2017-09-01_3-01-01.mp4-bee_id_2261-43380-1.txt  \n",
            "  inflating: ./data-v2/yolo/val/labels/2017-09-01_3-01-01.mp4-bee_id_2262-43545-1.txt  \n",
            "  inflating: ./data-v2/yolo/val/labels/2017-09-01_3-01-01.mp4-bee_id_2266-44235-1.txt  \n",
            "  inflating: ./data-v2/yolo/val/labels/2017-09-01_3-01-01.mp4-bee_id_2267-44580-1.txt  \n",
            "  inflating: ./data-v2/yolo/val/labels/2017-09-01_3-01-01.mp4-bee_id_2268-44820-1.txt  \n",
            "  inflating: ./data-v2/yolo/val/labels/2017-09-01_3-01-01.mp4-bee_id_2269-45045-1.txt  \n",
            "  inflating: ./data-v2/yolo/val/labels/2017-09-01_3-01-01.mp4-bee_id_2270-45465-1.txt  \n",
            "  inflating: ./data-v2/yolo/val/labels/2017-09-01_3-01-01.mp4-bee_id_2271-46020-1.txt  \n",
            "  inflating: ./data-v2/yolo/val/labels/2017-09-01_3-01-01.mp4-bee_id_2272-46020-1.txt  \n",
            "  inflating: ./data-v2/yolo/val/labels/2017-09-01_3-01-01.mp4-bee_id_2273-46230-1.txt  \n",
            "  inflating: ./data-v2/yolo/val/labels/2017-09-01_3-01-01.mp4-bee_id_2274-46350-1.txt  \n",
            "  inflating: ./data-v2/yolo/val/labels/2017-09-01_3-01-01.mp4-bee_id_2275-46440-1.txt  \n",
            "  inflating: ./data-v2/yolo/val/labels/2017-09-01_3-01-01.mp4-bee_id_2276-46500-1.txt  \n",
            "  inflating: ./data-v2/yolo/val/labels/2017-09-01_3-01-01.mp4-bee_id_2277-46725-1.txt  \n",
            "  inflating: ./data-v2/yolo/val/labels/2017-09-01_3-01-01.mp4-bee_id_2278-46890-1.txt  \n",
            "  inflating: ./data-v2/yolo/val/labels/2017-09-01_3-01-01.mp4-bee_id_2279-47115-1.txt  \n",
            "  inflating: ./data-v2/yolo/val/labels/2017-09-01_3-01-01.mp4-bee_id_2280-47175-1.txt  \n",
            "  inflating: ./data-v2/yolo/val/labels/2017-09-01_3-01-01.mp4-bee_id_2282-47235-1.txt  \n",
            "  inflating: ./data-v2/yolo/val/labels/2017-09-01_3-01-01.mp4-bee_id_2283-47325-1.txt  \n",
            "  inflating: ./data-v2/yolo/val/labels/2017-09-01_3-01-01.mp4-bee_id_2284-47385-1.txt  \n",
            "  inflating: ./data-v2/yolo/val/labels/2017-09-01_3-01-01.mp4-bee_id_2285-47580-1.txt  \n",
            "  inflating: ./data-v2/yolo/val/labels/2017-09-01_3-01-01.mp4-bee_id_2286-47775-1.txt  \n",
            "  inflating: ./data-v2/yolo/val/labels/2017-09-01_3-01-01.mp4-bee_id_2287-47805-1.txt  \n",
            "  inflating: ./data-v2/yolo/val/labels/2017-09-01_3-01-01.mp4-bee_id_2289-47955-1.txt  \n",
            "  inflating: ./data-v2/yolo/val/labels/2017-09-01_3-01-01.mp4-bee_id_2290-48060-1.txt  \n",
            "  inflating: ./data-v2/yolo/val/labels/2017-09-01_3-01-01.mp4-bee_id_2291-48075-1.txt  \n",
            "  inflating: ./data-v2/yolo/val/labels/2017-09-01_3-01-01.mp4-bee_id_2292-48090-1.txt  \n",
            "  inflating: ./data-v2/yolo/val/labels/2017-09-01_3-01-01.mp4-bee_id_2293-48105-1.txt  \n",
            "  inflating: ./data-v2/yolo/val/labels/2017-09-01_3-01-01.mp4-bee_id_2294-48135-1.txt  \n",
            "  inflating: ./data-v2/yolo/val/labels/2017-09-01_3-01-01.mp4-bee_id_2295-48750-1.txt  \n",
            "  inflating: ./data-v2/yolo/val/labels/2017-09-01_3-01-01.mp4-bee_id_2296-48810-1.txt  \n",
            "  inflating: ./data-v2/yolo/val/labels/2017-09-01_3-01-01.mp4-bee_id_2297-48840-1.txt  \n",
            "  inflating: ./data-v2/yolo/val/labels/2017-09-01_3-01-01.mp4-bee_id_2298-48870-1.txt  \n",
            "  inflating: ./data-v2/yolo/val/labels/2017-09-01_3-01-01.mp4-bee_id_2299-48915-1.txt  \n",
            "  inflating: ./data-v2/yolo/val/labels/2017-09-01_3-01-01.mp4-bee_id_2300-48975-1.txt  \n",
            "  inflating: ./data-v2/yolo/val/labels/2017-09-01_3-01-01.mp4-bee_id_2301-48990-1.txt  \n",
            "  inflating: ./data-v2/yolo/val/labels/2017-09-01_3-01-01.mp4-bee_id_2302-49020-1.txt  \n",
            "  inflating: ./data-v2/yolo/val/labels/2017-09-01_3-01-01.mp4-bee_id_2303-49035-1.txt  \n",
            "  inflating: ./data-v2/yolo/val/labels/2017-09-01_3-01-01.mp4-bee_id_2304-49050-1.txt  \n",
            "  inflating: ./data-v2/yolo/val/labels/2017-09-01_3-01-01.mp4-bee_id_2305-49080-1.txt  \n",
            "  inflating: ./data-v2/yolo/val/labels/2017-09-01_3-01-01.mp4-bee_id_2306-49185-1.txt  \n",
            "  inflating: ./data-v2/yolo/val/labels/2017-09-01_3-01-01.mp4-bee_id_2307-49215-1.txt  \n",
            "  inflating: ./data-v2/yolo/val/labels/2017-09-01_3-01-01.mp4-bee_id_2308-49230-1.txt  \n",
            "  inflating: ./data-v2/yolo/val/labels/2017-09-01_3-01-01.mp4-bee_id_2309-49395-1.txt  \n",
            "  inflating: ./data-v2/yolo/val/labels/2017-09-01_3-01-01.mp4-bee_id_2310-49410-1.txt  \n",
            "  inflating: ./data-v2/yolo/val/labels/2017-09-01_3-01-01.mp4-bee_id_2311-49470-1.txt  \n",
            "  inflating: ./data-v2/yolo/val/labels/2017-09-01_3-01-01.mp4-bee_id_2312-49500-1.txt  \n",
            "  inflating: ./data-v2/yolo/val/labels/2017-09-01_3-01-01.mp4-bee_id_2313-49515-1.txt  \n",
            "  inflating: ./data-v2/yolo/val/labels/2017-09-01_3-01-01.mp4-bee_id_2314-49530-1.txt  \n",
            "  inflating: ./data-v2/yolo/val/labels/2017-09-01_3-01-01.mp4-bee_id_2315-49635-1.txt  \n",
            "  inflating: ./data-v2/yolo/val/labels/2017-09-01_3-01-01.mp4-bee_id_2316-49710-1.txt  \n",
            "  inflating: ./data-v2/yolo/val/labels/2017-09-01_3-01-01.mp4-bee_id_2317-49725-1.txt  \n",
            "  inflating: ./data-v2/yolo/val/labels/2017-09-01_3-01-01.mp4-bee_id_2318-49740-1.txt  \n",
            "  inflating: ./data-v2/yolo/val/labels/2017-09-01_3-01-01.mp4-bee_id_2319-49830-1.txt  \n",
            "  inflating: ./data-v2/yolo/val/labels/2017-09-01_3-01-01.mp4-bee_id_2320-49890-1.txt  \n",
            "  inflating: ./data-v2/yolo/val/labels/2017-09-01_3-01-01.mp4-bee_id_2321-49905-1.txt  \n",
            "  inflating: ./data-v2/yolo/val/labels/2017-09-01_3-01-01.mp4-bee_id_2322-50085-1.txt  \n",
            "  inflating: ./data-v2/yolo/val/labels/2017-09-01_3-01-01.mp4-bee_id_2323-50100-1.txt  \n",
            "  inflating: ./data-v2/yolo/val/labels/2017-09-01_3-01-01.mp4-bee_id_2324-50115-1.txt  \n",
            "  inflating: ./data-v2/yolo/val/labels/2017-09-01_3-01-01.mp4-bee_id_2325-50145-1.txt  \n",
            "  inflating: ./data-v2/yolo/val/labels/2017-09-01_3-01-01.mp4-bee_id_2326-50160-1.txt  \n",
            "  inflating: ./data-v2/yolo/val/labels/2017-09-01_3-01-01.mp4-bee_id_2327-50220-1.txt  \n",
            "  inflating: ./data-v2/yolo/val/labels/2017-09-01_3-01-01.mp4-bee_id_2328-50280-1.txt  \n",
            "  inflating: ./data-v2/yolo/val/labels/2017-09-01_3-01-01.mp4-bee_id_2329-50400-1.txt  \n"
          ]
        }
      ],
      "source": [
        "!unzip \"/content/drive/MyDrive/Dataset/yolo-v2.zip\" -d ./data-v2/"
      ]
    },
    {
      "cell_type": "code",
      "execution_count": null,
      "metadata": {
        "colab": {
          "base_uri": "https://localhost:8080/"
        },
        "collapsed": true,
        "id": "JtMDKwi3aU7j",
        "outputId": "b763e7db-0211-48db-d17a-28b2d6d0ebd9"
      },
      "outputs": [
        {
          "output_type": "stream",
          "name": "stdout",
          "text": [
            "Downloading https://github.com/ultralytics/assets/releases/download/v8.3.0/yolov8m.pt to 'yolov8m.pt'...\n"
          ]
        },
        {
          "output_type": "stream",
          "name": "stderr",
          "text": [
            "100%|██████████| 49.7M/49.7M [00:00<00:00, 252MB/s]\n"
          ]
        },
        {
          "output_type": "stream",
          "name": "stdout",
          "text": [
            "Ultralytics 8.3.150 🚀 Python-3.11.12 torch-2.6.0+cu124 CUDA:0 (Tesla T4, 15095MiB)\n",
            "\u001b[34m\u001b[1mengine/trainer: \u001b[0magnostic_nms=False, amp=True, augment=True, auto_augment=randaugment, batch=32, bgr=0.0, box=7.5, cache=False, cfg=None, classes=None, close_mosaic=10, cls=0.5, conf=None, copy_paste=0.0, copy_paste_mode=flip, cos_lr=False, cutmix=0.0, data=/content/drive/MyDrive/Dataset/data-v2.yml, degrees=0.0, deterministic=True, device=None, dfl=1.5, dnn=False, dropout=0.2, dynamic=False, embed=None, epochs=100, erasing=0.4, exist_ok=False, fliplr=0.5, flipud=0.0, format=torchscript, fraction=1.0, freeze=None, half=False, hsv_h=0.015, hsv_s=0.7, hsv_v=0.4, imgsz=640, int8=False, iou=0.7, keras=False, kobj=1.0, line_width=None, lr0=0.01, lrf=0.01, mask_ratio=4, max_det=300, mixup=0.0, mode=train, model=yolov8m.pt, momentum=0.937, mosaic=0.8, multi_scale=False, name=train2, nbs=64, nms=False, opset=None, optimize=False, optimizer=auto, overlap_mask=True, patience=100, perspective=0.0, plots=True, pose=12.0, pretrained=True, profile=False, project=None, rect=False, resume=False, retina_masks=False, save=True, save_conf=False, save_crop=False, save_dir=runs/detect/train2, save_frames=False, save_json=False, save_period=-1, save_txt=False, scale=0.5, seed=0, shear=0.0, show=False, show_boxes=True, show_conf=True, show_labels=True, simplify=True, single_cls=False, source=None, split=val, stream_buffer=False, task=detect, time=None, tracker=botsort.yaml, translate=0.1, val=True, verbose=True, vid_stride=1, visualize=False, warmup_bias_lr=0.1, warmup_epochs=3.0, warmup_momentum=0.8, weight_decay=0.0005, workers=8, workspace=None\n",
            "Overriding model.yaml nc=80 with nc=2\n",
            "\n",
            "                   from  n    params  module                                       arguments                     \n",
            "  0                  -1  1      1392  ultralytics.nn.modules.conv.Conv             [3, 48, 3, 2]                 \n",
            "  1                  -1  1     41664  ultralytics.nn.modules.conv.Conv             [48, 96, 3, 2]                \n",
            "  2                  -1  2    111360  ultralytics.nn.modules.block.C2f             [96, 96, 2, True]             \n",
            "  3                  -1  1    166272  ultralytics.nn.modules.conv.Conv             [96, 192, 3, 2]               \n",
            "  4                  -1  4    813312  ultralytics.nn.modules.block.C2f             [192, 192, 4, True]           \n",
            "  5                  -1  1    664320  ultralytics.nn.modules.conv.Conv             [192, 384, 3, 2]              \n",
            "  6                  -1  4   3248640  ultralytics.nn.modules.block.C2f             [384, 384, 4, True]           \n",
            "  7                  -1  1   1991808  ultralytics.nn.modules.conv.Conv             [384, 576, 3, 2]              \n",
            "  8                  -1  2   3985920  ultralytics.nn.modules.block.C2f             [576, 576, 2, True]           \n",
            "  9                  -1  1    831168  ultralytics.nn.modules.block.SPPF            [576, 576, 5]                 \n",
            " 10                  -1  1         0  torch.nn.modules.upsampling.Upsample         [None, 2, 'nearest']          \n",
            " 11             [-1, 6]  1         0  ultralytics.nn.modules.conv.Concat           [1]                           \n",
            " 12                  -1  2   1993728  ultralytics.nn.modules.block.C2f             [960, 384, 2]                 \n",
            " 13                  -1  1         0  torch.nn.modules.upsampling.Upsample         [None, 2, 'nearest']          \n",
            " 14             [-1, 4]  1         0  ultralytics.nn.modules.conv.Concat           [1]                           \n",
            " 15                  -1  2    517632  ultralytics.nn.modules.block.C2f             [576, 192, 2]                 \n",
            " 16                  -1  1    332160  ultralytics.nn.modules.conv.Conv             [192, 192, 3, 2]              \n",
            " 17            [-1, 12]  1         0  ultralytics.nn.modules.conv.Concat           [1]                           \n",
            " 18                  -1  2   1846272  ultralytics.nn.modules.block.C2f             [576, 384, 2]                 \n",
            " 19                  -1  1   1327872  ultralytics.nn.modules.conv.Conv             [384, 384, 3, 2]              \n",
            " 20             [-1, 9]  1         0  ultralytics.nn.modules.conv.Concat           [1]                           \n",
            " 21                  -1  2   4207104  ultralytics.nn.modules.block.C2f             [960, 576, 2]                 \n",
            " 22        [15, 18, 21]  1   3776854  ultralytics.nn.modules.head.Detect           [2, [192, 384, 576]]          \n",
            "Model summary: 169 layers, 25,857,478 parameters, 25,857,462 gradients, 79.1 GFLOPs\n",
            "\n",
            "Transferred 469/475 items from pretrained weights\n",
            "Freezing layer 'model.22.dfl.conv.weight'\n",
            "\u001b[34m\u001b[1mAMP: \u001b[0mrunning Automatic Mixed Precision (AMP) checks...\n",
            "\u001b[34m\u001b[1mAMP: \u001b[0mchecks passed ✅\n",
            "\u001b[34m\u001b[1mtrain: \u001b[0mFast image access ✅ (ping: 0.0±0.0 ms, read: 2255.4±646.8 MB/s, size: 84.7 KB)\n"
          ]
        },
        {
          "output_type": "stream",
          "name": "stderr",
          "text": [
            "\u001b[34m\u001b[1mtrain: \u001b[0mScanning /content/data-v2/yolo/train/labels.cache... 159 images, 241 backgrounds, 10 corrupt: 100%|██████████| 400/400 [00:00<?, ?it/s]"
          ]
        },
        {
          "output_type": "stream",
          "name": "stdout",
          "text": [
            "\u001b[34m\u001b[1mtrain: \u001b[0m/content/data-v2/yolo/train/images/2017-08-28_09-30-00-1_500_dirty_glass.mp4-bee_id_6891-18810-1.png: ignoring corrupt image/label: Label class 3 exceeds dataset class count 2. Possible class labels are 0-1\n",
            "\u001b[34m\u001b[1mtrain: \u001b[0m/content/data-v2/yolo/train/images/2017-08-28_09-30-00-1_500_dirty_glass.mp4-bee_id_6922-20325-1.png: ignoring corrupt image/label: Label class 3 exceeds dataset class count 2. Possible class labels are 0-1\n",
            "\u001b[34m\u001b[1mtrain: \u001b[0m/content/data-v2/yolo/train/images/2017-08-28_09-30-00-1_500_dirty_glass.mp4-bee_id_6923-20490-1.png: ignoring corrupt image/label: Label class 3 exceeds dataset class count 2. Possible class labels are 0-1\n",
            "\u001b[34m\u001b[1mtrain: \u001b[0m/content/data-v2/yolo/train/images/2017-08-28_09-30-00-1_500_dirty_glass.mp4-bee_id_6925-20595-1.png: ignoring corrupt image/label: Label class 3 exceeds dataset class count 2. Possible class labels are 0-1\n",
            "\u001b[34m\u001b[1mtrain: \u001b[0m/content/data-v2/yolo/train/images/2017-08-28_09-30-00-1_500_dirty_glass.mp4-bee_id_6926-20610-1.png: ignoring corrupt image/label: Label class 3 exceeds dataset class count 2. Possible class labels are 0-1\n",
            "\u001b[34m\u001b[1mtrain: \u001b[0m/content/data-v2/yolo/train/images/2017-08-28_09-30-00-1_500_dirty_glass.mp4-bee_id_6928-20655-1.png: ignoring corrupt image/label: Label class 3 exceeds dataset class count 2. Possible class labels are 0-1\n",
            "\u001b[34m\u001b[1mtrain: \u001b[0m/content/data-v2/yolo/train/images/2017-08-28_09-30-00-1_500_dirty_glass.mp4-bee_id_6930-20760-1.png: ignoring corrupt image/label: Label class 3 exceeds dataset class count 2. Possible class labels are 0-1\n",
            "\u001b[34m\u001b[1mtrain: \u001b[0m/content/data-v2/yolo/train/images/2017-08-28_09-30-00-1_500_dirty_glass.mp4-bee_id_6975-22005-1.png: ignoring corrupt image/label: Label class 3 exceeds dataset class count 2. Possible class labels are 0-1\n",
            "\u001b[34m\u001b[1mtrain: \u001b[0m/content/data-v2/yolo/train/images/2017-08-28_09-30-00-1_500_dirty_glass.mp4-bee_id_6980-22185-1.png: ignoring corrupt image/label: Label class 3 exceeds dataset class count 2. Possible class labels are 0-1\n",
            "\u001b[34m\u001b[1mtrain: \u001b[0m/content/data-v2/yolo/train/images/2017-08-28_09-30-00-1_500_dirty_glass.mp4-bee_id_7093-30885-1.png: ignoring corrupt image/label: Label class 3 exceeds dataset class count 2. Possible class labels are 0-1\n",
            "\u001b[34m\u001b[1malbumentations: \u001b[0mBlur(p=0.01, blur_limit=(3, 7)), MedianBlur(p=0.01, blur_limit=(3, 7)), ToGray(p=0.01, method='weighted_average', num_output_channels=3), CLAHE(p=0.01, clip_limit=(1.0, 4.0), tile_grid_size=(8, 8))\n"
          ]
        },
        {
          "output_type": "stream",
          "name": "stderr",
          "text": [
            "\n"
          ]
        },
        {
          "output_type": "stream",
          "name": "stdout",
          "text": [
            "\u001b[34m\u001b[1mval: \u001b[0mFast image access ✅ (ping: 0.0±0.0 ms, read: 509.3±37.5 MB/s, size: 87.7 KB)\n"
          ]
        },
        {
          "output_type": "stream",
          "name": "stderr",
          "text": [
            "\u001b[34m\u001b[1mval: \u001b[0mScanning /content/data-v2/yolo/val/labels.cache... 111 images, 29 backgrounds, 8 corrupt: 100%|██████████| 140/140 [00:00<?, ?it/s]"
          ]
        },
        {
          "output_type": "stream",
          "name": "stdout",
          "text": [
            "\u001b[34m\u001b[1mval: \u001b[0m/content/data-v2/yolo/val/images/2017-08-28_16-32-55_30_sec.mp4-bee_id_6650-135-1.png: ignoring corrupt image/label: Label class 3 exceeds dataset class count 2. Possible class labels are 0-1\n",
            "\u001b[34m\u001b[1mval: \u001b[0m/content/data-v2/yolo/val/images/2017-08-28_16-32-55_30_sec.mp4-bee_id_6651-150-1.png: ignoring corrupt image/label: Label class 3 exceeds dataset class count 2. Possible class labels are 0-1\n",
            "\u001b[34m\u001b[1mval: \u001b[0m/content/data-v2/yolo/val/images/2017-09-01_3-01-01.mp4-bee_id_2247-18495-1.png: ignoring corrupt image/label: Label class 3 exceeds dataset class count 2. Possible class labels are 0-1\n",
            "\u001b[34m\u001b[1mval: \u001b[0m/content/data-v2/yolo/val/images/2017-09-01_3-01-01.mp4-bee_id_2249-19830-1.png: ignoring corrupt image/label: Label class 3 exceeds dataset class count 2. Possible class labels are 0-1\n",
            "\u001b[34m\u001b[1mval: \u001b[0m/content/data-v2/yolo/val/images/2017-09-01_3-01-01.mp4-bee_id_2251-21180-1.png: ignoring corrupt image/label: Label class 3 exceeds dataset class count 2. Possible class labels are 0-1\n",
            "\u001b[34m\u001b[1mval: \u001b[0m/content/data-v2/yolo/val/images/2017-09-01_3-01-01.mp4-bee_id_2252-21495-1.png: ignoring corrupt image/label: Label class 3 exceeds dataset class count 2. Possible class labels are 0-1\n",
            "\u001b[34m\u001b[1mval: \u001b[0m/content/data-v2/yolo/val/images/2017-09-01_3-01-01.mp4-bee_id_2260-43290-1.png: ignoring corrupt image/label: Label class 3 exceeds dataset class count 2. Possible class labels are 0-1\n",
            "\u001b[34m\u001b[1mval: \u001b[0m/content/data-v2/yolo/val/images/2017-09-01_3-01-01.mp4-bee_id_2328-50280-1.png: ignoring corrupt image/label: Label class 3 exceeds dataset class count 2. Possible class labels are 0-1\n"
          ]
        },
        {
          "output_type": "stream",
          "name": "stderr",
          "text": [
            "\n"
          ]
        },
        {
          "output_type": "stream",
          "name": "stdout",
          "text": [
            "Plotting labels to runs/detect/train2/labels.jpg... \n",
            "\u001b[34m\u001b[1moptimizer:\u001b[0m 'optimizer=auto' found, ignoring 'lr0=0.01' and 'momentum=0.937' and determining best 'optimizer', 'lr0' and 'momentum' automatically... \n",
            "\u001b[34m\u001b[1moptimizer:\u001b[0m AdamW(lr=0.001667, momentum=0.9) with parameter groups 77 weight(decay=0.0), 84 weight(decay=0.0005), 83 bias(decay=0.0)\n",
            "Image sizes 640 train, 640 val\n",
            "Using 2 dataloader workers\n",
            "Logging results to \u001b[1mruns/detect/train2\u001b[0m\n",
            "Starting training for 100 epochs...\n",
            "\n",
            "      Epoch    GPU_mem   box_loss   cls_loss   dfl_loss  Instances       Size\n"
          ]
        },
        {
          "output_type": "stream",
          "name": "stderr",
          "text": [
            "      1/100      12.9G      2.949      12.66      2.506          5        640: 100%|██████████| 13/13 [00:12<00:00,  1.04it/s]\n",
            "                 Class     Images  Instances      Box(P          R      mAP50  mAP50-95): 100%|██████████| 3/3 [00:01<00:00,  1.96it/s]"
          ]
        },
        {
          "output_type": "stream",
          "name": "stdout",
          "text": [
            "                   all        132        200     0.0334       0.06     0.0141    0.00244\n"
          ]
        },
        {
          "output_type": "stream",
          "name": "stderr",
          "text": [
            "\n"
          ]
        },
        {
          "output_type": "stream",
          "name": "stdout",
          "text": [
            "\n",
            "      Epoch    GPU_mem   box_loss   cls_loss   dfl_loss  Instances       Size\n"
          ]
        },
        {
          "output_type": "stream",
          "name": "stderr",
          "text": [
            "      2/100      12.6G      2.375      5.757      2.124          3        640: 100%|██████████| 13/13 [00:12<00:00,  1.01it/s]\n",
            "                 Class     Images  Instances      Box(P          R      mAP50  mAP50-95): 100%|██████████| 3/3 [00:01<00:00,  2.10it/s]"
          ]
        },
        {
          "output_type": "stream",
          "name": "stdout",
          "text": [
            "                   all        132        200     0.0527       0.39     0.0315     0.0101\n"
          ]
        },
        {
          "output_type": "stream",
          "name": "stderr",
          "text": [
            "\n"
          ]
        },
        {
          "output_type": "stream",
          "name": "stdout",
          "text": [
            "\n",
            "      Epoch    GPU_mem   box_loss   cls_loss   dfl_loss  Instances       Size\n"
          ]
        },
        {
          "output_type": "stream",
          "name": "stderr",
          "text": [
            "      3/100      12.6G      2.296      3.057      2.037          5        640: 100%|██████████| 13/13 [00:12<00:00,  1.04it/s]\n",
            "                 Class     Images  Instances      Box(P          R      mAP50  mAP50-95): 100%|██████████| 3/3 [00:01<00:00,  1.75it/s]"
          ]
        },
        {
          "output_type": "stream",
          "name": "stdout",
          "text": [
            "                   all        132        200      0.168       0.65      0.147      0.047\n"
          ]
        },
        {
          "output_type": "stream",
          "name": "stderr",
          "text": [
            "\n"
          ]
        },
        {
          "output_type": "stream",
          "name": "stdout",
          "text": [
            "\n",
            "      Epoch    GPU_mem   box_loss   cls_loss   dfl_loss  Instances       Size\n"
          ]
        },
        {
          "output_type": "stream",
          "name": "stderr",
          "text": [
            "      4/100      12.6G       2.24      2.528      2.001          3        640: 100%|██████████| 13/13 [00:12<00:00,  1.06it/s]\n",
            "                 Class     Images  Instances      Box(P          R      mAP50  mAP50-95): 100%|██████████| 3/3 [00:01<00:00,  2.52it/s]"
          ]
        },
        {
          "output_type": "stream",
          "name": "stdout",
          "text": [
            "                   all        132        200          0          0          0          0\n"
          ]
        },
        {
          "output_type": "stream",
          "name": "stderr",
          "text": [
            "\n"
          ]
        },
        {
          "output_type": "stream",
          "name": "stdout",
          "text": [
            "\n",
            "      Epoch    GPU_mem   box_loss   cls_loss   dfl_loss  Instances       Size\n"
          ]
        },
        {
          "output_type": "stream",
          "name": "stderr",
          "text": [
            "      5/100      12.6G      2.353      2.012      2.066          5        640: 100%|██████████| 13/13 [00:11<00:00,  1.08it/s]\n",
            "                 Class     Images  Instances      Box(P          R      mAP50  mAP50-95): 100%|██████████| 3/3 [00:01<00:00,  2.52it/s]"
          ]
        },
        {
          "output_type": "stream",
          "name": "stdout",
          "text": [
            "                   all        132        200          0          0          0          0\n"
          ]
        },
        {
          "output_type": "stream",
          "name": "stderr",
          "text": [
            "\n"
          ]
        },
        {
          "output_type": "stream",
          "name": "stdout",
          "text": [
            "\n",
            "      Epoch    GPU_mem   box_loss   cls_loss   dfl_loss  Instances       Size\n"
          ]
        },
        {
          "output_type": "stream",
          "name": "stderr",
          "text": [
            "      6/100      12.2G      2.377      1.981      2.106          5        640: 100%|██████████| 13/13 [00:12<00:00,  1.08it/s]\n",
            "                 Class     Images  Instances      Box(P          R      mAP50  mAP50-95): 100%|██████████| 3/3 [00:01<00:00,  2.47it/s]"
          ]
        },
        {
          "output_type": "stream",
          "name": "stdout",
          "text": [
            "                   all        132        200       0.14       0.08     0.0505     0.0192\n"
          ]
        },
        {
          "output_type": "stream",
          "name": "stderr",
          "text": [
            "\n"
          ]
        },
        {
          "output_type": "stream",
          "name": "stdout",
          "text": [
            "\n",
            "      Epoch    GPU_mem   box_loss   cls_loss   dfl_loss  Instances       Size\n"
          ]
        },
        {
          "output_type": "stream",
          "name": "stderr",
          "text": [
            "      7/100      12.5G      2.308      2.024      2.074          7        640: 100%|██████████| 13/13 [00:11<00:00,  1.08it/s]\n",
            "                 Class     Images  Instances      Box(P          R      mAP50  mAP50-95): 100%|██████████| 3/3 [00:01<00:00,  2.11it/s]"
          ]
        },
        {
          "output_type": "stream",
          "name": "stdout",
          "text": [
            "                   all        132        200   0.000455       0.09   0.000275    9.7e-05\n"
          ]
        },
        {
          "output_type": "stream",
          "name": "stderr",
          "text": [
            "\n"
          ]
        },
        {
          "output_type": "stream",
          "name": "stdout",
          "text": [
            "\n",
            "      Epoch    GPU_mem   box_loss   cls_loss   dfl_loss  Instances       Size\n"
          ]
        },
        {
          "output_type": "stream",
          "name": "stderr",
          "text": [
            "      8/100      12.2G      2.267      1.959      2.048          6        640: 100%|██████████| 13/13 [00:12<00:00,  1.08it/s]\n",
            "                 Class     Images  Instances      Box(P          R      mAP50  mAP50-95): 100%|██████████| 3/3 [00:01<00:00,  2.56it/s]"
          ]
        },
        {
          "output_type": "stream",
          "name": "stdout",
          "text": [
            "                   all        132        200          0          0          0          0\n"
          ]
        },
        {
          "output_type": "stream",
          "name": "stderr",
          "text": [
            "\n"
          ]
        },
        {
          "output_type": "stream",
          "name": "stdout",
          "text": [
            "\n",
            "      Epoch    GPU_mem   box_loss   cls_loss   dfl_loss  Instances       Size\n"
          ]
        },
        {
          "output_type": "stream",
          "name": "stderr",
          "text": [
            "      9/100      12.6G      2.197      2.043      1.937          1        640: 100%|██████████| 13/13 [00:11<00:00,  1.09it/s]\n",
            "                 Class     Images  Instances      Box(P          R      mAP50  mAP50-95): 100%|██████████| 3/3 [00:01<00:00,  2.51it/s]"
          ]
        },
        {
          "output_type": "stream",
          "name": "stdout",
          "text": [
            "                   all        132        200          0          0          0          0\n"
          ]
        },
        {
          "output_type": "stream",
          "name": "stderr",
          "text": [
            "\n"
          ]
        },
        {
          "output_type": "stream",
          "name": "stdout",
          "text": [
            "\n",
            "      Epoch    GPU_mem   box_loss   cls_loss   dfl_loss  Instances       Size\n"
          ]
        },
        {
          "output_type": "stream",
          "name": "stderr",
          "text": [
            "     10/100      12.2G      2.211      1.897      2.015          4        640: 100%|██████████| 13/13 [00:12<00:00,  1.08it/s]\n",
            "                 Class     Images  Instances      Box(P          R      mAP50  mAP50-95): 100%|██████████| 3/3 [00:01<00:00,  2.56it/s]"
          ]
        },
        {
          "output_type": "stream",
          "name": "stdout",
          "text": [
            "                   all        132        200    0.00798      0.095    0.00451   0.000831\n"
          ]
        },
        {
          "output_type": "stream",
          "name": "stderr",
          "text": [
            "\n"
          ]
        },
        {
          "output_type": "stream",
          "name": "stdout",
          "text": [
            "\n",
            "      Epoch    GPU_mem   box_loss   cls_loss   dfl_loss  Instances       Size\n"
          ]
        },
        {
          "output_type": "stream",
          "name": "stderr",
          "text": [
            "     11/100      12.5G      2.285      1.971       2.04          5        640: 100%|██████████| 13/13 [00:12<00:00,  1.08it/s]\n",
            "                 Class     Images  Instances      Box(P          R      mAP50  mAP50-95): 100%|██████████| 3/3 [00:01<00:00,  2.45it/s]"
          ]
        },
        {
          "output_type": "stream",
          "name": "stdout",
          "text": [
            "                   all        132        200          0          0          0          0\n"
          ]
        },
        {
          "output_type": "stream",
          "name": "stderr",
          "text": [
            "\n"
          ]
        },
        {
          "output_type": "stream",
          "name": "stdout",
          "text": [
            "\n",
            "      Epoch    GPU_mem   box_loss   cls_loss   dfl_loss  Instances       Size\n"
          ]
        },
        {
          "output_type": "stream",
          "name": "stderr",
          "text": [
            "     12/100      12.2G      2.057       1.73       1.98          2        640: 100%|██████████| 13/13 [00:12<00:00,  1.08it/s]\n",
            "                 Class     Images  Instances      Box(P          R      mAP50  mAP50-95): 100%|██████████| 3/3 [00:01<00:00,  2.44it/s]"
          ]
        },
        {
          "output_type": "stream",
          "name": "stdout",
          "text": [
            "                   all        132        200      0.548      0.497       0.48      0.151\n"
          ]
        },
        {
          "output_type": "stream",
          "name": "stderr",
          "text": [
            "\n"
          ]
        },
        {
          "output_type": "stream",
          "name": "stdout",
          "text": [
            "\n",
            "      Epoch    GPU_mem   box_loss   cls_loss   dfl_loss  Instances       Size\n"
          ]
        },
        {
          "output_type": "stream",
          "name": "stderr",
          "text": [
            "     13/100      12.6G      2.206      1.626      1.912          7        640: 100%|██████████| 13/13 [00:11<00:00,  1.09it/s]\n",
            "                 Class     Images  Instances      Box(P          R      mAP50  mAP50-95): 100%|██████████| 3/3 [00:01<00:00,  2.34it/s]"
          ]
        },
        {
          "output_type": "stream",
          "name": "stdout",
          "text": [
            "                   all        132        200      0.561      0.575      0.533      0.164\n"
          ]
        },
        {
          "output_type": "stream",
          "name": "stderr",
          "text": [
            "\n"
          ]
        },
        {
          "output_type": "stream",
          "name": "stdout",
          "text": [
            "\n",
            "      Epoch    GPU_mem   box_loss   cls_loss   dfl_loss  Instances       Size\n"
          ]
        },
        {
          "output_type": "stream",
          "name": "stderr",
          "text": [
            "     14/100      12.2G      2.126      1.881      2.036          4        640: 100%|██████████| 13/13 [00:11<00:00,  1.08it/s]\n",
            "                 Class     Images  Instances      Box(P          R      mAP50  mAP50-95): 100%|██████████| 3/3 [00:01<00:00,  2.54it/s]"
          ]
        },
        {
          "output_type": "stream",
          "name": "stdout",
          "text": [
            "                   all        132        200       0.33       0.46      0.269     0.0759\n"
          ]
        },
        {
          "output_type": "stream",
          "name": "stderr",
          "text": [
            "\n"
          ]
        },
        {
          "output_type": "stream",
          "name": "stdout",
          "text": [
            "\n",
            "      Epoch    GPU_mem   box_loss   cls_loss   dfl_loss  Instances       Size\n"
          ]
        },
        {
          "output_type": "stream",
          "name": "stderr",
          "text": [
            "     15/100      12.6G      2.177      1.776      1.963          4        640: 100%|██████████| 13/13 [00:11<00:00,  1.09it/s]\n",
            "                 Class     Images  Instances      Box(P          R      mAP50  mAP50-95): 100%|██████████| 3/3 [00:01<00:00,  2.49it/s]"
          ]
        },
        {
          "output_type": "stream",
          "name": "stdout",
          "text": [
            "                   all        132        200      0.639      0.585      0.576      0.178\n"
          ]
        },
        {
          "output_type": "stream",
          "name": "stderr",
          "text": [
            "\n"
          ]
        },
        {
          "output_type": "stream",
          "name": "stdout",
          "text": [
            "\n",
            "      Epoch    GPU_mem   box_loss   cls_loss   dfl_loss  Instances       Size\n"
          ]
        },
        {
          "output_type": "stream",
          "name": "stderr",
          "text": [
            "     16/100      12.3G      2.098      1.541      1.921          2        640: 100%|██████████| 13/13 [00:11<00:00,  1.08it/s]\n",
            "                 Class     Images  Instances      Box(P          R      mAP50  mAP50-95): 100%|██████████| 3/3 [00:01<00:00,  2.20it/s]"
          ]
        },
        {
          "output_type": "stream",
          "name": "stdout",
          "text": [
            "                   all        132        200      0.369       0.34       0.29     0.0855\n"
          ]
        },
        {
          "output_type": "stream",
          "name": "stderr",
          "text": [
            "\n"
          ]
        },
        {
          "output_type": "stream",
          "name": "stdout",
          "text": [
            "\n",
            "      Epoch    GPU_mem   box_loss   cls_loss   dfl_loss  Instances       Size\n"
          ]
        },
        {
          "output_type": "stream",
          "name": "stderr",
          "text": [
            "     17/100      12.6G      2.131       1.71      1.916          2        640: 100%|██████████| 13/13 [00:12<00:00,  1.07it/s]\n",
            "                 Class     Images  Instances      Box(P          R      mAP50  mAP50-95): 100%|██████████| 3/3 [00:01<00:00,  2.05it/s]"
          ]
        },
        {
          "output_type": "stream",
          "name": "stdout",
          "text": [
            "                   all        132        200      0.113      0.035     0.0638     0.0203\n"
          ]
        },
        {
          "output_type": "stream",
          "name": "stderr",
          "text": [
            "\n"
          ]
        },
        {
          "output_type": "stream",
          "name": "stdout",
          "text": [
            "\n",
            "      Epoch    GPU_mem   box_loss   cls_loss   dfl_loss  Instances       Size\n"
          ]
        },
        {
          "output_type": "stream",
          "name": "stderr",
          "text": [
            "     18/100      12.2G      2.131      1.607      1.973          4        640: 100%|██████████| 13/13 [00:11<00:00,  1.09it/s]\n",
            "                 Class     Images  Instances      Box(P          R      mAP50  mAP50-95): 100%|██████████| 3/3 [00:01<00:00,  1.90it/s]"
          ]
        },
        {
          "output_type": "stream",
          "name": "stdout",
          "text": [
            "                   all        132        200      0.317      0.145       0.15     0.0386\n"
          ]
        },
        {
          "output_type": "stream",
          "name": "stderr",
          "text": [
            "\n"
          ]
        },
        {
          "output_type": "stream",
          "name": "stdout",
          "text": [
            "\n",
            "      Epoch    GPU_mem   box_loss   cls_loss   dfl_loss  Instances       Size\n"
          ]
        },
        {
          "output_type": "stream",
          "name": "stderr",
          "text": [
            "     19/100      12.6G      1.935       1.38      1.784          3        640: 100%|██████████| 13/13 [00:11<00:00,  1.09it/s]\n",
            "                 Class     Images  Instances      Box(P          R      mAP50  mAP50-95): 100%|██████████| 3/3 [00:01<00:00,  2.27it/s]"
          ]
        },
        {
          "output_type": "stream",
          "name": "stdout",
          "text": [
            "                   all        132        200      0.514      0.465      0.491      0.169\n"
          ]
        },
        {
          "output_type": "stream",
          "name": "stderr",
          "text": [
            "\n"
          ]
        },
        {
          "output_type": "stream",
          "name": "stdout",
          "text": [
            "\n",
            "      Epoch    GPU_mem   box_loss   cls_loss   dfl_loss  Instances       Size\n"
          ]
        },
        {
          "output_type": "stream",
          "name": "stderr",
          "text": [
            "     20/100      12.2G      1.957       1.55      1.851          2        640: 100%|██████████| 13/13 [00:12<00:00,  1.07it/s]\n",
            "                 Class     Images  Instances      Box(P          R      mAP50  mAP50-95): 100%|██████████| 3/3 [00:01<00:00,  2.30it/s]"
          ]
        },
        {
          "output_type": "stream",
          "name": "stdout",
          "text": [
            "                   all        132        200       0.31      0.265      0.246     0.0851\n"
          ]
        },
        {
          "output_type": "stream",
          "name": "stderr",
          "text": [
            "\n"
          ]
        },
        {
          "output_type": "stream",
          "name": "stdout",
          "text": [
            "\n",
            "      Epoch    GPU_mem   box_loss   cls_loss   dfl_loss  Instances       Size\n"
          ]
        },
        {
          "output_type": "stream",
          "name": "stderr",
          "text": [
            "     21/100      12.5G      1.811      1.518      1.666          0        640: 100%|██████████| 13/13 [00:11<00:00,  1.09it/s]\n",
            "                 Class     Images  Instances      Box(P          R      mAP50  mAP50-95): 100%|██████████| 3/3 [00:01<00:00,  2.38it/s]"
          ]
        },
        {
          "output_type": "stream",
          "name": "stdout",
          "text": [
            "                   all        132        200      0.601       0.57      0.563      0.188\n"
          ]
        },
        {
          "output_type": "stream",
          "name": "stderr",
          "text": [
            "\n"
          ]
        },
        {
          "output_type": "stream",
          "name": "stdout",
          "text": [
            "\n",
            "      Epoch    GPU_mem   box_loss   cls_loss   dfl_loss  Instances       Size\n"
          ]
        },
        {
          "output_type": "stream",
          "name": "stderr",
          "text": [
            "     22/100      12.3G      1.995      1.525      1.852          3        640: 100%|██████████| 13/13 [00:11<00:00,  1.09it/s]\n",
            "                 Class     Images  Instances      Box(P          R      mAP50  mAP50-95): 100%|██████████| 3/3 [00:01<00:00,  2.57it/s]"
          ]
        },
        {
          "output_type": "stream",
          "name": "stdout",
          "text": [
            "                   all        132        200      0.587       0.57      0.595      0.195\n"
          ]
        },
        {
          "output_type": "stream",
          "name": "stderr",
          "text": [
            "\n"
          ]
        },
        {
          "output_type": "stream",
          "name": "stdout",
          "text": [
            "\n",
            "      Epoch    GPU_mem   box_loss   cls_loss   dfl_loss  Instances       Size\n"
          ]
        },
        {
          "output_type": "stream",
          "name": "stderr",
          "text": [
            "     23/100      12.6G      1.982      1.501      1.862          2        640: 100%|██████████| 13/13 [00:11<00:00,  1.09it/s]\n",
            "                 Class     Images  Instances      Box(P          R      mAP50  mAP50-95): 100%|██████████| 3/3 [00:01<00:00,  2.45it/s]"
          ]
        },
        {
          "output_type": "stream",
          "name": "stdout",
          "text": [
            "                   all        132        200      0.638      0.705      0.668      0.199\n"
          ]
        },
        {
          "output_type": "stream",
          "name": "stderr",
          "text": [
            "\n"
          ]
        },
        {
          "output_type": "stream",
          "name": "stdout",
          "text": [
            "\n",
            "      Epoch    GPU_mem   box_loss   cls_loss   dfl_loss  Instances       Size\n"
          ]
        },
        {
          "output_type": "stream",
          "name": "stderr",
          "text": [
            "     24/100      12.2G      2.015      1.516      1.888          3        640: 100%|██████████| 13/13 [00:11<00:00,  1.09it/s]\n",
            "                 Class     Images  Instances      Box(P          R      mAP50  mAP50-95): 100%|██████████| 3/3 [00:01<00:00,  2.45it/s]"
          ]
        },
        {
          "output_type": "stream",
          "name": "stdout",
          "text": [
            "                   all        132        200      0.631      0.535      0.554      0.166\n"
          ]
        },
        {
          "output_type": "stream",
          "name": "stderr",
          "text": [
            "\n"
          ]
        },
        {
          "output_type": "stream",
          "name": "stdout",
          "text": [
            "\n",
            "      Epoch    GPU_mem   box_loss   cls_loss   dfl_loss  Instances       Size\n"
          ]
        },
        {
          "output_type": "stream",
          "name": "stderr",
          "text": [
            "     25/100      12.6G      1.927      1.497      1.767          3        640: 100%|██████████| 13/13 [00:11<00:00,  1.08it/s]\n",
            "                 Class     Images  Instances      Box(P          R      mAP50  mAP50-95): 100%|██████████| 3/3 [00:01<00:00,  2.52it/s]"
          ]
        },
        {
          "output_type": "stream",
          "name": "stdout",
          "text": [
            "                   all        132        200      0.765       0.57      0.693      0.219\n"
          ]
        },
        {
          "output_type": "stream",
          "name": "stderr",
          "text": [
            "\n"
          ]
        },
        {
          "output_type": "stream",
          "name": "stdout",
          "text": [
            "\n",
            "      Epoch    GPU_mem   box_loss   cls_loss   dfl_loss  Instances       Size\n"
          ]
        },
        {
          "output_type": "stream",
          "name": "stderr",
          "text": [
            "     26/100      12.2G      1.938      1.335      1.777          4        640: 100%|██████████| 13/13 [00:12<00:00,  1.08it/s]\n",
            "                 Class     Images  Instances      Box(P          R      mAP50  mAP50-95): 100%|██████████| 3/3 [00:01<00:00,  2.51it/s]"
          ]
        },
        {
          "output_type": "stream",
          "name": "stdout",
          "text": [
            "                   all        132        200      0.737        0.7       0.77      0.251\n"
          ]
        },
        {
          "output_type": "stream",
          "name": "stderr",
          "text": [
            "\n"
          ]
        },
        {
          "output_type": "stream",
          "name": "stdout",
          "text": [
            "\n",
            "      Epoch    GPU_mem   box_loss   cls_loss   dfl_loss  Instances       Size\n"
          ]
        },
        {
          "output_type": "stream",
          "name": "stderr",
          "text": [
            "     27/100      12.6G      2.067      1.526      1.951          1        640: 100%|██████████| 13/13 [00:11<00:00,  1.09it/s]\n",
            "                 Class     Images  Instances      Box(P          R      mAP50  mAP50-95): 100%|██████████| 3/3 [00:01<00:00,  2.54it/s]"
          ]
        },
        {
          "output_type": "stream",
          "name": "stdout",
          "text": [
            "                   all        132        200      0.748      0.713      0.754      0.256\n"
          ]
        },
        {
          "output_type": "stream",
          "name": "stderr",
          "text": [
            "\n"
          ]
        },
        {
          "output_type": "stream",
          "name": "stdout",
          "text": [
            "\n",
            "      Epoch    GPU_mem   box_loss   cls_loss   dfl_loss  Instances       Size\n"
          ]
        },
        {
          "output_type": "stream",
          "name": "stderr",
          "text": [
            "     28/100      12.2G      2.102      1.441      1.936          1        640: 100%|██████████| 13/13 [00:12<00:00,  1.08it/s]\n",
            "                 Class     Images  Instances      Box(P          R      mAP50  mAP50-95): 100%|██████████| 3/3 [00:01<00:00,  2.55it/s]"
          ]
        },
        {
          "output_type": "stream",
          "name": "stdout",
          "text": [
            "                   all        132        200      0.649       0.66      0.621      0.195\n"
          ]
        },
        {
          "output_type": "stream",
          "name": "stderr",
          "text": [
            "\n"
          ]
        },
        {
          "output_type": "stream",
          "name": "stdout",
          "text": [
            "\n",
            "      Epoch    GPU_mem   box_loss   cls_loss   dfl_loss  Instances       Size\n"
          ]
        },
        {
          "output_type": "stream",
          "name": "stderr",
          "text": [
            "     29/100      12.6G       1.85       1.35      1.778          5        640: 100%|██████████| 13/13 [00:11<00:00,  1.09it/s]\n",
            "                 Class     Images  Instances      Box(P          R      mAP50  mAP50-95): 100%|██████████| 3/3 [00:01<00:00,  2.48it/s]"
          ]
        },
        {
          "output_type": "stream",
          "name": "stdout",
          "text": [
            "                   all        132        200      0.775      0.725       0.76       0.25\n"
          ]
        },
        {
          "output_type": "stream",
          "name": "stderr",
          "text": [
            "\n"
          ]
        },
        {
          "output_type": "stream",
          "name": "stdout",
          "text": [
            "\n",
            "      Epoch    GPU_mem   box_loss   cls_loss   dfl_loss  Instances       Size\n"
          ]
        },
        {
          "output_type": "stream",
          "name": "stderr",
          "text": [
            "     30/100      12.2G      1.992      1.488      1.747          1        640: 100%|██████████| 13/13 [00:12<00:00,  1.07it/s]\n",
            "                 Class     Images  Instances      Box(P          R      mAP50  mAP50-95): 100%|██████████| 3/3 [00:01<00:00,  2.53it/s]"
          ]
        },
        {
          "output_type": "stream",
          "name": "stdout",
          "text": [
            "                   all        132        200      0.743       0.71      0.732      0.244\n"
          ]
        },
        {
          "output_type": "stream",
          "name": "stderr",
          "text": [
            "\n"
          ]
        },
        {
          "output_type": "stream",
          "name": "stdout",
          "text": [
            "\n",
            "      Epoch    GPU_mem   box_loss   cls_loss   dfl_loss  Instances       Size\n"
          ]
        },
        {
          "output_type": "stream",
          "name": "stderr",
          "text": [
            "     31/100      12.6G      1.974      1.259      1.784          2        640: 100%|██████████| 13/13 [00:11<00:00,  1.09it/s]\n",
            "                 Class     Images  Instances      Box(P          R      mAP50  mAP50-95): 100%|██████████| 3/3 [00:01<00:00,  2.45it/s]"
          ]
        },
        {
          "output_type": "stream",
          "name": "stdout",
          "text": [
            "                   all        132        200      0.749      0.705      0.725      0.215\n"
          ]
        },
        {
          "output_type": "stream",
          "name": "stderr",
          "text": [
            "\n"
          ]
        },
        {
          "output_type": "stream",
          "name": "stdout",
          "text": [
            "\n",
            "      Epoch    GPU_mem   box_loss   cls_loss   dfl_loss  Instances       Size\n"
          ]
        },
        {
          "output_type": "stream",
          "name": "stderr",
          "text": [
            "     32/100      12.2G      1.871      1.223      1.748          3        640: 100%|██████████| 13/13 [00:12<00:00,  1.08it/s]\n",
            "                 Class     Images  Instances      Box(P          R      mAP50  mAP50-95): 100%|██████████| 3/3 [00:01<00:00,  2.47it/s]"
          ]
        },
        {
          "output_type": "stream",
          "name": "stdout",
          "text": [
            "                   all        132        200      0.688      0.716      0.698      0.213\n"
          ]
        },
        {
          "output_type": "stream",
          "name": "stderr",
          "text": [
            "\n"
          ]
        },
        {
          "output_type": "stream",
          "name": "stdout",
          "text": [
            "\n",
            "      Epoch    GPU_mem   box_loss   cls_loss   dfl_loss  Instances       Size\n"
          ]
        },
        {
          "output_type": "stream",
          "name": "stderr",
          "text": [
            "     33/100      12.6G       1.97      1.274      1.773          5        640: 100%|██████████| 13/13 [00:11<00:00,  1.10it/s]\n",
            "                 Class     Images  Instances      Box(P          R      mAP50  mAP50-95): 100%|██████████| 3/3 [00:01<00:00,  2.29it/s]"
          ]
        },
        {
          "output_type": "stream",
          "name": "stdout",
          "text": [
            "                   all        132        200      0.661      0.525      0.623      0.172\n"
          ]
        },
        {
          "output_type": "stream",
          "name": "stderr",
          "text": [
            "\n"
          ]
        },
        {
          "output_type": "stream",
          "name": "stdout",
          "text": [
            "\n",
            "      Epoch    GPU_mem   box_loss   cls_loss   dfl_loss  Instances       Size\n"
          ]
        },
        {
          "output_type": "stream",
          "name": "stderr",
          "text": [
            "     34/100      12.2G      1.832      1.187      1.704          7        640: 100%|██████████| 13/13 [00:11<00:00,  1.09it/s]\n",
            "                 Class     Images  Instances      Box(P          R      mAP50  mAP50-95): 100%|██████████| 3/3 [00:01<00:00,  2.00it/s]"
          ]
        },
        {
          "output_type": "stream",
          "name": "stdout",
          "text": [
            "                   all        132        200      0.738      0.615        0.7      0.215\n"
          ]
        },
        {
          "output_type": "stream",
          "name": "stderr",
          "text": [
            "\n"
          ]
        },
        {
          "output_type": "stream",
          "name": "stdout",
          "text": [
            "\n",
            "      Epoch    GPU_mem   box_loss   cls_loss   dfl_loss  Instances       Size\n"
          ]
        },
        {
          "output_type": "stream",
          "name": "stderr",
          "text": [
            "     35/100      12.6G      1.808       1.16      1.717          3        640: 100%|██████████| 13/13 [00:11<00:00,  1.09it/s]\n",
            "                 Class     Images  Instances      Box(P          R      mAP50  mAP50-95): 100%|██████████| 3/3 [00:01<00:00,  1.85it/s]"
          ]
        },
        {
          "output_type": "stream",
          "name": "stdout",
          "text": [
            "                   all        132        200      0.701      0.597      0.652      0.216\n"
          ]
        },
        {
          "output_type": "stream",
          "name": "stderr",
          "text": [
            "\n"
          ]
        },
        {
          "output_type": "stream",
          "name": "stdout",
          "text": [
            "\n",
            "      Epoch    GPU_mem   box_loss   cls_loss   dfl_loss  Instances       Size\n"
          ]
        },
        {
          "output_type": "stream",
          "name": "stderr",
          "text": [
            "     36/100      12.3G      1.855      1.244      1.762          3        640: 100%|██████████| 13/13 [00:12<00:00,  1.08it/s]\n",
            "                 Class     Images  Instances      Box(P          R      mAP50  mAP50-95): 100%|██████████| 3/3 [00:01<00:00,  2.17it/s]"
          ]
        },
        {
          "output_type": "stream",
          "name": "stdout",
          "text": [
            "                   all        132        200      0.699       0.58      0.621      0.188\n"
          ]
        },
        {
          "output_type": "stream",
          "name": "stderr",
          "text": [
            "\n"
          ]
        },
        {
          "output_type": "stream",
          "name": "stdout",
          "text": [
            "\n",
            "      Epoch    GPU_mem   box_loss   cls_loss   dfl_loss  Instances       Size\n"
          ]
        },
        {
          "output_type": "stream",
          "name": "stderr",
          "text": [
            "     37/100      12.6G      1.862      1.196      1.749          7        640: 100%|██████████| 13/13 [00:11<00:00,  1.09it/s]\n",
            "                 Class     Images  Instances      Box(P          R      mAP50  mAP50-95): 100%|██████████| 3/3 [00:01<00:00,  2.54it/s]"
          ]
        },
        {
          "output_type": "stream",
          "name": "stdout",
          "text": [
            "                   all        132        200      0.609       0.66      0.644      0.212\n"
          ]
        },
        {
          "output_type": "stream",
          "name": "stderr",
          "text": [
            "\n"
          ]
        },
        {
          "output_type": "stream",
          "name": "stdout",
          "text": [
            "\n",
            "      Epoch    GPU_mem   box_loss   cls_loss   dfl_loss  Instances       Size\n"
          ]
        },
        {
          "output_type": "stream",
          "name": "stderr",
          "text": [
            "     38/100      12.2G      1.821      1.182      1.668          2        640: 100%|██████████| 13/13 [00:11<00:00,  1.09it/s]\n",
            "                 Class     Images  Instances      Box(P          R      mAP50  mAP50-95): 100%|██████████| 3/3 [00:01<00:00,  2.59it/s]"
          ]
        },
        {
          "output_type": "stream",
          "name": "stdout",
          "text": [
            "                   all        132        200      0.746      0.616      0.703      0.225\n"
          ]
        },
        {
          "output_type": "stream",
          "name": "stderr",
          "text": [
            "\n"
          ]
        },
        {
          "output_type": "stream",
          "name": "stdout",
          "text": [
            "\n",
            "      Epoch    GPU_mem   box_loss   cls_loss   dfl_loss  Instances       Size\n"
          ]
        },
        {
          "output_type": "stream",
          "name": "stderr",
          "text": [
            "     39/100      12.6G       1.78      1.139      1.702          1        640: 100%|██████████| 13/13 [00:11<00:00,  1.09it/s]\n",
            "                 Class     Images  Instances      Box(P          R      mAP50  mAP50-95): 100%|██████████| 3/3 [00:01<00:00,  2.39it/s]"
          ]
        },
        {
          "output_type": "stream",
          "name": "stdout",
          "text": [
            "                   all        132        200      0.753      0.609      0.673      0.214\n"
          ]
        },
        {
          "output_type": "stream",
          "name": "stderr",
          "text": [
            "\n"
          ]
        },
        {
          "output_type": "stream",
          "name": "stdout",
          "text": [
            "\n",
            "      Epoch    GPU_mem   box_loss   cls_loss   dfl_loss  Instances       Size\n"
          ]
        },
        {
          "output_type": "stream",
          "name": "stderr",
          "text": [
            "     40/100      12.2G       1.76      1.139      1.661          2        640: 100%|██████████| 13/13 [00:11<00:00,  1.09it/s]\n",
            "                 Class     Images  Instances      Box(P          R      mAP50  mAP50-95): 100%|██████████| 3/3 [00:01<00:00,  2.47it/s]"
          ]
        },
        {
          "output_type": "stream",
          "name": "stdout",
          "text": [
            "                   all        132        200      0.857       0.66      0.719      0.249\n"
          ]
        },
        {
          "output_type": "stream",
          "name": "stderr",
          "text": [
            "\n"
          ]
        },
        {
          "output_type": "stream",
          "name": "stdout",
          "text": [
            "\n",
            "      Epoch    GPU_mem   box_loss   cls_loss   dfl_loss  Instances       Size\n"
          ]
        },
        {
          "output_type": "stream",
          "name": "stderr",
          "text": [
            "     41/100      12.6G      1.688      1.095       1.61          5        640: 100%|██████████| 13/13 [00:11<00:00,  1.09it/s]\n",
            "                 Class     Images  Instances      Box(P          R      mAP50  mAP50-95): 100%|██████████| 3/3 [00:01<00:00,  2.51it/s]"
          ]
        },
        {
          "output_type": "stream",
          "name": "stdout",
          "text": [
            "                   all        132        200      0.727      0.625      0.685      0.231\n"
          ]
        },
        {
          "output_type": "stream",
          "name": "stderr",
          "text": [
            "\n"
          ]
        },
        {
          "output_type": "stream",
          "name": "stdout",
          "text": [
            "\n",
            "      Epoch    GPU_mem   box_loss   cls_loss   dfl_loss  Instances       Size\n"
          ]
        },
        {
          "output_type": "stream",
          "name": "stderr",
          "text": [
            "     42/100      12.2G      1.694      1.063      1.615          5        640: 100%|██████████| 13/13 [00:11<00:00,  1.09it/s]\n",
            "                 Class     Images  Instances      Box(P          R      mAP50  mAP50-95): 100%|██████████| 3/3 [00:01<00:00,  2.63it/s]"
          ]
        },
        {
          "output_type": "stream",
          "name": "stdout",
          "text": [
            "                   all        132        200      0.708      0.585      0.636      0.211\n"
          ]
        },
        {
          "output_type": "stream",
          "name": "stderr",
          "text": [
            "\n"
          ]
        },
        {
          "output_type": "stream",
          "name": "stdout",
          "text": [
            "\n",
            "      Epoch    GPU_mem   box_loss   cls_loss   dfl_loss  Instances       Size\n"
          ]
        },
        {
          "output_type": "stream",
          "name": "stderr",
          "text": [
            "     43/100      12.6G      1.753      1.054      1.671          2        640: 100%|██████████| 13/13 [00:11<00:00,  1.09it/s]\n",
            "                 Class     Images  Instances      Box(P          R      mAP50  mAP50-95): 100%|██████████| 3/3 [00:01<00:00,  2.49it/s]"
          ]
        },
        {
          "output_type": "stream",
          "name": "stdout",
          "text": [
            "                   all        132        200      0.737      0.605      0.686      0.223\n"
          ]
        },
        {
          "output_type": "stream",
          "name": "stderr",
          "text": [
            "\n"
          ]
        },
        {
          "output_type": "stream",
          "name": "stdout",
          "text": [
            "\n",
            "      Epoch    GPU_mem   box_loss   cls_loss   dfl_loss  Instances       Size\n"
          ]
        },
        {
          "output_type": "stream",
          "name": "stderr",
          "text": [
            "     44/100      12.2G      1.701      1.031      1.623          5        640: 100%|██████████| 13/13 [00:12<00:00,  1.07it/s]\n",
            "                 Class     Images  Instances      Box(P          R      mAP50  mAP50-95): 100%|██████████| 3/3 [00:01<00:00,  2.42it/s]"
          ]
        },
        {
          "output_type": "stream",
          "name": "stdout",
          "text": [
            "                   all        132        200      0.675      0.664      0.659      0.197\n"
          ]
        },
        {
          "output_type": "stream",
          "name": "stderr",
          "text": [
            "\n"
          ]
        },
        {
          "output_type": "stream",
          "name": "stdout",
          "text": [
            "\n",
            "      Epoch    GPU_mem   box_loss   cls_loss   dfl_loss  Instances       Size\n"
          ]
        },
        {
          "output_type": "stream",
          "name": "stderr",
          "text": [
            "     45/100      12.5G      1.535      1.345      1.512          0        640: 100%|██████████| 13/13 [00:11<00:00,  1.09it/s]\n",
            "                 Class     Images  Instances      Box(P          R      mAP50  mAP50-95): 100%|██████████| 3/3 [00:01<00:00,  2.48it/s]"
          ]
        },
        {
          "output_type": "stream",
          "name": "stdout",
          "text": [
            "                   all        132        200      0.717        0.7      0.722      0.244\n"
          ]
        },
        {
          "output_type": "stream",
          "name": "stderr",
          "text": [
            "\n"
          ]
        },
        {
          "output_type": "stream",
          "name": "stdout",
          "text": [
            "\n",
            "      Epoch    GPU_mem   box_loss   cls_loss   dfl_loss  Instances       Size\n"
          ]
        },
        {
          "output_type": "stream",
          "name": "stderr",
          "text": [
            "     46/100      12.2G      1.702      1.028      1.633          5        640: 100%|██████████| 13/13 [00:12<00:00,  1.08it/s]\n",
            "                 Class     Images  Instances      Box(P          R      mAP50  mAP50-95): 100%|██████████| 3/3 [00:01<00:00,  2.44it/s]"
          ]
        },
        {
          "output_type": "stream",
          "name": "stdout",
          "text": [
            "                   all        132        200      0.726       0.57      0.662        0.2\n"
          ]
        },
        {
          "output_type": "stream",
          "name": "stderr",
          "text": [
            "\n"
          ]
        },
        {
          "output_type": "stream",
          "name": "stdout",
          "text": [
            "\n",
            "      Epoch    GPU_mem   box_loss   cls_loss   dfl_loss  Instances       Size\n"
          ]
        },
        {
          "output_type": "stream",
          "name": "stderr",
          "text": [
            "     47/100      12.6G      1.669     0.9669      1.609          1        640: 100%|██████████| 13/13 [00:12<00:00,  1.08it/s]\n",
            "                 Class     Images  Instances      Box(P          R      mAP50  mAP50-95): 100%|██████████| 3/3 [00:01<00:00,  2.50it/s]"
          ]
        },
        {
          "output_type": "stream",
          "name": "stdout",
          "text": [
            "                   all        132        200      0.741       0.66      0.712      0.227\n"
          ]
        },
        {
          "output_type": "stream",
          "name": "stderr",
          "text": [
            "\n"
          ]
        },
        {
          "output_type": "stream",
          "name": "stdout",
          "text": [
            "\n",
            "      Epoch    GPU_mem   box_loss   cls_loss   dfl_loss  Instances       Size\n"
          ]
        },
        {
          "output_type": "stream",
          "name": "stderr",
          "text": [
            "     48/100      12.2G      1.597     0.9773       1.57          5        640: 100%|██████████| 13/13 [00:12<00:00,  1.07it/s]\n",
            "                 Class     Images  Instances      Box(P          R      mAP50  mAP50-95): 100%|██████████| 3/3 [00:01<00:00,  2.55it/s]"
          ]
        },
        {
          "output_type": "stream",
          "name": "stdout",
          "text": [
            "                   all        132        200      0.642      0.573      0.605      0.173\n"
          ]
        },
        {
          "output_type": "stream",
          "name": "stderr",
          "text": [
            "\n"
          ]
        },
        {
          "output_type": "stream",
          "name": "stdout",
          "text": [
            "\n",
            "      Epoch    GPU_mem   box_loss   cls_loss   dfl_loss  Instances       Size\n"
          ]
        },
        {
          "output_type": "stream",
          "name": "stderr",
          "text": [
            "     49/100      12.6G      1.537     0.8969      1.485          5        640: 100%|██████████| 13/13 [00:12<00:00,  1.08it/s]\n",
            "                 Class     Images  Instances      Box(P          R      mAP50  mAP50-95): 100%|██████████| 3/3 [00:01<00:00,  2.50it/s]"
          ]
        },
        {
          "output_type": "stream",
          "name": "stdout",
          "text": [
            "                   all        132        200      0.776      0.657      0.703      0.226\n"
          ]
        },
        {
          "output_type": "stream",
          "name": "stderr",
          "text": [
            "\n"
          ]
        },
        {
          "output_type": "stream",
          "name": "stdout",
          "text": [
            "\n",
            "      Epoch    GPU_mem   box_loss   cls_loss   dfl_loss  Instances       Size\n"
          ]
        },
        {
          "output_type": "stream",
          "name": "stderr",
          "text": [
            "     50/100      12.3G      1.612     0.9505      1.566          4        640: 100%|██████████| 13/13 [00:12<00:00,  1.08it/s]\n",
            "                 Class     Images  Instances      Box(P          R      mAP50  mAP50-95): 100%|██████████| 3/3 [00:01<00:00,  2.48it/s]"
          ]
        },
        {
          "output_type": "stream",
          "name": "stdout",
          "text": [
            "                   all        132        200      0.743      0.708      0.729      0.242\n"
          ]
        },
        {
          "output_type": "stream",
          "name": "stderr",
          "text": [
            "\n"
          ]
        },
        {
          "output_type": "stream",
          "name": "stdout",
          "text": [
            "\n",
            "      Epoch    GPU_mem   box_loss   cls_loss   dfl_loss  Instances       Size\n"
          ]
        },
        {
          "output_type": "stream",
          "name": "stderr",
          "text": [
            "     51/100      12.6G      1.572     0.8843      1.547          5        640: 100%|██████████| 13/13 [00:11<00:00,  1.09it/s]\n",
            "                 Class     Images  Instances      Box(P          R      mAP50  mAP50-95): 100%|██████████| 3/3 [00:01<00:00,  2.40it/s]"
          ]
        },
        {
          "output_type": "stream",
          "name": "stdout",
          "text": [
            "                   all        132        200      0.732       0.59       0.68      0.217\n"
          ]
        },
        {
          "output_type": "stream",
          "name": "stderr",
          "text": [
            "\n"
          ]
        },
        {
          "output_type": "stream",
          "name": "stdout",
          "text": [
            "\n",
            "      Epoch    GPU_mem   box_loss   cls_loss   dfl_loss  Instances       Size\n"
          ]
        },
        {
          "output_type": "stream",
          "name": "stderr",
          "text": [
            "     52/100      12.2G      1.561     0.8848       1.52          5        640: 100%|██████████| 13/13 [00:12<00:00,  1.08it/s]\n",
            "                 Class     Images  Instances      Box(P          R      mAP50  mAP50-95): 100%|██████████| 3/3 [00:01<00:00,  2.50it/s]"
          ]
        },
        {
          "output_type": "stream",
          "name": "stdout",
          "text": [
            "                   all        132        200      0.752      0.605      0.691      0.216\n"
          ]
        },
        {
          "output_type": "stream",
          "name": "stderr",
          "text": [
            "\n"
          ]
        },
        {
          "output_type": "stream",
          "name": "stdout",
          "text": [
            "\n",
            "      Epoch    GPU_mem   box_loss   cls_loss   dfl_loss  Instances       Size\n"
          ]
        },
        {
          "output_type": "stream",
          "name": "stderr",
          "text": [
            "     53/100      12.6G      1.504      0.906        1.5          4        640: 100%|██████████| 13/13 [00:11<00:00,  1.09it/s]\n",
            "                 Class     Images  Instances      Box(P          R      mAP50  mAP50-95): 100%|██████████| 3/3 [00:01<00:00,  2.43it/s]"
          ]
        },
        {
          "output_type": "stream",
          "name": "stdout",
          "text": [
            "                   all        132        200      0.721      0.615      0.654      0.207\n"
          ]
        },
        {
          "output_type": "stream",
          "name": "stderr",
          "text": [
            "\n"
          ]
        },
        {
          "output_type": "stream",
          "name": "stdout",
          "text": [
            "\n",
            "      Epoch    GPU_mem   box_loss   cls_loss   dfl_loss  Instances       Size\n"
          ]
        },
        {
          "output_type": "stream",
          "name": "stderr",
          "text": [
            "     54/100      12.2G      1.544     0.8186      1.505          8        640: 100%|██████████| 13/13 [00:11<00:00,  1.09it/s]\n",
            "                 Class     Images  Instances      Box(P          R      mAP50  mAP50-95): 100%|██████████| 3/3 [00:01<00:00,  2.44it/s]"
          ]
        },
        {
          "output_type": "stream",
          "name": "stdout",
          "text": [
            "                   all        132        200      0.803      0.652      0.741      0.245\n"
          ]
        },
        {
          "output_type": "stream",
          "name": "stderr",
          "text": [
            "\n"
          ]
        },
        {
          "output_type": "stream",
          "name": "stdout",
          "text": [
            "\n",
            "      Epoch    GPU_mem   box_loss   cls_loss   dfl_loss  Instances       Size\n"
          ]
        },
        {
          "output_type": "stream",
          "name": "stderr",
          "text": [
            "     55/100      12.6G      1.467     0.8728      1.505          4        640: 100%|██████████| 13/13 [00:11<00:00,  1.09it/s]\n",
            "                 Class     Images  Instances      Box(P          R      mAP50  mAP50-95): 100%|██████████| 3/3 [00:01<00:00,  1.83it/s]"
          ]
        },
        {
          "output_type": "stream",
          "name": "stdout",
          "text": [
            "                   all        132        200      0.738       0.66      0.696      0.242\n"
          ]
        },
        {
          "output_type": "stream",
          "name": "stderr",
          "text": [
            "\n"
          ]
        },
        {
          "output_type": "stream",
          "name": "stdout",
          "text": [
            "\n",
            "      Epoch    GPU_mem   box_loss   cls_loss   dfl_loss  Instances       Size\n"
          ]
        },
        {
          "output_type": "stream",
          "name": "stderr",
          "text": [
            "     56/100      12.2G      1.418     0.7993      1.407          5        640: 100%|██████████| 13/13 [00:11<00:00,  1.08it/s]\n",
            "                 Class     Images  Instances      Box(P          R      mAP50  mAP50-95): 100%|██████████| 3/3 [00:01<00:00,  1.78it/s]"
          ]
        },
        {
          "output_type": "stream",
          "name": "stdout",
          "text": [
            "                   all        132        200      0.669      0.625      0.661      0.212\n"
          ]
        },
        {
          "output_type": "stream",
          "name": "stderr",
          "text": [
            "\n"
          ]
        },
        {
          "output_type": "stream",
          "name": "stdout",
          "text": [
            "\n",
            "      Epoch    GPU_mem   box_loss   cls_loss   dfl_loss  Instances       Size\n"
          ]
        },
        {
          "output_type": "stream",
          "name": "stderr",
          "text": [
            "     57/100      12.6G      1.444     0.7902      1.486          3        640: 100%|██████████| 13/13 [00:12<00:00,  1.07it/s]\n",
            "                 Class     Images  Instances      Box(P          R      mAP50  mAP50-95): 100%|██████████| 3/3 [00:01<00:00,  1.72it/s]"
          ]
        },
        {
          "output_type": "stream",
          "name": "stdout",
          "text": [
            "                   all        132        200      0.703      0.615      0.645      0.207\n"
          ]
        },
        {
          "output_type": "stream",
          "name": "stderr",
          "text": [
            "\n"
          ]
        },
        {
          "output_type": "stream",
          "name": "stdout",
          "text": [
            "\n",
            "      Epoch    GPU_mem   box_loss   cls_loss   dfl_loss  Instances       Size\n"
          ]
        },
        {
          "output_type": "stream",
          "name": "stderr",
          "text": [
            "     58/100      12.2G      1.346     0.8009      1.432          6        640: 100%|██████████| 13/13 [00:12<00:00,  1.08it/s]\n",
            "                 Class     Images  Instances      Box(P          R      mAP50  mAP50-95): 100%|██████████| 3/3 [00:01<00:00,  1.95it/s]"
          ]
        },
        {
          "output_type": "stream",
          "name": "stdout",
          "text": [
            "                   all        132        200      0.761      0.685      0.719      0.243\n"
          ]
        },
        {
          "output_type": "stream",
          "name": "stderr",
          "text": [
            "\n"
          ]
        },
        {
          "output_type": "stream",
          "name": "stdout",
          "text": [
            "\n",
            "      Epoch    GPU_mem   box_loss   cls_loss   dfl_loss  Instances       Size\n"
          ]
        },
        {
          "output_type": "stream",
          "name": "stderr",
          "text": [
            "     59/100      12.6G       1.41     0.7746      1.425          4        640: 100%|██████████| 13/13 [00:12<00:00,  1.08it/s]\n",
            "                 Class     Images  Instances      Box(P          R      mAP50  mAP50-95): 100%|██████████| 3/3 [00:01<00:00,  2.43it/s]"
          ]
        },
        {
          "output_type": "stream",
          "name": "stdout",
          "text": [
            "                   all        132        200      0.708      0.665      0.721       0.24\n"
          ]
        },
        {
          "output_type": "stream",
          "name": "stderr",
          "text": [
            "\n"
          ]
        },
        {
          "output_type": "stream",
          "name": "stdout",
          "text": [
            "\n",
            "      Epoch    GPU_mem   box_loss   cls_loss   dfl_loss  Instances       Size\n"
          ]
        },
        {
          "output_type": "stream",
          "name": "stderr",
          "text": [
            "     60/100      12.2G      1.373     0.8535      1.437          1        640: 100%|██████████| 13/13 [00:11<00:00,  1.08it/s]\n",
            "                 Class     Images  Instances      Box(P          R      mAP50  mAP50-95): 100%|██████████| 3/3 [00:01<00:00,  2.55it/s]"
          ]
        },
        {
          "output_type": "stream",
          "name": "stdout",
          "text": [
            "                   all        132        200      0.676      0.637      0.679      0.213\n"
          ]
        },
        {
          "output_type": "stream",
          "name": "stderr",
          "text": [
            "\n"
          ]
        },
        {
          "output_type": "stream",
          "name": "stdout",
          "text": [
            "\n",
            "      Epoch    GPU_mem   box_loss   cls_loss   dfl_loss  Instances       Size\n"
          ]
        },
        {
          "output_type": "stream",
          "name": "stderr",
          "text": [
            "     61/100      12.6G      1.291     0.7379      1.337          2        640: 100%|██████████| 13/13 [00:11<00:00,  1.09it/s]\n",
            "                 Class     Images  Instances      Box(P          R      mAP50  mAP50-95): 100%|██████████| 3/3 [00:01<00:00,  2.52it/s]"
          ]
        },
        {
          "output_type": "stream",
          "name": "stdout",
          "text": [
            "                   all        132        200      0.808      0.694      0.755      0.253\n"
          ]
        },
        {
          "output_type": "stream",
          "name": "stderr",
          "text": [
            "\n"
          ]
        },
        {
          "output_type": "stream",
          "name": "stdout",
          "text": [
            "\n",
            "      Epoch    GPU_mem   box_loss   cls_loss   dfl_loss  Instances       Size\n"
          ]
        },
        {
          "output_type": "stream",
          "name": "stderr",
          "text": [
            "     62/100      12.2G      1.291     0.7181      1.395          5        640: 100%|██████████| 13/13 [00:11<00:00,  1.09it/s]\n",
            "                 Class     Images  Instances      Box(P          R      mAP50  mAP50-95): 100%|██████████| 3/3 [00:01<00:00,  2.41it/s]"
          ]
        },
        {
          "output_type": "stream",
          "name": "stdout",
          "text": [
            "                   all        132        200      0.711      0.695      0.728      0.249\n"
          ]
        },
        {
          "output_type": "stream",
          "name": "stderr",
          "text": [
            "\n"
          ]
        },
        {
          "output_type": "stream",
          "name": "stdout",
          "text": [
            "\n",
            "      Epoch    GPU_mem   box_loss   cls_loss   dfl_loss  Instances       Size\n"
          ]
        },
        {
          "output_type": "stream",
          "name": "stderr",
          "text": [
            "     63/100      12.6G      1.316     0.7346      1.387          2        640: 100%|██████████| 13/13 [00:11<00:00,  1.09it/s]\n",
            "                 Class     Images  Instances      Box(P          R      mAP50  mAP50-95): 100%|██████████| 3/3 [00:01<00:00,  2.46it/s]"
          ]
        },
        {
          "output_type": "stream",
          "name": "stdout",
          "text": [
            "                   all        132        200      0.731       0.57      0.637      0.177\n"
          ]
        },
        {
          "output_type": "stream",
          "name": "stderr",
          "text": [
            "\n"
          ]
        },
        {
          "output_type": "stream",
          "name": "stdout",
          "text": [
            "\n",
            "      Epoch    GPU_mem   box_loss   cls_loss   dfl_loss  Instances       Size\n"
          ]
        },
        {
          "output_type": "stream",
          "name": "stderr",
          "text": [
            "     64/100      12.2G      1.347     0.7333      1.369          2        640: 100%|██████████| 13/13 [00:11<00:00,  1.09it/s]\n",
            "                 Class     Images  Instances      Box(P          R      mAP50  mAP50-95): 100%|██████████| 3/3 [00:01<00:00,  2.52it/s]"
          ]
        },
        {
          "output_type": "stream",
          "name": "stdout",
          "text": [
            "                   all        132        200      0.696       0.62      0.638      0.196\n"
          ]
        },
        {
          "output_type": "stream",
          "name": "stderr",
          "text": [
            "\n"
          ]
        },
        {
          "output_type": "stream",
          "name": "stdout",
          "text": [
            "\n",
            "      Epoch    GPU_mem   box_loss   cls_loss   dfl_loss  Instances       Size\n"
          ]
        },
        {
          "output_type": "stream",
          "name": "stderr",
          "text": [
            "     65/100      12.6G      1.326     0.7377      1.377          3        640: 100%|██████████| 13/13 [00:11<00:00,  1.09it/s]\n",
            "                 Class     Images  Instances      Box(P          R      mAP50  mAP50-95): 100%|██████████| 3/3 [00:01<00:00,  2.48it/s]"
          ]
        },
        {
          "output_type": "stream",
          "name": "stdout",
          "text": [
            "                   all        132        200      0.681       0.69      0.697       0.23\n"
          ]
        },
        {
          "output_type": "stream",
          "name": "stderr",
          "text": [
            "\n"
          ]
        },
        {
          "output_type": "stream",
          "name": "stdout",
          "text": [
            "\n",
            "      Epoch    GPU_mem   box_loss   cls_loss   dfl_loss  Instances       Size\n"
          ]
        },
        {
          "output_type": "stream",
          "name": "stderr",
          "text": [
            "     66/100      12.2G      1.237     0.7027      1.306          2        640: 100%|██████████| 13/13 [00:11<00:00,  1.08it/s]\n",
            "                 Class     Images  Instances      Box(P          R      mAP50  mAP50-95): 100%|██████████| 3/3 [00:01<00:00,  2.57it/s]"
          ]
        },
        {
          "output_type": "stream",
          "name": "stdout",
          "text": [
            "                   all        132        200      0.694      0.646      0.697      0.233\n"
          ]
        },
        {
          "output_type": "stream",
          "name": "stderr",
          "text": [
            "\n"
          ]
        },
        {
          "output_type": "stream",
          "name": "stdout",
          "text": [
            "\n",
            "      Epoch    GPU_mem   box_loss   cls_loss   dfl_loss  Instances       Size\n"
          ]
        },
        {
          "output_type": "stream",
          "name": "stderr",
          "text": [
            "     67/100      12.6G       1.21     0.7567      1.333          2        640: 100%|██████████| 13/13 [00:12<00:00,  1.08it/s]\n",
            "                 Class     Images  Instances      Box(P          R      mAP50  mAP50-95): 100%|██████████| 3/3 [00:01<00:00,  2.52it/s]"
          ]
        },
        {
          "output_type": "stream",
          "name": "stdout",
          "text": [
            "                   all        132        200      0.758      0.534      0.676      0.225\n"
          ]
        },
        {
          "output_type": "stream",
          "name": "stderr",
          "text": [
            "\n"
          ]
        },
        {
          "output_type": "stream",
          "name": "stdout",
          "text": [
            "\n",
            "      Epoch    GPU_mem   box_loss   cls_loss   dfl_loss  Instances       Size\n"
          ]
        },
        {
          "output_type": "stream",
          "name": "stderr",
          "text": [
            "     68/100      12.2G      1.155     0.6984      1.238          4        640: 100%|██████████| 13/13 [00:11<00:00,  1.08it/s]\n",
            "                 Class     Images  Instances      Box(P          R      mAP50  mAP50-95): 100%|██████████| 3/3 [00:01<00:00,  2.50it/s]"
          ]
        },
        {
          "output_type": "stream",
          "name": "stdout",
          "text": [
            "                   all        132        200      0.645      0.555      0.627       0.19\n"
          ]
        },
        {
          "output_type": "stream",
          "name": "stderr",
          "text": [
            "\n"
          ]
        },
        {
          "output_type": "stream",
          "name": "stdout",
          "text": [
            "\n",
            "      Epoch    GPU_mem   box_loss   cls_loss   dfl_loss  Instances       Size\n"
          ]
        },
        {
          "output_type": "stream",
          "name": "stderr",
          "text": [
            "     69/100      12.6G      1.179     0.6324      1.288          6        640: 100%|██████████| 13/13 [00:11<00:00,  1.09it/s]\n",
            "                 Class     Images  Instances      Box(P          R      mAP50  mAP50-95): 100%|██████████| 3/3 [00:01<00:00,  2.50it/s]"
          ]
        },
        {
          "output_type": "stream",
          "name": "stdout",
          "text": [
            "                   all        132        200      0.616      0.634      0.657      0.208\n"
          ]
        },
        {
          "output_type": "stream",
          "name": "stderr",
          "text": [
            "\n"
          ]
        },
        {
          "output_type": "stream",
          "name": "stdout",
          "text": [
            "\n",
            "      Epoch    GPU_mem   box_loss   cls_loss   dfl_loss  Instances       Size\n"
          ]
        },
        {
          "output_type": "stream",
          "name": "stderr",
          "text": [
            "     70/100      12.2G      1.227      0.722      1.298          4        640: 100%|██████████| 13/13 [00:12<00:00,  1.08it/s]\n",
            "                 Class     Images  Instances      Box(P          R      mAP50  mAP50-95): 100%|██████████| 3/3 [00:01<00:00,  2.58it/s]"
          ]
        },
        {
          "output_type": "stream",
          "name": "stdout",
          "text": [
            "                   all        132        200      0.642       0.57      0.633      0.198\n"
          ]
        },
        {
          "output_type": "stream",
          "name": "stderr",
          "text": [
            "\n"
          ]
        },
        {
          "output_type": "stream",
          "name": "stdout",
          "text": [
            "\n",
            "      Epoch    GPU_mem   box_loss   cls_loss   dfl_loss  Instances       Size\n"
          ]
        },
        {
          "output_type": "stream",
          "name": "stderr",
          "text": [
            "     71/100      12.6G      1.123     0.6399      1.241          3        640: 100%|██████████| 13/13 [00:12<00:00,  1.07it/s]\n",
            "                 Class     Images  Instances      Box(P          R      mAP50  mAP50-95): 100%|██████████| 3/3 [00:01<00:00,  2.53it/s]"
          ]
        },
        {
          "output_type": "stream",
          "name": "stdout",
          "text": [
            "                   all        132        200      0.639      0.636      0.675      0.221\n"
          ]
        },
        {
          "output_type": "stream",
          "name": "stderr",
          "text": [
            "\n"
          ]
        },
        {
          "output_type": "stream",
          "name": "stdout",
          "text": [
            "\n",
            "      Epoch    GPU_mem   box_loss   cls_loss   dfl_loss  Instances       Size\n"
          ]
        },
        {
          "output_type": "stream",
          "name": "stderr",
          "text": [
            "     72/100      12.2G       1.12     0.6662      1.237          6        640: 100%|██████████| 13/13 [00:12<00:00,  1.08it/s]\n",
            "                 Class     Images  Instances      Box(P          R      mAP50  mAP50-95): 100%|██████████| 3/3 [00:01<00:00,  2.55it/s]"
          ]
        },
        {
          "output_type": "stream",
          "name": "stdout",
          "text": [
            "                   all        132        200      0.668      0.572      0.626      0.206\n"
          ]
        },
        {
          "output_type": "stream",
          "name": "stderr",
          "text": [
            "\n"
          ]
        },
        {
          "output_type": "stream",
          "name": "stdout",
          "text": [
            "\n",
            "      Epoch    GPU_mem   box_loss   cls_loss   dfl_loss  Instances       Size\n"
          ]
        },
        {
          "output_type": "stream",
          "name": "stderr",
          "text": [
            "     73/100      12.6G      1.101     0.6831      1.247          2        640: 100%|██████████| 13/13 [00:11<00:00,  1.09it/s]\n",
            "                 Class     Images  Instances      Box(P          R      mAP50  mAP50-95): 100%|██████████| 3/3 [00:01<00:00,  2.44it/s]"
          ]
        },
        {
          "output_type": "stream",
          "name": "stdout",
          "text": [
            "                   all        132        200      0.669      0.577      0.626      0.204\n"
          ]
        },
        {
          "output_type": "stream",
          "name": "stderr",
          "text": [
            "\n"
          ]
        },
        {
          "output_type": "stream",
          "name": "stdout",
          "text": [
            "\n",
            "      Epoch    GPU_mem   box_loss   cls_loss   dfl_loss  Instances       Size\n"
          ]
        },
        {
          "output_type": "stream",
          "name": "stderr",
          "text": [
            "     74/100      12.2G      1.097     0.5909      1.262          5        640: 100%|██████████| 13/13 [00:12<00:00,  1.08it/s]\n",
            "                 Class     Images  Instances      Box(P          R      mAP50  mAP50-95): 100%|██████████| 3/3 [00:01<00:00,  2.51it/s]"
          ]
        },
        {
          "output_type": "stream",
          "name": "stdout",
          "text": [
            "                   all        132        200      0.685      0.655       0.69      0.227\n"
          ]
        },
        {
          "output_type": "stream",
          "name": "stderr",
          "text": [
            "\n"
          ]
        },
        {
          "output_type": "stream",
          "name": "stdout",
          "text": [
            "\n",
            "      Epoch    GPU_mem   box_loss   cls_loss   dfl_loss  Instances       Size\n"
          ]
        },
        {
          "output_type": "stream",
          "name": "stderr",
          "text": [
            "     75/100      12.6G        1.1     0.6561       1.25          6        640: 100%|██████████| 13/13 [00:11<00:00,  1.08it/s]\n",
            "                 Class     Images  Instances      Box(P          R      mAP50  mAP50-95): 100%|██████████| 3/3 [00:01<00:00,  2.47it/s]"
          ]
        },
        {
          "output_type": "stream",
          "name": "stdout",
          "text": [
            "                   all        132        200       0.67       0.62      0.645      0.217\n"
          ]
        },
        {
          "output_type": "stream",
          "name": "stderr",
          "text": [
            "\n"
          ]
        },
        {
          "output_type": "stream",
          "name": "stdout",
          "text": [
            "\n",
            "      Epoch    GPU_mem   box_loss   cls_loss   dfl_loss  Instances       Size\n"
          ]
        },
        {
          "output_type": "stream",
          "name": "stderr",
          "text": [
            "     76/100      12.2G      1.114      0.701      1.246          3        640: 100%|██████████| 13/13 [00:11<00:00,  1.08it/s]\n",
            "                 Class     Images  Instances      Box(P          R      mAP50  mAP50-95): 100%|██████████| 3/3 [00:01<00:00,  2.47it/s]"
          ]
        },
        {
          "output_type": "stream",
          "name": "stdout",
          "text": [
            "                   all        132        200       0.74      0.611      0.707      0.222\n"
          ]
        },
        {
          "output_type": "stream",
          "name": "stderr",
          "text": [
            "\n"
          ]
        },
        {
          "output_type": "stream",
          "name": "stdout",
          "text": [
            "\n",
            "      Epoch    GPU_mem   box_loss   cls_loss   dfl_loss  Instances       Size\n"
          ]
        },
        {
          "output_type": "stream",
          "name": "stderr",
          "text": [
            "     77/100      12.6G      1.077     0.6194      1.219          4        640: 100%|██████████| 13/13 [00:11<00:00,  1.09it/s]\n",
            "                 Class     Images  Instances      Box(P          R      mAP50  mAP50-95): 100%|██████████| 3/3 [00:01<00:00,  2.49it/s]"
          ]
        },
        {
          "output_type": "stream",
          "name": "stdout",
          "text": [
            "                   all        132        200       0.71       0.64      0.696      0.218\n"
          ]
        },
        {
          "output_type": "stream",
          "name": "stderr",
          "text": [
            "\n"
          ]
        },
        {
          "output_type": "stream",
          "name": "stdout",
          "text": [
            "\n",
            "      Epoch    GPU_mem   box_loss   cls_loss   dfl_loss  Instances       Size\n"
          ]
        },
        {
          "output_type": "stream",
          "name": "stderr",
          "text": [
            "     78/100      12.3G      1.023     0.5692      1.199          4        640: 100%|██████████| 13/13 [00:12<00:00,  1.08it/s]\n",
            "                 Class     Images  Instances      Box(P          R      mAP50  mAP50-95): 100%|██████████| 3/3 [00:01<00:00,  2.39it/s]"
          ]
        },
        {
          "output_type": "stream",
          "name": "stdout",
          "text": [
            "                   all        132        200      0.699      0.649       0.68      0.212\n"
          ]
        },
        {
          "output_type": "stream",
          "name": "stderr",
          "text": [
            "\n"
          ]
        },
        {
          "output_type": "stream",
          "name": "stdout",
          "text": [
            "\n",
            "      Epoch    GPU_mem   box_loss   cls_loss   dfl_loss  Instances       Size\n"
          ]
        },
        {
          "output_type": "stream",
          "name": "stderr",
          "text": [
            "     79/100      12.6G     0.9869     0.6069       1.17          4        640: 100%|██████████| 13/13 [00:11<00:00,  1.09it/s]\n",
            "                 Class     Images  Instances      Box(P          R      mAP50  mAP50-95): 100%|██████████| 3/3 [00:01<00:00,  2.32it/s]"
          ]
        },
        {
          "output_type": "stream",
          "name": "stdout",
          "text": [
            "                   all        132        200      0.689      0.599      0.625      0.199\n"
          ]
        },
        {
          "output_type": "stream",
          "name": "stderr",
          "text": [
            "\n"
          ]
        },
        {
          "output_type": "stream",
          "name": "stdout",
          "text": [
            "\n",
            "      Epoch    GPU_mem   box_loss   cls_loss   dfl_loss  Instances       Size\n"
          ]
        },
        {
          "output_type": "stream",
          "name": "stderr",
          "text": [
            "     80/100      12.2G     0.9349     0.5543      1.121          4        640: 100%|██████████| 13/13 [00:11<00:00,  1.09it/s]\n",
            "                 Class     Images  Instances      Box(P          R      mAP50  mAP50-95): 100%|██████████| 3/3 [00:01<00:00,  1.99it/s]"
          ]
        },
        {
          "output_type": "stream",
          "name": "stdout",
          "text": [
            "                   all        132        200      0.692       0.63      0.694      0.226\n"
          ]
        },
        {
          "output_type": "stream",
          "name": "stderr",
          "text": [
            "\n"
          ]
        },
        {
          "output_type": "stream",
          "name": "stdout",
          "text": [
            "\n",
            "      Epoch    GPU_mem   box_loss   cls_loss   dfl_loss  Instances       Size\n"
          ]
        },
        {
          "output_type": "stream",
          "name": "stderr",
          "text": [
            "     81/100      12.6G     0.9009     0.5551      1.113          3        640: 100%|██████████| 13/13 [00:11<00:00,  1.09it/s]\n",
            "                 Class     Images  Instances      Box(P          R      mAP50  mAP50-95): 100%|██████████| 3/3 [00:01<00:00,  1.94it/s]"
          ]
        },
        {
          "output_type": "stream",
          "name": "stdout",
          "text": [
            "                   all        132        200      0.738       0.65      0.697      0.239\n"
          ]
        },
        {
          "output_type": "stream",
          "name": "stderr",
          "text": [
            "\n"
          ]
        },
        {
          "output_type": "stream",
          "name": "stdout",
          "text": [
            "\n",
            "      Epoch    GPU_mem   box_loss   cls_loss   dfl_loss  Instances       Size\n"
          ]
        },
        {
          "output_type": "stream",
          "name": "stderr",
          "text": [
            "     82/100      12.2G      0.984     0.5558      1.154          4        640: 100%|██████████| 13/13 [00:11<00:00,  1.08it/s]\n",
            "                 Class     Images  Instances      Box(P          R      mAP50  mAP50-95): 100%|██████████| 3/3 [00:01<00:00,  2.06it/s]"
          ]
        },
        {
          "output_type": "stream",
          "name": "stdout",
          "text": [
            "                   all        132        200      0.816      0.615      0.715      0.248\n"
          ]
        },
        {
          "output_type": "stream",
          "name": "stderr",
          "text": [
            "\n"
          ]
        },
        {
          "output_type": "stream",
          "name": "stdout",
          "text": [
            "\n",
            "      Epoch    GPU_mem   box_loss   cls_loss   dfl_loss  Instances       Size\n"
          ]
        },
        {
          "output_type": "stream",
          "name": "stderr",
          "text": [
            "     83/100      12.6G     0.9598     0.5557      1.161          5        640: 100%|██████████| 13/13 [00:12<00:00,  1.08it/s]\n",
            "                 Class     Images  Instances      Box(P          R      mAP50  mAP50-95): 100%|██████████| 3/3 [00:01<00:00,  2.45it/s]"
          ]
        },
        {
          "output_type": "stream",
          "name": "stdout",
          "text": [
            "                   all        132        200      0.739      0.652      0.692      0.239\n"
          ]
        },
        {
          "output_type": "stream",
          "name": "stderr",
          "text": [
            "\n"
          ]
        },
        {
          "output_type": "stream",
          "name": "stdout",
          "text": [
            "\n",
            "      Epoch    GPU_mem   box_loss   cls_loss   dfl_loss  Instances       Size\n"
          ]
        },
        {
          "output_type": "stream",
          "name": "stderr",
          "text": [
            "     84/100      12.2G     0.9651     0.5543      1.182          4        640: 100%|██████████| 13/13 [00:12<00:00,  1.08it/s]\n",
            "                 Class     Images  Instances      Box(P          R      mAP50  mAP50-95): 100%|██████████| 3/3 [00:01<00:00,  2.49it/s]"
          ]
        },
        {
          "output_type": "stream",
          "name": "stdout",
          "text": [
            "                   all        132        200      0.709       0.65      0.687      0.223\n"
          ]
        },
        {
          "output_type": "stream",
          "name": "stderr",
          "text": [
            "\n"
          ]
        },
        {
          "output_type": "stream",
          "name": "stdout",
          "text": [
            "\n",
            "      Epoch    GPU_mem   box_loss   cls_loss   dfl_loss  Instances       Size\n"
          ]
        },
        {
          "output_type": "stream",
          "name": "stderr",
          "text": [
            "     85/100      12.5G     0.9221     0.5709      1.098          4        640: 100%|██████████| 13/13 [00:12<00:00,  1.07it/s]\n",
            "                 Class     Images  Instances      Box(P          R      mAP50  mAP50-95): 100%|██████████| 3/3 [00:01<00:00,  2.51it/s]"
          ]
        },
        {
          "output_type": "stream",
          "name": "stdout",
          "text": [
            "                   all        132        200      0.666      0.668       0.69       0.22\n"
          ]
        },
        {
          "output_type": "stream",
          "name": "stderr",
          "text": [
            "\n"
          ]
        },
        {
          "output_type": "stream",
          "name": "stdout",
          "text": [
            "\n",
            "      Epoch    GPU_mem   box_loss   cls_loss   dfl_loss  Instances       Size\n"
          ]
        },
        {
          "output_type": "stream",
          "name": "stderr",
          "text": [
            "     86/100      12.3G     0.8003     0.5418      1.014          0        640: 100%|██████████| 13/13 [00:11<00:00,  1.09it/s]\n",
            "                 Class     Images  Instances      Box(P          R      mAP50  mAP50-95): 100%|██████████| 3/3 [00:01<00:00,  2.52it/s]"
          ]
        },
        {
          "output_type": "stream",
          "name": "stdout",
          "text": [
            "                   all        132        200      0.693      0.675      0.694      0.235\n"
          ]
        },
        {
          "output_type": "stream",
          "name": "stderr",
          "text": [
            "\n"
          ]
        },
        {
          "output_type": "stream",
          "name": "stdout",
          "text": [
            "\n",
            "      Epoch    GPU_mem   box_loss   cls_loss   dfl_loss  Instances       Size\n"
          ]
        },
        {
          "output_type": "stream",
          "name": "stderr",
          "text": [
            "     87/100      12.6G     0.8827     0.5386      1.083          5        640: 100%|██████████| 13/13 [00:11<00:00,  1.09it/s]\n",
            "                 Class     Images  Instances      Box(P          R      mAP50  mAP50-95): 100%|██████████| 3/3 [00:01<00:00,  2.44it/s]"
          ]
        },
        {
          "output_type": "stream",
          "name": "stdout",
          "text": [
            "                   all        132        200      0.752      0.606      0.702      0.235\n"
          ]
        },
        {
          "output_type": "stream",
          "name": "stderr",
          "text": [
            "\n"
          ]
        },
        {
          "output_type": "stream",
          "name": "stdout",
          "text": [
            "\n",
            "      Epoch    GPU_mem   box_loss   cls_loss   dfl_loss  Instances       Size\n"
          ]
        },
        {
          "output_type": "stream",
          "name": "stderr",
          "text": [
            "     88/100      12.2G     0.8493     0.5137      1.095          5        640: 100%|██████████| 13/13 [00:11<00:00,  1.09it/s]\n",
            "                 Class     Images  Instances      Box(P          R      mAP50  mAP50-95): 100%|██████████| 3/3 [00:01<00:00,  2.48it/s]"
          ]
        },
        {
          "output_type": "stream",
          "name": "stdout",
          "text": [
            "                   all        132        200      0.736      0.614      0.697      0.235\n"
          ]
        },
        {
          "output_type": "stream",
          "name": "stderr",
          "text": [
            "\n"
          ]
        },
        {
          "output_type": "stream",
          "name": "stdout",
          "text": [
            "\n",
            "      Epoch    GPU_mem   box_loss   cls_loss   dfl_loss  Instances       Size\n"
          ]
        },
        {
          "output_type": "stream",
          "name": "stderr",
          "text": [
            "     89/100      12.6G     0.7739     0.4566       1.03          3        640: 100%|██████████| 13/13 [00:11<00:00,  1.09it/s]\n",
            "                 Class     Images  Instances      Box(P          R      mAP50  mAP50-95): 100%|██████████| 3/3 [00:01<00:00,  2.58it/s]"
          ]
        },
        {
          "output_type": "stream",
          "name": "stdout",
          "text": [
            "                   all        132        200      0.735      0.625      0.707      0.244\n"
          ]
        },
        {
          "output_type": "stream",
          "name": "stderr",
          "text": [
            "\n"
          ]
        },
        {
          "output_type": "stream",
          "name": "stdout",
          "text": [
            "\n",
            "      Epoch    GPU_mem   box_loss   cls_loss   dfl_loss  Instances       Size\n"
          ]
        },
        {
          "output_type": "stream",
          "name": "stderr",
          "text": [
            "     90/100      12.2G     0.8196     0.4685      1.036          2        640: 100%|██████████| 13/13 [00:11<00:00,  1.09it/s]\n",
            "                 Class     Images  Instances      Box(P          R      mAP50  mAP50-95): 100%|██████████| 3/3 [00:01<00:00,  2.53it/s]"
          ]
        },
        {
          "output_type": "stream",
          "name": "stdout",
          "text": [
            "                   all        132        200      0.759      0.583      0.687      0.228\n"
          ]
        },
        {
          "output_type": "stream",
          "name": "stderr",
          "text": [
            "\n"
          ]
        },
        {
          "output_type": "stream",
          "name": "stdout",
          "text": [
            "Closing dataloader mosaic\n",
            "\u001b[34m\u001b[1malbumentations: \u001b[0mBlur(p=0.01, blur_limit=(3, 7)), MedianBlur(p=0.01, blur_limit=(3, 7)), ToGray(p=0.01, method='weighted_average', num_output_channels=3), CLAHE(p=0.01, clip_limit=(1.0, 4.0), tile_grid_size=(8, 8))\n",
            "\n",
            "      Epoch    GPU_mem   box_loss   cls_loss   dfl_loss  Instances       Size\n"
          ]
        },
        {
          "output_type": "stream",
          "name": "stderr",
          "text": [
            "     91/100      12.6G     0.7824      0.477      1.082          2        640: 100%|██████████| 13/13 [00:13<00:00,  1.02s/it]\n",
            "                 Class     Images  Instances      Box(P          R      mAP50  mAP50-95): 100%|██████████| 3/3 [00:01<00:00,  2.55it/s]"
          ]
        },
        {
          "output_type": "stream",
          "name": "stdout",
          "text": [
            "                   all        132        200      0.575       0.71      0.707       0.24\n"
          ]
        },
        {
          "output_type": "stream",
          "name": "stderr",
          "text": [
            "\n"
          ]
        },
        {
          "output_type": "stream",
          "name": "stdout",
          "text": [
            "\n",
            "      Epoch    GPU_mem   box_loss   cls_loss   dfl_loss  Instances       Size\n"
          ]
        },
        {
          "output_type": "stream",
          "name": "stderr",
          "text": [
            "     92/100      12.2G     0.7637     0.4272      1.115          2        640: 100%|██████████| 13/13 [00:11<00:00,  1.08it/s]\n",
            "                 Class     Images  Instances      Box(P          R      mAP50  mAP50-95): 100%|██████████| 3/3 [00:01<00:00,  2.54it/s]"
          ]
        },
        {
          "output_type": "stream",
          "name": "stdout",
          "text": [
            "                   all        132        200      0.728      0.595       0.69      0.231\n"
          ]
        },
        {
          "output_type": "stream",
          "name": "stderr",
          "text": [
            "\n"
          ]
        },
        {
          "output_type": "stream",
          "name": "stdout",
          "text": [
            "\n",
            "      Epoch    GPU_mem   box_loss   cls_loss   dfl_loss  Instances       Size\n"
          ]
        },
        {
          "output_type": "stream",
          "name": "stderr",
          "text": [
            "     93/100      12.6G     0.8163      0.533      1.159          3        640: 100%|██████████| 13/13 [00:12<00:00,  1.08it/s]\n",
            "                 Class     Images  Instances      Box(P          R      mAP50  mAP50-95): 100%|██████████| 3/3 [00:01<00:00,  2.54it/s]"
          ]
        },
        {
          "output_type": "stream",
          "name": "stdout",
          "text": [
            "                   all        132        200      0.739      0.638      0.698      0.227\n"
          ]
        },
        {
          "output_type": "stream",
          "name": "stderr",
          "text": [
            "\n"
          ]
        },
        {
          "output_type": "stream",
          "name": "stdout",
          "text": [
            "\n",
            "      Epoch    GPU_mem   box_loss   cls_loss   dfl_loss  Instances       Size\n"
          ]
        },
        {
          "output_type": "stream",
          "name": "stderr",
          "text": [
            "     94/100      12.2G     0.7869     0.4436      1.065          3        640: 100%|██████████| 13/13 [00:12<00:00,  1.08it/s]\n",
            "                 Class     Images  Instances      Box(P          R      mAP50  mAP50-95): 100%|██████████| 3/3 [00:01<00:00,  2.61it/s]"
          ]
        },
        {
          "output_type": "stream",
          "name": "stdout",
          "text": [
            "                   all        132        200      0.707      0.595      0.686       0.22\n"
          ]
        },
        {
          "output_type": "stream",
          "name": "stderr",
          "text": [
            "\n"
          ]
        },
        {
          "output_type": "stream",
          "name": "stdout",
          "text": [
            "\n",
            "      Epoch    GPU_mem   box_loss   cls_loss   dfl_loss  Instances       Size\n"
          ]
        },
        {
          "output_type": "stream",
          "name": "stderr",
          "text": [
            "     95/100      12.6G     0.7138     0.4063      1.073          4        640: 100%|██████████| 13/13 [00:11<00:00,  1.09it/s]\n",
            "                 Class     Images  Instances      Box(P          R      mAP50  mAP50-95): 100%|██████████| 3/3 [00:01<00:00,  2.47it/s]"
          ]
        },
        {
          "output_type": "stream",
          "name": "stdout",
          "text": [
            "                   all        132        200      0.709       0.59      0.667      0.212\n"
          ]
        },
        {
          "output_type": "stream",
          "name": "stderr",
          "text": [
            "\n"
          ]
        },
        {
          "output_type": "stream",
          "name": "stdout",
          "text": [
            "\n",
            "      Epoch    GPU_mem   box_loss   cls_loss   dfl_loss  Instances       Size\n"
          ]
        },
        {
          "output_type": "stream",
          "name": "stderr",
          "text": [
            "     96/100      12.2G     0.7023     0.4118      1.049          3        640: 100%|██████████| 13/13 [00:11<00:00,  1.08it/s]\n",
            "                 Class     Images  Instances      Box(P          R      mAP50  mAP50-95): 100%|██████████| 3/3 [00:01<00:00,  2.62it/s]"
          ]
        },
        {
          "output_type": "stream",
          "name": "stdout",
          "text": [
            "                   all        132        200      0.705      0.622      0.698      0.236\n"
          ]
        },
        {
          "output_type": "stream",
          "name": "stderr",
          "text": [
            "\n"
          ]
        },
        {
          "output_type": "stream",
          "name": "stdout",
          "text": [
            "\n",
            "      Epoch    GPU_mem   box_loss   cls_loss   dfl_loss  Instances       Size\n"
          ]
        },
        {
          "output_type": "stream",
          "name": "stderr",
          "text": [
            "     97/100      12.6G     0.6833     0.4137      1.047          3        640: 100%|██████████| 13/13 [00:11<00:00,  1.09it/s]\n",
            "                 Class     Images  Instances      Box(P          R      mAP50  mAP50-95): 100%|██████████| 3/3 [00:01<00:00,  2.38it/s]"
          ]
        },
        {
          "output_type": "stream",
          "name": "stdout",
          "text": [
            "                   all        132        200      0.703      0.639      0.702      0.239\n"
          ]
        },
        {
          "output_type": "stream",
          "name": "stderr",
          "text": [
            "\n"
          ]
        },
        {
          "output_type": "stream",
          "name": "stdout",
          "text": [
            "\n",
            "      Epoch    GPU_mem   box_loss   cls_loss   dfl_loss  Instances       Size\n"
          ]
        },
        {
          "output_type": "stream",
          "name": "stderr",
          "text": [
            "     98/100      12.2G     0.7296     0.4207      1.093          3        640: 100%|██████████| 13/13 [00:11<00:00,  1.09it/s]\n",
            "                 Class     Images  Instances      Box(P          R      mAP50  mAP50-95): 100%|██████████| 3/3 [00:01<00:00,  2.49it/s]"
          ]
        },
        {
          "output_type": "stream",
          "name": "stdout",
          "text": [
            "                   all        132        200      0.691       0.64      0.685      0.228\n"
          ]
        },
        {
          "output_type": "stream",
          "name": "stderr",
          "text": [
            "\n"
          ]
        },
        {
          "output_type": "stream",
          "name": "stdout",
          "text": [
            "\n",
            "      Epoch    GPU_mem   box_loss   cls_loss   dfl_loss  Instances       Size\n"
          ]
        },
        {
          "output_type": "stream",
          "name": "stderr",
          "text": [
            "     99/100      12.6G     0.6695      0.386      1.049          2        640: 100%|██████████| 13/13 [00:12<00:00,  1.07it/s]\n",
            "                 Class     Images  Instances      Box(P          R      mAP50  mAP50-95): 100%|██████████| 3/3 [00:01<00:00,  2.45it/s]"
          ]
        },
        {
          "output_type": "stream",
          "name": "stdout",
          "text": [
            "                   all        132        200      0.715       0.64      0.695      0.226\n"
          ]
        },
        {
          "output_type": "stream",
          "name": "stderr",
          "text": [
            "\n"
          ]
        },
        {
          "output_type": "stream",
          "name": "stdout",
          "text": [
            "\n",
            "      Epoch    GPU_mem   box_loss   cls_loss   dfl_loss  Instances       Size\n"
          ]
        },
        {
          "output_type": "stream",
          "name": "stderr",
          "text": [
            "    100/100      12.2G     0.6073     0.3549     0.9639          2        640: 100%|██████████| 13/13 [00:11<00:00,  1.09it/s]\n",
            "                 Class     Images  Instances      Box(P          R      mAP50  mAP50-95): 100%|██████████| 3/3 [00:01<00:00,  2.58it/s]"
          ]
        },
        {
          "output_type": "stream",
          "name": "stdout",
          "text": [
            "                   all        132        200        0.7      0.653      0.707       0.23\n"
          ]
        },
        {
          "output_type": "stream",
          "name": "stderr",
          "text": [
            "\n"
          ]
        },
        {
          "output_type": "stream",
          "name": "stdout",
          "text": [
            "\n",
            "100 epochs completed in 0.408 hours.\n",
            "Optimizer stripped from runs/detect/train2/weights/last.pt, 52.0MB\n",
            "Optimizer stripped from runs/detect/train2/weights/best.pt, 52.0MB\n",
            "\n",
            "Validating runs/detect/train2/weights/best.pt...\n",
            "Ultralytics 8.3.150 🚀 Python-3.11.12 torch-2.6.0+cu124 CUDA:0 (Tesla T4, 15095MiB)\n",
            "Model summary (fused): 92 layers, 25,840,918 parameters, 0 gradients, 78.7 GFLOPs\n"
          ]
        },
        {
          "output_type": "stream",
          "name": "stderr",
          "text": [
            "                 Class     Images  Instances      Box(P          R      mAP50  mAP50-95): 100%|██████████| 3/3 [00:03<00:00,  1.07s/it]\n"
          ]
        },
        {
          "output_type": "stream",
          "name": "stdout",
          "text": [
            "                   all        132        200      0.712      0.667      0.737      0.242\n",
            "              infected        103        200      0.712      0.667      0.737      0.242\n",
            "Speed: 0.1ms preprocess, 18.3ms inference, 0.0ms loss, 2.3ms postprocess per image\n",
            "Results saved to \u001b[1mruns/detect/train2\u001b[0m\n"
          ]
        },
        {
          "output_type": "execute_result",
          "data": {
            "text/plain": [
              "ultralytics.utils.metrics.DetMetrics object with attributes:\n",
              "\n",
              "ap_class_index: array([1])\n",
              "box: ultralytics.utils.metrics.Metric object\n",
              "confusion_matrix: <ultralytics.utils.metrics.ConfusionMatrix object at 0x7f85d0226e90>\n",
              "curves: ['Precision-Recall(B)', 'F1-Confidence(B)', 'Precision-Confidence(B)', 'Recall-Confidence(B)']\n",
              "curves_results: [[array([          0,    0.001001,    0.002002,    0.003003,    0.004004,    0.005005,    0.006006,    0.007007,    0.008008,    0.009009,     0.01001,    0.011011,    0.012012,    0.013013,    0.014014,    0.015015,    0.016016,    0.017017,    0.018018,    0.019019,     0.02002,    0.021021,    0.022022,    0.023023,\n",
              "          0.024024,    0.025025,    0.026026,    0.027027,    0.028028,    0.029029,     0.03003,    0.031031,    0.032032,    0.033033,    0.034034,    0.035035,    0.036036,    0.037037,    0.038038,    0.039039,     0.04004,    0.041041,    0.042042,    0.043043,    0.044044,    0.045045,    0.046046,    0.047047,\n",
              "          0.048048,    0.049049,     0.05005,    0.051051,    0.052052,    0.053053,    0.054054,    0.055055,    0.056056,    0.057057,    0.058058,    0.059059,     0.06006,    0.061061,    0.062062,    0.063063,    0.064064,    0.065065,    0.066066,    0.067067,    0.068068,    0.069069,     0.07007,    0.071071,\n",
              "          0.072072,    0.073073,    0.074074,    0.075075,    0.076076,    0.077077,    0.078078,    0.079079,     0.08008,    0.081081,    0.082082,    0.083083,    0.084084,    0.085085,    0.086086,    0.087087,    0.088088,    0.089089,     0.09009,    0.091091,    0.092092,    0.093093,    0.094094,    0.095095,\n",
              "          0.096096,    0.097097,    0.098098,    0.099099,      0.1001,      0.1011,      0.1021,      0.1031,      0.1041,     0.10511,     0.10611,     0.10711,     0.10811,     0.10911,     0.11011,     0.11111,     0.11211,     0.11311,     0.11411,     0.11512,     0.11612,     0.11712,     0.11812,     0.11912,\n",
              "           0.12012,     0.12112,     0.12212,     0.12312,     0.12412,     0.12513,     0.12613,     0.12713,     0.12813,     0.12913,     0.13013,     0.13113,     0.13213,     0.13313,     0.13413,     0.13514,     0.13614,     0.13714,     0.13814,     0.13914,     0.14014,     0.14114,     0.14214,     0.14314,\n",
              "           0.14414,     0.14515,     0.14615,     0.14715,     0.14815,     0.14915,     0.15015,     0.15115,     0.15215,     0.15315,     0.15415,     0.15516,     0.15616,     0.15716,     0.15816,     0.15916,     0.16016,     0.16116,     0.16216,     0.16316,     0.16416,     0.16517,     0.16617,     0.16717,\n",
              "           0.16817,     0.16917,     0.17017,     0.17117,     0.17217,     0.17317,     0.17417,     0.17518,     0.17618,     0.17718,     0.17818,     0.17918,     0.18018,     0.18118,     0.18218,     0.18318,     0.18418,     0.18519,     0.18619,     0.18719,     0.18819,     0.18919,     0.19019,     0.19119,\n",
              "           0.19219,     0.19319,     0.19419,      0.1952,      0.1962,      0.1972,      0.1982,      0.1992,      0.2002,      0.2012,      0.2022,      0.2032,      0.2042,     0.20521,     0.20621,     0.20721,     0.20821,     0.20921,     0.21021,     0.21121,     0.21221,     0.21321,     0.21421,     0.21522,\n",
              "           0.21622,     0.21722,     0.21822,     0.21922,     0.22022,     0.22122,     0.22222,     0.22322,     0.22422,     0.22523,     0.22623,     0.22723,     0.22823,     0.22923,     0.23023,     0.23123,     0.23223,     0.23323,     0.23423,     0.23524,     0.23624,     0.23724,     0.23824,     0.23924,\n",
              "           0.24024,     0.24124,     0.24224,     0.24324,     0.24424,     0.24525,     0.24625,     0.24725,     0.24825,     0.24925,     0.25025,     0.25125,     0.25225,     0.25325,     0.25425,     0.25526,     0.25626,     0.25726,     0.25826,     0.25926,     0.26026,     0.26126,     0.26226,     0.26326,\n",
              "           0.26426,     0.26527,     0.26627,     0.26727,     0.26827,     0.26927,     0.27027,     0.27127,     0.27227,     0.27327,     0.27427,     0.27528,     0.27628,     0.27728,     0.27828,     0.27928,     0.28028,     0.28128,     0.28228,     0.28328,     0.28428,     0.28529,     0.28629,     0.28729,\n",
              "           0.28829,     0.28929,     0.29029,     0.29129,     0.29229,     0.29329,     0.29429,      0.2953,      0.2963,      0.2973,      0.2983,      0.2993,      0.3003,      0.3013,      0.3023,      0.3033,      0.3043,     0.30531,     0.30631,     0.30731,     0.30831,     0.30931,     0.31031,     0.31131,\n",
              "           0.31231,     0.31331,     0.31431,     0.31532,     0.31632,     0.31732,     0.31832,     0.31932,     0.32032,     0.32132,     0.32232,     0.32332,     0.32432,     0.32533,     0.32633,     0.32733,     0.32833,     0.32933,     0.33033,     0.33133,     0.33233,     0.33333,     0.33433,     0.33534,\n",
              "           0.33634,     0.33734,     0.33834,     0.33934,     0.34034,     0.34134,     0.34234,     0.34334,     0.34434,     0.34535,     0.34635,     0.34735,     0.34835,     0.34935,     0.35035,     0.35135,     0.35235,     0.35335,     0.35435,     0.35536,     0.35636,     0.35736,     0.35836,     0.35936,\n",
              "           0.36036,     0.36136,     0.36236,     0.36336,     0.36436,     0.36537,     0.36637,     0.36737,     0.36837,     0.36937,     0.37037,     0.37137,     0.37237,     0.37337,     0.37437,     0.37538,     0.37638,     0.37738,     0.37838,     0.37938,     0.38038,     0.38138,     0.38238,     0.38338,\n",
              "           0.38438,     0.38539,     0.38639,     0.38739,     0.38839,     0.38939,     0.39039,     0.39139,     0.39239,     0.39339,     0.39439,      0.3954,      0.3964,      0.3974,      0.3984,      0.3994,      0.4004,      0.4014,      0.4024,      0.4034,      0.4044,     0.40541,     0.40641,     0.40741,\n",
              "           0.40841,     0.40941,     0.41041,     0.41141,     0.41241,     0.41341,     0.41441,     0.41542,     0.41642,     0.41742,     0.41842,     0.41942,     0.42042,     0.42142,     0.42242,     0.42342,     0.42442,     0.42543,     0.42643,     0.42743,     0.42843,     0.42943,     0.43043,     0.43143,\n",
              "           0.43243,     0.43343,     0.43443,     0.43544,     0.43644,     0.43744,     0.43844,     0.43944,     0.44044,     0.44144,     0.44244,     0.44344,     0.44444,     0.44545,     0.44645,     0.44745,     0.44845,     0.44945,     0.45045,     0.45145,     0.45245,     0.45345,     0.45445,     0.45546,\n",
              "           0.45646,     0.45746,     0.45846,     0.45946,     0.46046,     0.46146,     0.46246,     0.46346,     0.46446,     0.46547,     0.46647,     0.46747,     0.46847,     0.46947,     0.47047,     0.47147,     0.47247,     0.47347,     0.47447,     0.47548,     0.47648,     0.47748,     0.47848,     0.47948,\n",
              "           0.48048,     0.48148,     0.48248,     0.48348,     0.48448,     0.48549,     0.48649,     0.48749,     0.48849,     0.48949,     0.49049,     0.49149,     0.49249,     0.49349,     0.49449,      0.4955,      0.4965,      0.4975,      0.4985,      0.4995,      0.5005,      0.5015,      0.5025,      0.5035,\n",
              "            0.5045,     0.50551,     0.50651,     0.50751,     0.50851,     0.50951,     0.51051,     0.51151,     0.51251,     0.51351,     0.51451,     0.51552,     0.51652,     0.51752,     0.51852,     0.51952,     0.52052,     0.52152,     0.52252,     0.52352,     0.52452,     0.52553,     0.52653,     0.52753,\n",
              "           0.52853,     0.52953,     0.53053,     0.53153,     0.53253,     0.53353,     0.53453,     0.53554,     0.53654,     0.53754,     0.53854,     0.53954,     0.54054,     0.54154,     0.54254,     0.54354,     0.54454,     0.54555,     0.54655,     0.54755,     0.54855,     0.54955,     0.55055,     0.55155,\n",
              "           0.55255,     0.55355,     0.55455,     0.55556,     0.55656,     0.55756,     0.55856,     0.55956,     0.56056,     0.56156,     0.56256,     0.56356,     0.56456,     0.56557,     0.56657,     0.56757,     0.56857,     0.56957,     0.57057,     0.57157,     0.57257,     0.57357,     0.57457,     0.57558,\n",
              "           0.57658,     0.57758,     0.57858,     0.57958,     0.58058,     0.58158,     0.58258,     0.58358,     0.58458,     0.58559,     0.58659,     0.58759,     0.58859,     0.58959,     0.59059,     0.59159,     0.59259,     0.59359,     0.59459,      0.5956,      0.5966,      0.5976,      0.5986,      0.5996,\n",
              "            0.6006,      0.6016,      0.6026,      0.6036,      0.6046,     0.60561,     0.60661,     0.60761,     0.60861,     0.60961,     0.61061,     0.61161,     0.61261,     0.61361,     0.61461,     0.61562,     0.61662,     0.61762,     0.61862,     0.61962,     0.62062,     0.62162,     0.62262,     0.62362,\n",
              "           0.62462,     0.62563,     0.62663,     0.62763,     0.62863,     0.62963,     0.63063,     0.63163,     0.63263,     0.63363,     0.63463,     0.63564,     0.63664,     0.63764,     0.63864,     0.63964,     0.64064,     0.64164,     0.64264,     0.64364,     0.64464,     0.64565,     0.64665,     0.64765,\n",
              "           0.64865,     0.64965,     0.65065,     0.65165,     0.65265,     0.65365,     0.65465,     0.65566,     0.65666,     0.65766,     0.65866,     0.65966,     0.66066,     0.66166,     0.66266,     0.66366,     0.66466,     0.66567,     0.66667,     0.66767,     0.66867,     0.66967,     0.67067,     0.67167,\n",
              "           0.67267,     0.67367,     0.67467,     0.67568,     0.67668,     0.67768,     0.67868,     0.67968,     0.68068,     0.68168,     0.68268,     0.68368,     0.68468,     0.68569,     0.68669,     0.68769,     0.68869,     0.68969,     0.69069,     0.69169,     0.69269,     0.69369,     0.69469,      0.6957,\n",
              "            0.6967,      0.6977,      0.6987,      0.6997,      0.7007,      0.7017,      0.7027,      0.7037,      0.7047,     0.70571,     0.70671,     0.70771,     0.70871,     0.70971,     0.71071,     0.71171,     0.71271,     0.71371,     0.71471,     0.71572,     0.71672,     0.71772,     0.71872,     0.71972,\n",
              "           0.72072,     0.72172,     0.72272,     0.72372,     0.72472,     0.72573,     0.72673,     0.72773,     0.72873,     0.72973,     0.73073,     0.73173,     0.73273,     0.73373,     0.73473,     0.73574,     0.73674,     0.73774,     0.73874,     0.73974,     0.74074,     0.74174,     0.74274,     0.74374,\n",
              "           0.74474,     0.74575,     0.74675,     0.74775,     0.74875,     0.74975,     0.75075,     0.75175,     0.75275,     0.75375,     0.75475,     0.75576,     0.75676,     0.75776,     0.75876,     0.75976,     0.76076,     0.76176,     0.76276,     0.76376,     0.76476,     0.76577,     0.76677,     0.76777,\n",
              "           0.76877,     0.76977,     0.77077,     0.77177,     0.77277,     0.77377,     0.77477,     0.77578,     0.77678,     0.77778,     0.77878,     0.77978,     0.78078,     0.78178,     0.78278,     0.78378,     0.78478,     0.78579,     0.78679,     0.78779,     0.78879,     0.78979,     0.79079,     0.79179,\n",
              "           0.79279,     0.79379,     0.79479,      0.7958,      0.7968,      0.7978,      0.7988,      0.7998,      0.8008,      0.8018,      0.8028,      0.8038,      0.8048,     0.80581,     0.80681,     0.80781,     0.80881,     0.80981,     0.81081,     0.81181,     0.81281,     0.81381,     0.81481,     0.81582,\n",
              "           0.81682,     0.81782,     0.81882,     0.81982,     0.82082,     0.82182,     0.82282,     0.82382,     0.82482,     0.82583,     0.82683,     0.82783,     0.82883,     0.82983,     0.83083,     0.83183,     0.83283,     0.83383,     0.83483,     0.83584,     0.83684,     0.83784,     0.83884,     0.83984,\n",
              "           0.84084,     0.84184,     0.84284,     0.84384,     0.84484,     0.84585,     0.84685,     0.84785,     0.84885,     0.84985,     0.85085,     0.85185,     0.85285,     0.85385,     0.85485,     0.85586,     0.85686,     0.85786,     0.85886,     0.85986,     0.86086,     0.86186,     0.86286,     0.86386,\n",
              "           0.86486,     0.86587,     0.86687,     0.86787,     0.86887,     0.86987,     0.87087,     0.87187,     0.87287,     0.87387,     0.87487,     0.87588,     0.87688,     0.87788,     0.87888,     0.87988,     0.88088,     0.88188,     0.88288,     0.88388,     0.88488,     0.88589,     0.88689,     0.88789,\n",
              "           0.88889,     0.88989,     0.89089,     0.89189,     0.89289,     0.89389,     0.89489,      0.8959,      0.8969,      0.8979,      0.8989,      0.8999,      0.9009,      0.9019,      0.9029,      0.9039,      0.9049,     0.90591,     0.90691,     0.90791,     0.90891,     0.90991,     0.91091,     0.91191,\n",
              "           0.91291,     0.91391,     0.91491,     0.91592,     0.91692,     0.91792,     0.91892,     0.91992,     0.92092,     0.92192,     0.92292,     0.92392,     0.92492,     0.92593,     0.92693,     0.92793,     0.92893,     0.92993,     0.93093,     0.93193,     0.93293,     0.93393,     0.93493,     0.93594,\n",
              "           0.93694,     0.93794,     0.93894,     0.93994,     0.94094,     0.94194,     0.94294,     0.94394,     0.94494,     0.94595,     0.94695,     0.94795,     0.94895,     0.94995,     0.95095,     0.95195,     0.95295,     0.95395,     0.95495,     0.95596,     0.95696,     0.95796,     0.95896,     0.95996,\n",
              "           0.96096,     0.96196,     0.96296,     0.96396,     0.96496,     0.96597,     0.96697,     0.96797,     0.96897,     0.96997,     0.97097,     0.97197,     0.97297,     0.97397,     0.97497,     0.97598,     0.97698,     0.97798,     0.97898,     0.97998,     0.98098,     0.98198,     0.98298,     0.98398,\n",
              "           0.98498,     0.98599,     0.98699,     0.98799,     0.98899,     0.98999,     0.99099,     0.99199,     0.99299,     0.99399,     0.99499,       0.996,       0.997,       0.998,       0.999,           1]), array([[          1,           1,           1,           1,           1,           1,           1,           1,           1,           1,           1,           1,           1,           1,           1,           1,           1,           1,           1,           1,           1,           1,           1,\n",
              "                  1,           1,           1,           1,           1,           1,           1,           1,           1,           1,           1,           1,           1,           1,           1,           1,           1,           1,           1,           1,           1,           1,           1,\n",
              "                  1,           1,           1,           1,           1,           1,           1,           1,           1,           1,           1,           1,           1,           1,           1,           1,           1,           1,           1,           1,           1,           1,           1,\n",
              "                  1,           1,           1,           1,           1,           1,           1,           1,           1,           1,           1,           1,           1,           1,           1,           1,           1,           1,           1,           1,           1,           1,           1,\n",
              "                  1,           1,           1,           1,           1,           1,           1,           1,           1,           1,           1,           1,           1,           1,           1,           1,           1,           1,           1,           1,           1,           1,           1,\n",
              "             0.9697,      0.9697,      0.9697,      0.9697,      0.9697,      0.9697,      0.9697,      0.9697,      0.9697,      0.9697,      0.9697,      0.9697,      0.9697,      0.9697,      0.9697,      0.9697,      0.9697,      0.9697,      0.9697,      0.9697,      0.9697,      0.9697,      0.9697,\n",
              "             0.9697,      0.9697,      0.9697,      0.9697,      0.9697,      0.9697,      0.9697,      0.9697,      0.9697,      0.9697,      0.9697,      0.9697,      0.9697,      0.9697,      0.9697,      0.9697,      0.9697,      0.9697,      0.9697,      0.9697,      0.9697,      0.9697,     0.94737,\n",
              "            0.94737,     0.94737,     0.94737,     0.94737,     0.94737,     0.94737,     0.94737,     0.94737,     0.94737,     0.94737,     0.94737,     0.94737,     0.94737,     0.94737,     0.94737,     0.94737,     0.94737,     0.94737,     0.94737,     0.92683,     0.92683,     0.92683,     0.92683,\n",
              "            0.92683,     0.92683,     0.92683,     0.92683,     0.92683,     0.92683,     0.91935,     0.91935,     0.91935,     0.91935,     0.91935,     0.91935,     0.91935,     0.91935,     0.91935,     0.91935,     0.91935,     0.91935,     0.91935,     0.91935,     0.91935,     0.91935,     0.91935,\n",
              "            0.91935,     0.91935,     0.91935,     0.91935,     0.91935,     0.91935,     0.91935,     0.91935,     0.91935,     0.91935,     0.91935,     0.91935,     0.91935,     0.91935,     0.91935,     0.91935,     0.91935,     0.91935,     0.91935,     0.91935,     0.91935,     0.91935,     0.91935,\n",
              "            0.91935,     0.91935,     0.91935,     0.91935,     0.91935,     0.91935,     0.91935,     0.91935,     0.91935,     0.91935,     0.91935,     0.91935,     0.91935,     0.91935,     0.91935,     0.91935,     0.91935,     0.91935,     0.91935,     0.91935,     0.91935,     0.91935,     0.91935,\n",
              "            0.91935,     0.91935,     0.91935,     0.91935,     0.91935,     0.91935,     0.91935,     0.91935,     0.91935,     0.91935,     0.91935,     0.91935,     0.91935,     0.91935,     0.91935,     0.91935,     0.91935,     0.91935,     0.91935,     0.91935,     0.91935,     0.91935,     0.91935,\n",
              "            0.91935,     0.91935,     0.91935,     0.91935,     0.91935,     0.91935,     0.91935,     0.91935,     0.91935,     0.91358,     0.91358,     0.91358,     0.91358,     0.91358,     0.91358,     0.91358,     0.91358,     0.91358,     0.91358,     0.91358,     0.91358,     0.91358,     0.91358,\n",
              "            0.91358,     0.91358,     0.91358,     0.91358,     0.91358,     0.91358,     0.91358,     0.91358,     0.91358,     0.91358,     0.91358,     0.91358,     0.91358,     0.91358,     0.91358,     0.91358,     0.91358,     0.91358,     0.91358,     0.91358,     0.91358,     0.91358,     0.91358,\n",
              "            0.91358,     0.91358,     0.91358,     0.91358,     0.91358,     0.91358,     0.91358,     0.91358,     0.91358,     0.91358,     0.91358,     0.91358,     0.91358,     0.91358,     0.91358,     0.91358,     0.91358,     0.91358,     0.91358,     0.91358,     0.91358,     0.91358,     0.91358,\n",
              "            0.91358,     0.91358,     0.91358,     0.91358,     0.91358,     0.91358,     0.91358,     0.91358,     0.91358,     0.91358,     0.91358,     0.91358,     0.91358,     0.91358,     0.91358,     0.91358,     0.91358,     0.91358,     0.91358,     0.91358,     0.91358,     0.91358,     0.91358,\n",
              "            0.91358,     0.91358,     0.89535,     0.89535,     0.89535,     0.89535,     0.89535,     0.89535,     0.89535,     0.89535,     0.89535,     0.89535,     0.89535,     0.89535,     0.89535,     0.89535,     0.89535,     0.88636,     0.88636,     0.88636,     0.88636,     0.88636,     0.88043,\n",
              "            0.88043,     0.88043,     0.88043,     0.88043,     0.88043,     0.88043,     0.88043,     0.88043,     0.88043,     0.88043,     0.88043,     0.88043,     0.88043,     0.88043,     0.87234,     0.87234,     0.87234,     0.87234,     0.87234,     0.86154,     0.86154,     0.86154,     0.86154,\n",
              "            0.86154,     0.86154,     0.86154,     0.86154,     0.86154,     0.86154,     0.86154,     0.86154,     0.86154,     0.86154,     0.86154,     0.86154,     0.86154,     0.86154,     0.86154,     0.86154,     0.86154,     0.86154,     0.86154,     0.86154,     0.86154,     0.86154,     0.86154,\n",
              "            0.86154,     0.86154,     0.86154,     0.86154,     0.86154,     0.86154,     0.86154,     0.86154,     0.86154,     0.86154,     0.86154,     0.86154,     0.86154,     0.86154,     0.86154,     0.86154,     0.86154,     0.86154,     0.86154,     0.86154,     0.86154,     0.86154,     0.86154,\n",
              "            0.86154,     0.86154,     0.86154,     0.86154,     0.86154,     0.86154,     0.86154,     0.86154,     0.86154,     0.86154,     0.86154,     0.86154,     0.86154,     0.86154,     0.86154,     0.86154,     0.86154,     0.86154,     0.86154,     0.86154,     0.86154,     0.86154,     0.86154,\n",
              "            0.86154,     0.86154,     0.86154,     0.86154,     0.86154,     0.86154,     0.86154,     0.86154,     0.86154,     0.86154,     0.86154,     0.86154,     0.86154,     0.86154,     0.86154,     0.86154,     0.86154,     0.86154,     0.86154,     0.86154,     0.86154,     0.86154,     0.86154,\n",
              "            0.86154,     0.86154,     0.86154,     0.86154,     0.86154,     0.86154,     0.86154,     0.86154,     0.86154,     0.86154,     0.86154,     0.86154,     0.86154,     0.86154,     0.86154,     0.86154,     0.86154,     0.86154,     0.86154,     0.86154,     0.86154,     0.86154,     0.86154,\n",
              "            0.86154,     0.86154,     0.86154,     0.86154,     0.86154,     0.86154,     0.86154,     0.86154,     0.86154,     0.86154,     0.86154,     0.86154,     0.86154,     0.86154,     0.86154,     0.86154,     0.86154,     0.86154,     0.86154,     0.86154,     0.86154,     0.86154,     0.86154,\n",
              "            0.86154,     0.86154,     0.86154,     0.86154,     0.86154,     0.86154,     0.86154,     0.86154,     0.85821,     0.85821,     0.85821,     0.85821,     0.85821,     0.85821,     0.85821,     0.85821,     0.85821,     0.85821,     0.85821,     0.85821,     0.85821,     0.85821,     0.85821,\n",
              "            0.85294,     0.85294,     0.85294,     0.85294,     0.85294,     0.81818,     0.81818,     0.81818,     0.81818,     0.81818,     0.81757,     0.81757,     0.81757,     0.81757,     0.81757,     0.81757,     0.81757,     0.81757,     0.81757,     0.81757,     0.81757,     0.81757,     0.81757,\n",
              "            0.81757,     0.81757,     0.81757,     0.81757,     0.81757,     0.81757,     0.81757,     0.81333,     0.81333,     0.81333,     0.81333,     0.81333,     0.80519,     0.80519,     0.80519,     0.80519,     0.80519,     0.80519,     0.80519,     0.80519,     0.80519,     0.80519,     0.79747,\n",
              "            0.79747,     0.79747,     0.79747,     0.79747,     0.79747,     0.79747,     0.79747,     0.79747,     0.79747,     0.77439,     0.77439,     0.77439,     0.77439,     0.77439,     0.77108,     0.77108,     0.77108,     0.77108,     0.77108,     0.75882,     0.75882,     0.75882,     0.75882,\n",
              "            0.75882,     0.74011,     0.74011,     0.74011,     0.74011,     0.74011,     0.74011,     0.74011,     0.74011,     0.74011,     0.74011,     0.73743,     0.73743,     0.73743,     0.73743,     0.73743,     0.71277,     0.71277,     0.71277,     0.71277,     0.71277,     0.71277,     0.71277,\n",
              "            0.71277,     0.71277,     0.71277,     0.69948,     0.69948,     0.69948,     0.69948,     0.69948,     0.69388,     0.69388,     0.69388,     0.69388,     0.69388,     0.69192,     0.69192,     0.69192,     0.69192,     0.69192,      0.6798,      0.6798,      0.6798,      0.6798,      0.6798,\n",
              "            0.67805,     0.67805,     0.67805,     0.67805,     0.67805,     0.66986,     0.66986,     0.66986,     0.66986,     0.66986,     0.66509,     0.66509,     0.66509,     0.66509,     0.66509,     0.65741,     0.65741,     0.65741,     0.65741,     0.65741,     0.63274,     0.63274,     0.63274,\n",
              "            0.63274,     0.63274,     0.63158,     0.63158,     0.63158,     0.63158,     0.63158,     0.62931,     0.62931,     0.62931,     0.62931,     0.62931,     0.62931,     0.62931,     0.62931,     0.62931,     0.62931,     0.62821,     0.62821,     0.62821,     0.62821,     0.62821,     0.61411,\n",
              "            0.61411,     0.61411,     0.61411,     0.61411,     0.57977,     0.57977,     0.57977,     0.57977,     0.57977,     0.57471,     0.57471,     0.57471,     0.57471,     0.57471,     0.56981,     0.56981,     0.56981,     0.56981,     0.56981,     0.55319,     0.55319,     0.55319,     0.55319,\n",
              "            0.55319,     0.55319,     0.55319,     0.55319,     0.55319,     0.55319,     0.55319,     0.55319,     0.55319,     0.55319,     0.55319,     0.55319,     0.55319,     0.55319,     0.55319,     0.55319,     0.55319,     0.55319,     0.55319,     0.55319,     0.55319,     0.55282,     0.55282,\n",
              "            0.55282,     0.55282,     0.55282,     0.54671,     0.54671,     0.54671,     0.54671,     0.54671,     0.52131,     0.52131,     0.52131,     0.52131,     0.52131,     0.50157,     0.50157,     0.50157,     0.50157,     0.50157,         0.5,         0.5,         0.5,         0.5,         0.5,\n",
              "             0.4939,      0.4939,      0.4939,      0.4939,      0.4939,     0.47246,     0.47246,     0.47246,     0.47246,     0.47246,     0.46067,     0.46067,     0.46067,     0.46067,     0.46067,     0.45833,     0.45833,     0.45833,     0.45833,     0.45833,     0.45504,     0.45504,     0.45504,\n",
              "            0.45504,     0.45504,     0.45504,     0.45504,     0.45504,     0.45504,     0.45504,     0.45405,     0.45405,     0.45405,     0.45405,     0.45405,     0.43557,     0.43557,     0.43557,     0.43557,     0.43557,     0.42714,     0.42714,     0.42714,     0.42714,     0.42714,     0.41505,\n",
              "            0.41505,     0.41505,     0.41505,     0.41505,     0.41148,     0.41148,     0.41148,     0.41148,     0.41148,     0.40898,     0.40898,     0.40898,     0.40898,     0.40898,     0.35802,     0.35802,     0.35802,     0.35802,     0.35802,     0.34449,     0.34449,     0.34449,     0.34449,\n",
              "            0.34449,     0.33781,     0.33781,     0.33781,     0.33781,     0.33781,     0.33146,     0.33146,     0.33146,     0.33146,     0.33146,     0.32014,     0.32014,     0.32014,     0.32014,     0.32014,     0.31738,     0.31738,     0.31738,     0.31738,     0.31738,     0.31597,     0.31597,\n",
              "            0.31597,     0.31597,     0.31597,     0.31597,     0.31597,     0.31597,     0.31597,     0.31597,     0.31597,     0.31597,     0.31597,     0.31597,     0.31597,     0.31017,     0.31017,     0.31017,     0.31017,     0.31017,     0.29299,     0.29299,     0.29299,     0.29299,     0.29299,\n",
              "            0.27653,     0.27653,     0.27653,     0.27653,     0.27653,     0.26124,     0.26124,     0.26124,     0.26124,     0.26124,     0.23001,     0.23001,     0.23001,     0.23001,     0.23001,      0.2151,      0.2151,      0.2151,      0.2151,      0.2151,     0.16463,     0.16463,     0.16463,\n",
              "            0.16463,     0.16463,     0.15742,     0.15742,     0.15742,     0.15742,     0.15742,     0.12827,     0.12827,     0.12827,     0.12827,     0.12827,      0.1269,      0.1269,      0.1269,      0.1269,      0.1269,       0.121,       0.121,       0.121,       0.121,       0.121,    0.083765,\n",
              "           0.083765,    0.083765,    0.083765,    0.083765,    0.063518,    0.063518,    0.063518,    0.063518,    0.063518,    0.050528,    0.050528,    0.050528,    0.050528,    0.050528,    0.047499,    0.044999,    0.042499,    0.039999,    0.037499,    0.034999,    0.032499,    0.029999,    0.027499,\n",
              "              0.025,      0.0225,        0.02,      0.0175,       0.015,      0.0125,   0.0099998,   0.0074999,   0.0049999,      0.0025,           0]]), 'Recall', 'Precision'], [array([          0,    0.001001,    0.002002,    0.003003,    0.004004,    0.005005,    0.006006,    0.007007,    0.008008,    0.009009,     0.01001,    0.011011,    0.012012,    0.013013,    0.014014,    0.015015,    0.016016,    0.017017,    0.018018,    0.019019,     0.02002,    0.021021,    0.022022,    0.023023,\n",
              "          0.024024,    0.025025,    0.026026,    0.027027,    0.028028,    0.029029,     0.03003,    0.031031,    0.032032,    0.033033,    0.034034,    0.035035,    0.036036,    0.037037,    0.038038,    0.039039,     0.04004,    0.041041,    0.042042,    0.043043,    0.044044,    0.045045,    0.046046,    0.047047,\n",
              "          0.048048,    0.049049,     0.05005,    0.051051,    0.052052,    0.053053,    0.054054,    0.055055,    0.056056,    0.057057,    0.058058,    0.059059,     0.06006,    0.061061,    0.062062,    0.063063,    0.064064,    0.065065,    0.066066,    0.067067,    0.068068,    0.069069,     0.07007,    0.071071,\n",
              "          0.072072,    0.073073,    0.074074,    0.075075,    0.076076,    0.077077,    0.078078,    0.079079,     0.08008,    0.081081,    0.082082,    0.083083,    0.084084,    0.085085,    0.086086,    0.087087,    0.088088,    0.089089,     0.09009,    0.091091,    0.092092,    0.093093,    0.094094,    0.095095,\n",
              "          0.096096,    0.097097,    0.098098,    0.099099,      0.1001,      0.1011,      0.1021,      0.1031,      0.1041,     0.10511,     0.10611,     0.10711,     0.10811,     0.10911,     0.11011,     0.11111,     0.11211,     0.11311,     0.11411,     0.11512,     0.11612,     0.11712,     0.11812,     0.11912,\n",
              "           0.12012,     0.12112,     0.12212,     0.12312,     0.12412,     0.12513,     0.12613,     0.12713,     0.12813,     0.12913,     0.13013,     0.13113,     0.13213,     0.13313,     0.13413,     0.13514,     0.13614,     0.13714,     0.13814,     0.13914,     0.14014,     0.14114,     0.14214,     0.14314,\n",
              "           0.14414,     0.14515,     0.14615,     0.14715,     0.14815,     0.14915,     0.15015,     0.15115,     0.15215,     0.15315,     0.15415,     0.15516,     0.15616,     0.15716,     0.15816,     0.15916,     0.16016,     0.16116,     0.16216,     0.16316,     0.16416,     0.16517,     0.16617,     0.16717,\n",
              "           0.16817,     0.16917,     0.17017,     0.17117,     0.17217,     0.17317,     0.17417,     0.17518,     0.17618,     0.17718,     0.17818,     0.17918,     0.18018,     0.18118,     0.18218,     0.18318,     0.18418,     0.18519,     0.18619,     0.18719,     0.18819,     0.18919,     0.19019,     0.19119,\n",
              "           0.19219,     0.19319,     0.19419,      0.1952,      0.1962,      0.1972,      0.1982,      0.1992,      0.2002,      0.2012,      0.2022,      0.2032,      0.2042,     0.20521,     0.20621,     0.20721,     0.20821,     0.20921,     0.21021,     0.21121,     0.21221,     0.21321,     0.21421,     0.21522,\n",
              "           0.21622,     0.21722,     0.21822,     0.21922,     0.22022,     0.22122,     0.22222,     0.22322,     0.22422,     0.22523,     0.22623,     0.22723,     0.22823,     0.22923,     0.23023,     0.23123,     0.23223,     0.23323,     0.23423,     0.23524,     0.23624,     0.23724,     0.23824,     0.23924,\n",
              "           0.24024,     0.24124,     0.24224,     0.24324,     0.24424,     0.24525,     0.24625,     0.24725,     0.24825,     0.24925,     0.25025,     0.25125,     0.25225,     0.25325,     0.25425,     0.25526,     0.25626,     0.25726,     0.25826,     0.25926,     0.26026,     0.26126,     0.26226,     0.26326,\n",
              "           0.26426,     0.26527,     0.26627,     0.26727,     0.26827,     0.26927,     0.27027,     0.27127,     0.27227,     0.27327,     0.27427,     0.27528,     0.27628,     0.27728,     0.27828,     0.27928,     0.28028,     0.28128,     0.28228,     0.28328,     0.28428,     0.28529,     0.28629,     0.28729,\n",
              "           0.28829,     0.28929,     0.29029,     0.29129,     0.29229,     0.29329,     0.29429,      0.2953,      0.2963,      0.2973,      0.2983,      0.2993,      0.3003,      0.3013,      0.3023,      0.3033,      0.3043,     0.30531,     0.30631,     0.30731,     0.30831,     0.30931,     0.31031,     0.31131,\n",
              "           0.31231,     0.31331,     0.31431,     0.31532,     0.31632,     0.31732,     0.31832,     0.31932,     0.32032,     0.32132,     0.32232,     0.32332,     0.32432,     0.32533,     0.32633,     0.32733,     0.32833,     0.32933,     0.33033,     0.33133,     0.33233,     0.33333,     0.33433,     0.33534,\n",
              "           0.33634,     0.33734,     0.33834,     0.33934,     0.34034,     0.34134,     0.34234,     0.34334,     0.34434,     0.34535,     0.34635,     0.34735,     0.34835,     0.34935,     0.35035,     0.35135,     0.35235,     0.35335,     0.35435,     0.35536,     0.35636,     0.35736,     0.35836,     0.35936,\n",
              "           0.36036,     0.36136,     0.36236,     0.36336,     0.36436,     0.36537,     0.36637,     0.36737,     0.36837,     0.36937,     0.37037,     0.37137,     0.37237,     0.37337,     0.37437,     0.37538,     0.37638,     0.37738,     0.37838,     0.37938,     0.38038,     0.38138,     0.38238,     0.38338,\n",
              "           0.38438,     0.38539,     0.38639,     0.38739,     0.38839,     0.38939,     0.39039,     0.39139,     0.39239,     0.39339,     0.39439,      0.3954,      0.3964,      0.3974,      0.3984,      0.3994,      0.4004,      0.4014,      0.4024,      0.4034,      0.4044,     0.40541,     0.40641,     0.40741,\n",
              "           0.40841,     0.40941,     0.41041,     0.41141,     0.41241,     0.41341,     0.41441,     0.41542,     0.41642,     0.41742,     0.41842,     0.41942,     0.42042,     0.42142,     0.42242,     0.42342,     0.42442,     0.42543,     0.42643,     0.42743,     0.42843,     0.42943,     0.43043,     0.43143,\n",
              "           0.43243,     0.43343,     0.43443,     0.43544,     0.43644,     0.43744,     0.43844,     0.43944,     0.44044,     0.44144,     0.44244,     0.44344,     0.44444,     0.44545,     0.44645,     0.44745,     0.44845,     0.44945,     0.45045,     0.45145,     0.45245,     0.45345,     0.45445,     0.45546,\n",
              "           0.45646,     0.45746,     0.45846,     0.45946,     0.46046,     0.46146,     0.46246,     0.46346,     0.46446,     0.46547,     0.46647,     0.46747,     0.46847,     0.46947,     0.47047,     0.47147,     0.47247,     0.47347,     0.47447,     0.47548,     0.47648,     0.47748,     0.47848,     0.47948,\n",
              "           0.48048,     0.48148,     0.48248,     0.48348,     0.48448,     0.48549,     0.48649,     0.48749,     0.48849,     0.48949,     0.49049,     0.49149,     0.49249,     0.49349,     0.49449,      0.4955,      0.4965,      0.4975,      0.4985,      0.4995,      0.5005,      0.5015,      0.5025,      0.5035,\n",
              "            0.5045,     0.50551,     0.50651,     0.50751,     0.50851,     0.50951,     0.51051,     0.51151,     0.51251,     0.51351,     0.51451,     0.51552,     0.51652,     0.51752,     0.51852,     0.51952,     0.52052,     0.52152,     0.52252,     0.52352,     0.52452,     0.52553,     0.52653,     0.52753,\n",
              "           0.52853,     0.52953,     0.53053,     0.53153,     0.53253,     0.53353,     0.53453,     0.53554,     0.53654,     0.53754,     0.53854,     0.53954,     0.54054,     0.54154,     0.54254,     0.54354,     0.54454,     0.54555,     0.54655,     0.54755,     0.54855,     0.54955,     0.55055,     0.55155,\n",
              "           0.55255,     0.55355,     0.55455,     0.55556,     0.55656,     0.55756,     0.55856,     0.55956,     0.56056,     0.56156,     0.56256,     0.56356,     0.56456,     0.56557,     0.56657,     0.56757,     0.56857,     0.56957,     0.57057,     0.57157,     0.57257,     0.57357,     0.57457,     0.57558,\n",
              "           0.57658,     0.57758,     0.57858,     0.57958,     0.58058,     0.58158,     0.58258,     0.58358,     0.58458,     0.58559,     0.58659,     0.58759,     0.58859,     0.58959,     0.59059,     0.59159,     0.59259,     0.59359,     0.59459,      0.5956,      0.5966,      0.5976,      0.5986,      0.5996,\n",
              "            0.6006,      0.6016,      0.6026,      0.6036,      0.6046,     0.60561,     0.60661,     0.60761,     0.60861,     0.60961,     0.61061,     0.61161,     0.61261,     0.61361,     0.61461,     0.61562,     0.61662,     0.61762,     0.61862,     0.61962,     0.62062,     0.62162,     0.62262,     0.62362,\n",
              "           0.62462,     0.62563,     0.62663,     0.62763,     0.62863,     0.62963,     0.63063,     0.63163,     0.63263,     0.63363,     0.63463,     0.63564,     0.63664,     0.63764,     0.63864,     0.63964,     0.64064,     0.64164,     0.64264,     0.64364,     0.64464,     0.64565,     0.64665,     0.64765,\n",
              "           0.64865,     0.64965,     0.65065,     0.65165,     0.65265,     0.65365,     0.65465,     0.65566,     0.65666,     0.65766,     0.65866,     0.65966,     0.66066,     0.66166,     0.66266,     0.66366,     0.66466,     0.66567,     0.66667,     0.66767,     0.66867,     0.66967,     0.67067,     0.67167,\n",
              "           0.67267,     0.67367,     0.67467,     0.67568,     0.67668,     0.67768,     0.67868,     0.67968,     0.68068,     0.68168,     0.68268,     0.68368,     0.68468,     0.68569,     0.68669,     0.68769,     0.68869,     0.68969,     0.69069,     0.69169,     0.69269,     0.69369,     0.69469,      0.6957,\n",
              "            0.6967,      0.6977,      0.6987,      0.6997,      0.7007,      0.7017,      0.7027,      0.7037,      0.7047,     0.70571,     0.70671,     0.70771,     0.70871,     0.70971,     0.71071,     0.71171,     0.71271,     0.71371,     0.71471,     0.71572,     0.71672,     0.71772,     0.71872,     0.71972,\n",
              "           0.72072,     0.72172,     0.72272,     0.72372,     0.72472,     0.72573,     0.72673,     0.72773,     0.72873,     0.72973,     0.73073,     0.73173,     0.73273,     0.73373,     0.73473,     0.73574,     0.73674,     0.73774,     0.73874,     0.73974,     0.74074,     0.74174,     0.74274,     0.74374,\n",
              "           0.74474,     0.74575,     0.74675,     0.74775,     0.74875,     0.74975,     0.75075,     0.75175,     0.75275,     0.75375,     0.75475,     0.75576,     0.75676,     0.75776,     0.75876,     0.75976,     0.76076,     0.76176,     0.76276,     0.76376,     0.76476,     0.76577,     0.76677,     0.76777,\n",
              "           0.76877,     0.76977,     0.77077,     0.77177,     0.77277,     0.77377,     0.77477,     0.77578,     0.77678,     0.77778,     0.77878,     0.77978,     0.78078,     0.78178,     0.78278,     0.78378,     0.78478,     0.78579,     0.78679,     0.78779,     0.78879,     0.78979,     0.79079,     0.79179,\n",
              "           0.79279,     0.79379,     0.79479,      0.7958,      0.7968,      0.7978,      0.7988,      0.7998,      0.8008,      0.8018,      0.8028,      0.8038,      0.8048,     0.80581,     0.80681,     0.80781,     0.80881,     0.80981,     0.81081,     0.81181,     0.81281,     0.81381,     0.81481,     0.81582,\n",
              "           0.81682,     0.81782,     0.81882,     0.81982,     0.82082,     0.82182,     0.82282,     0.82382,     0.82482,     0.82583,     0.82683,     0.82783,     0.82883,     0.82983,     0.83083,     0.83183,     0.83283,     0.83383,     0.83483,     0.83584,     0.83684,     0.83784,     0.83884,     0.83984,\n",
              "           0.84084,     0.84184,     0.84284,     0.84384,     0.84484,     0.84585,     0.84685,     0.84785,     0.84885,     0.84985,     0.85085,     0.85185,     0.85285,     0.85385,     0.85485,     0.85586,     0.85686,     0.85786,     0.85886,     0.85986,     0.86086,     0.86186,     0.86286,     0.86386,\n",
              "           0.86486,     0.86587,     0.86687,     0.86787,     0.86887,     0.86987,     0.87087,     0.87187,     0.87287,     0.87387,     0.87487,     0.87588,     0.87688,     0.87788,     0.87888,     0.87988,     0.88088,     0.88188,     0.88288,     0.88388,     0.88488,     0.88589,     0.88689,     0.88789,\n",
              "           0.88889,     0.88989,     0.89089,     0.89189,     0.89289,     0.89389,     0.89489,      0.8959,      0.8969,      0.8979,      0.8989,      0.8999,      0.9009,      0.9019,      0.9029,      0.9039,      0.9049,     0.90591,     0.90691,     0.90791,     0.90891,     0.90991,     0.91091,     0.91191,\n",
              "           0.91291,     0.91391,     0.91491,     0.91592,     0.91692,     0.91792,     0.91892,     0.91992,     0.92092,     0.92192,     0.92292,     0.92392,     0.92492,     0.92593,     0.92693,     0.92793,     0.92893,     0.92993,     0.93093,     0.93193,     0.93293,     0.93393,     0.93493,     0.93594,\n",
              "           0.93694,     0.93794,     0.93894,     0.93994,     0.94094,     0.94194,     0.94294,     0.94394,     0.94494,     0.94595,     0.94695,     0.94795,     0.94895,     0.94995,     0.95095,     0.95195,     0.95295,     0.95395,     0.95495,     0.95596,     0.95696,     0.95796,     0.95896,     0.95996,\n",
              "           0.96096,     0.96196,     0.96296,     0.96396,     0.96496,     0.96597,     0.96697,     0.96797,     0.96897,     0.96997,     0.97097,     0.97197,     0.97297,     0.97397,     0.97497,     0.97598,     0.97698,     0.97798,     0.97898,     0.97998,     0.98098,     0.98198,     0.98298,     0.98398,\n",
              "           0.98498,     0.98599,     0.98699,     0.98799,     0.98899,     0.98999,     0.99099,     0.99199,     0.99299,     0.99399,     0.99499,       0.996,       0.997,       0.998,       0.999,           1]), array([[   0.095053,    0.095053,     0.12012,     0.13734,     0.15144,     0.16132,     0.17156,     0.17894,     0.18603,     0.19274,     0.19907,     0.20505,     0.21053,      0.2143,     0.21726,     0.22107,     0.22469,     0.22667,     0.22945,     0.23244,     0.23653,     0.23925,     0.24172,\n",
              "            0.24635,     0.24996,     0.25272,     0.25549,     0.25785,     0.26011,      0.2627,     0.26543,      0.2677,     0.26921,     0.27167,     0.27434,     0.27614,     0.27758,     0.27951,     0.27957,      0.2814,     0.28289,     0.28514,      0.2874,     0.29014,     0.29129,     0.29388,\n",
              "             0.2954,     0.29733,     0.29855,     0.29931,     0.30068,     0.30235,     0.30522,      0.3065,     0.30714,     0.30827,      0.3105,     0.31202,     0.31316,     0.31473,     0.31604,     0.31741,     0.31998,     0.32248,     0.32392,     0.32486,     0.32553,     0.32709,     0.32768,\n",
              "            0.32929,     0.33157,     0.33336,      0.3351,     0.33621,     0.33795,     0.34092,     0.34138,     0.34282,     0.34529,     0.34671,     0.34977,     0.34882,     0.34985,     0.35225,     0.35374,     0.35619,     0.35868,     0.35933,     0.35984,     0.36273,     0.36452,     0.36634,\n",
              "            0.36778,     0.36856,     0.36915,     0.36986,     0.37131,     0.37242,     0.37388,     0.37498,     0.37526,     0.37598,     0.37823,     0.37924,     0.38191,     0.38457,     0.38686,     0.38877,     0.38988,     0.39064,     0.39145,     0.39267,     0.39334,     0.39485,     0.39602,\n",
              "            0.39823,     0.39975,     0.40079,     0.40119,     0.40251,     0.40438,     0.40464,     0.40522,     0.40647,     0.40727,     0.40615,     0.40767,     0.40966,     0.41114,     0.41148,     0.41308,     0.41351,     0.41376,     0.41592,     0.41773,     0.41844,     0.42192,     0.42312,\n",
              "            0.42402,     0.42515,      0.4247,     0.42679,     0.42862,     0.42936,     0.43241,     0.43397,     0.43553,     0.43763,     0.43892,     0.44083,     0.44211,     0.44354,     0.44325,      0.4448,     0.44585,       0.447,     0.44763,     0.44803,     0.44958,     0.45127,     0.45318,\n",
              "            0.45373,       0.455,     0.45716,     0.45886,     0.46044,     0.46157,     0.46241,      0.4625,     0.46168,     0.46334,     0.46443,     0.46549,     0.46574,       0.466,     0.46886,     0.46801,     0.46716,      0.4681,     0.46715,     0.46588,     0.46849,     0.46757,     0.46986,\n",
              "            0.46894,     0.47185,     0.47309,     0.47456,     0.47508,     0.47658,     0.47778,     0.47813,     0.47999,     0.48202,     0.48138,     0.48332,      0.4842,     0.48474,     0.48695,     0.48779,     0.48639,     0.48884,      0.4894,      0.4913,     0.49253,     0.49394,     0.49249,\n",
              "            0.49396,     0.49506,     0.49559,     0.50079,     0.50133,     0.50452,     0.50525,     0.50562,     0.50641,     0.50679,     0.50707,     0.50596,     0.50651,     0.50781,     0.50911,     0.51054,     0.51242,     0.51366,     0.51403,     0.51455,     0.51618,     0.51805,     0.52153,\n",
              "            0.52504,       0.526,      0.5266,     0.52998,     0.53059,     0.53658,     0.53772,     0.54238,     0.54612,     0.54817,     0.55026,     0.55334,     0.55312,     0.55434,     0.55556,     0.55445,     0.55568,     0.55874,     0.55718,      0.5572,      0.5583,     0.55956,     0.56361,\n",
              "            0.56489,     0.56617,     0.56746,     0.56831,     0.56667,     0.56993,     0.57124,     0.57354,     0.57375,     0.57345,     0.57776,     0.58112,      0.5825,     0.58388,     0.58527,     0.58763,     0.58731,     0.58838,     0.58903,     0.58801,     0.58699,     0.58699,     0.58529,\n",
              "            0.58671,      0.5879,     0.58923,      0.5892,     0.58821,     0.59249,     0.59561,     0.59606,     0.59651,     0.59872,     0.59956,     0.60048,     0.60179,     0.60558,     0.60626,     0.60717,     0.60988,     0.61072,     0.61149,     0.61306,     0.61152,     0.61323,     0.61445,\n",
              "            0.61574,     0.61569,     0.61833,     0.62329,      0.6286,     0.62873,     0.62887,     0.63157,     0.63315,      0.6348,     0.63621,     0.63775,     0.64144,     0.64235,     0.64591,     0.64361,     0.64411,      0.6446,     0.64645,       0.647,     0.64773,     0.64642,     0.64016,\n",
              "            0.63926,     0.64004,     0.64133,     0.63966,     0.63768,     0.64198,     0.64311,     0.64391,     0.64796,     0.64975,     0.64955,     0.65006,     0.65181,     0.64975,     0.65048,     0.65513,     0.65649,     0.65735,     0.65999,     0.66177,     0.66339,     0.66588,     0.66834,\n",
              "            0.66845,     0.67006,     0.67096,     0.67332,     0.67411,     0.67629,     0.67687,     0.67442,     0.67533,      0.6753,      0.6735,     0.67236,     0.67077,     0.66841,     0.67137,     0.67621,     0.68152,     0.68171,      0.6819,     0.68382,     0.68373,     0.68254,     0.68134,\n",
              "            0.68453,     0.68142,     0.68455,     0.68365,     0.68212,     0.68705,     0.68806,      0.6861,     0.68486,     0.68362,     0.68438,     0.68527,     0.68629,     0.68553,     0.68591,     0.68629,     0.68667,     0.68704,     0.69012,     0.68841,     0.68457,     0.68548,     0.68931,\n",
              "            0.69116,     0.69485,     0.69628,     0.69324,     0.69432,     0.69354,     0.69073,     0.68894,     0.69259,     0.69409,     0.69519,     0.69694,     0.69416,     0.69465,     0.69513,     0.69561,     0.69879,     0.69442,      0.6954,     0.69823,     0.69889,     0.69956,     0.70066,\n",
              "            0.70289,     0.70161,     0.69787,     0.69995,     0.69459,      0.6944,     0.68497,     0.68179,     0.68043,     0.68052,     0.68459,     0.68667,     0.69032,     0.68932,     0.68832,     0.68732,      0.6876,     0.68412,     0.68209,     0.67743,     0.67734,     0.66456,     0.65986,\n",
              "            0.65562,     0.65136,     0.64707,     0.64094,     0.63985,     0.63876,     0.63767,     0.63566,     0.63347,     0.63127,     0.62907,     0.62477,     0.62246,      0.6202,      0.6113,     0.60676,     0.59768,     0.59336,     0.59167,     0.58997,       0.588,     0.58565,     0.58534,\n",
              "             0.5873,     0.58464,     0.57822,      0.5753,     0.57188,     0.56943,     0.56056,     0.55558,     0.55638,     0.55703,     0.55767,     0.55365,     0.55462,     0.55064,     0.54049,     0.54035,     0.54099,     0.54163,     0.53839,     0.53593,     0.52485,     0.52136,     0.51956,\n",
              "            0.51775,     0.51583,      0.5131,     0.50992,      0.5044,     0.48847,     0.48563,     0.48279,     0.47993,     0.47619,     0.47042,     0.46074,     0.46008,     0.45943,     0.45878,     0.45812,     0.45747,     0.45681,     0.45616,      0.4555,     0.45353,     0.45056,      0.4482,\n",
              "            0.44621,     0.44422,     0.43943,     0.43896,     0.43714,     0.43409,      0.4338,     0.43423,     0.43465,     0.43507,     0.42964,     0.42629,     0.42319,     0.41706,     0.39836,     0.39204,      0.3888,     0.37888,     0.37228,     0.36608,     0.36274,     0.35938,     0.35601,\n",
              "            0.35184,     0.34502,     0.33268,     0.33036,     0.32804,     0.32702,     0.31964,     0.31609,     0.31382,     0.31022,     0.30136,     0.30158,      0.3018,     0.30201,     0.30223,     0.30244,     0.30024,     0.29657,     0.27392,     0.27451,     0.27399,     0.27304,     0.27209,\n",
              "            0.27114,     0.27019,     0.26923,     0.26828,     0.26732,      0.2588,     0.25777,     0.25673,      0.2557,     0.25466,     0.25363,     0.25259,     0.25101,     0.24905,      0.2471,     0.24514,     0.23615,     0.23516,     0.23417,     0.23317,     0.23218,     0.23118,     0.23018,\n",
              "            0.22918,      0.2255,     0.22148,     0.21743,     0.21338,      0.2093,     0.20537,     0.20564,     0.20592,     0.20618,      0.2037,     0.19956,      0.1954,     0.19121,       0.181,     0.17987,     0.17874,      0.1776,     0.17647,     0.17533,     0.17419,     0.17178,     0.16749,\n",
              "            0.16465,     0.16357,     0.16249,     0.16141,     0.16032,     0.15924,     0.15815,     0.15706,     0.15565,     0.15407,     0.15248,     0.15089,     0.14929,      0.1469,     0.14249,     0.12935,     0.12486,      0.1217,     0.12075,      0.1198,     0.11884,     0.11789,     0.11693,\n",
              "            0.11598,     0.11502,     0.11406,     0.11252,     0.10642,     0.10387,     0.10325,     0.10264,     0.10202,     0.10141,     0.10079,     0.10017,    0.099557,     0.09894,    0.098323,    0.097704,    0.097086,    0.096467,    0.095848,    0.095229,    0.094666,    0.094102,    0.093537,\n",
              "           0.092973,    0.092408,    0.091842,    0.091277,    0.090711,    0.090144,    0.089578,    0.089011,    0.088443,    0.087876,    0.087308,    0.086739,    0.086171,     0.08036,    0.074764,    0.070003,    0.067386,    0.066895,    0.066403,    0.065912,     0.06542,    0.064928,    0.064436,\n",
              "           0.063944,    0.063451,    0.062958,    0.062465,    0.061971,    0.061478,    0.060984,    0.060489,    0.059995,      0.0595,    0.059005,     0.05851,    0.057707,    0.056569,    0.055429,    0.054289,    0.053147,    0.052003,    0.050859,    0.049713,    0.048662,    0.048033,    0.047403,\n",
              "           0.046772,    0.046141,     0.04551,    0.044878,    0.044246,    0.043613,     0.04298,    0.042347,    0.041713,    0.041079,    0.040444,    0.039809,    0.039189,    0.038787,    0.038385,    0.037982,    0.037579,    0.037176,    0.036773,     0.03637,    0.035967,    0.035563,    0.035159,\n",
              "           0.034756,    0.034352,    0.033947,    0.033543,    0.033138,    0.032734,    0.032329,    0.031924,    0.031519,    0.031113,    0.030708,    0.030302,    0.029896,    0.029426,     0.02863,    0.027833,    0.027035,    0.026237,    0.025438,    0.024638,    0.023838,    0.023037,    0.022235,\n",
              "           0.021433,     0.02063,    0.019827,    0.019488,    0.019163,    0.018839,    0.018515,     0.01819,    0.017865,     0.01754,    0.017215,     0.01689,    0.016565,     0.01624,    0.015915,    0.015589,    0.015264,    0.014938,    0.014612,    0.014286,     0.01396,    0.013634,    0.013308,\n",
              "           0.012982,    0.012655,    0.012329,    0.012002,    0.011675,    0.011348,    0.011021,    0.010694,    0.010367,     0.01004,           0,           0,           0,           0,           0,           0,           0,           0,           0,           0,           0,           0,           0,\n",
              "                  0,           0,           0,           0,           0,           0,           0,           0,           0,           0,           0,           0,           0,           0,           0,           0,           0,           0,           0,           0,           0,           0,           0,\n",
              "                  0,           0,           0,           0,           0,           0,           0,           0,           0,           0,           0,           0,           0,           0,           0,           0,           0,           0,           0,           0,           0,           0,           0,\n",
              "                  0,           0,           0,           0,           0,           0,           0,           0,           0,           0,           0,           0,           0,           0,           0,           0,           0,           0,           0,           0,           0,           0,           0,\n",
              "                  0,           0,           0,           0,           0,           0,           0,           0,           0,           0,           0,           0,           0,           0,           0,           0,           0,           0,           0,           0,           0,           0,           0,\n",
              "                  0,           0,           0,           0,           0,           0,           0,           0,           0,           0,           0,           0,           0,           0,           0,           0,           0,           0,           0,           0,           0,           0,           0,\n",
              "                  0,           0,           0,           0,           0,           0,           0,           0,           0,           0,           0,           0,           0,           0,           0,           0,           0,           0,           0,           0,           0,           0,           0,\n",
              "                  0,           0,           0,           0,           0,           0,           0,           0,           0,           0,           0,           0,           0,           0,           0,           0,           0,           0,           0,           0,           0,           0,           0,\n",
              "                  0,           0,           0,           0,           0,           0,           0,           0,           0,           0,           0,           0,           0,           0,           0,           0,           0,           0,           0,           0,           0,           0,           0,\n",
              "                  0,           0,           0,           0,           0,           0,           0,           0,           0,           0,           0,           0,           0,           0,           0,           0,           0,           0,           0,           0,           0,           0,           0,\n",
              "                  0,           0,           0,           0,           0,           0,           0,           0,           0,           0,           0]]), 'Confidence', 'F1'], [array([          0,    0.001001,    0.002002,    0.003003,    0.004004,    0.005005,    0.006006,    0.007007,    0.008008,    0.009009,     0.01001,    0.011011,    0.012012,    0.013013,    0.014014,    0.015015,    0.016016,    0.017017,    0.018018,    0.019019,     0.02002,    0.021021,    0.022022,    0.023023,\n",
              "          0.024024,    0.025025,    0.026026,    0.027027,    0.028028,    0.029029,     0.03003,    0.031031,    0.032032,    0.033033,    0.034034,    0.035035,    0.036036,    0.037037,    0.038038,    0.039039,     0.04004,    0.041041,    0.042042,    0.043043,    0.044044,    0.045045,    0.046046,    0.047047,\n",
              "          0.048048,    0.049049,     0.05005,    0.051051,    0.052052,    0.053053,    0.054054,    0.055055,    0.056056,    0.057057,    0.058058,    0.059059,     0.06006,    0.061061,    0.062062,    0.063063,    0.064064,    0.065065,    0.066066,    0.067067,    0.068068,    0.069069,     0.07007,    0.071071,\n",
              "          0.072072,    0.073073,    0.074074,    0.075075,    0.076076,    0.077077,    0.078078,    0.079079,     0.08008,    0.081081,    0.082082,    0.083083,    0.084084,    0.085085,    0.086086,    0.087087,    0.088088,    0.089089,     0.09009,    0.091091,    0.092092,    0.093093,    0.094094,    0.095095,\n",
              "          0.096096,    0.097097,    0.098098,    0.099099,      0.1001,      0.1011,      0.1021,      0.1031,      0.1041,     0.10511,     0.10611,     0.10711,     0.10811,     0.10911,     0.11011,     0.11111,     0.11211,     0.11311,     0.11411,     0.11512,     0.11612,     0.11712,     0.11812,     0.11912,\n",
              "           0.12012,     0.12112,     0.12212,     0.12312,     0.12412,     0.12513,     0.12613,     0.12713,     0.12813,     0.12913,     0.13013,     0.13113,     0.13213,     0.13313,     0.13413,     0.13514,     0.13614,     0.13714,     0.13814,     0.13914,     0.14014,     0.14114,     0.14214,     0.14314,\n",
              "           0.14414,     0.14515,     0.14615,     0.14715,     0.14815,     0.14915,     0.15015,     0.15115,     0.15215,     0.15315,     0.15415,     0.15516,     0.15616,     0.15716,     0.15816,     0.15916,     0.16016,     0.16116,     0.16216,     0.16316,     0.16416,     0.16517,     0.16617,     0.16717,\n",
              "           0.16817,     0.16917,     0.17017,     0.17117,     0.17217,     0.17317,     0.17417,     0.17518,     0.17618,     0.17718,     0.17818,     0.17918,     0.18018,     0.18118,     0.18218,     0.18318,     0.18418,     0.18519,     0.18619,     0.18719,     0.18819,     0.18919,     0.19019,     0.19119,\n",
              "           0.19219,     0.19319,     0.19419,      0.1952,      0.1962,      0.1972,      0.1982,      0.1992,      0.2002,      0.2012,      0.2022,      0.2032,      0.2042,     0.20521,     0.20621,     0.20721,     0.20821,     0.20921,     0.21021,     0.21121,     0.21221,     0.21321,     0.21421,     0.21522,\n",
              "           0.21622,     0.21722,     0.21822,     0.21922,     0.22022,     0.22122,     0.22222,     0.22322,     0.22422,     0.22523,     0.22623,     0.22723,     0.22823,     0.22923,     0.23023,     0.23123,     0.23223,     0.23323,     0.23423,     0.23524,     0.23624,     0.23724,     0.23824,     0.23924,\n",
              "           0.24024,     0.24124,     0.24224,     0.24324,     0.24424,     0.24525,     0.24625,     0.24725,     0.24825,     0.24925,     0.25025,     0.25125,     0.25225,     0.25325,     0.25425,     0.25526,     0.25626,     0.25726,     0.25826,     0.25926,     0.26026,     0.26126,     0.26226,     0.26326,\n",
              "           0.26426,     0.26527,     0.26627,     0.26727,     0.26827,     0.26927,     0.27027,     0.27127,     0.27227,     0.27327,     0.27427,     0.27528,     0.27628,     0.27728,     0.27828,     0.27928,     0.28028,     0.28128,     0.28228,     0.28328,     0.28428,     0.28529,     0.28629,     0.28729,\n",
              "           0.28829,     0.28929,     0.29029,     0.29129,     0.29229,     0.29329,     0.29429,      0.2953,      0.2963,      0.2973,      0.2983,      0.2993,      0.3003,      0.3013,      0.3023,      0.3033,      0.3043,     0.30531,     0.30631,     0.30731,     0.30831,     0.30931,     0.31031,     0.31131,\n",
              "           0.31231,     0.31331,     0.31431,     0.31532,     0.31632,     0.31732,     0.31832,     0.31932,     0.32032,     0.32132,     0.32232,     0.32332,     0.32432,     0.32533,     0.32633,     0.32733,     0.32833,     0.32933,     0.33033,     0.33133,     0.33233,     0.33333,     0.33433,     0.33534,\n",
              "           0.33634,     0.33734,     0.33834,     0.33934,     0.34034,     0.34134,     0.34234,     0.34334,     0.34434,     0.34535,     0.34635,     0.34735,     0.34835,     0.34935,     0.35035,     0.35135,     0.35235,     0.35335,     0.35435,     0.35536,     0.35636,     0.35736,     0.35836,     0.35936,\n",
              "           0.36036,     0.36136,     0.36236,     0.36336,     0.36436,     0.36537,     0.36637,     0.36737,     0.36837,     0.36937,     0.37037,     0.37137,     0.37237,     0.37337,     0.37437,     0.37538,     0.37638,     0.37738,     0.37838,     0.37938,     0.38038,     0.38138,     0.38238,     0.38338,\n",
              "           0.38438,     0.38539,     0.38639,     0.38739,     0.38839,     0.38939,     0.39039,     0.39139,     0.39239,     0.39339,     0.39439,      0.3954,      0.3964,      0.3974,      0.3984,      0.3994,      0.4004,      0.4014,      0.4024,      0.4034,      0.4044,     0.40541,     0.40641,     0.40741,\n",
              "           0.40841,     0.40941,     0.41041,     0.41141,     0.41241,     0.41341,     0.41441,     0.41542,     0.41642,     0.41742,     0.41842,     0.41942,     0.42042,     0.42142,     0.42242,     0.42342,     0.42442,     0.42543,     0.42643,     0.42743,     0.42843,     0.42943,     0.43043,     0.43143,\n",
              "           0.43243,     0.43343,     0.43443,     0.43544,     0.43644,     0.43744,     0.43844,     0.43944,     0.44044,     0.44144,     0.44244,     0.44344,     0.44444,     0.44545,     0.44645,     0.44745,     0.44845,     0.44945,     0.45045,     0.45145,     0.45245,     0.45345,     0.45445,     0.45546,\n",
              "           0.45646,     0.45746,     0.45846,     0.45946,     0.46046,     0.46146,     0.46246,     0.46346,     0.46446,     0.46547,     0.46647,     0.46747,     0.46847,     0.46947,     0.47047,     0.47147,     0.47247,     0.47347,     0.47447,     0.47548,     0.47648,     0.47748,     0.47848,     0.47948,\n",
              "           0.48048,     0.48148,     0.48248,     0.48348,     0.48448,     0.48549,     0.48649,     0.48749,     0.48849,     0.48949,     0.49049,     0.49149,     0.49249,     0.49349,     0.49449,      0.4955,      0.4965,      0.4975,      0.4985,      0.4995,      0.5005,      0.5015,      0.5025,      0.5035,\n",
              "            0.5045,     0.50551,     0.50651,     0.50751,     0.50851,     0.50951,     0.51051,     0.51151,     0.51251,     0.51351,     0.51451,     0.51552,     0.51652,     0.51752,     0.51852,     0.51952,     0.52052,     0.52152,     0.52252,     0.52352,     0.52452,     0.52553,     0.52653,     0.52753,\n",
              "           0.52853,     0.52953,     0.53053,     0.53153,     0.53253,     0.53353,     0.53453,     0.53554,     0.53654,     0.53754,     0.53854,     0.53954,     0.54054,     0.54154,     0.54254,     0.54354,     0.54454,     0.54555,     0.54655,     0.54755,     0.54855,     0.54955,     0.55055,     0.55155,\n",
              "           0.55255,     0.55355,     0.55455,     0.55556,     0.55656,     0.55756,     0.55856,     0.55956,     0.56056,     0.56156,     0.56256,     0.56356,     0.56456,     0.56557,     0.56657,     0.56757,     0.56857,     0.56957,     0.57057,     0.57157,     0.57257,     0.57357,     0.57457,     0.57558,\n",
              "           0.57658,     0.57758,     0.57858,     0.57958,     0.58058,     0.58158,     0.58258,     0.58358,     0.58458,     0.58559,     0.58659,     0.58759,     0.58859,     0.58959,     0.59059,     0.59159,     0.59259,     0.59359,     0.59459,      0.5956,      0.5966,      0.5976,      0.5986,      0.5996,\n",
              "            0.6006,      0.6016,      0.6026,      0.6036,      0.6046,     0.60561,     0.60661,     0.60761,     0.60861,     0.60961,     0.61061,     0.61161,     0.61261,     0.61361,     0.61461,     0.61562,     0.61662,     0.61762,     0.61862,     0.61962,     0.62062,     0.62162,     0.62262,     0.62362,\n",
              "           0.62462,     0.62563,     0.62663,     0.62763,     0.62863,     0.62963,     0.63063,     0.63163,     0.63263,     0.63363,     0.63463,     0.63564,     0.63664,     0.63764,     0.63864,     0.63964,     0.64064,     0.64164,     0.64264,     0.64364,     0.64464,     0.64565,     0.64665,     0.64765,\n",
              "           0.64865,     0.64965,     0.65065,     0.65165,     0.65265,     0.65365,     0.65465,     0.65566,     0.65666,     0.65766,     0.65866,     0.65966,     0.66066,     0.66166,     0.66266,     0.66366,     0.66466,     0.66567,     0.66667,     0.66767,     0.66867,     0.66967,     0.67067,     0.67167,\n",
              "           0.67267,     0.67367,     0.67467,     0.67568,     0.67668,     0.67768,     0.67868,     0.67968,     0.68068,     0.68168,     0.68268,     0.68368,     0.68468,     0.68569,     0.68669,     0.68769,     0.68869,     0.68969,     0.69069,     0.69169,     0.69269,     0.69369,     0.69469,      0.6957,\n",
              "            0.6967,      0.6977,      0.6987,      0.6997,      0.7007,      0.7017,      0.7027,      0.7037,      0.7047,     0.70571,     0.70671,     0.70771,     0.70871,     0.70971,     0.71071,     0.71171,     0.71271,     0.71371,     0.71471,     0.71572,     0.71672,     0.71772,     0.71872,     0.71972,\n",
              "           0.72072,     0.72172,     0.72272,     0.72372,     0.72472,     0.72573,     0.72673,     0.72773,     0.72873,     0.72973,     0.73073,     0.73173,     0.73273,     0.73373,     0.73473,     0.73574,     0.73674,     0.73774,     0.73874,     0.73974,     0.74074,     0.74174,     0.74274,     0.74374,\n",
              "           0.74474,     0.74575,     0.74675,     0.74775,     0.74875,     0.74975,     0.75075,     0.75175,     0.75275,     0.75375,     0.75475,     0.75576,     0.75676,     0.75776,     0.75876,     0.75976,     0.76076,     0.76176,     0.76276,     0.76376,     0.76476,     0.76577,     0.76677,     0.76777,\n",
              "           0.76877,     0.76977,     0.77077,     0.77177,     0.77277,     0.77377,     0.77477,     0.77578,     0.77678,     0.77778,     0.77878,     0.77978,     0.78078,     0.78178,     0.78278,     0.78378,     0.78478,     0.78579,     0.78679,     0.78779,     0.78879,     0.78979,     0.79079,     0.79179,\n",
              "           0.79279,     0.79379,     0.79479,      0.7958,      0.7968,      0.7978,      0.7988,      0.7998,      0.8008,      0.8018,      0.8028,      0.8038,      0.8048,     0.80581,     0.80681,     0.80781,     0.80881,     0.80981,     0.81081,     0.81181,     0.81281,     0.81381,     0.81481,     0.81582,\n",
              "           0.81682,     0.81782,     0.81882,     0.81982,     0.82082,     0.82182,     0.82282,     0.82382,     0.82482,     0.82583,     0.82683,     0.82783,     0.82883,     0.82983,     0.83083,     0.83183,     0.83283,     0.83383,     0.83483,     0.83584,     0.83684,     0.83784,     0.83884,     0.83984,\n",
              "           0.84084,     0.84184,     0.84284,     0.84384,     0.84484,     0.84585,     0.84685,     0.84785,     0.84885,     0.84985,     0.85085,     0.85185,     0.85285,     0.85385,     0.85485,     0.85586,     0.85686,     0.85786,     0.85886,     0.85986,     0.86086,     0.86186,     0.86286,     0.86386,\n",
              "           0.86486,     0.86587,     0.86687,     0.86787,     0.86887,     0.86987,     0.87087,     0.87187,     0.87287,     0.87387,     0.87487,     0.87588,     0.87688,     0.87788,     0.87888,     0.87988,     0.88088,     0.88188,     0.88288,     0.88388,     0.88488,     0.88589,     0.88689,     0.88789,\n",
              "           0.88889,     0.88989,     0.89089,     0.89189,     0.89289,     0.89389,     0.89489,      0.8959,      0.8969,      0.8979,      0.8989,      0.8999,      0.9009,      0.9019,      0.9029,      0.9039,      0.9049,     0.90591,     0.90691,     0.90791,     0.90891,     0.90991,     0.91091,     0.91191,\n",
              "           0.91291,     0.91391,     0.91491,     0.91592,     0.91692,     0.91792,     0.91892,     0.91992,     0.92092,     0.92192,     0.92292,     0.92392,     0.92492,     0.92593,     0.92693,     0.92793,     0.92893,     0.92993,     0.93093,     0.93193,     0.93293,     0.93393,     0.93493,     0.93594,\n",
              "           0.93694,     0.93794,     0.93894,     0.93994,     0.94094,     0.94194,     0.94294,     0.94394,     0.94494,     0.94595,     0.94695,     0.94795,     0.94895,     0.94995,     0.95095,     0.95195,     0.95295,     0.95395,     0.95495,     0.95596,     0.95696,     0.95796,     0.95896,     0.95996,\n",
              "           0.96096,     0.96196,     0.96296,     0.96396,     0.96496,     0.96597,     0.96697,     0.96797,     0.96897,     0.96997,     0.97097,     0.97197,     0.97297,     0.97397,     0.97497,     0.97598,     0.97698,     0.97798,     0.97898,     0.97998,     0.98098,     0.98198,     0.98298,     0.98398,\n",
              "           0.98498,     0.98599,     0.98699,     0.98799,     0.98899,     0.98999,     0.99099,     0.99199,     0.99299,     0.99399,     0.99499,       0.996,       0.997,       0.998,       0.999,           1]), array([[   0.049949,    0.049949,    0.064024,    0.073902,    0.082131,    0.088016,    0.094148,    0.098612,     0.10294,     0.10706,     0.11098,     0.11471,     0.11815,     0.12054,     0.12249,     0.12492,     0.12733,     0.12869,     0.13048,     0.13242,     0.13508,     0.13686,     0.13848,\n",
              "            0.14152,     0.14391,     0.14574,     0.14759,     0.14917,     0.15068,     0.15243,     0.15427,      0.1558,     0.15692,     0.15864,     0.16046,     0.16169,     0.16268,     0.16401,      0.1642,     0.16547,      0.1665,     0.16806,     0.16963,     0.17154,     0.17235,     0.17416,\n",
              "            0.17523,      0.1766,     0.17745,     0.17799,     0.17896,     0.18015,     0.18219,      0.1831,     0.18356,     0.18437,     0.18596,     0.18706,     0.18787,     0.18901,     0.18995,     0.19094,      0.1928,     0.19462,     0.19568,     0.19636,     0.19685,     0.19799,     0.19842,\n",
              "            0.19961,     0.20129,      0.2026,      0.2039,     0.20471,     0.20601,     0.20822,     0.20857,     0.20964,     0.21148,     0.21256,     0.21486,      0.2144,     0.21518,       0.217,     0.21813,        0.22,      0.2219,      0.2224,     0.22279,     0.22501,     0.22639,      0.2278,\n",
              "            0.22891,     0.22952,     0.23028,     0.23083,     0.23196,     0.23283,     0.23397,     0.23483,     0.23506,     0.23561,     0.23739,     0.23819,     0.24029,      0.2424,     0.24423,     0.24575,     0.24664,     0.24725,      0.2479,     0.24887,     0.24942,     0.25063,     0.25158,\n",
              "            0.25336,     0.25459,     0.25544,     0.25576,     0.25684,     0.25836,     0.25857,     0.25905,     0.26007,     0.26072,      0.2602,     0.26145,     0.26309,     0.26431,     0.26459,     0.26592,     0.26627,     0.26648,     0.26827,     0.26978,     0.27037,     0.27329,      0.2743,\n",
              "            0.27506,     0.27601,     0.27607,     0.27784,     0.27939,     0.28002,     0.28262,     0.28395,      0.2853,      0.2871,     0.28821,     0.28986,     0.29097,     0.29221,     0.29247,     0.29381,     0.29474,     0.29574,     0.29629,     0.29664,       0.298,     0.29949,     0.30117,\n",
              "            0.30166,     0.30278,      0.3047,     0.30621,     0.30762,     0.30863,     0.30938,      0.3097,      0.3093,      0.3108,     0.31178,     0.31273,     0.31296,     0.31319,     0.31584,     0.31533,     0.31482,     0.31569,     0.31544,      0.3149,     0.31729,     0.31707,     0.31918,\n",
              "            0.31896,     0.32168,     0.32283,      0.3242,     0.32469,     0.32609,     0.32721,     0.32755,      0.3293,      0.3313,     0.33131,     0.33315,     0.33398,      0.3345,      0.3366,     0.33741,      0.3368,     0.33916,      0.3397,     0.34153,     0.34272,     0.34409,     0.34336,\n",
              "            0.34489,     0.34596,     0.34648,     0.35158,     0.35211,     0.35528,     0.35599,     0.35637,     0.35715,     0.35753,     0.35781,     0.35755,      0.3581,      0.3594,     0.36071,     0.36214,     0.36404,     0.36529,     0.36566,     0.36619,     0.36784,     0.36974,      0.3733,\n",
              "            0.37691,      0.3779,     0.37851,     0.38202,     0.38265,     0.38892,     0.39012,     0.39504,     0.39902,     0.40121,     0.40346,     0.40678,     0.40766,     0.40898,     0.41031,     0.41024,     0.41159,     0.41496,     0.41406,     0.41444,     0.41566,     0.41705,     0.42157,\n",
              "              0.423,     0.42444,      0.4259,     0.42699,       0.426,     0.42996,     0.43146,     0.43409,     0.43492,     0.43532,      0.4403,     0.44422,     0.44583,     0.44745,     0.44909,     0.45186,     0.45295,     0.45422,     0.45502,     0.45441,      0.4538,     0.45405,     0.45352,\n",
              "            0.45523,     0.45666,     0.45826,     0.45978,     0.45965,     0.46543,     0.47096,     0.47152,     0.47209,     0.47486,     0.47592,     0.47708,     0.47874,     0.48355,     0.48442,     0.48558,     0.48905,     0.49013,     0.49112,     0.49356,     0.49266,     0.49525,     0.49685,\n",
              "            0.50108,     0.50238,      0.5059,     0.51259,      0.5198,     0.52075,     0.52233,     0.52607,     0.52827,     0.53057,     0.53254,      0.5347,     0.53991,      0.5412,     0.54654,     0.54539,     0.54609,      0.5468,     0.54948,     0.55027,     0.55133,     0.55191,     0.54914,\n",
              "            0.54902,     0.55017,     0.55225,      0.5513,     0.55192,     0.55839,      0.5601,     0.56132,     0.57037,     0.57314,     0.57404,     0.57659,     0.57934,     0.57913,     0.58029,     0.58773,     0.58992,      0.5913,      0.5956,     0.59849,     0.60116,     0.60526,     0.60933,\n",
              "            0.61296,     0.61567,     0.61718,     0.62118,     0.62253,     0.62627,     0.62727,      0.6267,     0.62828,     0.62898,     0.62804,     0.63064,     0.63047,      0.6312,     0.63673,     0.64549,     0.65524,     0.65691,     0.66026,     0.66387,     0.66473,     0.66414,     0.66355,\n",
              "            0.66973,     0.66829,     0.67714,     0.67742,     0.67926,     0.68911,     0.69114,     0.69352,     0.69293,     0.69235,     0.69402,     0.69585,     0.69796,     0.70179,     0.70259,     0.70339,     0.70418,     0.70498,     0.71148,     0.71171,     0.71104,       0.713,     0.72135,\n",
              "            0.72541,     0.73358,     0.73731,     0.73622,     0.73865,     0.73951,     0.73831,     0.73755,     0.74777,     0.75128,     0.75385,     0.75798,     0.75834,     0.75949,     0.76065,      0.7618,     0.77083,     0.77351,     0.77595,     0.78303,      0.7847,     0.78638,     0.78916,\n",
              "            0.79486,     0.79665,     0.79532,     0.80356,     0.80641,     0.81241,      0.8141,     0.81696,     0.81759,      0.8232,      0.8352,     0.84141,      0.8529,     0.85262,     0.85234,     0.85206,     0.85793,     0.85699,     0.85643,     0.85717,     0.86115,     0.85769,     0.85639,\n",
              "             0.8552,       0.854,     0.85278,       0.851,     0.85069,     0.85037,     0.85005,     0.84946,     0.84881,     0.84816,      0.8475,      0.8462,      0.8455,     0.84481,     0.84205,     0.84062,     0.83771,      0.8363,     0.83574,     0.83518,     0.83453,     0.83375,     0.83712,\n",
              "            0.84518,     0.85199,     0.85357,     0.86057,     0.85957,     0.85884,     0.85617,     0.85464,     0.86534,     0.86847,     0.87161,     0.87469,     0.87954,     0.87934,     0.87659,     0.87935,     0.88275,     0.88615,     0.89496,     0.89474,     0.90257,     0.91249,     0.91211,\n",
              "            0.91173,     0.91133,     0.91075,     0.91007,     0.90887,     0.90527,      0.9046,     0.90393,     0.90325,     0.90235,     0.90093,     0.89849,     0.89832,     0.89815,     0.89798,     0.89781,     0.89764,     0.89747,      0.8973,     0.89713,     0.89661,     0.89582,     0.89519,\n",
              "            0.89465,      0.8941,     0.89278,     0.90259,     0.90568,     0.90492,     0.90773,     0.91147,     0.91521,     0.91895,     0.91815,     0.91739,     0.91669,     0.91527,     0.91069,     0.90906,      0.9082,      0.9055,     0.90363,     0.90183,     0.90082,     0.89981,     0.89876,\n",
              "            0.89745,     0.89525,     0.89107,     0.89025,     0.88942,     0.89623,     0.90655,     0.90541,     0.92643,     0.92549,     0.92505,      0.9292,     0.93335,      0.9375,     0.94165,      0.9458,     0.94691,     0.94619,       0.951,     0.96561,     0.96961,     0.96949,     0.96937,\n",
              "            0.96925,     0.96912,       0.969,     0.96888,     0.96876,     0.96761,     0.96746,     0.96731,     0.96717,     0.96702,     0.96687,     0.96673,     0.96649,      0.9662,      0.9659,     0.96561,     0.96417,       0.964,     0.96383,     0.96366,     0.96349,     0.96332,     0.96315,\n",
              "            0.96298,     0.96231,     0.96158,      0.9608,     0.96001,     0.95915,      0.9588,     0.97101,     0.98321,     0.99541,           1,           1,           1,           1,           1,           1,           1,           1,           1,           1,           1,           1,           1,\n",
              "                  1,           1,           1,           1,           1,           1,           1,           1,           1,           1,           1,           1,           1,           1,           1,           1,           1,           1,           1,           1,           1,           1,           1,\n",
              "                  1,           1,           1,           1,           1,           1,           1,           1,           1,           1,           1,           1,           1,           1,           1,           1,           1,           1,           1,           1,           1,           1,           1,\n",
              "                  1,           1,           1,           1,           1,           1,           1,           1,           1,           1,           1,           1,           1,           1,           1,           1,           1,           1,           1,           1,           1,           1,           1,\n",
              "                  1,           1,           1,           1,           1,           1,           1,           1,           1,           1,           1,           1,           1,           1,           1,           1,           1,           1,           1,           1,           1,           1,           1,\n",
              "                  1,           1,           1,           1,           1,           1,           1,           1,           1,           1,           1,           1,           1,           1,           1,           1,           1,           1,           1,           1,           1,           1,           1,\n",
              "                  1,           1,           1,           1,           1,           1,           1,           1,           1,           1,           1,           1,           1,           1,           1,           1,           1,           1,           1,           1,           1,           1,           1,\n",
              "                  1,           1,           1,           1,           1,           1,           1,           1,           1,           1,           1,           1,           1,           1,           1,           1,           1,           1,           1,           1,           1,           1,           1,\n",
              "                  1,           1,           1,           1,           1,           1,           1,           1,           1,           1,           1,           1,           1,           1,           1,           1,           1,           1,           1,           1,           1,           1,           1,\n",
              "                  1,           1,           1,           1,           1,           1,           1,           1,           1,           1,           1,           1,           1,           1,           1,           1,           1,           1,           1,           1,           1,           1,           1,\n",
              "                  1,           1,           1,           1,           1,           1,           1,           1,           1,           1,           1,           1,           1,           1,           1,           1,           1,           1,           1,           1,           1,           1,           1,\n",
              "                  1,           1,           1,           1,           1,           1,           1,           1,           1,           1,           1,           1,           1,           1,           1,           1,           1,           1,           1,           1,           1,           1,           1,\n",
              "                  1,           1,           1,           1,           1,           1,           1,           1,           1,           1,           1,           1,           1,           1,           1,           1,           1,           1,           1,           1,           1,           1,           1,\n",
              "                  1,           1,           1,           1,           1,           1,           1,           1,           1,           1,           1,           1,           1,           1,           1,           1,           1,           1,           1,           1,           1,           1,           1,\n",
              "                  1,           1,           1,           1,           1,           1,           1,           1,           1,           1,           1,           1,           1,           1,           1,           1,           1,           1,           1,           1,           1,           1,           1,\n",
              "                  1,           1,           1,           1,           1,           1,           1,           1,           1,           1,           1,           1,           1,           1,           1,           1,           1,           1,           1,           1,           1,           1,           1,\n",
              "                  1,           1,           1,           1,           1,           1,           1,           1,           1,           1,           1,           1,           1,           1,           1,           1,           1,           1,           1,           1,           1,           1,           1,\n",
              "                  1,           1,           1,           1,           1,           1,           1,           1,           1,           1,           1,           1,           1,           1,           1,           1,           1,           1,           1,           1,           1,           1,           1,\n",
              "                  1,           1,           1,           1,           1,           1,           1,           1,           1,           1,           1]]), 'Confidence', 'Precision'], [array([          0,    0.001001,    0.002002,    0.003003,    0.004004,    0.005005,    0.006006,    0.007007,    0.008008,    0.009009,     0.01001,    0.011011,    0.012012,    0.013013,    0.014014,    0.015015,    0.016016,    0.017017,    0.018018,    0.019019,     0.02002,    0.021021,    0.022022,    0.023023,\n",
              "          0.024024,    0.025025,    0.026026,    0.027027,    0.028028,    0.029029,     0.03003,    0.031031,    0.032032,    0.033033,    0.034034,    0.035035,    0.036036,    0.037037,    0.038038,    0.039039,     0.04004,    0.041041,    0.042042,    0.043043,    0.044044,    0.045045,    0.046046,    0.047047,\n",
              "          0.048048,    0.049049,     0.05005,    0.051051,    0.052052,    0.053053,    0.054054,    0.055055,    0.056056,    0.057057,    0.058058,    0.059059,     0.06006,    0.061061,    0.062062,    0.063063,    0.064064,    0.065065,    0.066066,    0.067067,    0.068068,    0.069069,     0.07007,    0.071071,\n",
              "          0.072072,    0.073073,    0.074074,    0.075075,    0.076076,    0.077077,    0.078078,    0.079079,     0.08008,    0.081081,    0.082082,    0.083083,    0.084084,    0.085085,    0.086086,    0.087087,    0.088088,    0.089089,     0.09009,    0.091091,    0.092092,    0.093093,    0.094094,    0.095095,\n",
              "          0.096096,    0.097097,    0.098098,    0.099099,      0.1001,      0.1011,      0.1021,      0.1031,      0.1041,     0.10511,     0.10611,     0.10711,     0.10811,     0.10911,     0.11011,     0.11111,     0.11211,     0.11311,     0.11411,     0.11512,     0.11612,     0.11712,     0.11812,     0.11912,\n",
              "           0.12012,     0.12112,     0.12212,     0.12312,     0.12412,     0.12513,     0.12613,     0.12713,     0.12813,     0.12913,     0.13013,     0.13113,     0.13213,     0.13313,     0.13413,     0.13514,     0.13614,     0.13714,     0.13814,     0.13914,     0.14014,     0.14114,     0.14214,     0.14314,\n",
              "           0.14414,     0.14515,     0.14615,     0.14715,     0.14815,     0.14915,     0.15015,     0.15115,     0.15215,     0.15315,     0.15415,     0.15516,     0.15616,     0.15716,     0.15816,     0.15916,     0.16016,     0.16116,     0.16216,     0.16316,     0.16416,     0.16517,     0.16617,     0.16717,\n",
              "           0.16817,     0.16917,     0.17017,     0.17117,     0.17217,     0.17317,     0.17417,     0.17518,     0.17618,     0.17718,     0.17818,     0.17918,     0.18018,     0.18118,     0.18218,     0.18318,     0.18418,     0.18519,     0.18619,     0.18719,     0.18819,     0.18919,     0.19019,     0.19119,\n",
              "           0.19219,     0.19319,     0.19419,      0.1952,      0.1962,      0.1972,      0.1982,      0.1992,      0.2002,      0.2012,      0.2022,      0.2032,      0.2042,     0.20521,     0.20621,     0.20721,     0.20821,     0.20921,     0.21021,     0.21121,     0.21221,     0.21321,     0.21421,     0.21522,\n",
              "           0.21622,     0.21722,     0.21822,     0.21922,     0.22022,     0.22122,     0.22222,     0.22322,     0.22422,     0.22523,     0.22623,     0.22723,     0.22823,     0.22923,     0.23023,     0.23123,     0.23223,     0.23323,     0.23423,     0.23524,     0.23624,     0.23724,     0.23824,     0.23924,\n",
              "           0.24024,     0.24124,     0.24224,     0.24324,     0.24424,     0.24525,     0.24625,     0.24725,     0.24825,     0.24925,     0.25025,     0.25125,     0.25225,     0.25325,     0.25425,     0.25526,     0.25626,     0.25726,     0.25826,     0.25926,     0.26026,     0.26126,     0.26226,     0.26326,\n",
              "           0.26426,     0.26527,     0.26627,     0.26727,     0.26827,     0.26927,     0.27027,     0.27127,     0.27227,     0.27327,     0.27427,     0.27528,     0.27628,     0.27728,     0.27828,     0.27928,     0.28028,     0.28128,     0.28228,     0.28328,     0.28428,     0.28529,     0.28629,     0.28729,\n",
              "           0.28829,     0.28929,     0.29029,     0.29129,     0.29229,     0.29329,     0.29429,      0.2953,      0.2963,      0.2973,      0.2983,      0.2993,      0.3003,      0.3013,      0.3023,      0.3033,      0.3043,     0.30531,     0.30631,     0.30731,     0.30831,     0.30931,     0.31031,     0.31131,\n",
              "           0.31231,     0.31331,     0.31431,     0.31532,     0.31632,     0.31732,     0.31832,     0.31932,     0.32032,     0.32132,     0.32232,     0.32332,     0.32432,     0.32533,     0.32633,     0.32733,     0.32833,     0.32933,     0.33033,     0.33133,     0.33233,     0.33333,     0.33433,     0.33534,\n",
              "           0.33634,     0.33734,     0.33834,     0.33934,     0.34034,     0.34134,     0.34234,     0.34334,     0.34434,     0.34535,     0.34635,     0.34735,     0.34835,     0.34935,     0.35035,     0.35135,     0.35235,     0.35335,     0.35435,     0.35536,     0.35636,     0.35736,     0.35836,     0.35936,\n",
              "           0.36036,     0.36136,     0.36236,     0.36336,     0.36436,     0.36537,     0.36637,     0.36737,     0.36837,     0.36937,     0.37037,     0.37137,     0.37237,     0.37337,     0.37437,     0.37538,     0.37638,     0.37738,     0.37838,     0.37938,     0.38038,     0.38138,     0.38238,     0.38338,\n",
              "           0.38438,     0.38539,     0.38639,     0.38739,     0.38839,     0.38939,     0.39039,     0.39139,     0.39239,     0.39339,     0.39439,      0.3954,      0.3964,      0.3974,      0.3984,      0.3994,      0.4004,      0.4014,      0.4024,      0.4034,      0.4044,     0.40541,     0.40641,     0.40741,\n",
              "           0.40841,     0.40941,     0.41041,     0.41141,     0.41241,     0.41341,     0.41441,     0.41542,     0.41642,     0.41742,     0.41842,     0.41942,     0.42042,     0.42142,     0.42242,     0.42342,     0.42442,     0.42543,     0.42643,     0.42743,     0.42843,     0.42943,     0.43043,     0.43143,\n",
              "           0.43243,     0.43343,     0.43443,     0.43544,     0.43644,     0.43744,     0.43844,     0.43944,     0.44044,     0.44144,     0.44244,     0.44344,     0.44444,     0.44545,     0.44645,     0.44745,     0.44845,     0.44945,     0.45045,     0.45145,     0.45245,     0.45345,     0.45445,     0.45546,\n",
              "           0.45646,     0.45746,     0.45846,     0.45946,     0.46046,     0.46146,     0.46246,     0.46346,     0.46446,     0.46547,     0.46647,     0.46747,     0.46847,     0.46947,     0.47047,     0.47147,     0.47247,     0.47347,     0.47447,     0.47548,     0.47648,     0.47748,     0.47848,     0.47948,\n",
              "           0.48048,     0.48148,     0.48248,     0.48348,     0.48448,     0.48549,     0.48649,     0.48749,     0.48849,     0.48949,     0.49049,     0.49149,     0.49249,     0.49349,     0.49449,      0.4955,      0.4965,      0.4975,      0.4985,      0.4995,      0.5005,      0.5015,      0.5025,      0.5035,\n",
              "            0.5045,     0.50551,     0.50651,     0.50751,     0.50851,     0.50951,     0.51051,     0.51151,     0.51251,     0.51351,     0.51451,     0.51552,     0.51652,     0.51752,     0.51852,     0.51952,     0.52052,     0.52152,     0.52252,     0.52352,     0.52452,     0.52553,     0.52653,     0.52753,\n",
              "           0.52853,     0.52953,     0.53053,     0.53153,     0.53253,     0.53353,     0.53453,     0.53554,     0.53654,     0.53754,     0.53854,     0.53954,     0.54054,     0.54154,     0.54254,     0.54354,     0.54454,     0.54555,     0.54655,     0.54755,     0.54855,     0.54955,     0.55055,     0.55155,\n",
              "           0.55255,     0.55355,     0.55455,     0.55556,     0.55656,     0.55756,     0.55856,     0.55956,     0.56056,     0.56156,     0.56256,     0.56356,     0.56456,     0.56557,     0.56657,     0.56757,     0.56857,     0.56957,     0.57057,     0.57157,     0.57257,     0.57357,     0.57457,     0.57558,\n",
              "           0.57658,     0.57758,     0.57858,     0.57958,     0.58058,     0.58158,     0.58258,     0.58358,     0.58458,     0.58559,     0.58659,     0.58759,     0.58859,     0.58959,     0.59059,     0.59159,     0.59259,     0.59359,     0.59459,      0.5956,      0.5966,      0.5976,      0.5986,      0.5996,\n",
              "            0.6006,      0.6016,      0.6026,      0.6036,      0.6046,     0.60561,     0.60661,     0.60761,     0.60861,     0.60961,     0.61061,     0.61161,     0.61261,     0.61361,     0.61461,     0.61562,     0.61662,     0.61762,     0.61862,     0.61962,     0.62062,     0.62162,     0.62262,     0.62362,\n",
              "           0.62462,     0.62563,     0.62663,     0.62763,     0.62863,     0.62963,     0.63063,     0.63163,     0.63263,     0.63363,     0.63463,     0.63564,     0.63664,     0.63764,     0.63864,     0.63964,     0.64064,     0.64164,     0.64264,     0.64364,     0.64464,     0.64565,     0.64665,     0.64765,\n",
              "           0.64865,     0.64965,     0.65065,     0.65165,     0.65265,     0.65365,     0.65465,     0.65566,     0.65666,     0.65766,     0.65866,     0.65966,     0.66066,     0.66166,     0.66266,     0.66366,     0.66466,     0.66567,     0.66667,     0.66767,     0.66867,     0.66967,     0.67067,     0.67167,\n",
              "           0.67267,     0.67367,     0.67467,     0.67568,     0.67668,     0.67768,     0.67868,     0.67968,     0.68068,     0.68168,     0.68268,     0.68368,     0.68468,     0.68569,     0.68669,     0.68769,     0.68869,     0.68969,     0.69069,     0.69169,     0.69269,     0.69369,     0.69469,      0.6957,\n",
              "            0.6967,      0.6977,      0.6987,      0.6997,      0.7007,      0.7017,      0.7027,      0.7037,      0.7047,     0.70571,     0.70671,     0.70771,     0.70871,     0.70971,     0.71071,     0.71171,     0.71271,     0.71371,     0.71471,     0.71572,     0.71672,     0.71772,     0.71872,     0.71972,\n",
              "           0.72072,     0.72172,     0.72272,     0.72372,     0.72472,     0.72573,     0.72673,     0.72773,     0.72873,     0.72973,     0.73073,     0.73173,     0.73273,     0.73373,     0.73473,     0.73574,     0.73674,     0.73774,     0.73874,     0.73974,     0.74074,     0.74174,     0.74274,     0.74374,\n",
              "           0.74474,     0.74575,     0.74675,     0.74775,     0.74875,     0.74975,     0.75075,     0.75175,     0.75275,     0.75375,     0.75475,     0.75576,     0.75676,     0.75776,     0.75876,     0.75976,     0.76076,     0.76176,     0.76276,     0.76376,     0.76476,     0.76577,     0.76677,     0.76777,\n",
              "           0.76877,     0.76977,     0.77077,     0.77177,     0.77277,     0.77377,     0.77477,     0.77578,     0.77678,     0.77778,     0.77878,     0.77978,     0.78078,     0.78178,     0.78278,     0.78378,     0.78478,     0.78579,     0.78679,     0.78779,     0.78879,     0.78979,     0.79079,     0.79179,\n",
              "           0.79279,     0.79379,     0.79479,      0.7958,      0.7968,      0.7978,      0.7988,      0.7998,      0.8008,      0.8018,      0.8028,      0.8038,      0.8048,     0.80581,     0.80681,     0.80781,     0.80881,     0.80981,     0.81081,     0.81181,     0.81281,     0.81381,     0.81481,     0.81582,\n",
              "           0.81682,     0.81782,     0.81882,     0.81982,     0.82082,     0.82182,     0.82282,     0.82382,     0.82482,     0.82583,     0.82683,     0.82783,     0.82883,     0.82983,     0.83083,     0.83183,     0.83283,     0.83383,     0.83483,     0.83584,     0.83684,     0.83784,     0.83884,     0.83984,\n",
              "           0.84084,     0.84184,     0.84284,     0.84384,     0.84484,     0.84585,     0.84685,     0.84785,     0.84885,     0.84985,     0.85085,     0.85185,     0.85285,     0.85385,     0.85485,     0.85586,     0.85686,     0.85786,     0.85886,     0.85986,     0.86086,     0.86186,     0.86286,     0.86386,\n",
              "           0.86486,     0.86587,     0.86687,     0.86787,     0.86887,     0.86987,     0.87087,     0.87187,     0.87287,     0.87387,     0.87487,     0.87588,     0.87688,     0.87788,     0.87888,     0.87988,     0.88088,     0.88188,     0.88288,     0.88388,     0.88488,     0.88589,     0.88689,     0.88789,\n",
              "           0.88889,     0.88989,     0.89089,     0.89189,     0.89289,     0.89389,     0.89489,      0.8959,      0.8969,      0.8979,      0.8989,      0.8999,      0.9009,      0.9019,      0.9029,      0.9039,      0.9049,     0.90591,     0.90691,     0.90791,     0.90891,     0.90991,     0.91091,     0.91191,\n",
              "           0.91291,     0.91391,     0.91491,     0.91592,     0.91692,     0.91792,     0.91892,     0.91992,     0.92092,     0.92192,     0.92292,     0.92392,     0.92492,     0.92593,     0.92693,     0.92793,     0.92893,     0.92993,     0.93093,     0.93193,     0.93293,     0.93393,     0.93493,     0.93594,\n",
              "           0.93694,     0.93794,     0.93894,     0.93994,     0.94094,     0.94194,     0.94294,     0.94394,     0.94494,     0.94595,     0.94695,     0.94795,     0.94895,     0.94995,     0.95095,     0.95195,     0.95295,     0.95395,     0.95495,     0.95596,     0.95696,     0.95796,     0.95896,     0.95996,\n",
              "           0.96096,     0.96196,     0.96296,     0.96396,     0.96496,     0.96597,     0.96697,     0.96797,     0.96897,     0.96997,     0.97097,     0.97197,     0.97297,     0.97397,     0.97497,     0.97598,     0.97698,     0.97798,     0.97898,     0.97998,     0.98098,     0.98198,     0.98298,     0.98398,\n",
              "           0.98498,     0.98599,     0.98699,     0.98799,     0.98899,     0.98999,     0.99099,     0.99199,     0.99299,     0.99399,     0.99499,       0.996,       0.997,       0.998,       0.999,           1]), array([[       0.98,        0.98,        0.97,        0.97,        0.97,       0.965,       0.965,       0.965,       0.965,       0.965,       0.965,       0.965,       0.965,       0.965,        0.96,        0.96,       0.955,        0.95,        0.95,        0.95,        0.95,        0.95,        0.95,\n",
              "               0.95,        0.95,        0.95,        0.95,        0.95,        0.95,        0.95,        0.95,        0.95,     0.94648,       0.945,       0.945,       0.945,       0.945,       0.945,        0.94,        0.94,        0.94,        0.94,        0.94,        0.94,        0.94,        0.94,\n",
              "               0.94,        0.94,        0.94,        0.94,        0.94,        0.94,        0.94,        0.94,        0.94,        0.94,        0.94,        0.94,        0.94,        0.94,        0.94,        0.94,        0.94,        0.94,        0.94,        0.94,        0.94,        0.94,        0.94,\n",
              "               0.94,        0.94,        0.94,        0.94,        0.94,        0.94,        0.94,        0.94,        0.94,        0.94,        0.94,        0.94,       0.935,       0.935,       0.935,       0.935,       0.935,       0.935,       0.935,       0.935,       0.935,       0.935,       0.935,\n",
              "              0.935,       0.935,        0.93,        0.93,        0.93,        0.93,        0.93,        0.93,        0.93,        0.93,        0.93,        0.93,        0.93,        0.93,        0.93,        0.93,        0.93,        0.93,        0.93,        0.93,        0.93,        0.93,        0.93,\n",
              "               0.93,        0.93,        0.93,        0.93,        0.93,        0.93,        0.93,        0.93,        0.93,        0.93,       0.925,       0.925,       0.925,       0.925,       0.925,       0.925,       0.925,       0.925,       0.925,       0.925,       0.925,       0.925,       0.925,\n",
              "              0.925,       0.925,        0.92,        0.92,        0.92,        0.92,        0.92,        0.92,        0.92,        0.92,        0.92,        0.92,        0.92,        0.92,       0.915,       0.915,       0.915,       0.915,       0.915,       0.915,       0.915,       0.915,       0.915,\n",
              "              0.915,       0.915,       0.915,       0.915,       0.915,       0.915,       0.915,     0.91298,        0.91,        0.91,        0.91,        0.91,        0.91,        0.91,     0.90946,     0.90731,     0.90515,       0.905,         0.9,       0.895,       0.895,        0.89,        0.89,\n",
              "            0.88516,       0.885,       0.885,       0.885,       0.885,       0.885,       0.885,       0.885,       0.885,     0.88436,        0.88,        0.88,        0.88,        0.88,        0.88,        0.88,       0.875,       0.875,       0.875,       0.875,       0.875,       0.875,     0.87063,\n",
              "               0.87,        0.87,        0.87,        0.87,        0.87,        0.87,        0.87,        0.87,        0.87,        0.87,        0.87,       0.865,       0.865,       0.865,       0.865,       0.865,       0.865,       0.865,       0.865,       0.865,       0.865,       0.865,       0.865,\n",
              "              0.865,       0.865,       0.865,       0.865,       0.865,       0.865,       0.865,       0.865,       0.865,       0.865,       0.865,       0.865,        0.86,        0.86,        0.86,       0.855,       0.855,       0.855,     0.85152,        0.85,        0.85,        0.85,        0.85,\n",
              "               0.85,        0.85,        0.85,     0.84948,     0.84606,       0.845,       0.845,       0.845,     0.84277,        0.84,        0.84,        0.84,        0.84,        0.84,        0.84,        0.84,       0.835,       0.835,     0.83494,     0.83289,     0.83084,        0.83,       0.825,\n",
              "              0.825,       0.825,       0.825,        0.82,     0.81662,       0.815,        0.81,        0.81,        0.81,        0.81,        0.81,        0.81,        0.81,        0.81,        0.81,        0.81,        0.81,        0.81,        0.81,     0.80891,     0.80598,       0.805,       0.805,\n",
              "            0.79845,       0.795,       0.795,       0.795,       0.795,     0.79321,        0.79,        0.79,        0.79,        0.79,        0.79,        0.79,        0.79,        0.79,     0.78945,       0.785,       0.785,       0.785,       0.785,       0.785,       0.785,        0.78,     0.76733,\n",
              "              0.765,       0.765,     0.76469,     0.76176,       0.755,       0.755,       0.755,       0.755,        0.75,        0.75,     0.74794,       0.745,       0.745,        0.74,        0.74,        0.74,        0.74,        0.74,        0.74,        0.74,        0.74,        0.74,        0.74,\n",
              "              0.735,       0.735,       0.735,       0.735,       0.735,       0.735,       0.735,        0.73,        0.73,     0.72897,     0.72605,        0.72,     0.71658,     0.71027,        0.71,        0.71,        0.71,     0.70845,       0.705,       0.705,     0.70385,     0.70198,     0.70012,\n",
              "                0.7,     0.69508,     0.69212,        0.69,       0.685,       0.685,       0.685,     0.67885,     0.67698,     0.67512,       0.675,       0.675,       0.675,        0.67,        0.67,        0.67,        0.67,        0.67,        0.67,     0.66658,        0.66,        0.66,        0.66,\n",
              "               0.66,        0.66,     0.65958,       0.655,       0.655,     0.65295,     0.64891,     0.64635,       0.645,       0.645,       0.645,       0.645,        0.64,        0.64,        0.64,        0.64,     0.63907,        0.63,        0.63,        0.63,        0.63,        0.63,        0.63,\n",
              "               0.63,     0.62682,      0.6217,        0.62,        0.61,     0.60632,      0.5912,       0.585,     0.58268,        0.58,        0.58,        0.58,      0.5798,     0.57852,     0.57724,     0.57596,      0.5737,     0.56929,     0.56672,        0.56,      0.5582,     0.54243,      0.5367,\n",
              "            0.53157,     0.52645,     0.52132,     0.51405,     0.51277,     0.51149,      0.5102,     0.50785,     0.50528,     0.50272,     0.50016,     0.49519,     0.49253,     0.48994,     0.47982,     0.47469,     0.46457,      0.4598,     0.45793,     0.45607,     0.45391,     0.45135,        0.45,\n",
              "               0.45,       0.445,     0.43719,     0.43207,     0.42847,     0.42591,     0.41669,     0.41157,        0.41,        0.41,        0.41,       0.405,       0.405,     0.40082,     0.39069,        0.39,        0.39,        0.39,       0.385,     0.38253,        0.37,     0.36494,     0.36323,\n",
              "            0.36152,     0.35972,     0.35716,     0.35419,     0.34906,     0.33447,     0.33191,     0.32934,     0.32678,     0.32344,     0.31831,      0.3098,     0.30923,     0.30866,     0.30809,     0.30752,     0.30695,     0.30638,     0.30581,     0.30524,     0.30353,     0.30097,     0.29894,\n",
              "            0.29723,     0.29552,     0.29144,        0.29,     0.28809,     0.28553,       0.285,       0.285,       0.285,       0.285,     0.28044,     0.27766,     0.27509,     0.27006,     0.25493,      0.2499,     0.24734,     0.23956,     0.23443,     0.22965,     0.22709,     0.22453,     0.22197,\n",
              "            0.21881,     0.21368,     0.20452,     0.20281,      0.2011,         0.2,     0.19403,     0.19147,      0.1889,     0.18634,        0.18,        0.18,        0.18,        0.18,        0.18,        0.18,      0.1784,     0.17584,        0.16,        0.16,     0.15954,      0.1589,     0.15826,\n",
              "            0.15762,     0.15698,     0.15634,     0.15569,     0.15505,     0.14937,     0.14869,     0.14801,     0.14732,     0.14664,     0.14596,     0.14527,     0.14423,     0.14295,     0.14167,     0.14039,     0.13455,     0.13391,     0.13327,     0.13263,     0.13199,     0.13135,     0.13071,\n",
              "            0.13007,     0.12771,     0.12515,     0.12259,     0.12003,     0.11746,       0.115,       0.115,       0.115,       0.115,      0.1134,     0.11084,     0.10828,     0.10571,    0.099507,    0.098823,     0.09814,    0.097457,    0.096773,     0.09609,    0.095407,    0.093963,      0.0914,\n",
              "           0.089709,    0.089069,    0.088428,    0.087787,    0.087147,    0.086506,    0.085866,    0.085225,    0.084395,    0.083463,    0.082532,      0.0816,    0.080668,    0.079274,    0.076712,    0.069149,    0.066587,    0.064795,    0.064255,    0.063716,    0.063176,    0.062637,    0.062097,\n",
              "           0.061558,    0.061018,    0.060479,    0.059615,    0.056198,    0.054778,    0.054436,    0.054095,    0.053753,    0.053411,     0.05307,    0.052728,    0.052386,    0.052045,    0.051703,    0.051361,     0.05102,    0.050678,    0.050336,    0.049995,    0.049685,    0.049374,    0.049063,\n",
              "           0.048753,    0.048442,    0.048131,    0.047821,     0.04751,      0.0472,    0.046889,    0.046578,    0.046268,    0.045957,    0.045647,    0.045336,    0.045025,    0.041862,    0.038834,    0.036271,    0.034868,    0.034605,    0.034342,    0.034079,    0.033816,    0.033553,    0.033291,\n",
              "           0.033028,    0.032765,    0.032502,    0.032239,    0.031976,    0.031714,    0.031451,    0.031188,    0.030925,    0.030662,      0.0304,    0.030137,    0.029711,    0.029108,    0.028505,    0.027902,    0.027299,    0.026696,    0.026093,     0.02549,    0.024938,    0.024607,    0.024277,\n",
              "           0.023946,    0.023615,    0.023285,    0.022954,    0.022623,    0.022293,    0.021962,    0.021631,    0.021301,     0.02097,     0.02064,    0.020309,    0.019986,    0.019777,    0.019568,    0.019359,    0.019149,     0.01894,    0.018731,    0.018522,    0.018313,    0.018104,    0.017894,\n",
              "           0.017685,    0.017476,    0.017267,    0.017058,    0.016848,    0.016639,     0.01643,    0.016221,    0.016012,    0.015802,    0.015593,    0.015384,    0.015175,    0.014933,    0.014523,    0.014113,    0.013703,    0.013293,    0.012883,    0.012473,    0.012063,    0.011653,    0.011243,\n",
              "           0.010833,    0.010423,    0.010013,   0.0098398,   0.0096744,   0.0095091,   0.0093438,   0.0091785,   0.0090131,   0.0088478,   0.0086825,   0.0085171,   0.0083518,   0.0081865,   0.0080212,   0.0078558,   0.0076905,   0.0075252,   0.0073599,   0.0071945,   0.0070292,   0.0068639,   0.0066986,\n",
              "          0.0065332,   0.0063679,   0.0062026,   0.0060372,   0.0058719,   0.0057066,   0.0055413,   0.0053759,   0.0052106,   0.0050453,           0,           0,           0,           0,           0,           0,           0,           0,           0,           0,           0,           0,           0,\n",
              "                  0,           0,           0,           0,           0,           0,           0,           0,           0,           0,           0,           0,           0,           0,           0,           0,           0,           0,           0,           0,           0,           0,           0,\n",
              "                  0,           0,           0,           0,           0,           0,           0,           0,           0,           0,           0,           0,           0,           0,           0,           0,           0,           0,           0,           0,           0,           0,           0,\n",
              "                  0,           0,           0,           0,           0,           0,           0,           0,           0,           0,           0,           0,           0,           0,           0,           0,           0,           0,           0,           0,           0,           0,           0,\n",
              "                  0,           0,           0,           0,           0,           0,           0,           0,           0,           0,           0,           0,           0,           0,           0,           0,           0,           0,           0,           0,           0,           0,           0,\n",
              "                  0,           0,           0,           0,           0,           0,           0,           0,           0,           0,           0,           0,           0,           0,           0,           0,           0,           0,           0,           0,           0,           0,           0,\n",
              "                  0,           0,           0,           0,           0,           0,           0,           0,           0,           0,           0,           0,           0,           0,           0,           0,           0,           0,           0,           0,           0,           0,           0,\n",
              "                  0,           0,           0,           0,           0,           0,           0,           0,           0,           0,           0,           0,           0,           0,           0,           0,           0,           0,           0,           0,           0,           0,           0,\n",
              "                  0,           0,           0,           0,           0,           0,           0,           0,           0,           0,           0,           0,           0,           0,           0,           0,           0,           0,           0,           0,           0,           0,           0,\n",
              "                  0,           0,           0,           0,           0,           0,           0,           0,           0,           0,           0,           0,           0,           0,           0,           0,           0,           0,           0,           0,           0,           0,           0,\n",
              "                  0,           0,           0,           0,           0,           0,           0,           0,           0,           0,           0]]), 'Confidence', 'Recall']]\n",
              "fitness: np.float64(0.29150676081091703)\n",
              "keys: ['metrics/precision(B)', 'metrics/recall(B)', 'metrics/mAP50(B)', 'metrics/mAP50-95(B)']\n",
              "maps: array([    0.24199,     0.24199])\n",
              "names: {0: 'health', 1: 'infected'}\n",
              "plot: True\n",
              "results_dict: {'metrics/precision(B)': np.float64(0.711714274292497), 'metrics/recall(B)': np.float64(0.6665765765765767), 'metrics/mAP50(B)': np.float64(0.7371437212246293), 'metrics/mAP50-95(B)': np.float64(0.2419915429871712), 'fitness': np.float64(0.29150676081091703)}\n",
              "save_dir: PosixPath('runs/detect/train2')\n",
              "speed: {'preprocess': 0.11957258333716186, 'inference': 18.28016328030654, 'loss': 0.0005181515131301818, 'postprocess': 2.3480568863588456}\n",
              "task: 'detect'"
            ]
          },
          "metadata": {},
          "execution_count": 10
        }
      ],
      "source": [
        "# Treinamento do modelo\n",
        "model = YOLO('yolov8m.pt')\n",
        "\n",
        "model.train(\n",
        "    data=\"/content/drive/MyDrive/Dataset/data-v2.yml\",\n",
        "    epochs=100,\n",
        "    freeze=10,\n",
        "    batch=32,\n",
        "    imgsz=640,\n",
        "    mosaic=0.8\n",
        ")"
      ]
    },
    {
      "cell_type": "code",
      "execution_count": null,
      "metadata": {
        "collapsed": true,
        "id": "fxGaN1owaXja"
      },
      "outputs": [],
      "source": [
        "# Carrega o modelo treinado\n",
        "model = YOLO(\"/content/runs/detect/train/weights/best.pt\")  # Caminho para os pesos treinados"
      ]
    },
    {
      "cell_type": "code",
      "execution_count": null,
      "metadata": {
        "colab": {
          "base_uri": "https://localhost:8080/"
        },
        "collapsed": true,
        "id": "RLrlTXG5IOjF",
        "outputId": "91e1a849-840b-42a1-b0da-1edc18d7feef"
      },
      "outputs": [
        {
          "output_type": "stream",
          "name": "stdout",
          "text": [
            "\n",
            "image 1/1 /content/drive/MyDrive/Dataset/lg-b-foto varroa para portada de blog mundo abejas.jpg: 384x640 (no detections), 26.5ms\n",
            "Speed: 3.5ms preprocess, 26.5ms inference, 1.1ms postprocess per image at shape (1, 3, 384, 640)\n",
            "Results saved to \u001b[1mruns/detect/predict3\u001b[0m\n",
            "\n",
            "image 1/1 /content/drive/MyDrive/Dataset/bee-with-mite.jpg: 576x640 16 infecteds, 36.9ms\n",
            "Speed: 4.4ms preprocess, 36.9ms inference, 4.4ms postprocess per image at shape (1, 3, 576, 640)\n",
            "Results saved to \u001b[1mruns/detect/predict3\u001b[0m\n",
            "\n",
            "image 1/1 /content/drive/MyDrive/Dataset/2017-08-28_09-30-00-1_500_dirty_glass.mp4-bee_id_6843-15735-1.png: 640x384 1 infected, 26.5ms\n",
            "Speed: 2.2ms preprocess, 26.5ms inference, 2.0ms postprocess per image at shape (1, 3, 640, 384)\n",
            "Results saved to \u001b[1mruns/detect/predict3\u001b[0m\n",
            "\n",
            "image 1/1 /content/drive/MyDrive/Dataset/varroa-colonia.jpg: 480x640 (no detections), 26.9ms\n",
            "Speed: 4.2ms preprocess, 26.9ms inference, 0.9ms postprocess per image at shape (1, 3, 480, 640)\n",
            "Results saved to \u001b[1mruns/detect/predict3\u001b[0m\n",
            "\n",
            "image 1/1 /content/drive/MyDrive/Dataset/sensors-21.png: 480x640 1 infected, 25.8ms\n",
            "Speed: 4.3ms preprocess, 25.8ms inference, 3.4ms postprocess per image at shape (1, 3, 480, 640)\n",
            "Results saved to \u001b[1mruns/detect/predict3\u001b[0m\n",
            "\n",
            "image 1/1 /content/drive/MyDrive/Dataset/varroainfestation.webp: 448x640 (no detections), 26.2ms\n",
            "Speed: 1.8ms preprocess, 26.2ms inference, 0.9ms postprocess per image at shape (1, 3, 448, 640)\n",
            "Results saved to \u001b[1mruns/detect/predict3\u001b[0m\n",
            "\n",
            "image 1/1 /content/drive/MyDrive/Dataset/resistance-bioassay-varroa_main.jpeg: 448x640 1 infected, 25.1ms\n",
            "Speed: 3.3ms preprocess, 25.1ms inference, 2.7ms postprocess per image at shape (1, 3, 448, 640)\n",
            "Results saved to \u001b[1mruns/detect/predict3\u001b[0m\n",
            "\n",
            "image 1/1 /content/drive/MyDrive/Dataset/varroamite.jpg: 640x640 2 infecteds, 35.3ms\n",
            "Speed: 4.0ms preprocess, 35.3ms inference, 2.0ms postprocess per image at shape (1, 3, 640, 640)\n",
            "Results saved to \u001b[1mruns/detect/predict3\u001b[0m\n",
            "\n",
            "image 1/1 /content/drive/MyDrive/Dataset/190849.png: 640x416 (no detections), 24.3ms\n",
            "Speed: 3.3ms preprocess, 24.3ms inference, 0.8ms postprocess per image at shape (1, 3, 640, 416)\n",
            "Results saved to \u001b[1mruns/detect/predict3\u001b[0m\n",
            "\n",
            "image 1/1 /content/drive/MyDrive/Dataset/shutterstock_417000916.webp: 448x640 (no detections), 25.1ms\n",
            "Speed: 4.0ms preprocess, 25.1ms inference, 0.9ms postprocess per image at shape (1, 3, 448, 640)\n",
            "Results saved to \u001b[1mruns/detect/predict3\u001b[0m\n",
            "\n",
            "image 1/1 /content/drive/MyDrive/Dataset/how-to-monitor-and-control-varroa-mites.jpg: 352x640 (no detections), 23.4ms\n",
            "Speed: 4.1ms preprocess, 23.4ms inference, 1.0ms postprocess per image at shape (1, 3, 352, 640)\n",
            "Results saved to \u001b[1mruns/detect/predict3\u001b[0m\n"
          ]
        }
      ],
      "source": [
        "# Testar com imagens da internet\n",
        "\n",
        "image_paths = [\n",
        "    \"/content/drive/MyDrive/Dataset/lg-b-foto varroa para portada de blog mundo abejas.jpg\",\n",
        "    \"/content/drive/MyDrive/Dataset/bee-with-mite.jpg\",\n",
        "    \"/content/drive/MyDrive/Dataset/2017-08-28_09-30-00-1_500_dirty_glass.mp4-bee_id_6843-15735-1.png\",\n",
        "    \"/content/drive/MyDrive/Dataset/varroa-colonia.jpg\",\n",
        "    \"/content/drive/MyDrive/Dataset/sensors-21.png\",\n",
        "    \"/content/drive/MyDrive/Dataset/varroainfestation.webp\",\n",
        "    \"/content/drive/MyDrive/Dataset/resistance-bioassay-varroa_main.jpeg\",\n",
        "    \"/content/drive/MyDrive/Dataset/varroamite.jpg\",\n",
        "    \"/content/drive/MyDrive/Dataset/190849.png\",\n",
        "    \"/content/drive/MyDrive/Dataset/shutterstock_417000916.webp\",\n",
        "    \"/content/drive/MyDrive/Dataset/how-to-monitor-and-control-varroa-mites.jpg\",\n",
        "]\n",
        "\n",
        "for image_path in image_paths:\n",
        "    # as imagens serão salvas já rotuladas em /content/runs/detect/predict\n",
        "    model(image_path, save=True)"
      ]
    }
  ],
  "metadata": {
    "colab": {
      "provenance": [],
      "gpuType": "T4"
    },
    "kernelspec": {
      "display_name": "Python 3",
      "name": "python3"
    },
    "language_info": {
      "name": "python"
    },
    "accelerator": "GPU"
  },
  "nbformat": 4,
  "nbformat_minor": 0
}